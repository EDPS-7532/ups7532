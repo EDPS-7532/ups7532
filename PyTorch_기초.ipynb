{
  "nbformat": 4,
  "nbformat_minor": 0,
  "metadata": {
    "colab": {
      "name": "PyTorch-기초.ipynb",
      "provenance": [],
      "collapsed_sections": [],
      "machine_shape": "hm",
      "mount_file_id": "1KCQQkr3lzfvJ45m2dwI179Xg5ZSFlbul",
      "authorship_tag": "ABX9TyOczBiMlI3lLa1/0tkfAU/p",
      "include_colab_link": true
    },
    "kernelspec": {
      "name": "python3",
      "display_name": "Python 3"
    },
    "language_info": {
      "name": "python"
    },
    "accelerator": "GPU",
    "widgets": {
      "application/vnd.jupyter.widget-state+json": {
        "6eca4af2c85e4e1c9c86e7a22e52e0a2": {
          "model_module": "@jupyter-widgets/controls",
          "model_name": "HBoxModel",
          "model_module_version": "1.5.0",
          "state": {
            "_dom_classes": [],
            "_model_module": "@jupyter-widgets/controls",
            "_model_module_version": "1.5.0",
            "_model_name": "HBoxModel",
            "_view_count": null,
            "_view_module": "@jupyter-widgets/controls",
            "_view_module_version": "1.5.0",
            "_view_name": "HBoxView",
            "box_style": "",
            "children": [
              "IPY_MODEL_f2e71d9a5b5c437fa5afb7d1845019ea",
              "IPY_MODEL_48695c8cbb154c6c89daa732ebc023bd",
              "IPY_MODEL_85ecd40a71df45d8935ee8e626ee00f3"
            ],
            "layout": "IPY_MODEL_b0a1b75add8347318584757e065b9097"
          }
        },
        "f2e71d9a5b5c437fa5afb7d1845019ea": {
          "model_module": "@jupyter-widgets/controls",
          "model_name": "HTMLModel",
          "model_module_version": "1.5.0",
          "state": {
            "_dom_classes": [],
            "_model_module": "@jupyter-widgets/controls",
            "_model_module_version": "1.5.0",
            "_model_name": "HTMLModel",
            "_view_count": null,
            "_view_module": "@jupyter-widgets/controls",
            "_view_module_version": "1.5.0",
            "_view_name": "HTMLView",
            "description": "",
            "description_tooltip": null,
            "layout": "IPY_MODEL_a91eddeee8d74594a54044c7a26d35f5",
            "placeholder": "​",
            "style": "IPY_MODEL_f5ee9fb6963c43029c3f7c32222bdb82",
            "value": ""
          }
        },
        "48695c8cbb154c6c89daa732ebc023bd": {
          "model_module": "@jupyter-widgets/controls",
          "model_name": "FloatProgressModel",
          "model_module_version": "1.5.0",
          "state": {
            "_dom_classes": [],
            "_model_module": "@jupyter-widgets/controls",
            "_model_module_version": "1.5.0",
            "_model_name": "FloatProgressModel",
            "_view_count": null,
            "_view_module": "@jupyter-widgets/controls",
            "_view_module_version": "1.5.0",
            "_view_name": "ProgressView",
            "bar_style": "success",
            "description": "",
            "description_tooltip": null,
            "layout": "IPY_MODEL_757a2a110d014fb09d4f0df56aef7a14",
            "max": 9912422,
            "min": 0,
            "orientation": "horizontal",
            "style": "IPY_MODEL_e9821f8e0c084befbbf7a01799796647",
            "value": 9912422
          }
        },
        "85ecd40a71df45d8935ee8e626ee00f3": {
          "model_module": "@jupyter-widgets/controls",
          "model_name": "HTMLModel",
          "model_module_version": "1.5.0",
          "state": {
            "_dom_classes": [],
            "_model_module": "@jupyter-widgets/controls",
            "_model_module_version": "1.5.0",
            "_model_name": "HTMLModel",
            "_view_count": null,
            "_view_module": "@jupyter-widgets/controls",
            "_view_module_version": "1.5.0",
            "_view_name": "HTMLView",
            "description": "",
            "description_tooltip": null,
            "layout": "IPY_MODEL_4ee18500c8c64e37808aae9f0d447f07",
            "placeholder": "​",
            "style": "IPY_MODEL_4b76bdf2eb37455a9d91ecb1bddaee6d",
            "value": " 9913344/? [00:00&lt;00:00, 12929173.79it/s]"
          }
        },
        "b0a1b75add8347318584757e065b9097": {
          "model_module": "@jupyter-widgets/base",
          "model_name": "LayoutModel",
          "model_module_version": "1.2.0",
          "state": {
            "_model_module": "@jupyter-widgets/base",
            "_model_module_version": "1.2.0",
            "_model_name": "LayoutModel",
            "_view_count": null,
            "_view_module": "@jupyter-widgets/base",
            "_view_module_version": "1.2.0",
            "_view_name": "LayoutView",
            "align_content": null,
            "align_items": null,
            "align_self": null,
            "border": null,
            "bottom": null,
            "display": null,
            "flex": null,
            "flex_flow": null,
            "grid_area": null,
            "grid_auto_columns": null,
            "grid_auto_flow": null,
            "grid_auto_rows": null,
            "grid_column": null,
            "grid_gap": null,
            "grid_row": null,
            "grid_template_areas": null,
            "grid_template_columns": null,
            "grid_template_rows": null,
            "height": null,
            "justify_content": null,
            "justify_items": null,
            "left": null,
            "margin": null,
            "max_height": null,
            "max_width": null,
            "min_height": null,
            "min_width": null,
            "object_fit": null,
            "object_position": null,
            "order": null,
            "overflow": null,
            "overflow_x": null,
            "overflow_y": null,
            "padding": null,
            "right": null,
            "top": null,
            "visibility": null,
            "width": null
          }
        },
        "a91eddeee8d74594a54044c7a26d35f5": {
          "model_module": "@jupyter-widgets/base",
          "model_name": "LayoutModel",
          "model_module_version": "1.2.0",
          "state": {
            "_model_module": "@jupyter-widgets/base",
            "_model_module_version": "1.2.0",
            "_model_name": "LayoutModel",
            "_view_count": null,
            "_view_module": "@jupyter-widgets/base",
            "_view_module_version": "1.2.0",
            "_view_name": "LayoutView",
            "align_content": null,
            "align_items": null,
            "align_self": null,
            "border": null,
            "bottom": null,
            "display": null,
            "flex": null,
            "flex_flow": null,
            "grid_area": null,
            "grid_auto_columns": null,
            "grid_auto_flow": null,
            "grid_auto_rows": null,
            "grid_column": null,
            "grid_gap": null,
            "grid_row": null,
            "grid_template_areas": null,
            "grid_template_columns": null,
            "grid_template_rows": null,
            "height": null,
            "justify_content": null,
            "justify_items": null,
            "left": null,
            "margin": null,
            "max_height": null,
            "max_width": null,
            "min_height": null,
            "min_width": null,
            "object_fit": null,
            "object_position": null,
            "order": null,
            "overflow": null,
            "overflow_x": null,
            "overflow_y": null,
            "padding": null,
            "right": null,
            "top": null,
            "visibility": null,
            "width": null
          }
        },
        "f5ee9fb6963c43029c3f7c32222bdb82": {
          "model_module": "@jupyter-widgets/controls",
          "model_name": "DescriptionStyleModel",
          "model_module_version": "1.5.0",
          "state": {
            "_model_module": "@jupyter-widgets/controls",
            "_model_module_version": "1.5.0",
            "_model_name": "DescriptionStyleModel",
            "_view_count": null,
            "_view_module": "@jupyter-widgets/base",
            "_view_module_version": "1.2.0",
            "_view_name": "StyleView",
            "description_width": ""
          }
        },
        "757a2a110d014fb09d4f0df56aef7a14": {
          "model_module": "@jupyter-widgets/base",
          "model_name": "LayoutModel",
          "model_module_version": "1.2.0",
          "state": {
            "_model_module": "@jupyter-widgets/base",
            "_model_module_version": "1.2.0",
            "_model_name": "LayoutModel",
            "_view_count": null,
            "_view_module": "@jupyter-widgets/base",
            "_view_module_version": "1.2.0",
            "_view_name": "LayoutView",
            "align_content": null,
            "align_items": null,
            "align_self": null,
            "border": null,
            "bottom": null,
            "display": null,
            "flex": null,
            "flex_flow": null,
            "grid_area": null,
            "grid_auto_columns": null,
            "grid_auto_flow": null,
            "grid_auto_rows": null,
            "grid_column": null,
            "grid_gap": null,
            "grid_row": null,
            "grid_template_areas": null,
            "grid_template_columns": null,
            "grid_template_rows": null,
            "height": null,
            "justify_content": null,
            "justify_items": null,
            "left": null,
            "margin": null,
            "max_height": null,
            "max_width": null,
            "min_height": null,
            "min_width": null,
            "object_fit": null,
            "object_position": null,
            "order": null,
            "overflow": null,
            "overflow_x": null,
            "overflow_y": null,
            "padding": null,
            "right": null,
            "top": null,
            "visibility": null,
            "width": null
          }
        },
        "e9821f8e0c084befbbf7a01799796647": {
          "model_module": "@jupyter-widgets/controls",
          "model_name": "ProgressStyleModel",
          "model_module_version": "1.5.0",
          "state": {
            "_model_module": "@jupyter-widgets/controls",
            "_model_module_version": "1.5.0",
            "_model_name": "ProgressStyleModel",
            "_view_count": null,
            "_view_module": "@jupyter-widgets/base",
            "_view_module_version": "1.2.0",
            "_view_name": "StyleView",
            "bar_color": null,
            "description_width": ""
          }
        },
        "4ee18500c8c64e37808aae9f0d447f07": {
          "model_module": "@jupyter-widgets/base",
          "model_name": "LayoutModel",
          "model_module_version": "1.2.0",
          "state": {
            "_model_module": "@jupyter-widgets/base",
            "_model_module_version": "1.2.0",
            "_model_name": "LayoutModel",
            "_view_count": null,
            "_view_module": "@jupyter-widgets/base",
            "_view_module_version": "1.2.0",
            "_view_name": "LayoutView",
            "align_content": null,
            "align_items": null,
            "align_self": null,
            "border": null,
            "bottom": null,
            "display": null,
            "flex": null,
            "flex_flow": null,
            "grid_area": null,
            "grid_auto_columns": null,
            "grid_auto_flow": null,
            "grid_auto_rows": null,
            "grid_column": null,
            "grid_gap": null,
            "grid_row": null,
            "grid_template_areas": null,
            "grid_template_columns": null,
            "grid_template_rows": null,
            "height": null,
            "justify_content": null,
            "justify_items": null,
            "left": null,
            "margin": null,
            "max_height": null,
            "max_width": null,
            "min_height": null,
            "min_width": null,
            "object_fit": null,
            "object_position": null,
            "order": null,
            "overflow": null,
            "overflow_x": null,
            "overflow_y": null,
            "padding": null,
            "right": null,
            "top": null,
            "visibility": null,
            "width": null
          }
        },
        "4b76bdf2eb37455a9d91ecb1bddaee6d": {
          "model_module": "@jupyter-widgets/controls",
          "model_name": "DescriptionStyleModel",
          "model_module_version": "1.5.0",
          "state": {
            "_model_module": "@jupyter-widgets/controls",
            "_model_module_version": "1.5.0",
            "_model_name": "DescriptionStyleModel",
            "_view_count": null,
            "_view_module": "@jupyter-widgets/base",
            "_view_module_version": "1.2.0",
            "_view_name": "StyleView",
            "description_width": ""
          }
        },
        "799bb3ac43854ce78d4b2cdf91124279": {
          "model_module": "@jupyter-widgets/controls",
          "model_name": "HBoxModel",
          "model_module_version": "1.5.0",
          "state": {
            "_dom_classes": [],
            "_model_module": "@jupyter-widgets/controls",
            "_model_module_version": "1.5.0",
            "_model_name": "HBoxModel",
            "_view_count": null,
            "_view_module": "@jupyter-widgets/controls",
            "_view_module_version": "1.5.0",
            "_view_name": "HBoxView",
            "box_style": "",
            "children": [
              "IPY_MODEL_9d39b49ce0bf4175a606192f27395bfc",
              "IPY_MODEL_1f07c008471b45b9a646875501ad5a9c",
              "IPY_MODEL_694d2236b4034517acdcdc8ea7dbb82c"
            ],
            "layout": "IPY_MODEL_e06e3b7a25af4887b582d8aa629955d3"
          }
        },
        "9d39b49ce0bf4175a606192f27395bfc": {
          "model_module": "@jupyter-widgets/controls",
          "model_name": "HTMLModel",
          "model_module_version": "1.5.0",
          "state": {
            "_dom_classes": [],
            "_model_module": "@jupyter-widgets/controls",
            "_model_module_version": "1.5.0",
            "_model_name": "HTMLModel",
            "_view_count": null,
            "_view_module": "@jupyter-widgets/controls",
            "_view_module_version": "1.5.0",
            "_view_name": "HTMLView",
            "description": "",
            "description_tooltip": null,
            "layout": "IPY_MODEL_051f8419577b4047bfcf487614ca3b94",
            "placeholder": "​",
            "style": "IPY_MODEL_8419315d95c0441b89d40c4e8a590304",
            "value": ""
          }
        },
        "1f07c008471b45b9a646875501ad5a9c": {
          "model_module": "@jupyter-widgets/controls",
          "model_name": "FloatProgressModel",
          "model_module_version": "1.5.0",
          "state": {
            "_dom_classes": [],
            "_model_module": "@jupyter-widgets/controls",
            "_model_module_version": "1.5.0",
            "_model_name": "FloatProgressModel",
            "_view_count": null,
            "_view_module": "@jupyter-widgets/controls",
            "_view_module_version": "1.5.0",
            "_view_name": "ProgressView",
            "bar_style": "success",
            "description": "",
            "description_tooltip": null,
            "layout": "IPY_MODEL_52e7d500219945deaa3cd6b421e1cf2b",
            "max": 28881,
            "min": 0,
            "orientation": "horizontal",
            "style": "IPY_MODEL_67f9943b4d16443b82f2a254bc3d2435",
            "value": 28881
          }
        },
        "694d2236b4034517acdcdc8ea7dbb82c": {
          "model_module": "@jupyter-widgets/controls",
          "model_name": "HTMLModel",
          "model_module_version": "1.5.0",
          "state": {
            "_dom_classes": [],
            "_model_module": "@jupyter-widgets/controls",
            "_model_module_version": "1.5.0",
            "_model_name": "HTMLModel",
            "_view_count": null,
            "_view_module": "@jupyter-widgets/controls",
            "_view_module_version": "1.5.0",
            "_view_name": "HTMLView",
            "description": "",
            "description_tooltip": null,
            "layout": "IPY_MODEL_28cc9b0f5f454ee4a1273a2cf58f2d4a",
            "placeholder": "​",
            "style": "IPY_MODEL_4f1d2d779ddc441ba53ed1f897c4a4fc",
            "value": " 29696/? [00:00&lt;00:00, 1157479.48it/s]"
          }
        },
        "e06e3b7a25af4887b582d8aa629955d3": {
          "model_module": "@jupyter-widgets/base",
          "model_name": "LayoutModel",
          "model_module_version": "1.2.0",
          "state": {
            "_model_module": "@jupyter-widgets/base",
            "_model_module_version": "1.2.0",
            "_model_name": "LayoutModel",
            "_view_count": null,
            "_view_module": "@jupyter-widgets/base",
            "_view_module_version": "1.2.0",
            "_view_name": "LayoutView",
            "align_content": null,
            "align_items": null,
            "align_self": null,
            "border": null,
            "bottom": null,
            "display": null,
            "flex": null,
            "flex_flow": null,
            "grid_area": null,
            "grid_auto_columns": null,
            "grid_auto_flow": null,
            "grid_auto_rows": null,
            "grid_column": null,
            "grid_gap": null,
            "grid_row": null,
            "grid_template_areas": null,
            "grid_template_columns": null,
            "grid_template_rows": null,
            "height": null,
            "justify_content": null,
            "justify_items": null,
            "left": null,
            "margin": null,
            "max_height": null,
            "max_width": null,
            "min_height": null,
            "min_width": null,
            "object_fit": null,
            "object_position": null,
            "order": null,
            "overflow": null,
            "overflow_x": null,
            "overflow_y": null,
            "padding": null,
            "right": null,
            "top": null,
            "visibility": null,
            "width": null
          }
        },
        "051f8419577b4047bfcf487614ca3b94": {
          "model_module": "@jupyter-widgets/base",
          "model_name": "LayoutModel",
          "model_module_version": "1.2.0",
          "state": {
            "_model_module": "@jupyter-widgets/base",
            "_model_module_version": "1.2.0",
            "_model_name": "LayoutModel",
            "_view_count": null,
            "_view_module": "@jupyter-widgets/base",
            "_view_module_version": "1.2.0",
            "_view_name": "LayoutView",
            "align_content": null,
            "align_items": null,
            "align_self": null,
            "border": null,
            "bottom": null,
            "display": null,
            "flex": null,
            "flex_flow": null,
            "grid_area": null,
            "grid_auto_columns": null,
            "grid_auto_flow": null,
            "grid_auto_rows": null,
            "grid_column": null,
            "grid_gap": null,
            "grid_row": null,
            "grid_template_areas": null,
            "grid_template_columns": null,
            "grid_template_rows": null,
            "height": null,
            "justify_content": null,
            "justify_items": null,
            "left": null,
            "margin": null,
            "max_height": null,
            "max_width": null,
            "min_height": null,
            "min_width": null,
            "object_fit": null,
            "object_position": null,
            "order": null,
            "overflow": null,
            "overflow_x": null,
            "overflow_y": null,
            "padding": null,
            "right": null,
            "top": null,
            "visibility": null,
            "width": null
          }
        },
        "8419315d95c0441b89d40c4e8a590304": {
          "model_module": "@jupyter-widgets/controls",
          "model_name": "DescriptionStyleModel",
          "model_module_version": "1.5.0",
          "state": {
            "_model_module": "@jupyter-widgets/controls",
            "_model_module_version": "1.5.0",
            "_model_name": "DescriptionStyleModel",
            "_view_count": null,
            "_view_module": "@jupyter-widgets/base",
            "_view_module_version": "1.2.0",
            "_view_name": "StyleView",
            "description_width": ""
          }
        },
        "52e7d500219945deaa3cd6b421e1cf2b": {
          "model_module": "@jupyter-widgets/base",
          "model_name": "LayoutModel",
          "model_module_version": "1.2.0",
          "state": {
            "_model_module": "@jupyter-widgets/base",
            "_model_module_version": "1.2.0",
            "_model_name": "LayoutModel",
            "_view_count": null,
            "_view_module": "@jupyter-widgets/base",
            "_view_module_version": "1.2.0",
            "_view_name": "LayoutView",
            "align_content": null,
            "align_items": null,
            "align_self": null,
            "border": null,
            "bottom": null,
            "display": null,
            "flex": null,
            "flex_flow": null,
            "grid_area": null,
            "grid_auto_columns": null,
            "grid_auto_flow": null,
            "grid_auto_rows": null,
            "grid_column": null,
            "grid_gap": null,
            "grid_row": null,
            "grid_template_areas": null,
            "grid_template_columns": null,
            "grid_template_rows": null,
            "height": null,
            "justify_content": null,
            "justify_items": null,
            "left": null,
            "margin": null,
            "max_height": null,
            "max_width": null,
            "min_height": null,
            "min_width": null,
            "object_fit": null,
            "object_position": null,
            "order": null,
            "overflow": null,
            "overflow_x": null,
            "overflow_y": null,
            "padding": null,
            "right": null,
            "top": null,
            "visibility": null,
            "width": null
          }
        },
        "67f9943b4d16443b82f2a254bc3d2435": {
          "model_module": "@jupyter-widgets/controls",
          "model_name": "ProgressStyleModel",
          "model_module_version": "1.5.0",
          "state": {
            "_model_module": "@jupyter-widgets/controls",
            "_model_module_version": "1.5.0",
            "_model_name": "ProgressStyleModel",
            "_view_count": null,
            "_view_module": "@jupyter-widgets/base",
            "_view_module_version": "1.2.0",
            "_view_name": "StyleView",
            "bar_color": null,
            "description_width": ""
          }
        },
        "28cc9b0f5f454ee4a1273a2cf58f2d4a": {
          "model_module": "@jupyter-widgets/base",
          "model_name": "LayoutModel",
          "model_module_version": "1.2.0",
          "state": {
            "_model_module": "@jupyter-widgets/base",
            "_model_module_version": "1.2.0",
            "_model_name": "LayoutModel",
            "_view_count": null,
            "_view_module": "@jupyter-widgets/base",
            "_view_module_version": "1.2.0",
            "_view_name": "LayoutView",
            "align_content": null,
            "align_items": null,
            "align_self": null,
            "border": null,
            "bottom": null,
            "display": null,
            "flex": null,
            "flex_flow": null,
            "grid_area": null,
            "grid_auto_columns": null,
            "grid_auto_flow": null,
            "grid_auto_rows": null,
            "grid_column": null,
            "grid_gap": null,
            "grid_row": null,
            "grid_template_areas": null,
            "grid_template_columns": null,
            "grid_template_rows": null,
            "height": null,
            "justify_content": null,
            "justify_items": null,
            "left": null,
            "margin": null,
            "max_height": null,
            "max_width": null,
            "min_height": null,
            "min_width": null,
            "object_fit": null,
            "object_position": null,
            "order": null,
            "overflow": null,
            "overflow_x": null,
            "overflow_y": null,
            "padding": null,
            "right": null,
            "top": null,
            "visibility": null,
            "width": null
          }
        },
        "4f1d2d779ddc441ba53ed1f897c4a4fc": {
          "model_module": "@jupyter-widgets/controls",
          "model_name": "DescriptionStyleModel",
          "model_module_version": "1.5.0",
          "state": {
            "_model_module": "@jupyter-widgets/controls",
            "_model_module_version": "1.5.0",
            "_model_name": "DescriptionStyleModel",
            "_view_count": null,
            "_view_module": "@jupyter-widgets/base",
            "_view_module_version": "1.2.0",
            "_view_name": "StyleView",
            "description_width": ""
          }
        },
        "5b67098f81c44911ae50fcea698e6c53": {
          "model_module": "@jupyter-widgets/controls",
          "model_name": "HBoxModel",
          "model_module_version": "1.5.0",
          "state": {
            "_dom_classes": [],
            "_model_module": "@jupyter-widgets/controls",
            "_model_module_version": "1.5.0",
            "_model_name": "HBoxModel",
            "_view_count": null,
            "_view_module": "@jupyter-widgets/controls",
            "_view_module_version": "1.5.0",
            "_view_name": "HBoxView",
            "box_style": "",
            "children": [
              "IPY_MODEL_795a9e155e154d76b2e95979d0d07c50",
              "IPY_MODEL_9c4249d301e44ac58c1c5f10ab7fa5aa",
              "IPY_MODEL_eddefceedb65405ab8d01148f80056e0"
            ],
            "layout": "IPY_MODEL_e95ece3fb9124c9d9be91a7071b55e0f"
          }
        },
        "795a9e155e154d76b2e95979d0d07c50": {
          "model_module": "@jupyter-widgets/controls",
          "model_name": "HTMLModel",
          "model_module_version": "1.5.0",
          "state": {
            "_dom_classes": [],
            "_model_module": "@jupyter-widgets/controls",
            "_model_module_version": "1.5.0",
            "_model_name": "HTMLModel",
            "_view_count": null,
            "_view_module": "@jupyter-widgets/controls",
            "_view_module_version": "1.5.0",
            "_view_name": "HTMLView",
            "description": "",
            "description_tooltip": null,
            "layout": "IPY_MODEL_1a613798f43c46e5a61c02c006e7d8dd",
            "placeholder": "​",
            "style": "IPY_MODEL_b1afb016d6c04046b3c02e21a6f7d99c",
            "value": ""
          }
        },
        "9c4249d301e44ac58c1c5f10ab7fa5aa": {
          "model_module": "@jupyter-widgets/controls",
          "model_name": "FloatProgressModel",
          "model_module_version": "1.5.0",
          "state": {
            "_dom_classes": [],
            "_model_module": "@jupyter-widgets/controls",
            "_model_module_version": "1.5.0",
            "_model_name": "FloatProgressModel",
            "_view_count": null,
            "_view_module": "@jupyter-widgets/controls",
            "_view_module_version": "1.5.0",
            "_view_name": "ProgressView",
            "bar_style": "success",
            "description": "",
            "description_tooltip": null,
            "layout": "IPY_MODEL_2198c0095e964db4afc9dbbc600369a9",
            "max": 1648877,
            "min": 0,
            "orientation": "horizontal",
            "style": "IPY_MODEL_9576fd6bd0f14c6ea962d79f93d58075",
            "value": 1648877
          }
        },
        "eddefceedb65405ab8d01148f80056e0": {
          "model_module": "@jupyter-widgets/controls",
          "model_name": "HTMLModel",
          "model_module_version": "1.5.0",
          "state": {
            "_dom_classes": [],
            "_model_module": "@jupyter-widgets/controls",
            "_model_module_version": "1.5.0",
            "_model_name": "HTMLModel",
            "_view_count": null,
            "_view_module": "@jupyter-widgets/controls",
            "_view_module_version": "1.5.0",
            "_view_name": "HTMLView",
            "description": "",
            "description_tooltip": null,
            "layout": "IPY_MODEL_e121d623fa40450d85f195361215fb83",
            "placeholder": "​",
            "style": "IPY_MODEL_5ed0aaac32f24b29ad51f09a660accb3",
            "value": " 1649664/? [00:00&lt;00:00, 3346666.81it/s]"
          }
        },
        "e95ece3fb9124c9d9be91a7071b55e0f": {
          "model_module": "@jupyter-widgets/base",
          "model_name": "LayoutModel",
          "model_module_version": "1.2.0",
          "state": {
            "_model_module": "@jupyter-widgets/base",
            "_model_module_version": "1.2.0",
            "_model_name": "LayoutModel",
            "_view_count": null,
            "_view_module": "@jupyter-widgets/base",
            "_view_module_version": "1.2.0",
            "_view_name": "LayoutView",
            "align_content": null,
            "align_items": null,
            "align_self": null,
            "border": null,
            "bottom": null,
            "display": null,
            "flex": null,
            "flex_flow": null,
            "grid_area": null,
            "grid_auto_columns": null,
            "grid_auto_flow": null,
            "grid_auto_rows": null,
            "grid_column": null,
            "grid_gap": null,
            "grid_row": null,
            "grid_template_areas": null,
            "grid_template_columns": null,
            "grid_template_rows": null,
            "height": null,
            "justify_content": null,
            "justify_items": null,
            "left": null,
            "margin": null,
            "max_height": null,
            "max_width": null,
            "min_height": null,
            "min_width": null,
            "object_fit": null,
            "object_position": null,
            "order": null,
            "overflow": null,
            "overflow_x": null,
            "overflow_y": null,
            "padding": null,
            "right": null,
            "top": null,
            "visibility": null,
            "width": null
          }
        },
        "1a613798f43c46e5a61c02c006e7d8dd": {
          "model_module": "@jupyter-widgets/base",
          "model_name": "LayoutModel",
          "model_module_version": "1.2.0",
          "state": {
            "_model_module": "@jupyter-widgets/base",
            "_model_module_version": "1.2.0",
            "_model_name": "LayoutModel",
            "_view_count": null,
            "_view_module": "@jupyter-widgets/base",
            "_view_module_version": "1.2.0",
            "_view_name": "LayoutView",
            "align_content": null,
            "align_items": null,
            "align_self": null,
            "border": null,
            "bottom": null,
            "display": null,
            "flex": null,
            "flex_flow": null,
            "grid_area": null,
            "grid_auto_columns": null,
            "grid_auto_flow": null,
            "grid_auto_rows": null,
            "grid_column": null,
            "grid_gap": null,
            "grid_row": null,
            "grid_template_areas": null,
            "grid_template_columns": null,
            "grid_template_rows": null,
            "height": null,
            "justify_content": null,
            "justify_items": null,
            "left": null,
            "margin": null,
            "max_height": null,
            "max_width": null,
            "min_height": null,
            "min_width": null,
            "object_fit": null,
            "object_position": null,
            "order": null,
            "overflow": null,
            "overflow_x": null,
            "overflow_y": null,
            "padding": null,
            "right": null,
            "top": null,
            "visibility": null,
            "width": null
          }
        },
        "b1afb016d6c04046b3c02e21a6f7d99c": {
          "model_module": "@jupyter-widgets/controls",
          "model_name": "DescriptionStyleModel",
          "model_module_version": "1.5.0",
          "state": {
            "_model_module": "@jupyter-widgets/controls",
            "_model_module_version": "1.5.0",
            "_model_name": "DescriptionStyleModel",
            "_view_count": null,
            "_view_module": "@jupyter-widgets/base",
            "_view_module_version": "1.2.0",
            "_view_name": "StyleView",
            "description_width": ""
          }
        },
        "2198c0095e964db4afc9dbbc600369a9": {
          "model_module": "@jupyter-widgets/base",
          "model_name": "LayoutModel",
          "model_module_version": "1.2.0",
          "state": {
            "_model_module": "@jupyter-widgets/base",
            "_model_module_version": "1.2.0",
            "_model_name": "LayoutModel",
            "_view_count": null,
            "_view_module": "@jupyter-widgets/base",
            "_view_module_version": "1.2.0",
            "_view_name": "LayoutView",
            "align_content": null,
            "align_items": null,
            "align_self": null,
            "border": null,
            "bottom": null,
            "display": null,
            "flex": null,
            "flex_flow": null,
            "grid_area": null,
            "grid_auto_columns": null,
            "grid_auto_flow": null,
            "grid_auto_rows": null,
            "grid_column": null,
            "grid_gap": null,
            "grid_row": null,
            "grid_template_areas": null,
            "grid_template_columns": null,
            "grid_template_rows": null,
            "height": null,
            "justify_content": null,
            "justify_items": null,
            "left": null,
            "margin": null,
            "max_height": null,
            "max_width": null,
            "min_height": null,
            "min_width": null,
            "object_fit": null,
            "object_position": null,
            "order": null,
            "overflow": null,
            "overflow_x": null,
            "overflow_y": null,
            "padding": null,
            "right": null,
            "top": null,
            "visibility": null,
            "width": null
          }
        },
        "9576fd6bd0f14c6ea962d79f93d58075": {
          "model_module": "@jupyter-widgets/controls",
          "model_name": "ProgressStyleModel",
          "model_module_version": "1.5.0",
          "state": {
            "_model_module": "@jupyter-widgets/controls",
            "_model_module_version": "1.5.0",
            "_model_name": "ProgressStyleModel",
            "_view_count": null,
            "_view_module": "@jupyter-widgets/base",
            "_view_module_version": "1.2.0",
            "_view_name": "StyleView",
            "bar_color": null,
            "description_width": ""
          }
        },
        "e121d623fa40450d85f195361215fb83": {
          "model_module": "@jupyter-widgets/base",
          "model_name": "LayoutModel",
          "model_module_version": "1.2.0",
          "state": {
            "_model_module": "@jupyter-widgets/base",
            "_model_module_version": "1.2.0",
            "_model_name": "LayoutModel",
            "_view_count": null,
            "_view_module": "@jupyter-widgets/base",
            "_view_module_version": "1.2.0",
            "_view_name": "LayoutView",
            "align_content": null,
            "align_items": null,
            "align_self": null,
            "border": null,
            "bottom": null,
            "display": null,
            "flex": null,
            "flex_flow": null,
            "grid_area": null,
            "grid_auto_columns": null,
            "grid_auto_flow": null,
            "grid_auto_rows": null,
            "grid_column": null,
            "grid_gap": null,
            "grid_row": null,
            "grid_template_areas": null,
            "grid_template_columns": null,
            "grid_template_rows": null,
            "height": null,
            "justify_content": null,
            "justify_items": null,
            "left": null,
            "margin": null,
            "max_height": null,
            "max_width": null,
            "min_height": null,
            "min_width": null,
            "object_fit": null,
            "object_position": null,
            "order": null,
            "overflow": null,
            "overflow_x": null,
            "overflow_y": null,
            "padding": null,
            "right": null,
            "top": null,
            "visibility": null,
            "width": null
          }
        },
        "5ed0aaac32f24b29ad51f09a660accb3": {
          "model_module": "@jupyter-widgets/controls",
          "model_name": "DescriptionStyleModel",
          "model_module_version": "1.5.0",
          "state": {
            "_model_module": "@jupyter-widgets/controls",
            "_model_module_version": "1.5.0",
            "_model_name": "DescriptionStyleModel",
            "_view_count": null,
            "_view_module": "@jupyter-widgets/base",
            "_view_module_version": "1.2.0",
            "_view_name": "StyleView",
            "description_width": ""
          }
        },
        "daec382fdfdc48d1abb10db632bcfa03": {
          "model_module": "@jupyter-widgets/controls",
          "model_name": "HBoxModel",
          "model_module_version": "1.5.0",
          "state": {
            "_dom_classes": [],
            "_model_module": "@jupyter-widgets/controls",
            "_model_module_version": "1.5.0",
            "_model_name": "HBoxModel",
            "_view_count": null,
            "_view_module": "@jupyter-widgets/controls",
            "_view_module_version": "1.5.0",
            "_view_name": "HBoxView",
            "box_style": "",
            "children": [
              "IPY_MODEL_fd92f5a47a8b4dddb608521f66c66b8e",
              "IPY_MODEL_dee3c39da9874021ad8b8be5264d5a8b",
              "IPY_MODEL_49ac0622e01e4bed8228fc5586e9b568"
            ],
            "layout": "IPY_MODEL_7f9df6f73680426b8d0c7785843a4339"
          }
        },
        "fd92f5a47a8b4dddb608521f66c66b8e": {
          "model_module": "@jupyter-widgets/controls",
          "model_name": "HTMLModel",
          "model_module_version": "1.5.0",
          "state": {
            "_dom_classes": [],
            "_model_module": "@jupyter-widgets/controls",
            "_model_module_version": "1.5.0",
            "_model_name": "HTMLModel",
            "_view_count": null,
            "_view_module": "@jupyter-widgets/controls",
            "_view_module_version": "1.5.0",
            "_view_name": "HTMLView",
            "description": "",
            "description_tooltip": null,
            "layout": "IPY_MODEL_a55911dda9af437488dcd9f132dfeec8",
            "placeholder": "​",
            "style": "IPY_MODEL_ea4c678b71f548dc9b904c15d52b1b52",
            "value": ""
          }
        },
        "dee3c39da9874021ad8b8be5264d5a8b": {
          "model_module": "@jupyter-widgets/controls",
          "model_name": "FloatProgressModel",
          "model_module_version": "1.5.0",
          "state": {
            "_dom_classes": [],
            "_model_module": "@jupyter-widgets/controls",
            "_model_module_version": "1.5.0",
            "_model_name": "FloatProgressModel",
            "_view_count": null,
            "_view_module": "@jupyter-widgets/controls",
            "_view_module_version": "1.5.0",
            "_view_name": "ProgressView",
            "bar_style": "success",
            "description": "",
            "description_tooltip": null,
            "layout": "IPY_MODEL_81b95d5c971a475a815aa7032d931b92",
            "max": 4542,
            "min": 0,
            "orientation": "horizontal",
            "style": "IPY_MODEL_c989129401764b65bbe93244ee08980f",
            "value": 4542
          }
        },
        "49ac0622e01e4bed8228fc5586e9b568": {
          "model_module": "@jupyter-widgets/controls",
          "model_name": "HTMLModel",
          "model_module_version": "1.5.0",
          "state": {
            "_dom_classes": [],
            "_model_module": "@jupyter-widgets/controls",
            "_model_module_version": "1.5.0",
            "_model_name": "HTMLModel",
            "_view_count": null,
            "_view_module": "@jupyter-widgets/controls",
            "_view_module_version": "1.5.0",
            "_view_name": "HTMLView",
            "description": "",
            "description_tooltip": null,
            "layout": "IPY_MODEL_0e3eab50d69a41a39e94b018b18ceb2d",
            "placeholder": "​",
            "style": "IPY_MODEL_15b89fea21b64f8d885d90caceadd281",
            "value": " 5120/? [00:00&lt;00:00, 179549.48it/s]"
          }
        },
        "7f9df6f73680426b8d0c7785843a4339": {
          "model_module": "@jupyter-widgets/base",
          "model_name": "LayoutModel",
          "model_module_version": "1.2.0",
          "state": {
            "_model_module": "@jupyter-widgets/base",
            "_model_module_version": "1.2.0",
            "_model_name": "LayoutModel",
            "_view_count": null,
            "_view_module": "@jupyter-widgets/base",
            "_view_module_version": "1.2.0",
            "_view_name": "LayoutView",
            "align_content": null,
            "align_items": null,
            "align_self": null,
            "border": null,
            "bottom": null,
            "display": null,
            "flex": null,
            "flex_flow": null,
            "grid_area": null,
            "grid_auto_columns": null,
            "grid_auto_flow": null,
            "grid_auto_rows": null,
            "grid_column": null,
            "grid_gap": null,
            "grid_row": null,
            "grid_template_areas": null,
            "grid_template_columns": null,
            "grid_template_rows": null,
            "height": null,
            "justify_content": null,
            "justify_items": null,
            "left": null,
            "margin": null,
            "max_height": null,
            "max_width": null,
            "min_height": null,
            "min_width": null,
            "object_fit": null,
            "object_position": null,
            "order": null,
            "overflow": null,
            "overflow_x": null,
            "overflow_y": null,
            "padding": null,
            "right": null,
            "top": null,
            "visibility": null,
            "width": null
          }
        },
        "a55911dda9af437488dcd9f132dfeec8": {
          "model_module": "@jupyter-widgets/base",
          "model_name": "LayoutModel",
          "model_module_version": "1.2.0",
          "state": {
            "_model_module": "@jupyter-widgets/base",
            "_model_module_version": "1.2.0",
            "_model_name": "LayoutModel",
            "_view_count": null,
            "_view_module": "@jupyter-widgets/base",
            "_view_module_version": "1.2.0",
            "_view_name": "LayoutView",
            "align_content": null,
            "align_items": null,
            "align_self": null,
            "border": null,
            "bottom": null,
            "display": null,
            "flex": null,
            "flex_flow": null,
            "grid_area": null,
            "grid_auto_columns": null,
            "grid_auto_flow": null,
            "grid_auto_rows": null,
            "grid_column": null,
            "grid_gap": null,
            "grid_row": null,
            "grid_template_areas": null,
            "grid_template_columns": null,
            "grid_template_rows": null,
            "height": null,
            "justify_content": null,
            "justify_items": null,
            "left": null,
            "margin": null,
            "max_height": null,
            "max_width": null,
            "min_height": null,
            "min_width": null,
            "object_fit": null,
            "object_position": null,
            "order": null,
            "overflow": null,
            "overflow_x": null,
            "overflow_y": null,
            "padding": null,
            "right": null,
            "top": null,
            "visibility": null,
            "width": null
          }
        },
        "ea4c678b71f548dc9b904c15d52b1b52": {
          "model_module": "@jupyter-widgets/controls",
          "model_name": "DescriptionStyleModel",
          "model_module_version": "1.5.0",
          "state": {
            "_model_module": "@jupyter-widgets/controls",
            "_model_module_version": "1.5.0",
            "_model_name": "DescriptionStyleModel",
            "_view_count": null,
            "_view_module": "@jupyter-widgets/base",
            "_view_module_version": "1.2.0",
            "_view_name": "StyleView",
            "description_width": ""
          }
        },
        "81b95d5c971a475a815aa7032d931b92": {
          "model_module": "@jupyter-widgets/base",
          "model_name": "LayoutModel",
          "model_module_version": "1.2.0",
          "state": {
            "_model_module": "@jupyter-widgets/base",
            "_model_module_version": "1.2.0",
            "_model_name": "LayoutModel",
            "_view_count": null,
            "_view_module": "@jupyter-widgets/base",
            "_view_module_version": "1.2.0",
            "_view_name": "LayoutView",
            "align_content": null,
            "align_items": null,
            "align_self": null,
            "border": null,
            "bottom": null,
            "display": null,
            "flex": null,
            "flex_flow": null,
            "grid_area": null,
            "grid_auto_columns": null,
            "grid_auto_flow": null,
            "grid_auto_rows": null,
            "grid_column": null,
            "grid_gap": null,
            "grid_row": null,
            "grid_template_areas": null,
            "grid_template_columns": null,
            "grid_template_rows": null,
            "height": null,
            "justify_content": null,
            "justify_items": null,
            "left": null,
            "margin": null,
            "max_height": null,
            "max_width": null,
            "min_height": null,
            "min_width": null,
            "object_fit": null,
            "object_position": null,
            "order": null,
            "overflow": null,
            "overflow_x": null,
            "overflow_y": null,
            "padding": null,
            "right": null,
            "top": null,
            "visibility": null,
            "width": null
          }
        },
        "c989129401764b65bbe93244ee08980f": {
          "model_module": "@jupyter-widgets/controls",
          "model_name": "ProgressStyleModel",
          "model_module_version": "1.5.0",
          "state": {
            "_model_module": "@jupyter-widgets/controls",
            "_model_module_version": "1.5.0",
            "_model_name": "ProgressStyleModel",
            "_view_count": null,
            "_view_module": "@jupyter-widgets/base",
            "_view_module_version": "1.2.0",
            "_view_name": "StyleView",
            "bar_color": null,
            "description_width": ""
          }
        },
        "0e3eab50d69a41a39e94b018b18ceb2d": {
          "model_module": "@jupyter-widgets/base",
          "model_name": "LayoutModel",
          "model_module_version": "1.2.0",
          "state": {
            "_model_module": "@jupyter-widgets/base",
            "_model_module_version": "1.2.0",
            "_model_name": "LayoutModel",
            "_view_count": null,
            "_view_module": "@jupyter-widgets/base",
            "_view_module_version": "1.2.0",
            "_view_name": "LayoutView",
            "align_content": null,
            "align_items": null,
            "align_self": null,
            "border": null,
            "bottom": null,
            "display": null,
            "flex": null,
            "flex_flow": null,
            "grid_area": null,
            "grid_auto_columns": null,
            "grid_auto_flow": null,
            "grid_auto_rows": null,
            "grid_column": null,
            "grid_gap": null,
            "grid_row": null,
            "grid_template_areas": null,
            "grid_template_columns": null,
            "grid_template_rows": null,
            "height": null,
            "justify_content": null,
            "justify_items": null,
            "left": null,
            "margin": null,
            "max_height": null,
            "max_width": null,
            "min_height": null,
            "min_width": null,
            "object_fit": null,
            "object_position": null,
            "order": null,
            "overflow": null,
            "overflow_x": null,
            "overflow_y": null,
            "padding": null,
            "right": null,
            "top": null,
            "visibility": null,
            "width": null
          }
        },
        "15b89fea21b64f8d885d90caceadd281": {
          "model_module": "@jupyter-widgets/controls",
          "model_name": "DescriptionStyleModel",
          "model_module_version": "1.5.0",
          "state": {
            "_model_module": "@jupyter-widgets/controls",
            "_model_module_version": "1.5.0",
            "_model_name": "DescriptionStyleModel",
            "_view_count": null,
            "_view_module": "@jupyter-widgets/base",
            "_view_module_version": "1.2.0",
            "_view_name": "StyleView",
            "description_width": ""
          }
        }
      }
    }
  },
  "cells": [
    {
      "cell_type": "markdown",
      "metadata": {
        "id": "view-in-github",
        "colab_type": "text"
      },
      "source": [
        "<a href=\"https://colab.research.google.com/github/EDPS-7532/ups7532/blob/main/PyTorch_%EA%B8%B0%EC%B4%88.ipynb\" target=\"_parent\"><img src=\"https://colab.research.google.com/assets/colab-badge.svg\" alt=\"Open In Colab\"/></a>"
      ]
    },
    {
      "cell_type": "markdown",
      "source": [
        "# 파이토치(PyTorch)\n",
        "\n",
        "* 페이스북이 초기 루아(Lua) 언어로 개발된 토치(Torch)를 파이썬 버전으로 개발하여 2017년도에 공개\n",
        "* 초기에 토치(Torch)는 넘파이(NumPy) 라이브러리처럼 과학 연산을 위한 라이브러리로 공개\n",
        "* 이후 GPU를 이용한 텐서 조작 및 동적 신경망 구축이 가능하도록 딥러닝 프레임워크로 발전시킴\n",
        "* 파이썬답게 만들어졌고, 유연하면서도 가속화된 계산 속도를 제공\n"
      ],
      "metadata": {
        "id": "0hCYSMu-gtfE"
      }
    },
    {
      "cell_type": "markdown",
      "source": [
        "## 파이토치의 구성요소\n",
        "\n",
        "- `torch`: 메인 네임스페이스, 텐서 등의 다양한 수학 함수가 포함\n",
        "- `torch.autograd`: 자동 미분 기능을 제공하는 라이브러리\n",
        "- `torch.nn`: 신경망 구축을 위한 데이터 구조나 레이어 등의 라이브러리\n",
        "- `torch.multiprocessing`: 병럴처리 기능을 제공하는 라이브러리\n",
        "- `torch.optim`: SGD(Stochastic Gradient Descent)를 중심으로 한 파라미터 최적화 알고리즘 제공\n",
        "- `torch.utils`: 데이터 조작 등 유틸리티 기능 제공\n",
        "- `torch.onnx`: ONNX(Open Neural Network Exchange), 서로 다른 프레임워크 간의 모델을 공유할 때 사용\n"
      ],
      "metadata": {
        "id": "S03mM8xdhexk"
      }
    },
    {
      "cell_type": "markdown",
      "source": [
        "## 텐서(Tensors)\n",
        "\n",
        "* 데이터 표현을 위한 기본 구조로 텐서(tensor)를 사용\n",
        "* 텐서는 데이터를 담기위한 컨테이너(container)로서 일반적으로 수치형 데이터를 저장\n",
        "* 넘파이(NumPy)의 ndarray와 유사\n",
        "* GPU를 사용한 연산 가속 가능\n"
      ],
      "metadata": {
        "id": "NiJ1IG97iB2U"
      }
    },
    {
      "cell_type": "markdown",
      "source": [
        "![image.png](data:image/png;base64,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)"
      ],
      "metadata": {
        "id": "ii2j74AXlK51"
      }
    },
    {
      "cell_type": "code",
      "source": [
        "import torch\n",
        "torch.__version__"
      ],
      "metadata": {
        "colab": {
          "base_uri": "https://localhost:8080/",
          "height": 35
        },
        "id": "J2FMnLxJj2qI",
        "outputId": "3005e383-b1d5-4ae9-f084-76fd28e78131"
      },
      "execution_count": 1,
      "outputs": [
        {
          "output_type": "execute_result",
          "data": {
            "text/plain": [
              "'1.11.0+cu113'"
            ],
            "application/vnd.google.colaboratory.intrinsic+json": {
              "type": "string"
            }
          },
          "metadata": {},
          "execution_count": 1
        }
      ]
    },
    {
      "cell_type": "code",
      "source": [
        "# 텐서 초기화\n",
        "x = torch.empty(4,2)\n",
        "x"
      ],
      "metadata": {
        "colab": {
          "base_uri": "https://localhost:8080/"
        },
        "id": "pa3AE5ryj-xh",
        "outputId": "72a65b74-8cfa-43c3-d879-6af536ea310b"
      },
      "execution_count": 2,
      "outputs": [
        {
          "output_type": "execute_result",
          "data": {
            "text/plain": [
              "tensor([[2.2082e+06, 3.0639e-41],\n",
              "        [3.3631e-44, 0.0000e+00],\n",
              "        [       nan, 0.0000e+00],\n",
              "        [1.1578e+27, 1.1362e+30]])"
            ]
          },
          "metadata": {},
          "execution_count": 2
        }
      ]
    },
    {
      "cell_type": "code",
      "source": [
        "# 무작위로 초기화된 텐서\n",
        "x = torch.rand(4,2)\n",
        "x"
      ],
      "metadata": {
        "colab": {
          "base_uri": "https://localhost:8080/"
        },
        "id": "hr-d9EkOkSX6",
        "outputId": "fcd13d77-a195-4d4c-ad00-4eb130004917"
      },
      "execution_count": 3,
      "outputs": [
        {
          "output_type": "execute_result",
          "data": {
            "text/plain": [
              "tensor([[0.1691, 0.6588],\n",
              "        [0.1321, 0.6116],\n",
              "        [0.9312, 0.2215],\n",
              "        [0.7706, 0.2148]])"
            ]
          },
          "metadata": {},
          "execution_count": 3
        }
      ]
    },
    {
      "cell_type": "code",
      "source": [
        "# 데이터 타입이 long이고 0으로 채워진 텐서\n",
        "x = torch.zeros(4,2,dtype=torch.long)\n",
        "x"
      ],
      "metadata": {
        "colab": {
          "base_uri": "https://localhost:8080/"
        },
        "id": "oexjSts3keiB",
        "outputId": "98a48eda-6896-40a3-8a24-0582e977fe97"
      },
      "execution_count": 4,
      "outputs": [
        {
          "output_type": "execute_result",
          "data": {
            "text/plain": [
              "tensor([[0, 0],\n",
              "        [0, 0],\n",
              "        [0, 0],\n",
              "        [0, 0]])"
            ]
          },
          "metadata": {},
          "execution_count": 4
        }
      ]
    },
    {
      "cell_type": "code",
      "source": [
        "# 사용자가 입력한 값으로 텐서 초기화\n",
        "x = torch.tensor([3,2,3])\n",
        "x"
      ],
      "metadata": {
        "colab": {
          "base_uri": "https://localhost:8080/"
        },
        "id": "GfjY9zyak2JU",
        "outputId": "da662cee-71cc-415e-885e-18dff055fed5"
      },
      "execution_count": 5,
      "outputs": [
        {
          "output_type": "execute_result",
          "data": {
            "text/plain": [
              "tensor([3, 2, 3])"
            ]
          },
          "metadata": {},
          "execution_count": 5
        }
      ]
    },
    {
      "cell_type": "code",
      "source": [
        "# 2 X 4크기, double 타입, 1로 채워진 텐서\n",
        "x = x.new_ones(2,4,dtype=torch.double)\n",
        "print(x)"
      ],
      "metadata": {
        "colab": {
          "base_uri": "https://localhost:8080/"
        },
        "id": "vkz7zS5glmLf",
        "outputId": "3be5b82b-3ed3-479b-d5c7-58c45139920b"
      },
      "execution_count": 6,
      "outputs": [
        {
          "output_type": "stream",
          "name": "stdout",
          "text": [
            "tensor([[1., 1., 1., 1.],\n",
            "        [1., 1., 1., 1.]], dtype=torch.float64)\n"
          ]
        }
      ]
    },
    {
      "cell_type": "code",
      "source": [
        "torch.ones(2,4)"
      ],
      "metadata": {
        "colab": {
          "base_uri": "https://localhost:8080/"
        },
        "id": "qc1TIcWImDh3",
        "outputId": "c26690b6-56bd-4f47-ca66-312fea5a14db"
      },
      "execution_count": 7,
      "outputs": [
        {
          "output_type": "execute_result",
          "data": {
            "text/plain": [
              "tensor([[1., 1., 1., 1.],\n",
              "        [1., 1., 1., 1.]])"
            ]
          },
          "metadata": {},
          "execution_count": 7
        }
      ]
    },
    {
      "cell_type": "code",
      "source": [
        "x = torch.randn_like(x, dtype=torch.float)\n",
        "print(x)"
      ],
      "metadata": {
        "colab": {
          "base_uri": "https://localhost:8080/"
        },
        "id": "m25XuQKImYp-",
        "outputId": "b95a761f-c199-4c72-8997-81f7b0505a89"
      },
      "execution_count": 8,
      "outputs": [
        {
          "output_type": "stream",
          "name": "stdout",
          "text": [
            "tensor([[ 0.7667,  1.4995, -0.0168,  0.5491],\n",
            "        [ 0.1559,  1.6503,  3.2458,  0.4468]])\n"
          ]
        }
      ]
    },
    {
      "cell_type": "code",
      "source": [
        "# 텐서의 크기 계산\n",
        "x.size()"
      ],
      "metadata": {
        "colab": {
          "base_uri": "https://localhost:8080/"
        },
        "id": "U-7qhWeHmt-Z",
        "outputId": "ac96bc74-8744-45ba-f50b-a5dde0086186"
      },
      "execution_count": 9,
      "outputs": [
        {
          "output_type": "execute_result",
          "data": {
            "text/plain": [
              "torch.Size([2, 4])"
            ]
          },
          "metadata": {},
          "execution_count": 9
        }
      ]
    },
    {
      "cell_type": "code",
      "source": [
        "x.shape"
      ],
      "metadata": {
        "colab": {
          "base_uri": "https://localhost:8080/"
        },
        "id": "J7wcr8FGnCGq",
        "outputId": "7ad5dbf2-804e-48a2-a10d-1c41df4a9e43"
      },
      "execution_count": 10,
      "outputs": [
        {
          "output_type": "execute_result",
          "data": {
            "text/plain": [
              "torch.Size([2, 4])"
            ]
          },
          "metadata": {},
          "execution_count": 10
        }
      ]
    },
    {
      "cell_type": "code",
      "source": [
        "ft = torch.FloatTensor([1,2,3])\n",
        "print(ft)\n",
        "print(ft.dtype)"
      ],
      "metadata": {
        "colab": {
          "base_uri": "https://localhost:8080/"
        },
        "id": "6lSXLUJHnJN-",
        "outputId": "7ada229a-aae1-483e-9c25-cf3f9f67c98a"
      },
      "execution_count": 11,
      "outputs": [
        {
          "output_type": "stream",
          "name": "stdout",
          "text": [
            "tensor([1., 2., 3.])\n",
            "torch.float32\n"
          ]
        }
      ]
    },
    {
      "cell_type": "code",
      "source": [
        "ft = torch.ByteTensor([1,2,3])\n",
        "print(ft)\n",
        "print(ft.dtype)"
      ],
      "metadata": {
        "colab": {
          "base_uri": "https://localhost:8080/"
        },
        "id": "s3M3-87fnJLc",
        "outputId": "76608e26-291e-42fd-f2a7-228f5e8380b8"
      },
      "execution_count": 12,
      "outputs": [
        {
          "output_type": "stream",
          "name": "stdout",
          "text": [
            "tensor([1, 2, 3], dtype=torch.uint8)\n",
            "torch.uint8\n"
          ]
        }
      ]
    },
    {
      "cell_type": "code",
      "source": [
        "ft = torch.CharTensor([1,2,3])\n",
        "print(ft.float())\n",
        "print(ft.double())\n",
        "print(ft.half())"
      ],
      "metadata": {
        "colab": {
          "base_uri": "https://localhost:8080/"
        },
        "id": "YM79mLoUnJI1",
        "outputId": "29689cb2-5830-4476-d30b-aed054d7238b"
      },
      "execution_count": 13,
      "outputs": [
        {
          "output_type": "stream",
          "name": "stdout",
          "text": [
            "tensor([1., 2., 3.])\n",
            "tensor([1., 2., 3.], dtype=torch.float64)\n",
            "tensor([1., 2., 3.], dtype=torch.float16)\n"
          ]
        }
      ]
    },
    {
      "cell_type": "code",
      "source": [
        "ft = torch.LongTensor([1,2,3])\n",
        "print(ft)\n",
        "print(ft.dtype)\n",
        "print(ft.short())\n",
        "print(ft.int())\n",
        "print(ft.long())"
      ],
      "metadata": {
        "colab": {
          "base_uri": "https://localhost:8080/"
        },
        "id": "Wy1knlnRnJGR",
        "outputId": "dd846166-a821-4b46-df1e-90fb169d546a"
      },
      "execution_count": 14,
      "outputs": [
        {
          "output_type": "stream",
          "name": "stdout",
          "text": [
            "tensor([1, 2, 3])\n",
            "torch.int64\n",
            "tensor([1, 2, 3], dtype=torch.int16)\n",
            "tensor([1, 2, 3], dtype=torch.int32)\n",
            "tensor([1, 2, 3])\n"
          ]
        }
      ]
    },
    {
      "cell_type": "code",
      "source": [
        "# CUDA Tensors : .to메소드를 사용하여 텐서를 어떠한 장치(CPU,GPU)로도 옮길 수 있다.\n",
        "x = torch.randn(1)\n",
        "print(x)\n",
        "print(x.item())\n",
        "print(x.dtype)"
      ],
      "metadata": {
        "colab": {
          "base_uri": "https://localhost:8080/"
        },
        "id": "HAhuv8yGnI-n",
        "outputId": "d7cd0432-a080-4bb1-8343-5e1e7e5febb3"
      },
      "execution_count": 15,
      "outputs": [
        {
          "output_type": "stream",
          "name": "stdout",
          "text": [
            "tensor([-0.5983])\n",
            "-0.5983169078826904\n",
            "torch.float32\n"
          ]
        }
      ]
    },
    {
      "cell_type": "code",
      "source": [
        "device = torch.device('cuda' if torch.cuda. is_available() else 'cpu')\n",
        "print(device)"
      ],
      "metadata": {
        "colab": {
          "base_uri": "https://localhost:8080/"
        },
        "id": "5ZPuMr_zpeI1",
        "outputId": "4a6d64a1-3756-4576-fa8c-ca93c529ed73"
      },
      "execution_count": 16,
      "outputs": [
        {
          "output_type": "stream",
          "name": "stdout",
          "text": [
            "cuda\n"
          ]
        }
      ]
    },
    {
      "cell_type": "code",
      "source": [
        "y = torch.ones_like(x,device=device)\n",
        "print(y)\n",
        "x = x.to(device)\n",
        "print(x)\n",
        "z = x+y\n",
        "print(z)\n",
        "print(z.to('cpu',torch.double))"
      ],
      "metadata": {
        "colab": {
          "base_uri": "https://localhost:8080/"
        },
        "id": "n-k590jBpfex",
        "outputId": "fe34dc07-29c4-4c10-d4d9-ca80fb1b2921"
      },
      "execution_count": 17,
      "outputs": [
        {
          "output_type": "stream",
          "name": "stdout",
          "text": [
            "tensor([1.], device='cuda:0')\n",
            "tensor([-0.5983], device='cuda:0')\n",
            "tensor([0.4017], device='cuda:0')\n",
            "tensor([0.4017], dtype=torch.float64)\n"
          ]
        }
      ]
    },
    {
      "cell_type": "code",
      "source": [
        "# 다차원 텐서 표현\n",
        "\n",
        "# 0D Tensor(Scaler)\n",
        "t0 = torch.tensor(0)\n",
        "print(t0.ndim)\n",
        "print(t0.size)\n",
        "print(t0)"
      ],
      "metadata": {
        "colab": {
          "base_uri": "https://localhost:8080/"
        },
        "id": "MuMMxxfhrInJ",
        "outputId": "a53c54b4-194d-4d44-a62c-99d8cb9d5e90"
      },
      "execution_count": 18,
      "outputs": [
        {
          "output_type": "stream",
          "name": "stdout",
          "text": [
            "0\n",
            "<built-in method size of Tensor object at 0x7f3e0cb7bb90>\n",
            "tensor(0)\n"
          ]
        }
      ]
    },
    {
      "cell_type": "markdown",
      "source": [
        "1D Tensor(Vector)\n",
        "\n",
        "* 값들을 저장한 리스트와 유사한 텐서\n",
        "* 하나의 축이 존재"
      ],
      "metadata": {
        "id": "EtAaKlO2B5jb"
      }
    },
    {
      "cell_type": "code",
      "source": [
        "# 1D Tensor\n",
        "t1 = torch.tensor([1,2,3])\n",
        "print(t1.ndim)\n",
        "print(t1.shape)\n",
        "print(t1)"
      ],
      "metadata": {
        "colab": {
          "base_uri": "https://localhost:8080/"
        },
        "id": "znadYOu7tIHV",
        "outputId": "a098dfca-b227-4932-f238-bacc8223134e"
      },
      "execution_count": 19,
      "outputs": [
        {
          "output_type": "stream",
          "name": "stdout",
          "text": [
            "1\n",
            "torch.Size([3])\n",
            "tensor([1, 2, 3])\n"
          ]
        }
      ]
    },
    {
      "cell_type": "markdown",
      "source": [
        "2D Tensor(Matrix)\n",
        "\n",
        "* 행렬과 같은 모양으로 두개의 축이 존재\n",
        "* 일반적인 수치, 통계 데이터셋이 해당\n",
        "* 주로 샘플(samples)과 특성(features)을 가진 구조로 사용"
      ],
      "metadata": {
        "id": "SBj6jc-AB9yh"
      }
    },
    {
      "cell_type": "markdown",
      "source": [
        "![image.png](data:image/png;base64,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)"
      ],
      "metadata": {
        "id": "K4BJs3MiCA8m"
      }
    },
    {
      "cell_type": "code",
      "source": [
        "# 2D Tensor\n",
        "t2 = torch.tensor([[1,2,3],\n",
        "                  [4,5,6],\n",
        "                  [7,8,9]])\n",
        "print(t2.ndim)\n",
        "print(t2.shape)\n",
        "print(t2)"
      ],
      "metadata": {
        "colab": {
          "base_uri": "https://localhost:8080/"
        },
        "id": "yT3GRqhFtIE8",
        "outputId": "a10bef0e-ed75-4a6a-e14c-83f0e09190f5"
      },
      "execution_count": 20,
      "outputs": [
        {
          "output_type": "stream",
          "name": "stdout",
          "text": [
            "2\n",
            "torch.Size([3, 3])\n",
            "tensor([[1, 2, 3],\n",
            "        [4, 5, 6],\n",
            "        [7, 8, 9]])\n"
          ]
        }
      ]
    },
    {
      "cell_type": "markdown",
      "source": [
        "[과제] 3,4,5 차원 텐서를 생성하여 출력하세요"
      ],
      "metadata": {
        "id": "fzq8q1P_uVvM"
      }
    },
    {
      "cell_type": "markdown",
      "source": [
        "3D Tensor\n",
        "\n",
        "* 큐브(cube)와 같은 모양으로 세개의 축이 존재\n",
        "* 데이터가 연속된 시퀀스 데이터나 시간 축이 포함된 시계열 데이터에 해당\n",
        "* 주식 가격 데이터셋, 시간에 따른 질병 발병 데이터 등이 존재\n",
        "* 주로 샘플(samples), 타임스텝(timesteps), 특성(features)을 가진 구조로 사용"
      ],
      "metadata": {
        "id": "V-WwP8qaCFWr"
      }
    },
    {
      "cell_type": "markdown",
      "source": [
        "![image.png](data:image/png;base64,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)"
      ],
      "metadata": {
        "id": "DiCiXXpBCIzl"
      }
    },
    {
      "cell_type": "code",
      "source": [
        "# 3D Tensor\n",
        "t3 = torch.tensor([[[1,2,3],\n",
        "                  [4,5,6],\n",
        "                  [7,8,9]],\n",
        "                  [[1,2,3],\n",
        "                  [4,5,6],\n",
        "                  [7,8,9]],\n",
        "                  [[1,2,3],\n",
        "                  [4,5,6],\n",
        "                  [7,8,9]]])\n",
        "print(t3.ndim)\n",
        "print(t3.shape)\n",
        "print(t3)"
      ],
      "metadata": {
        "id": "jxC12IPAvuNz",
        "colab": {
          "base_uri": "https://localhost:8080/"
        },
        "outputId": "64943a0f-41e9-4b4b-f139-39c8b5fa2450"
      },
      "execution_count": 21,
      "outputs": [
        {
          "output_type": "stream",
          "name": "stdout",
          "text": [
            "3\n",
            "torch.Size([3, 3, 3])\n",
            "tensor([[[1, 2, 3],\n",
            "         [4, 5, 6],\n",
            "         [7, 8, 9]],\n",
            "\n",
            "        [[1, 2, 3],\n",
            "         [4, 5, 6],\n",
            "         [7, 8, 9]],\n",
            "\n",
            "        [[1, 2, 3],\n",
            "         [4, 5, 6],\n",
            "         [7, 8, 9]]])\n"
          ]
        }
      ]
    },
    {
      "cell_type": "markdown",
      "source": [
        "4D Tensor\n",
        "\n",
        "* 4개의 축\n",
        "* 컬러 이미지 데이터가 대표적인 사례 (흑백 이미지 데이터는 3D Tensor로 가능)\n",
        "* 주로 샘플(samples), 높이(height), 너비(width), 컬러 채널(channel)을 가진 구조로 사용"
      ],
      "metadata": {
        "id": "HyAOSUeXCPy2"
      }
    },
    {
      "cell_type": "markdown",
      "source": [
        "![image.png](data:image/png;base64,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)"
      ],
      "metadata": {
        "id": "vqHBrLm_CVZG"
      }
    },
    {
      "cell_type": "code",
      "source": [
        "                  [[[1,2,3],\n",
        "                  [4,5,6],\n",
        "                  [7,8,9]],\n",
        "                  [[1,2,3],\n",
        "                  [4,5,6],\n",
        "                  [7,8,9]],\n",
        "                  [[1,2,3],\n",
        "                  [4,5,6],\n",
        "                  [7,8,9]]]"
      ],
      "metadata": {
        "id": "PEyUPQe7cAic",
        "colab": {
          "base_uri": "https://localhost:8080/"
        },
        "outputId": "7b738610-6f79-4f2e-ad99-80b74c6218a5"
      },
      "execution_count": 22,
      "outputs": [
        {
          "output_type": "execute_result",
          "data": {
            "text/plain": [
              "[[[1, 2, 3], [4, 5, 6], [7, 8, 9]],\n",
              " [[1, 2, 3], [4, 5, 6], [7, 8, 9]],\n",
              " [[1, 2, 3], [4, 5, 6], [7, 8, 9]]]"
            ]
          },
          "metadata": {},
          "execution_count": 22
        }
      ]
    },
    {
      "cell_type": "code",
      "source": [
        "# 텐서의 연산\n",
        "\n",
        "import math\n",
        "a = torch.randn(1,2) * 2 - 1\n",
        "print(a)\n",
        "print(torch.abs(a))\n",
        "print(torch.ceil(a))\n",
        "print(torch.floor(a))\n",
        "print(torch.clamp(a, -0.5,0.5))"
      ],
      "metadata": {
        "colab": {
          "base_uri": "https://localhost:8080/"
        },
        "id": "ZjEXspNKtICJ",
        "outputId": "c03238c3-5340-4025-f929-2940b82779ed"
      },
      "execution_count": 23,
      "outputs": [
        {
          "output_type": "stream",
          "name": "stdout",
          "text": [
            "tensor([[-2.2694, -2.1130]])\n",
            "tensor([[2.2694, 2.1130]])\n",
            "tensor([[-2., -2.]])\n",
            "tensor([[-3., -3.]])\n",
            "tensor([[-0.5000, -0.5000]])\n"
          ]
        }
      ]
    },
    {
      "cell_type": "code",
      "source": [
        "# 텐서의 연산2"
      ],
      "metadata": {
        "id": "Jre0oLyttH_-"
      },
      "execution_count": 24,
      "outputs": []
    },
    {
      "cell_type": "code",
      "source": [
        "\n",
        "print(a)\n",
        "print(torch.min(a))\n",
        "print(torch.max(a))\n",
        "print(torch.mean(a))\n",
        "print(torch.std(a))\n",
        "print(torch.prod(a))\n",
        "print(torch.unique(torch.tensor([1,2,3,1,2,1])))"
      ],
      "metadata": {
        "colab": {
          "base_uri": "https://localhost:8080/"
        },
        "id": "jmZjOC4LrIkf",
        "outputId": "04f11ac1-ec87-4169-eaa1-fe4c1496abaa"
      },
      "execution_count": 25,
      "outputs": [
        {
          "output_type": "stream",
          "name": "stdout",
          "text": [
            "tensor([[-2.2694, -2.1130]])\n",
            "tensor(-2.2694)\n",
            "tensor(-2.1130)\n",
            "tensor(-2.1912)\n",
            "tensor(0.1106)\n",
            "tensor(4.7953)\n",
            "tensor([1, 2, 3])\n"
          ]
        }
      ]
    },
    {
      "cell_type": "markdown",
      "source": [
        "[과제]  2차원 텐서 x,y를 생성하여 덧셈(add), 뺄셈(sub), 곱셈(mul), 나눗셈(div), 내적 연산(matmul,mm) 사례를 pytorch로 1개 이상씩 수행하세요"
      ],
      "metadata": {
        "id": "yq6ROwCuweP7"
      }
    },
    {
      "cell_type": "code",
      "source": [
        "x = torch.Tensor([[1,3],\n",
        "                  [5,7]])\n",
        "y = torch.Tensor([[2,4],\n",
        "                  [6,8]])\n",
        "print(x + y)\n",
        "print(torch.add(x,y))\n",
        "print(x.add(y))"
      ],
      "metadata": {
        "colab": {
          "base_uri": "https://localhost:8080/"
        },
        "id": "zAFMAspZhpDr",
        "outputId": "1f608812-a11c-4c36-fcc0-1bb46cb3a684"
      },
      "execution_count": 26,
      "outputs": [
        {
          "output_type": "stream",
          "name": "stdout",
          "text": [
            "tensor([[ 3.,  7.],\n",
            "        [11., 15.]])\n",
            "tensor([[ 3.,  7.],\n",
            "        [11., 15.]])\n",
            "tensor([[ 3.,  7.],\n",
            "        [11., 15.]])\n"
          ]
        }
      ]
    },
    {
      "cell_type": "code",
      "source": [
        "x = torch.Tensor([[1,3],\n",
        "                  [5,7]])\n",
        "y = torch.Tensor([[2,4],\n",
        "                  [6,8]])\n",
        "print(x - y)\n",
        "print(torch.sub(x,y))\n",
        "print(x.sub(y))"
      ],
      "metadata": {
        "id": "m_RnYma3wy-a",
        "colab": {
          "base_uri": "https://localhost:8080/"
        },
        "outputId": "87528fe5-fe72-4634-ae91-8d219a383170"
      },
      "execution_count": 27,
      "outputs": [
        {
          "output_type": "stream",
          "name": "stdout",
          "text": [
            "tensor([[-1., -1.],\n",
            "        [-1., -1.]])\n",
            "tensor([[-1., -1.],\n",
            "        [-1., -1.]])\n",
            "tensor([[-1., -1.],\n",
            "        [-1., -1.]])\n"
          ]
        }
      ]
    },
    {
      "cell_type": "code",
      "source": [
        "x = torch.Tensor([[1,3],\n",
        "                  [5,7]])\n",
        "y = torch.Tensor([[2,4],\n",
        "                  [6,8]])\n",
        "print(x * y)\n",
        "print(torch.mul(x,y))\n",
        "print(x.mul(y))"
      ],
      "metadata": {
        "colab": {
          "base_uri": "https://localhost:8080/"
        },
        "id": "j1bk2KkUQsXb",
        "outputId": "9b28737c-7dad-425a-f025-1f2caf6fca85"
      },
      "execution_count": 28,
      "outputs": [
        {
          "output_type": "stream",
          "name": "stdout",
          "text": [
            "tensor([[ 2., 12.],\n",
            "        [30., 56.]])\n",
            "tensor([[ 2., 12.],\n",
            "        [30., 56.]])\n",
            "tensor([[ 2., 12.],\n",
            "        [30., 56.]])\n"
          ]
        }
      ]
    },
    {
      "cell_type": "code",
      "source": [
        "x = torch.Tensor([[1,3],\n",
        "                  [5,7]])\n",
        "y = torch.Tensor([[2,4],\n",
        "                  [6,8]])\n",
        "print(x / y)\n",
        "print(torch.div(x,y))\n",
        "print(x.div(y))"
      ],
      "metadata": {
        "colab": {
          "base_uri": "https://localhost:8080/"
        },
        "id": "nXx1SH6pQzvy",
        "outputId": "6c592ae8-285e-45f9-b56f-cd0d4dd70c10"
      },
      "execution_count": 29,
      "outputs": [
        {
          "output_type": "stream",
          "name": "stdout",
          "text": [
            "tensor([[0.5000, 0.7500],\n",
            "        [0.8333, 0.8750]])\n",
            "tensor([[0.5000, 0.7500],\n",
            "        [0.8333, 0.8750]])\n",
            "tensor([[0.5000, 0.7500],\n",
            "        [0.8333, 0.8750]])\n"
          ]
        }
      ]
    },
    {
      "cell_type": "code",
      "source": [
        "# 내적연산 (행렬곱 연산)\n",
        "x = torch.Tensor([[1,3],\n",
        "                  [5,7]])\n",
        "y = torch.Tensor([[2,4],\n",
        "                  [6,8]])\n",
        "print(torch.mm(x,y))"
      ],
      "metadata": {
        "colab": {
          "base_uri": "https://localhost:8080/"
        },
        "id": "nTYw5zgAQ3wX",
        "outputId": "34e299d7-3207-41b3-d204-48b07b5a62d4"
      },
      "execution_count": 30,
      "outputs": [
        {
          "output_type": "stream",
          "name": "stdout",
          "text": [
            "tensor([[20., 28.],\n",
            "        [52., 76.]])\n"
          ]
        }
      ]
    },
    {
      "cell_type": "code",
      "source": [
        "from google.colab import drive\n",
        "drive.mount('/content/drive')"
      ],
      "metadata": {
        "colab": {
          "base_uri": "https://localhost:8080/"
        },
        "id": "7o3ymhDWQjzj",
        "outputId": "3a13ebff-b41f-4b5a-8045-0a3caacfdeab"
      },
      "execution_count": 31,
      "outputs": [
        {
          "output_type": "stream",
          "name": "stdout",
          "text": [
            "Drive already mounted at /content/drive; to attempt to forcibly remount, call drive.mount(\"/content/drive\", force_remount=True).\n"
          ]
        }
      ]
    },
    {
      "cell_type": "code",
      "source": [
        "# Manipulations\n",
        "# 인덱싱: numpy 처럼 인덱싱 형태로 사용이 가능\n",
        "\n",
        "x = torch.Tensor([[1,2],[3,4]])\n",
        "print(x)\n",
        "\n",
        "print(x[0,0])"
      ],
      "metadata": {
        "colab": {
          "base_uri": "https://localhost:8080/"
        },
        "id": "ugG3W8CfitgW",
        "outputId": "575cf703-709d-40a8-ef92-d928421c3427"
      },
      "execution_count": 32,
      "outputs": [
        {
          "output_type": "stream",
          "name": "stdout",
          "text": [
            "tensor([[1., 2.],\n",
            "        [3., 4.]])\n",
            "tensor(1.)\n"
          ]
        }
      ]
    },
    {
      "cell_type": "code",
      "source": [
        "#슬라이싱\n",
        "print(x[:,0])\n",
        "print(x[0,:])"
      ],
      "metadata": {
        "colab": {
          "base_uri": "https://localhost:8080/"
        },
        "id": "kTR767FSitb6",
        "outputId": "d1afe085-b03a-49a5-a5e5-8cd5e497d05f"
      },
      "execution_count": 33,
      "outputs": [
        {
          "output_type": "stream",
          "name": "stdout",
          "text": [
            "tensor([1., 3.])\n",
            "tensor([1., 2.])\n"
          ]
        }
      ]
    },
    {
      "cell_type": "code",
      "source": [
        "# view : 텐서의 크기(size)나 모양(shape)을 변경 \n",
        "x = torch.randn(4,5)\n",
        "print(x.shape)\n",
        "print(x.size())"
      ],
      "metadata": {
        "colab": {
          "base_uri": "https://localhost:8080/"
        },
        "id": "Jw1PqANyitZW",
        "outputId": "a1033f21-4481-4b72-af0d-08994f5af152"
      },
      "execution_count": 34,
      "outputs": [
        {
          "output_type": "stream",
          "name": "stdout",
          "text": [
            "torch.Size([4, 5])\n",
            "torch.Size([4, 5])\n"
          ]
        }
      ]
    },
    {
      "cell_type": "code",
      "source": [
        "print(x,'\\n')\n",
        "y = x.view(20)  #view는 reshape와 유사하다\n",
        "print(y)"
      ],
      "metadata": {
        "colab": {
          "base_uri": "https://localhost:8080/"
        },
        "id": "bw1VgaX-itWq",
        "outputId": "754b8ba9-65b4-41ce-b63b-259b41781ba8"
      },
      "execution_count": 35,
      "outputs": [
        {
          "output_type": "stream",
          "name": "stdout",
          "text": [
            "tensor([[-6.9215e-01,  5.8811e-01,  1.0711e+00, -8.4466e-01, -8.7605e-01],\n",
            "        [-7.7045e-01, -2.2913e+00, -1.6751e+00, -1.9420e+00, -1.1990e+00],\n",
            "        [ 1.3369e-03, -4.5718e-01, -5.5196e-01,  3.5554e-01,  1.7221e+00],\n",
            "        [ 6.5994e-01, -2.4599e-01,  9.1585e-01, -1.3479e+00,  5.4938e-01]]) \n",
            "\n",
            "tensor([-6.9215e-01,  5.8811e-01,  1.0711e+00, -8.4466e-01, -8.7605e-01,\n",
            "        -7.7045e-01, -2.2913e+00, -1.6751e+00, -1.9420e+00, -1.1990e+00,\n",
            "         1.3369e-03, -4.5718e-01, -5.5196e-01,  3.5554e-01,  1.7221e+00,\n",
            "         6.5994e-01, -2.4599e-01,  9.1585e-01, -1.3479e+00,  5.4938e-01])\n"
          ]
        }
      ]
    },
    {
      "cell_type": "code",
      "source": [
        "z = x.view(5,-1)\n",
        "z"
      ],
      "metadata": {
        "colab": {
          "base_uri": "https://localhost:8080/"
        },
        "id": "o9IptQQzkdTN",
        "outputId": "7da3634e-4a69-4742-ee39-60a27fadccb3"
      },
      "execution_count": 36,
      "outputs": [
        {
          "output_type": "execute_result",
          "data": {
            "text/plain": [
              "tensor([[-6.9215e-01,  5.8811e-01,  1.0711e+00, -8.4466e-01],\n",
              "        [-8.7605e-01, -7.7045e-01, -2.2913e+00, -1.6751e+00],\n",
              "        [-1.9420e+00, -1.1990e+00,  1.3369e-03, -4.5718e-01],\n",
              "        [-5.5196e-01,  3.5554e-01,  1.7221e+00,  6.5994e-01],\n",
              "        [-2.4599e-01,  9.1585e-01, -1.3479e+00,  5.4938e-01]])"
            ]
          },
          "metadata": {},
          "execution_count": 36
        }
      ]
    },
    {
      "cell_type": "code",
      "source": [
        "# [과제]\n",
        "x = torch.FloatTensor([ \n",
        "                       [1,2],\n",
        "                       [3,4],\n",
        "                       [5,6],\n",
        "                       [7,8]\n",
        "])\n",
        "print(x)\n",
        "# size를 활용한 텐서 사이즈 보기\n",
        "x.size()\n",
        "# shape를 활용한 텐서 사이즈 보기\n",
        "x.shape\n",
        "# dim을 활용한 텐서 차원 확인\n",
        "x.dim()\n",
        "# 0차원 사이즈 확인\n",
        "x.size(0)\n",
        "# 1차원 사이즈 확인\n",
        "x.shape[0]"
      ],
      "metadata": {
        "colab": {
          "base_uri": "https://localhost:8080/"
        },
        "id": "-e7HOl53kdPR",
        "outputId": "1d62c487-da35-454f-bb8e-b7df2cccb1ae"
      },
      "execution_count": 37,
      "outputs": [
        {
          "output_type": "stream",
          "name": "stdout",
          "text": [
            "tensor([[1., 2.],\n",
            "        [3., 4.],\n",
            "        [5., 6.],\n",
            "        [7., 8.]])\n"
          ]
        },
        {
          "output_type": "execute_result",
          "data": {
            "text/plain": [
              "4"
            ]
          },
          "metadata": {},
          "execution_count": 37
        }
      ]
    },
    {
      "cell_type": "code",
      "source": [
        "import torch\n",
        "x= torch.FloatTensor([\n",
        "                      [1,2],\n",
        "                     [3,4],\n",
        "                      [5,6],\n",
        "                      [7,8]])\n",
        "print(x)\n",
        "#size 를 활용한 텐서 사이즈 보기\n",
        "print(x.size())\n",
        "#  shape 를 활용한 텐서 사이즈 보기\n",
        "print(x.shape)\n",
        "# dim을 활용한 텐서 차원확인\n",
        "print(x.dim)\n",
        "#0차원 사이즈 확인\n",
        "print(x.size(0))\n",
        "#1차원 사이즈 확인\n",
        "print(x.shape[1])\n"
      ],
      "metadata": {
        "colab": {
          "base_uri": "https://localhost:8080/"
        },
        "id": "vUCgDB5THR-N",
        "outputId": "a8542b47-925a-4d16-ed15-6cb70e3d4d0a"
      },
      "execution_count": 38,
      "outputs": [
        {
          "output_type": "stream",
          "name": "stdout",
          "text": [
            "tensor([[1., 2.],\n",
            "        [3., 4.],\n",
            "        [5., 6.],\n",
            "        [7., 8.]])\n",
            "torch.Size([4, 2])\n",
            "torch.Size([4, 2])\n",
            "<built-in method dim of Tensor object at 0x7f3e0cb35530>\n",
            "4\n",
            "2\n"
          ]
        }
      ]
    },
    {
      "cell_type": "markdown",
      "source": [
        "| Data type | dtype | CPU tensor | GPU tensor |\n",
        "| ------ | ------ | ------ | ------ |\n",
        "| 32-bit floating point | `torch.float32` or `torch.float` |`torch.FloatTensor` | `torch.cuda.FloatTensor` |\n",
        "| 64-bit floating point | `torch.float64` or `torch.double` |`torch.DoubleTensor` | `torch.cuda.DoubleTensor` |\n",
        "| 16-bit floating point | `torch.float16` or `torch.half` |`torch.HalfTensor` | `torch.cuda.HalfTensor` |\n",
        "| 8-bit integer(unsinged) | `torch.uint8` |`torch.ByteTensor` | `torch.cuda.ByteTensor` |\n",
        "| 8-bit integer(singed) | `torch.int8` |`torch.CharTensor` | `torch.cuda.CharTensor` |\n",
        "| 16-bit integer(signed) | `torch.int16` or `torch.short` |`torch.ShortTensor` | `torch.cuda.ShortTensor` |\n",
        "| 32-bit integer(signed) | `torch.int32` or `torch.int` |`torch.IntTensor` | `torch.cuda.IntTensor` |\n",
        "| 64-bit integer(signed) | `torch.int64` or `torch.long` |`torch.LongTensor` | `torch.cuda.LongTensor` |"
      ],
      "metadata": {
        "id": "hbyXxve9l9FB"
      }
    },
    {
      "cell_type": "code",
      "source": [
        "# 스칼라값 하나만 존재해야 item() 사용 가능\n",
        "x = torch.randn(1)\n",
        "print(x)\n",
        "print(x.item()) # item : randn에 있는 원소 1개를 뽑아줌\n",
        "print(x.dtype)"
      ],
      "metadata": {
        "colab": {
          "base_uri": "https://localhost:8080/"
        },
        "id": "_Fx3CgyQkdMq",
        "outputId": "2ee5172d-b6bd-4730-861b-d6c4ccfb683e"
      },
      "execution_count": 39,
      "outputs": [
        {
          "output_type": "stream",
          "name": "stdout",
          "text": [
            "tensor([0.6711])\n",
            "0.6711108684539795\n",
            "torch.float32\n"
          ]
        }
      ]
    },
    {
      "cell_type": "code",
      "source": [
        "# squeeze : 차원을 축소\n",
        "tensor = torch.rand(1,3,3)\n",
        "print(tensor)\n",
        "print(tensor.shape)"
      ],
      "metadata": {
        "colab": {
          "base_uri": "https://localhost:8080/"
        },
        "id": "OhqFlb0pmJt_",
        "outputId": "6dd93e8f-a930-4f6e-f2df-726e619070b6"
      },
      "execution_count": 40,
      "outputs": [
        {
          "output_type": "stream",
          "name": "stdout",
          "text": [
            "tensor([[[0.8596, 0.6482, 0.3737],\n",
            "         [0.9564, 0.5099, 0.5889],\n",
            "         [0.0423, 0.7238, 0.9217]]])\n",
            "torch.Size([1, 3, 3])\n"
          ]
        }
      ]
    },
    {
      "cell_type": "code",
      "source": [
        "t = tensor.squeeze()\n",
        "print(t)\n",
        "print(t.shape)"
      ],
      "metadata": {
        "colab": {
          "base_uri": "https://localhost:8080/"
        },
        "id": "MZJJn_PImj-L",
        "outputId": "1b3d95ac-c647-46c8-9675-db36cc74ba5e"
      },
      "execution_count": 41,
      "outputs": [
        {
          "output_type": "stream",
          "name": "stdout",
          "text": [
            "tensor([[0.8596, 0.6482, 0.3737],\n",
            "        [0.9564, 0.5099, 0.5889],\n",
            "        [0.0423, 0.7238, 0.9217]])\n",
            "torch.Size([3, 3])\n"
          ]
        }
      ]
    },
    {
      "cell_type": "code",
      "source": [
        "# unsqueeze : 차원을 증가\n",
        "t = torch.rand(3,3)\n",
        "print(t)\n",
        "print(t.shape)"
      ],
      "metadata": {
        "colab": {
          "base_uri": "https://localhost:8080/"
        },
        "id": "Gphk3jB1mJrp",
        "outputId": "4297fbc4-27c9-4f06-d121-9a96fccf2c1f"
      },
      "execution_count": 42,
      "outputs": [
        {
          "output_type": "stream",
          "name": "stdout",
          "text": [
            "tensor([[0.8758, 0.0157, 0.9298],\n",
            "        [0.0299, 0.7726, 0.4085],\n",
            "        [0.7114, 0.6611, 0.9732]])\n",
            "torch.Size([3, 3])\n"
          ]
        }
      ]
    },
    {
      "cell_type": "code",
      "source": [
        "tensor = t.unsqueeze(dim=0)\n",
        "print(tensor)\n",
        "print(tensor.shape)"
      ],
      "metadata": {
        "colab": {
          "base_uri": "https://localhost:8080/"
        },
        "id": "kotSDZkKmJo1",
        "outputId": "f656f4fa-332c-471e-a641-13a53301991a"
      },
      "execution_count": 43,
      "outputs": [
        {
          "output_type": "stream",
          "name": "stdout",
          "text": [
            "tensor([[[0.8758, 0.0157, 0.9298],\n",
            "         [0.0299, 0.7726, 0.4085],\n",
            "         [0.7114, 0.6611, 0.9732]]])\n",
            "torch.Size([1, 3, 3])\n"
          ]
        }
      ]
    },
    {
      "cell_type": "code",
      "source": [
        "tensor = t.unsqueeze(dim=2)\n",
        "print(tensor)\n",
        "print(tensor.shape)"
      ],
      "metadata": {
        "colab": {
          "base_uri": "https://localhost:8080/"
        },
        "id": "D2QV97CjkdKS",
        "outputId": "9f910b16-de3a-4b23-8623-a63267d4a3d3"
      },
      "execution_count": 44,
      "outputs": [
        {
          "output_type": "stream",
          "name": "stdout",
          "text": [
            "tensor([[[0.8758],\n",
            "         [0.0157],\n",
            "         [0.9298]],\n",
            "\n",
            "        [[0.0299],\n",
            "         [0.7726],\n",
            "         [0.4085]],\n",
            "\n",
            "        [[0.7114],\n",
            "         [0.6611],\n",
            "         [0.9732]]])\n",
            "torch.Size([3, 3, 1])\n"
          ]
        }
      ]
    },
    {
      "cell_type": "code",
      "source": [
        "#stack : 텐서간 결합\n",
        "x = torch.FloatTensor([1,4])\n",
        "print(x)\n",
        "y= torch.FloatTensor([2,5])\n",
        "print(y)\n",
        "z = torch.FloatTensor([3,6])\n",
        "print(z)\n",
        "print(torch.stack([x,y,z]))"
      ],
      "metadata": {
        "id": "2xoXpwzPvD1L",
        "colab": {
          "base_uri": "https://localhost:8080/"
        },
        "outputId": "8e77b647-d780-4f73-ec1f-c86333a5d7f5"
      },
      "execution_count": 45,
      "outputs": [
        {
          "output_type": "stream",
          "name": "stdout",
          "text": [
            "tensor([1., 4.])\n",
            "tensor([2., 5.])\n",
            "tensor([3., 6.])\n",
            "tensor([[1., 4.],\n",
            "        [2., 5.],\n",
            "        [3., 6.]])\n"
          ]
        }
      ]
    },
    {
      "cell_type": "markdown",
      "source": [
        "cat : 텐서를 결합하는 메소드(Concatenate)\n",
        " - stack과 유사하지만 쌓은 dim이 존재해야 함\n",
        " - 해당 차원을 늘려준 후 결합"
      ],
      "metadata": {
        "id": "NA5gYOGtIOok"
      }
    },
    {
      "cell_type": "code",
      "source": [
        " a = torch.randn(1,3,3)\n",
        " print(a)\n",
        " b = torch.randn(1,3,3)\n",
        " print(b)\n",
        " c = torch.cat((a,b), dim=0)\n",
        " print(c)\n",
        " print(c.size())"
      ],
      "metadata": {
        "colab": {
          "base_uri": "https://localhost:8080/"
        },
        "id": "33z-5ALFHjt3",
        "outputId": "4d95f189-ea08-417e-cec3-ec3b4508722a"
      },
      "execution_count": 46,
      "outputs": [
        {
          "output_type": "stream",
          "name": "stdout",
          "text": [
            "tensor([[[-0.5973, -0.6293,  0.3976],\n",
            "         [-0.0036,  0.8536, -0.4443],\n",
            "         [ 0.1332, -0.9899,  0.0191]]])\n",
            "tensor([[[-1.3493, -1.5873,  0.2800],\n",
            "         [-0.8511, -0.6022, -0.2234],\n",
            "         [-1.0420,  0.6627, -0.8255]]])\n",
            "tensor([[[-0.5973, -0.6293,  0.3976],\n",
            "         [-0.0036,  0.8536, -0.4443],\n",
            "         [ 0.1332, -0.9899,  0.0191]],\n",
            "\n",
            "        [[-1.3493, -1.5873,  0.2800],\n",
            "         [-0.8511, -0.6022, -0.2234],\n",
            "         [-1.0420,  0.6627, -0.8255]]])\n",
            "torch.Size([2, 3, 3])\n"
          ]
        }
      ]
    },
    {
      "cell_type": "code",
      "source": [
        "#[1,6,3]\n",
        "\n",
        "c = torch.cat((a,b), dim=1)\n",
        "print(c)\n",
        "print(c.size())\n"
      ],
      "metadata": {
        "colab": {
          "base_uri": "https://localhost:8080/"
        },
        "id": "9o_-MKivHjri",
        "outputId": "a4e57038-91d3-43af-80e4-729b7aade367"
      },
      "execution_count": 47,
      "outputs": [
        {
          "output_type": "stream",
          "name": "stdout",
          "text": [
            "tensor([[[-0.5973, -0.6293,  0.3976],\n",
            "         [-0.0036,  0.8536, -0.4443],\n",
            "         [ 0.1332, -0.9899,  0.0191],\n",
            "         [-1.3493, -1.5873,  0.2800],\n",
            "         [-0.8511, -0.6022, -0.2234],\n",
            "         [-1.0420,  0.6627, -0.8255]]])\n",
            "torch.Size([1, 6, 3])\n"
          ]
        }
      ]
    },
    {
      "cell_type": "code",
      "source": [
        "#chunk : 텐서를 여러 개로 나눌 때 사용(몇개로 나누는가?)\n",
        "tensor = torch.rand(3,6)\n",
        "print(tensor)\n",
        "\n",
        "t1, t2, t3 = torch.chunk(tensor, 3, dim=1)\n",
        "print(t1)\n",
        "print(t2)\n",
        "print(t3)"
      ],
      "metadata": {
        "colab": {
          "base_uri": "https://localhost:8080/"
        },
        "id": "8wfDQ0SHJEFB",
        "outputId": "ac177a22-0c01-4a48-eb3d-77b95a08a0cd"
      },
      "execution_count": 48,
      "outputs": [
        {
          "output_type": "stream",
          "name": "stdout",
          "text": [
            "tensor([[0.4732, 0.5656, 0.0467, 0.0471, 0.7765, 0.3981],\n",
            "        [0.5452, 0.1971, 0.3780, 0.7589, 0.2711, 0.2829],\n",
            "        [0.9666, 0.7961, 0.2960, 0.1146, 0.3987, 0.8407]])\n",
            "tensor([[0.4732, 0.5656],\n",
            "        [0.5452, 0.1971],\n",
            "        [0.9666, 0.7961]])\n",
            "tensor([[0.0467, 0.0471],\n",
            "        [0.3780, 0.7589],\n",
            "        [0.2960, 0.1146]])\n",
            "tensor([[0.7765, 0.3981],\n",
            "        [0.2711, 0.2829],\n",
            "        [0.3987, 0.8407]])\n"
          ]
        }
      ]
    },
    {
      "cell_type": "code",
      "source": [
        "# split : chunk와 동일한 기능이지만 조금 다름(텐서의 크기는 몇인가?)\n",
        "# torch.chunk(tensor, a, dim=b) tensor의 b차원텐서의 크기를 a로 정함 \n",
        "tensor = torch.rand(3,6)\n",
        "print(tensor)\n",
        "\n",
        "t1, t2, t3 = torch.split(tensor, 2, dim=1)\n",
        "print(t1)\n",
        "print(t2)\n",
        "print(t3)\n"
      ],
      "metadata": {
        "colab": {
          "base_uri": "https://localhost:8080/"
        },
        "id": "m1jX3283J7t6",
        "outputId": "9d335955-8395-4926-8056-2d02a016848d"
      },
      "execution_count": 49,
      "outputs": [
        {
          "output_type": "stream",
          "name": "stdout",
          "text": [
            "tensor([[0.8889, 0.8349, 0.5448, 0.4601, 0.2767, 0.4621],\n",
            "        [0.6859, 0.0010, 0.6749, 0.6510, 0.1274, 0.9931],\n",
            "        [0.1911, 0.3792, 0.6993, 0.9822, 0.8793, 0.9049]])\n",
            "tensor([[0.8889, 0.8349],\n",
            "        [0.6859, 0.0010],\n",
            "        [0.1911, 0.3792]])\n",
            "tensor([[0.5448, 0.4601],\n",
            "        [0.6749, 0.6510],\n",
            "        [0.6993, 0.9822]])\n",
            "tensor([[0.2767, 0.4621],\n",
            "        [0.1274, 0.9931],\n",
            "        [0.8793, 0.9049]])\n"
          ]
        }
      ]
    },
    {
      "cell_type": "markdown",
      "source": [
        "torch ↔️ numpy\n",
        "- Torch Tensor(텐서)를 NumPy array(배열)로 변환 가능\n",
        "  - `numpy()`\n",
        "  - `from_numpy()`\n",
        "- Tensor가 CPU상에 있다면 NumPy 배열은 메모리 공간을 공유하므로 하나가 변하면, 다른 하나도 변함\n"
      ],
      "metadata": {
        "id": "o-NGfGeHLQwf"
      }
    },
    {
      "cell_type": "code",
      "source": [
        "from torch.cuda import is_available\n",
        "device = torch.device('cuda' if torch.cuda. is_available() else 'cpu')\n",
        "print(device)"
      ],
      "metadata": {
        "colab": {
          "base_uri": "https://localhost:8080/"
        },
        "id": "WgasHU-qJ7nS",
        "outputId": "b2acd464-a700-4f6c-e7d3-f5c1653a5075"
      },
      "execution_count": 50,
      "outputs": [
        {
          "output_type": "stream",
          "name": "stdout",
          "text": [
            "cuda\n"
          ]
        }
      ]
    },
    {
      "cell_type": "code",
      "source": [
        "a = torch.ones(7)\n",
        "print(a)"
      ],
      "metadata": {
        "colab": {
          "base_uri": "https://localhost:8080/"
        },
        "id": "95yZFA15J7kj",
        "outputId": "720a37ed-9ae2-4368-ea42-1d8cadcb5cb1"
      },
      "execution_count": 51,
      "outputs": [
        {
          "output_type": "stream",
          "name": "stdout",
          "text": [
            "tensor([1., 1., 1., 1., 1., 1., 1.])\n"
          ]
        }
      ]
    },
    {
      "cell_type": "code",
      "source": [
        "print(a.to('cpu',torch.double))\n",
        "print(a)"
      ],
      "metadata": {
        "colab": {
          "base_uri": "https://localhost:8080/"
        },
        "id": "9xAjsWVzJ7h8",
        "outputId": "b33d8955-8d47-4a44-855e-9472f398aad6"
      },
      "execution_count": 52,
      "outputs": [
        {
          "output_type": "stream",
          "name": "stdout",
          "text": [
            "tensor([1., 1., 1., 1., 1., 1., 1.], dtype=torch.float64)\n",
            "tensor([1., 1., 1., 1., 1., 1., 1.])\n"
          ]
        }
      ]
    },
    {
      "cell_type": "code",
      "source": [
        "b = a.numpy()\n",
        "print(b)"
      ],
      "metadata": {
        "colab": {
          "base_uri": "https://localhost:8080/"
        },
        "id": "THKTzQgWM08x",
        "outputId": "7f6d0af3-958f-4250-e019-8d64e1274e6f"
      },
      "execution_count": 53,
      "outputs": [
        {
          "output_type": "stream",
          "name": "stdout",
          "text": [
            "[1. 1. 1. 1. 1. 1. 1.]\n"
          ]
        }
      ]
    },
    {
      "cell_type": "code",
      "source": [
        "a.add_(1)\n",
        "print(a)\n",
        "print(b)"
      ],
      "metadata": {
        "colab": {
          "base_uri": "https://localhost:8080/"
        },
        "id": "sK75ukQ8J7fN",
        "outputId": "99b93138-1fdd-46a2-8017-540a8c99abab"
      },
      "execution_count": 54,
      "outputs": [
        {
          "output_type": "stream",
          "name": "stdout",
          "text": [
            "tensor([2., 2., 2., 2., 2., 2., 2.])\n",
            "[2. 2. 2. 2. 2. 2. 2.]\n"
          ]
        }
      ]
    },
    {
      "cell_type": "code",
      "source": [
        "import numpy as np\n",
        "a = np.ones(7)\n",
        "b = torch.from_numpy(a)\n",
        "np.add(a,1,out=a)\n",
        "print(a)\n",
        "print(b) # cpu에서 메모리 공유"
      ],
      "metadata": {
        "colab": {
          "base_uri": "https://localhost:8080/"
        },
        "id": "r-NHW13aMuDG",
        "outputId": "39f2a90c-aba5-42c9-c86f-8e372a1c4c24"
      },
      "execution_count": 55,
      "outputs": [
        {
          "output_type": "stream",
          "name": "stdout",
          "text": [
            "[2. 2. 2. 2. 2. 2. 2.]\n",
            "tensor([2., 2., 2., 2., 2., 2., 2.], dtype=torch.float64)\n"
          ]
        }
      ]
    },
    {
      "cell_type": "markdown",
      "source": [
        "## Autograd(자동미분)\n",
        "\n",
        "- `torch.autograd` 패키지는 Tensor의 모든 연산에 대해 **자동 미분** 제공\n",
        "- 이는 코드를 어떻게 작성하여 실행하느냐에 따라 역전파가 정의된다는 뜻\n",
        "- `backprop`를 위해 미분값을 자동으로 계산\n"
      ],
      "metadata": {
        "id": "03Ky_HNxP4Bi"
      }
    },
    {
      "cell_type": "markdown",
      "source": [
        "https://tutorials.pytorch.kr/beginner/basics/autogradqs_tutorial.html\n"
      ],
      "metadata": {
        "id": "utt7Ed84QrAO"
      }
    },
    {
      "cell_type": "markdown",
      "source": [
        " - requires_grad 속성을 True로 설정하면 해당 텐서에서 이루어지는 모든 연산들을 추적하기 시작. \n",
        " - 기록을 추적하는 것을 중단하게 하려면 .detach()를 호출하여 연산 기록으로 부터 분리\n",
        " - grad_fn : 미분값을 계산한 함수에 대한 정보를 저장(어떤 함수에 대해서 backprop 했는지 확인)"
      ],
      "metadata": {
        "id": "tEAIoG9qR3Km"
      }
    },
    {
      "cell_type": "code",
      "source": [
        " a = torch.randn(3,3)\n",
        " a = a * 3\n",
        " print(a)\n",
        " print(a.requires_grad)"
      ],
      "metadata": {
        "colab": {
          "base_uri": "https://localhost:8080/"
        },
        "id": "mp9Hxdk7P3ul",
        "outputId": "f2fae902-8da2-4a6b-9a5f-24606000db32"
      },
      "execution_count": 56,
      "outputs": [
        {
          "output_type": "stream",
          "name": "stdout",
          "text": [
            "tensor([[ 0.9591,  2.3103,  0.6304],\n",
            "        [ 2.2641,  3.4275, -2.9484],\n",
            "        [-1.2331, -2.9616,  2.0550]])\n",
            "False\n"
          ]
        }
      ]
    },
    {
      "cell_type": "markdown",
      "source": [
        "requires_grad(...)는 기존 텐서의 requires_grad값을 바꿔치기(in-place)하여 결정"
      ],
      "metadata": {
        "id": "IXyeR3zcTYLE"
      }
    },
    {
      "cell_type": "code",
      "source": [
        "# in-place 방식으로 덴서의 값을 변경하는 연산 뒤에는 _가 붙음\n",
        "x = torch.rand(2,2)\n",
        "print(x)\n",
        "y = torch.rand(2,2)\n",
        "print(y)\n",
        "y.add_(x)\n",
        "print(y)"
      ],
      "metadata": {
        "colab": {
          "base_uri": "https://localhost:8080/"
        },
        "id": "YXvnb2eTT1rI",
        "outputId": "6578833f-d45a-43c0-f568-3aaadd868766"
      },
      "execution_count": 57,
      "outputs": [
        {
          "output_type": "stream",
          "name": "stdout",
          "text": [
            "tensor([[0.0720, 0.0286],\n",
            "        [0.1600, 0.2963]])\n",
            "tensor([[5.4758e-01, 8.9884e-05],\n",
            "        [3.6721e-01, 2.0930e-01]])\n",
            "tensor([[0.6196, 0.0287],\n",
            "        [0.5272, 0.5056]])\n"
          ]
        }
      ]
    },
    {
      "cell_type": "code",
      "source": [
        "a.requires_grad_(True) #를 사용하면 inplace연산 \n",
        "print(a.requires_grad)\n",
        "b =(a * a).sum()\n",
        "print(b)\n",
        "print(b.grad_fn)"
      ],
      "metadata": {
        "colab": {
          "base_uri": "https://localhost:8080/"
        },
        "id": "WZa8OXibMuAx",
        "outputId": "a714dd56-de24-42f9-d4ba-75b21c337a98"
      },
      "execution_count": 58,
      "outputs": [
        {
          "output_type": "stream",
          "name": "stdout",
          "text": [
            "True\n",
            "tensor(46.7367, grad_fn=<SumBackward0>)\n",
            "<SumBackward0 object at 0x7f3e0cb19110>\n"
          ]
        }
      ]
    },
    {
      "cell_type": "code",
      "source": [
        "# 기울기(Gradient)\n",
        "x = torch.ones(3,3,requires_grad=True)\n",
        "print(x)"
      ],
      "metadata": {
        "colab": {
          "base_uri": "https://localhost:8080/"
        },
        "id": "Ajw-AgjYSLas",
        "outputId": "c86a4ad3-d723-45f8-dc14-4f664ddd4579"
      },
      "execution_count": 59,
      "outputs": [
        {
          "output_type": "stream",
          "name": "stdout",
          "text": [
            "tensor([[1., 1., 1.],\n",
            "        [1., 1., 1.],\n",
            "        [1., 1., 1.]], requires_grad=True)\n"
          ]
        }
      ]
    },
    {
      "cell_type": "code",
      "source": [
        "y = x + 5\n",
        "print(y)"
      ],
      "metadata": {
        "colab": {
          "base_uri": "https://localhost:8080/"
        },
        "id": "ezwzG5gAMt9m",
        "outputId": "7060e4ba-4b43-44cd-c9ca-8df8313da62c"
      },
      "execution_count": 60,
      "outputs": [
        {
          "output_type": "stream",
          "name": "stdout",
          "text": [
            "tensor([[6., 6., 6.],\n",
            "        [6., 6., 6.],\n",
            "        [6., 6., 6.]], grad_fn=<AddBackward0>)\n"
          ]
        }
      ]
    },
    {
      "cell_type": "code",
      "source": [
        "z = y * y\n",
        "out = z.mean()\n",
        "print(z,out)"
      ],
      "metadata": {
        "colab": {
          "base_uri": "https://localhost:8080/"
        },
        "id": "SyVrolRuUp9U",
        "outputId": "ed0ab834-6ac2-4b3b-c9ae-d65c8c040470"
      },
      "execution_count": 61,
      "outputs": [
        {
          "output_type": "stream",
          "name": "stdout",
          "text": [
            "tensor([[36., 36., 36.],\n",
            "        [36., 36., 36.],\n",
            "        [36., 36., 36.]], grad_fn=<MulBackward0>) tensor(36., grad_fn=<MeanBackward0>)\n"
          ]
        }
      ]
    },
    {
      "cell_type": "code",
      "source": [
        "print(out)\n",
        "out.backward() # backward를 통해서 역전파 계산이 가능"
      ],
      "metadata": {
        "colab": {
          "base_uri": "https://localhost:8080/"
        },
        "id": "a9o6VDFHU548",
        "outputId": "8dea2704-4879-477e-fa99-c6db2ac973f3"
      },
      "execution_count": 62,
      "outputs": [
        {
          "output_type": "stream",
          "name": "stdout",
          "text": [
            "tensor(36., grad_fn=<MeanBackward0>)\n"
          ]
        }
      ]
    },
    {
      "cell_type": "code",
      "source": [
        "# grad : data가 거쳐온 layer에 대한 미분값 저장\n",
        "print(x)\n",
        "print(x.grad) # 미분값"
      ],
      "metadata": {
        "colab": {
          "base_uri": "https://localhost:8080/"
        },
        "id": "r8NyAZiYU504",
        "outputId": "aedeaf41-390b-4cf5-cb51-48fb3794c044"
      },
      "execution_count": 63,
      "outputs": [
        {
          "output_type": "stream",
          "name": "stdout",
          "text": [
            "tensor([[1., 1., 1.],\n",
            "        [1., 1., 1.],\n",
            "        [1., 1., 1.]], requires_grad=True)\n",
            "tensor([[1.3333, 1.3333, 1.3333],\n",
            "        [1.3333, 1.3333, 1.3333],\n",
            "        [1.3333, 1.3333, 1.3333]])\n"
          ]
        }
      ]
    },
    {
      "cell_type": "markdown",
      "source": [
        "`with torch.no_grad()`를 사용하여 기울기의 업데이트를 하지 않음\n",
        "\n",
        "기록을 추적하는 것을 방지하기 위해 코드 블럭을 `with torch.no_grad()`로 감싸면 기울기 계산은 필요없지만, `requires_grad=True`로 설정되어 학습 가능한 매개변수를 갖는 모델을 평가(evaluate)할 때 유용\n"
      ],
      "metadata": {
        "id": "MducewcDWYQn"
      }
    },
    {
      "cell_type": "code",
      "source": [
        "print(x.requires_grad)\n",
        "print((x**2).requires_grad)\n",
        "\n",
        "with torch.no_grad():\n",
        "  print((x**2).requires_grad)"
      ],
      "metadata": {
        "colab": {
          "base_uri": "https://localhost:8080/"
        },
        "id": "wiNPB75-WMr_",
        "outputId": "49f0342a-81b0-4ca9-d68b-5c3a971fb913"
      },
      "execution_count": 64,
      "outputs": [
        {
          "output_type": "stream",
          "name": "stdout",
          "text": [
            "True\n",
            "True\n",
            "False\n"
          ]
        }
      ]
    },
    {
      "cell_type": "code",
      "source": [
        "# detach()\n",
        "print(x.requires_grad)\n",
        "y = x.detach()\n",
        "print(y.requires_grad)"
      ],
      "metadata": {
        "colab": {
          "base_uri": "https://localhost:8080/"
        },
        "id": "zVQ5GZGXXCkJ",
        "outputId": "2eb7e088-6e2e-47d8-b9f1-2e5e1f1c5548"
      },
      "execution_count": 65,
      "outputs": [
        {
          "output_type": "stream",
          "name": "stdout",
          "text": [
            "True\n",
            "False\n"
          ]
        }
      ]
    },
    {
      "cell_type": "markdown",
      "source": [
        "### 자동 미분 흐름 예제\n",
        "\n",
        "- 계산 흐름 $a \\rightarrow b  \\rightarrow c  \\rightarrow out $\n",
        "\n",
        "## $\\quad \\frac{\\partial out}{\\partial a} = ?$\n",
        "- `backward()`를 통해 $a \\leftarrow b  \\leftarrow c  \\leftarrow out $을 계산하면 $\\frac{\\partial out}{\\partial a}$값이 `a.grad`에 채워짐\n"
      ],
      "metadata": {
        "id": "fQiXX0suXeMf"
      }
    },
    {
      "cell_type": "code",
      "source": [
        "a = torch.ones(2,2)\n",
        "print(a)"
      ],
      "metadata": {
        "colab": {
          "base_uri": "https://localhost:8080/"
        },
        "id": "Jv151LFoXd1F",
        "outputId": "5cb947b5-416d-40f1-ac3e-3234f900ccfd"
      },
      "execution_count": 66,
      "outputs": [
        {
          "output_type": "stream",
          "name": "stdout",
          "text": [
            "tensor([[1., 1.],\n",
            "        [1., 1.]])\n"
          ]
        }
      ]
    },
    {
      "cell_type": "code",
      "source": [
        "a = torch.ones(2,2,requires_grad=True)\n",
        "print(a)"
      ],
      "metadata": {
        "colab": {
          "base_uri": "https://localhost:8080/"
        },
        "id": "TKiuhK1DZ7vS",
        "outputId": "0aa4adc4-2a7b-4537-8e6e-a668c473bdca"
      },
      "execution_count": 67,
      "outputs": [
        {
          "output_type": "stream",
          "name": "stdout",
          "text": [
            "tensor([[1., 1.],\n",
            "        [1., 1.]], requires_grad=True)\n"
          ]
        }
      ]
    },
    {
      "cell_type": "code",
      "source": [
        "print(a.data)\n",
        "print(a.grad) # grad: 미분값\n",
        "print(a.grad_fn)"
      ],
      "metadata": {
        "colab": {
          "base_uri": "https://localhost:8080/"
        },
        "id": "IKtVRIwqaLbn",
        "outputId": "c5c7cf6c-4568-4a81-b36e-01672b36f737"
      },
      "execution_count": 68,
      "outputs": [
        {
          "output_type": "stream",
          "name": "stdout",
          "text": [
            "tensor([[1., 1.],\n",
            "        [1., 1.]])\n",
            "None\n",
            "None\n"
          ]
        }
      ]
    },
    {
      "cell_type": "code",
      "source": [
        "b = a +2\n",
        "print(b)"
      ],
      "metadata": {
        "colab": {
          "base_uri": "https://localhost:8080/"
        },
        "id": "lFYo3gmxangt",
        "outputId": "d4964dab-352e-4490-a952-0edaec1f0c79"
      },
      "execution_count": 69,
      "outputs": [
        {
          "output_type": "stream",
          "name": "stdout",
          "text": [
            "tensor([[3., 3.],\n",
            "        [3., 3.]], grad_fn=<AddBackward0>)\n"
          ]
        }
      ]
    },
    {
      "cell_type": "code",
      "source": [
        "c = b ** 2\n",
        "print(c)"
      ],
      "metadata": {
        "colab": {
          "base_uri": "https://localhost:8080/"
        },
        "id": "mI_dpn-0anco",
        "outputId": "9fad6ed6-a577-41d6-9913-f773b4b83b6c"
      },
      "execution_count": 70,
      "outputs": [
        {
          "output_type": "stream",
          "name": "stdout",
          "text": [
            "tensor([[9., 9.],\n",
            "        [9., 9.]], grad_fn=<PowBackward0>)\n"
          ]
        }
      ]
    },
    {
      "cell_type": "code",
      "source": [
        "out = c.sum()\n",
        "print(out)"
      ],
      "metadata": {
        "colab": {
          "base_uri": "https://localhost:8080/"
        },
        "id": "X3GKGycNa3AO",
        "outputId": "948149f9-921a-43cf-c92c-c32a63ac66a2"
      },
      "execution_count": 71,
      "outputs": [
        {
          "output_type": "stream",
          "name": "stdout",
          "text": [
            "tensor(36., grad_fn=<SumBackward0>)\n"
          ]
        }
      ]
    },
    {
      "cell_type": "markdown",
      "source": [
        "## 데이터 준비\n",
        "\n",
        "파이토치에서는 데이터 준비를 위해 `torch.utils.data`의 `Dataset`과 `DataLoader` 사용 가능\n",
        "\n",
        "- `Dataset`에는 다양한 데이터셋이 존재 (MNIST, FashionMNIST, CIFAR10, ...)\n",
        "  - Vision Dataset: https://pytorch.org/vision/stable/datasets.html\n",
        "  - Text Dataset: https://pytorch.org/text/stable/datasets.html\n",
        "  - Audio Dataset: https://pytorch.org/audio/stable/datasets.html\n",
        "- `DataLoader`와 `Dataset`을 통해 `batch_size`, `train` 여부, `transform` 등을 인자로 넣어 데이터를 어떻게 load할 것인지 정해줄 수 있음\n"
      ],
      "metadata": {
        "id": "ZNnJlKpyfKe2"
      }
    },
    {
      "cell_type": "code",
      "source": [
        "from torch.utils.data import Dataset, DataLoader\n"
      ],
      "metadata": {
        "id": "iD650v9Sa28h"
      },
      "execution_count": 72,
      "outputs": []
    },
    {
      "cell_type": "markdown",
      "source": [
        "###토치비전(`torchvision`)은 파이토치에서 제공하는 데이터셋들이 모여있는 패키지\n",
        "\n",
        "- `transforms`: 전처리할 때 사용하는 메소드 (https://pytorch.org/docs/stable/torchvision/transforms.html)\n",
        "- `transforms`에서 제공하는 클래스 이외는 일반적으로 클래스를 따로 만들어 전처리 단계를 진행\n"
      ],
      "metadata": {
        "id": "L879TNxmfzG1"
      }
    },
    {
      "cell_type": "code",
      "source": [
        "import torchvision.transforms as transforms\n",
        "from torchvision import datasets"
      ],
      "metadata": {
        "id": "2NVVN2VLa_aS"
      },
      "execution_count": 73,
      "outputs": []
    },
    {
      "cell_type": "markdown",
      "source": [
        "###`DataLoader`의 인자로 들어갈 `transform`을 미리 정의할 수 있고, `Compose`를 통해 리스트 안에 순서대로 전처리 진행\n",
        "\n",
        "`ToTensor`()를 하는 이유는 `torchvision`이 PIL Image 형태로만 입력을 받기 때문에 데이터 처리를 위해서 Tensor형으로 변환 필요\n"
      ],
      "metadata": {
        "id": "57WtInzbg0Db"
      }
    },
    {
      "cell_type": "code",
      "source": [
        "mnist_transform = transforms.Compose([transforms.ToTensor(),\n",
        "                                       transforms.Normalize(mean=(0.5,),std=(1.0,))])\n"
      ],
      "metadata": {
        "id": "sBgN1R1la_XP"
      },
      "execution_count": 74,
      "outputs": []
    },
    {
      "cell_type": "code",
      "source": [
        "trainset = datasets.MNIST(root = '/content',\n",
        "                          train=True, download=True,\n",
        "                          transform=mnist_transform)\n",
        "testset = datasets.MNIST(root ='/content/',\n",
        "                         train=False, download=True,\n",
        "                         transform=mnist_transform)"
      ],
      "metadata": {
        "colab": {
          "base_uri": "https://localhost:8080/",
          "height": 437,
          "referenced_widgets": [
            "6eca4af2c85e4e1c9c86e7a22e52e0a2",
            "f2e71d9a5b5c437fa5afb7d1845019ea",
            "48695c8cbb154c6c89daa732ebc023bd",
            "85ecd40a71df45d8935ee8e626ee00f3",
            "b0a1b75add8347318584757e065b9097",
            "a91eddeee8d74594a54044c7a26d35f5",
            "f5ee9fb6963c43029c3f7c32222bdb82",
            "757a2a110d014fb09d4f0df56aef7a14",
            "e9821f8e0c084befbbf7a01799796647",
            "4ee18500c8c64e37808aae9f0d447f07",
            "4b76bdf2eb37455a9d91ecb1bddaee6d",
            "799bb3ac43854ce78d4b2cdf91124279",
            "9d39b49ce0bf4175a606192f27395bfc",
            "1f07c008471b45b9a646875501ad5a9c",
            "694d2236b4034517acdcdc8ea7dbb82c",
            "e06e3b7a25af4887b582d8aa629955d3",
            "051f8419577b4047bfcf487614ca3b94",
            "8419315d95c0441b89d40c4e8a590304",
            "52e7d500219945deaa3cd6b421e1cf2b",
            "67f9943b4d16443b82f2a254bc3d2435",
            "28cc9b0f5f454ee4a1273a2cf58f2d4a",
            "4f1d2d779ddc441ba53ed1f897c4a4fc",
            "5b67098f81c44911ae50fcea698e6c53",
            "795a9e155e154d76b2e95979d0d07c50",
            "9c4249d301e44ac58c1c5f10ab7fa5aa",
            "eddefceedb65405ab8d01148f80056e0",
            "e95ece3fb9124c9d9be91a7071b55e0f",
            "1a613798f43c46e5a61c02c006e7d8dd",
            "b1afb016d6c04046b3c02e21a6f7d99c",
            "2198c0095e964db4afc9dbbc600369a9",
            "9576fd6bd0f14c6ea962d79f93d58075",
            "e121d623fa40450d85f195361215fb83",
            "5ed0aaac32f24b29ad51f09a660accb3",
            "daec382fdfdc48d1abb10db632bcfa03",
            "fd92f5a47a8b4dddb608521f66c66b8e",
            "dee3c39da9874021ad8b8be5264d5a8b",
            "49ac0622e01e4bed8228fc5586e9b568",
            "7f9df6f73680426b8d0c7785843a4339",
            "a55911dda9af437488dcd9f132dfeec8",
            "ea4c678b71f548dc9b904c15d52b1b52",
            "81b95d5c971a475a815aa7032d931b92",
            "c989129401764b65bbe93244ee08980f",
            "0e3eab50d69a41a39e94b018b18ceb2d",
            "15b89fea21b64f8d885d90caceadd281"
          ]
        },
        "id": "TSY-zMiYa_Ue",
        "outputId": "61316fcb-b3d0-4bf5-e4cd-8bb6f6c318e4"
      },
      "execution_count": 75,
      "outputs": [
        {
          "output_type": "stream",
          "name": "stdout",
          "text": [
            "Downloading http://yann.lecun.com/exdb/mnist/train-images-idx3-ubyte.gz\n",
            "Downloading http://yann.lecun.com/exdb/mnist/train-images-idx3-ubyte.gz to /content/MNIST/raw/train-images-idx3-ubyte.gz\n"
          ]
        },
        {
          "output_type": "display_data",
          "data": {
            "text/plain": [
              "  0%|          | 0/9912422 [00:00<?, ?it/s]"
            ],
            "application/vnd.jupyter.widget-view+json": {
              "version_major": 2,
              "version_minor": 0,
              "model_id": "6eca4af2c85e4e1c9c86e7a22e52e0a2"
            }
          },
          "metadata": {}
        },
        {
          "output_type": "stream",
          "name": "stdout",
          "text": [
            "Extracting /content/MNIST/raw/train-images-idx3-ubyte.gz to /content/MNIST/raw\n",
            "\n",
            "Downloading http://yann.lecun.com/exdb/mnist/train-labels-idx1-ubyte.gz\n",
            "Downloading http://yann.lecun.com/exdb/mnist/train-labels-idx1-ubyte.gz to /content/MNIST/raw/train-labels-idx1-ubyte.gz\n"
          ]
        },
        {
          "output_type": "display_data",
          "data": {
            "text/plain": [
              "  0%|          | 0/28881 [00:00<?, ?it/s]"
            ],
            "application/vnd.jupyter.widget-view+json": {
              "version_major": 2,
              "version_minor": 0,
              "model_id": "799bb3ac43854ce78d4b2cdf91124279"
            }
          },
          "metadata": {}
        },
        {
          "output_type": "stream",
          "name": "stdout",
          "text": [
            "Extracting /content/MNIST/raw/train-labels-idx1-ubyte.gz to /content/MNIST/raw\n",
            "\n",
            "Downloading http://yann.lecun.com/exdb/mnist/t10k-images-idx3-ubyte.gz\n",
            "Downloading http://yann.lecun.com/exdb/mnist/t10k-images-idx3-ubyte.gz to /content/MNIST/raw/t10k-images-idx3-ubyte.gz\n"
          ]
        },
        {
          "output_type": "display_data",
          "data": {
            "text/plain": [
              "  0%|          | 0/1648877 [00:00<?, ?it/s]"
            ],
            "application/vnd.jupyter.widget-view+json": {
              "version_major": 2,
              "version_minor": 0,
              "model_id": "5b67098f81c44911ae50fcea698e6c53"
            }
          },
          "metadata": {}
        },
        {
          "output_type": "stream",
          "name": "stdout",
          "text": [
            "Extracting /content/MNIST/raw/t10k-images-idx3-ubyte.gz to /content/MNIST/raw\n",
            "\n",
            "Downloading http://yann.lecun.com/exdb/mnist/t10k-labels-idx1-ubyte.gz\n",
            "Downloading http://yann.lecun.com/exdb/mnist/t10k-labels-idx1-ubyte.gz to /content/MNIST/raw/t10k-labels-idx1-ubyte.gz\n"
          ]
        },
        {
          "output_type": "display_data",
          "data": {
            "text/plain": [
              "  0%|          | 0/4542 [00:00<?, ?it/s]"
            ],
            "application/vnd.jupyter.widget-view+json": {
              "version_major": 2,
              "version_minor": 0,
              "model_id": "daec382fdfdc48d1abb10db632bcfa03"
            }
          },
          "metadata": {}
        },
        {
          "output_type": "stream",
          "name": "stdout",
          "text": [
            "Extracting /content/MNIST/raw/t10k-labels-idx1-ubyte.gz to /content/MNIST/raw\n",
            "\n"
          ]
        }
      ]
    },
    {
      "cell_type": "code",
      "source": [
        "!ls ./MNIST/raw"
      ],
      "metadata": {
        "colab": {
          "base_uri": "https://localhost:8080/"
        },
        "id": "AmNSgIfBa_R7",
        "outputId": "c1bb4e53-48da-4355-a0aa-637f9fbaee9d"
      },
      "execution_count": 76,
      "outputs": [
        {
          "output_type": "stream",
          "name": "stdout",
          "text": [
            "t10k-images-idx3-ubyte\t   train-images-idx3-ubyte\n",
            "t10k-images-idx3-ubyte.gz  train-images-idx3-ubyte.gz\n",
            "t10k-labels-idx1-ubyte\t   train-labels-idx1-ubyte\n",
            "t10k-labels-idx1-ubyte.gz  train-labels-idx1-ubyte.gz\n"
          ]
        }
      ]
    },
    {
      "cell_type": "code",
      "source": [
        "# DataLoader는 데이터 전체를 보관했다가 실제 모델 학습을 할 때 batch_size 크기만큼 데이터를 가져옴\n",
        "train_loader = DataLoader(trainset, batch_size=8, shuffle=True, num_workers=2)\n",
        "test_loader = DataLoader(testset, batch_size=8, shuffle=True, num_workers=2)\n"
      ],
      "metadata": {
        "id": "lzUXCqJYiBsc"
      },
      "execution_count": 77,
      "outputs": []
    },
    {
      "cell_type": "code",
      "source": [
        "dataiter = iter(train_loader)\n",
        "images, labels = dataiter.next()\n",
        "images.shape, labels.shape"
      ],
      "metadata": {
        "colab": {
          "base_uri": "https://localhost:8080/"
        },
        "id": "WzI6vz3UiBp1",
        "outputId": "d2e601cf-e68d-4ca2-c481-8444db2c3d6d"
      },
      "execution_count": 78,
      "outputs": [
        {
          "output_type": "execute_result",
          "data": {
            "text/plain": [
              "(torch.Size([8, 1, 28, 28]), torch.Size([8]))"
            ]
          },
          "metadata": {},
          "execution_count": 78
        }
      ]
    },
    {
      "cell_type": "code",
      "source": [
        "torch_image = torch.squeeze(images[0])\n",
        "torch_image.shape"
      ],
      "metadata": {
        "colab": {
          "base_uri": "https://localhost:8080/"
        },
        "id": "jnB5HuBJiBm8",
        "outputId": "9acb4683-60ec-421f-857e-1a720ec23dbb"
      },
      "execution_count": 79,
      "outputs": [
        {
          "output_type": "execute_result",
          "data": {
            "text/plain": [
              "torch.Size([28, 28])"
            ]
          },
          "metadata": {},
          "execution_count": 79
        }
      ]
    },
    {
      "cell_type": "code",
      "source": [
        "import matplotlib.pyplot as plt\n",
        "figure=plt.figure(figsize=(12,6))\n",
        "cols,rows = 4,2\n",
        "for i in range(1,cols*rows+1):\n",
        "  sample_idx=torch.randint(len(trainset),size=(1,)).item()\n",
        "  img,label = trainset[sample_idx]\n",
        "  figure.add_subplot(rows,cols,i)\n",
        "  plt.title(label)\n",
        "  plt.axis('off')\n",
        "  plt.imshow(img.squeeze(),cmap='gray')\n",
        "plt.show()"
      ],
      "metadata": {
        "colab": {
          "base_uri": "https://localhost:8080/",
          "height": 370
        },
        "id": "bmGMQHbpjQZh",
        "outputId": "7708cc34-cba2-4d25-bbe9-c9ec5a431ece"
      },
      "execution_count": 80,
      "outputs": [
        {
          "output_type": "display_data",
          "data": {
            "text/plain": [
              "<Figure size 864x432 with 8 Axes>"
            ],
            "image/png": "[encoded data removed]"
          },
          "metadata": {
            "needs_background": "light"
          }
        }
      ]
    },
    {
      "cell_type": "markdown",
      "source": [
        "## 신경망 구성\n",
        "\n",
        "- 레이어(layer): 신경망의 핵심 데이터 구조로 하나 이상의 텐서를 입력받아 하나 이상의 텐서를 출력\n",
        "- 모듈(module): 한 개 이상의 계층이 모여서 구성\n",
        "- 모델(model): 한 개 이상의 모듈이 모여서 구성\n"
      ],
      "metadata": {
        "id": "aHHfkuNTM-yv"
      }
    },
    {
      "cell_type": "markdown",
      "source": [
        "### `torch.nn` 패키지\n",
        "\n",
        "주로 가중치(weights), 편향(bias)값들이 내부에서 자동으로 생성되는 레이어들을 사용할 때 사용 (`weight`값들을 직접 선언 안함)\n",
        "\n",
        "https://pytorch.org/docs/stable/nn.html\n"
      ],
      "metadata": {
        "id": "di60nhHUNmyr"
      }
    },
    {
      "cell_type": "code",
      "source": [
        "import torch.nn as nn"
      ],
      "metadata": {
        "id": "dQZkLfQiK-SI"
      },
      "execution_count": 81,
      "outputs": []
    },
    {
      "cell_type": "code",
      "source": [
        "input = torch.randn(128,20)\n",
        "print(input)"
      ],
      "metadata": {
        "colab": {
          "base_uri": "https://localhost:8080/"
        },
        "id": "J_vRqu7jOOFS",
        "outputId": "072c477d-cad4-4a0a-d023-02cda73f5ef6"
      },
      "execution_count": 82,
      "outputs": [
        {
          "output_type": "stream",
          "name": "stdout",
          "text": [
            "tensor([[-0.7029, -0.6906, -2.2677,  ..., -0.0923,  0.8021, -0.6185],\n",
            "        [ 0.3895,  0.5008,  0.9180,  ...,  0.3213, -1.3562,  0.9035],\n",
            "        [-0.8256, -0.6765,  1.0376,  ..., -1.2528, -1.1797,  0.4707],\n",
            "        ...,\n",
            "        [ 0.5882, -1.7715,  0.7128,  ..., -0.5367,  0.3444,  1.8323],\n",
            "        [ 1.6402,  0.9023, -0.6604,  ..., -1.1311, -1.0091, -0.9945],\n",
            "        [-0.6857, -0.8312, -1.0821,  ..., -0.3175,  1.0359, -0.7454]])\n"
          ]
        }
      ]
    },
    {
      "cell_type": "code",
      "source": [
        "m = nn.Linear(20,30)\n",
        "print(m)"
      ],
      "metadata": {
        "colab": {
          "base_uri": "https://localhost:8080/"
        },
        "id": "lkvjtyZtOaRz",
        "outputId": "6923b6f3-4fbe-42c3-c4be-7c4f41aaf473"
      },
      "execution_count": 83,
      "outputs": [
        {
          "output_type": "stream",
          "name": "stdout",
          "text": [
            "Linear(in_features=20, out_features=30, bias=True)\n"
          ]
        }
      ]
    },
    {
      "cell_type": "code",
      "source": [
        "output = m(input)\n",
        "print(output)\n",
        "print(output.size())"
      ],
      "metadata": {
        "colab": {
          "base_uri": "https://localhost:8080/"
        },
        "id": "ERRQR7NhOwC6",
        "outputId": "f3b1facd-8547-45a1-84ff-ccacce8d4519"
      },
      "execution_count": 84,
      "outputs": [
        {
          "output_type": "stream",
          "name": "stdout",
          "text": [
            "tensor([[-1.2127,  1.0865,  0.3646,  ..., -0.7237, -0.4960, -0.4313],\n",
            "        [-0.4788,  0.2425,  1.1504,  ..., -0.5292, -0.9401,  0.5370],\n",
            "        [ 0.5097,  0.0418,  0.3465,  ..., -0.2142, -0.0351,  0.5970],\n",
            "        ...,\n",
            "        [-0.2878,  0.9803, -0.2139,  ..., -0.1178,  0.2564, -0.6429],\n",
            "        [-0.2741,  0.1468, -0.0291,  ...,  0.5140,  0.8322,  0.5783],\n",
            "        [-1.6993,  0.9359, -0.8283,  ..., -0.4248, -0.4046,  0.0983]],\n",
            "       grad_fn=<AddmmBackward0>)\n",
            "torch.Size([128, 30])\n"
          ]
        }
      ]
    },
    {
      "cell_type": "code",
      "source": [
        "# 4차원 텐서\n",
        "input = torch.randn(20,16,50,100)\n",
        "print(input.size())"
      ],
      "metadata": {
        "colab": {
          "base_uri": "https://localhost:8080/"
        },
        "id": "ZGYgrewGPK0B",
        "outputId": "bf1b007d-54d5-432b-eb33-53f66c453bd2"
      },
      "execution_count": 85,
      "outputs": [
        {
          "output_type": "stream",
          "name": "stdout",
          "text": [
            "torch.Size([20, 16, 50, 100])\n"
          ]
        }
      ]
    },
    {
      "cell_type": "markdown",
      "source": [
        "### dilation\n",
        "\n",
        "https://gaussian37.github.io/dl-concept-covolution_operation/#dilation-%EC%9D%B4%EB%9E%80-1\n"
      ],
      "metadata": {
        "id": "jdF33OMqQZzb"
      }
    },
    {
      "cell_type": "code",
      "source": [
        "# kernal size(filtersize)\n",
        "# dilation은 한 픽셀에서 다른 픽셀 까지의 거리\n",
        "m = nn.Conv2d(16,33,3,stride=2)\n",
        "m = nn.Conv2d(16,33,(3,5),stride=(2,1),padding=(4,2))\n",
        "m = nn.Conv2d(16,33,(3,5),stride=(2,1),padding=(4,2),dilation=(3,1))\n",
        "print(m)"
      ],
      "metadata": {
        "colab": {
          "base_uri": "https://localhost:8080/"
        },
        "id": "JEpHzofdPKxG",
        "outputId": "8fe8a077-da51-402d-ce7a-4a8e914f58af"
      },
      "execution_count": 86,
      "outputs": [
        {
          "output_type": "stream",
          "name": "stdout",
          "text": [
            "Conv2d(16, 33, kernel_size=(3, 5), stride=(2, 1), padding=(4, 2), dilation=(3, 1))\n"
          ]
        }
      ]
    },
    {
      "cell_type": "code",
      "source": [
        "output = m(input)\n",
        "print(output.size())"
      ],
      "metadata": {
        "colab": {
          "base_uri": "https://localhost:8080/"
        },
        "id": "H0P074DEQIkB",
        "outputId": "5b1f56aa-2f64-497c-f665-051a2c97331e"
      },
      "execution_count": 87,
      "outputs": [
        {
          "output_type": "stream",
          "name": "stdout",
          "text": [
            "torch.Size([20, 33, 26, 100])\n"
          ]
        }
      ]
    },
    {
      "cell_type": "markdown",
      "source": [
        "### 컨볼루션 레이어(Convolution Layers)\n",
        "\n",
        "`nn.Conv2d` 예제\n",
        "\n",
        "- `in_channels`: channel의 갯수\n",
        "- `out_channels`: 출력 채널의 갯수\n",
        "- `kernel_size`: 커널(필터) 사이즈\n"
      ],
      "metadata": {
        "id": "y2pwYk7eRfhY"
      }
    },
    {
      "cell_type": "code",
      "source": [
        "nn.Conv2d(in_channels=1, out_channels=20, kernel_size=5 , stride=1)"
      ],
      "metadata": {
        "colab": {
          "base_uri": "https://localhost:8080/"
        },
        "id": "6VGvxkcrQIgd",
        "outputId": "17fcf335-279a-4862-886b-3c40742e8206"
      },
      "execution_count": 90,
      "outputs": [
        {
          "output_type": "execute_result",
          "data": {
            "text/plain": [
              "Conv2d(1, 20, kernel_size=(5, 5), stride=(1, 1))"
            ]
          },
          "metadata": {},
          "execution_count": 90
        }
      ]
    },
    {
      "cell_type": "code",
      "source": [
        "#cpu로 보내기\n",
        "layer = nn.Conv2d(1,50,5,1).to(torch.device('cpu'))\n",
        "layer"
      ],
      "metadata": {
        "colab": {
          "base_uri": "https://localhost:8080/"
        },
        "id": "tE9CR3q3QIdu",
        "outputId": "0cadaf80-637c-45bc-9b14-8576fd32f01d"
      },
      "execution_count": 91,
      "outputs": [
        {
          "output_type": "execute_result",
          "data": {
            "text/plain": [
              "Conv2d(1, 50, kernel_size=(5, 5), stride=(1, 1))"
            ]
          },
          "metadata": {},
          "execution_count": 91
        }
      ]
    },
    {
      "cell_type": "code",
      "source": [
        "# weight 확인\n",
        "weight = layer.weight\n",
        "weight.shape"
      ],
      "metadata": {
        "colab": {
          "base_uri": "https://localhost:8080/"
        },
        "id": "ovVGnTwWSM-y",
        "outputId": "9e1dbff8-bda2-435b-ab60-9786b815ad7b"
      },
      "execution_count": 92,
      "outputs": [
        {
          "output_type": "execute_result",
          "data": {
            "text/plain": [
              "torch.Size([50, 1, 5, 5])"
            ]
          },
          "metadata": {},
          "execution_count": 92
        }
      ]
    },
    {
      "cell_type": "code",
      "source": [
        "# weight는 detach()를 통해 꺼내주어야 numpy() 변환이 가능함\n",
        "weight = weight.detach()\n",
        "weight = weight.numpy()\n",
        "weight.shape"
      ],
      "metadata": {
        "colab": {
          "base_uri": "https://localhost:8080/"
        },
        "id": "Veeq8ZaQSM7L",
        "outputId": "dad9e9e5-9ead-45bd-f8d7-96f7b6f745a0"
      },
      "execution_count": 94,
      "outputs": [
        {
          "output_type": "execute_result",
          "data": {
            "text/plain": [
              "(50, 1, 5, 5)"
            ]
          },
          "metadata": {},
          "execution_count": 94
        }
      ]
    },
    {
      "cell_type": "code",
      "source": [
        "import matplotlib.pyplot as plt\n",
        "\n",
        "plt.imshow(weight[0,0,:,:],'jet')\n",
        "plt.colorbar()\n",
        "plt.show()"
      ],
      "metadata": {
        "colab": {
          "base_uri": "https://localhost:8080/",
          "height": 265
        },
        "id": "2YY6j5dYS4wV",
        "outputId": "ff2ec06f-521c-48cf-beb5-8211460d7bf6"
      },
      "execution_count": 97,
      "outputs": [
        {
          "output_type": "display_data",
          "data": {
            "text/plain": [
              "<Figure size 432x288 with 2 Axes>"
            ],
            "image/png": "[encoded data removed]"
          },
          "metadata": {
            "needs_background": "light"
          }
        }
      ]
    },
    {
      "cell_type": "code",
      "source": [
        "# mnist image\n",
        "print(images.shape)\n",
        "print(images[0].size())\n",
        "\n",
        "input_image = torch.squeeze(images[0])\n",
        "print(input_image.size())"
      ],
      "metadata": {
        "colab": {
          "base_uri": "https://localhost:8080/"
        },
        "id": "iWQ3PnE0Tao4",
        "outputId": "f75e8644-d524-40bb-f811-b8d915d93121"
      },
      "execution_count": 101,
      "outputs": [
        {
          "output_type": "stream",
          "name": "stdout",
          "text": [
            "torch.Size([8, 1, 28, 28])\n",
            "torch.Size([1, 28, 28])\n",
            "torch.Size([28, 28])\n"
          ]
        }
      ]
    },
    {
      "cell_type": "code",
      "source": [
        "input_data = torch.unsqueeze(images[0],dim=0)\n",
        "print(input_data.size())"
      ],
      "metadata": {
        "colab": {
          "base_uri": "https://localhost:8080/"
        },
        "id": "pkBX9wzUUPEK",
        "outputId": "87d5351a-3843-47cf-d82b-796f04aa50c8"
      },
      "execution_count": 102,
      "outputs": [
        {
          "output_type": "stream",
          "name": "stdout",
          "text": [
            "torch.Size([1, 1, 28, 28])\n"
          ]
        }
      ]
    },
    {
      "cell_type": "code",
      "source": [
        "output_data = layer(input_data)\n",
        "output = output_data.data\n",
        "output_arr = output.numpy()\n",
        "output_arr.shape"
      ],
      "metadata": {
        "colab": {
          "base_uri": "https://localhost:8080/"
        },
        "id": "Rm3jrN4NUPAX",
        "outputId": "e2ec3b2a-91d5-4b4e-df88-2566257ac17a"
      },
      "execution_count": 106,
      "outputs": [
        {
          "output_type": "execute_result",
          "data": {
            "text/plain": [
              "(1, 50, 24, 24)"
            ]
          },
          "metadata": {},
          "execution_count": 106
        }
      ]
    },
    {
      "cell_type": "code",
      "source": [
        "plt.figure(figsize=(15,30))\n",
        "plt.subplot(131)\n",
        "plt.title('input')\n",
        "plt.imshow(input_image, 'gray')\n",
        "\n",
        "plt.subplot(132)\n",
        "plt.title('Weight')\n",
        "plt.imshow(weight[0,0,:,:],'jet')\n",
        "\n",
        "plt.subplot(133)\n",
        "plt.title('Output')\n",
        "plt.imshow(output_arr[0,0,:,:],'gray')\n"
      ],
      "metadata": {
        "colab": {
          "base_uri": "https://localhost:8080/",
          "height": 328
        },
        "id": "WPvv0TOzUtTb",
        "outputId": "52dd458f-5964-4e5b-9a28-b32ab1c89e07"
      },
      "execution_count": 107,
      "outputs": [
        {
          "output_type": "execute_result",
          "data": {
            "text/plain": [
              "<matplotlib.image.AxesImage at 0x7f3dc28ef3d0>"
            ]
          },
          "metadata": {},
          "execution_count": 107
        },
        {
          "output_type": "display_data",
          "data": {
            "text/plain": [
              "<Figure size 1080x2160 with 3 Axes>"
            ],
            "image/png": "[encoded data removed]"
          },
          "metadata": {
            "needs_background": "light"
          }
        }
      ]
    },
    {
      "cell_type": "markdown",
      "source": [
        "### 풀링 레이어(Pooling layers)\n",
        "\n",
        "- `F.max_pool2d` \n",
        "  - `stride`\n",
        "  - `kernel_size`\n",
        "- `torch.nn.MaxPool2d` 도 많이 사용\n"
      ],
      "metadata": {
        "id": "64f-p00jZvtr"
      }
    },
    {
      "cell_type": "code",
      "source": [
        "import torch.nn.functional as F\n",
        "pool = F.max_pool2d(output,2,2)\n",
        "pool.shape"
      ],
      "metadata": {
        "colab": {
          "base_uri": "https://localhost:8080/"
        },
        "id": "hR2bUXFZY1Ru",
        "outputId": "a9e5f796-8aec-47ef-a349-3d42252705f8"
      },
      "execution_count": 108,
      "outputs": [
        {
          "output_type": "execute_result",
          "data": {
            "text/plain": [
              "torch.Size([1, 50, 12, 12])"
            ]
          },
          "metadata": {},
          "execution_count": 108
        }
      ]
    },
    {
      "cell_type": "code",
      "source": [
        "pool_arr = pool.numpy()\n",
        "pool_arr.shape"
      ],
      "metadata": {
        "colab": {
          "base_uri": "https://localhost:8080/"
        },
        "id": "vAk5DQiiaE-U",
        "outputId": "30dd9c16-b722-4f46-ee4e-1dd93e6983ae"
      },
      "execution_count": 110,
      "outputs": [
        {
          "output_type": "execute_result",
          "data": {
            "text/plain": [
              "(1, 50, 12, 12)"
            ]
          },
          "metadata": {},
          "execution_count": 110
        }
      ]
    },
    {
      "cell_type": "code",
      "source": [
        "plt.figure(figsize=(10,15))\n",
        "plt.subplot(121)\n",
        "plt.title('Input')\n",
        "plt.imshow(input_image, 'gray')\n",
        "\n",
        "plt.subplot(122)\n",
        "plt.title('Output')\n",
        "plt.imshow(pool_arr[0,0,:,:],'gray')"
      ],
      "metadata": {
        "colab": {
          "base_uri": "https://localhost:8080/",
          "height": 336
        },
        "id": "UKfn85vlaSN0",
        "outputId": "e61a4c2e-7317-471c-d045-619297c3ef68"
      },
      "execution_count": 113,
      "outputs": [
        {
          "output_type": "execute_result",
          "data": {
            "text/plain": [
              "<matplotlib.image.AxesImage at 0x7f3dc281b950>"
            ]
          },
          "metadata": {},
          "execution_count": 113
        },
        {
          "output_type": "display_data",
          "data": {
            "text/plain": [
              "<Figure size 720x1080 with 2 Axes>"
            ],
            "image/png": "[encoded data removed]"
          },
          "metadata": {
            "needs_background": "light"
          }
        }
      ]
    },
    {
      "cell_type": "code",
      "source": [
        "# 선형 레이어(Linear layer) : 1d만 가능하므로 .view()를 통해 1d로 펼쳐주어야 함\n",
        "flatten = input_image.view(1,28 * 28)\n",
        "flatten.shape"
      ],
      "metadata": {
        "colab": {
          "base_uri": "https://localhost:8080/"
        },
        "id": "41xygsbCavtO",
        "outputId": "1a8213e2-d2aa-4ff7-d3f6-ae8e2253cb48"
      },
      "execution_count": 114,
      "outputs": [
        {
          "output_type": "execute_result",
          "data": {
            "text/plain": [
              "torch.Size([1, 784])"
            ]
          },
          "metadata": {},
          "execution_count": 114
        }
      ]
    },
    {
      "cell_type": "code",
      "source": [
        "lin = nn.Linear(784,10)(flatten)\n",
        "lin.shape"
      ],
      "metadata": {
        "colab": {
          "base_uri": "https://localhost:8080/"
        },
        "id": "oX4TlbDbavr9",
        "outputId": "64376f16-1f76-4667-d38b-6f5746b2d48c"
      },
      "execution_count": 115,
      "outputs": [
        {
          "output_type": "execute_result",
          "data": {
            "text/plain": [
              "torch.Size([1, 10])"
            ]
          },
          "metadata": {},
          "execution_count": 115
        }
      ]
    },
    {
      "cell_type": "code",
      "source": [
        "lin"
      ],
      "metadata": {
        "colab": {
          "base_uri": "https://localhost:8080/"
        },
        "id": "9aMaroLBavoc",
        "outputId": "ffd15845-858c-453f-8c9f-c6b38689373f"
      },
      "execution_count": 116,
      "outputs": [
        {
          "output_type": "execute_result",
          "data": {
            "text/plain": [
              "tensor([[ 0.0664, -0.2274,  0.0286,  0.4669, -0.4865, -0.2670,  0.2065, -0.4819,\n",
              "         -0.2106, -0.7268]], grad_fn=<AddmmBackward0>)"
            ]
          },
          "metadata": {},
          "execution_count": 116
        }
      ]
    },
    {
      "cell_type": "code",
      "source": [
        "plt.imshow(lin.detach().numpy(),'jet')\n",
        "plt.colorbar()\n",
        "plt.show()"
      ],
      "metadata": {
        "colab": {
          "base_uri": "https://localhost:8080/",
          "height": 248
        },
        "id": "O7SWlaFPbayd",
        "outputId": "7f9891fb-c24f-4f2a-bb28-26c3c7f45bc2"
      },
      "execution_count": 117,
      "outputs": [
        {
          "output_type": "display_data",
          "data": {
            "text/plain": [
              "<Figure size 432x288 with 2 Axes>"
            ],
            "image/png": "[encoded data removed]"
          },
          "metadata": {
            "needs_background": "light"
          }
        }
      ]
    },
    {
      "cell_type": "code",
      "source": [
        "# 비선형 활성화(Non-Linear Activation)\n",
        "with torch.no_grad():\n",
        "  flatten = input_image.view(1,28 * 28)\n",
        "  lin = nn.Linear(784,10)(flatten)\n",
        "  softmax = F.softmax(lin,dim=1)\n",
        "\n",
        "softmax"
      ],
      "metadata": {
        "colab": {
          "base_uri": "https://localhost:8080/"
        },
        "id": "qivdzOufbs0c",
        "outputId": "ba486c79-6f57-48c9-ba80-c38ba5332e33"
      },
      "execution_count": 121,
      "outputs": [
        {
          "output_type": "execute_result",
          "data": {
            "text/plain": [
              "tensor([[0.0776, 0.0991, 0.1106, 0.0635, 0.0862, 0.1076, 0.0983, 0.1301, 0.1040,\n",
              "         0.1229]])"
            ]
          },
          "metadata": {},
          "execution_count": 121
        }
      ]
    },
    {
      "cell_type": "code",
      "source": [
        "import numpy as np\n",
        "np.sum(softmax.numpy())"
      ],
      "metadata": {
        "colab": {
          "base_uri": "https://localhost:8080/"
        },
        "id": "VvlUhZ9YcOpi",
        "outputId": "4442c1d1-908b-495e-c741-e12dfdb922fa"
      },
      "execution_count": 122,
      "outputs": [
        {
          "output_type": "execute_result",
          "data": {
            "text/plain": [
              "0.99999994"
            ]
          },
          "metadata": {},
          "execution_count": 122
        }
      ]
    },
    {
      "cell_type": "markdown",
      "source": [
        "# 선형 회귀 모델"
      ],
      "metadata": {
        "id": "_6lvgREOdBfR"
      }
    },
    {
      "cell_type": "markdown",
      "source": [
        "## 데이터 생성"
      ],
      "metadata": {
        "id": "SG9XBsEKj6Tj"
      }
    },
    {
      "cell_type": "code",
      "source": [
        "X = torch.randn(200,1)*10\n",
        "y = X + 3 * torch.randn(200,1)\n",
        "plt.scatter(X.numpy(),y.numpy())\n",
        "plt.ylabel('y')\n",
        "plt.xlabel('x')\n",
        "plt.show() "
      ],
      "metadata": {
        "colab": {
          "base_uri": "https://localhost:8080/",
          "height": 280
        },
        "id": "rfKQjrAFchHP",
        "outputId": "f16210ac-5f45-4c94-97be-b68e1d81f9b7"
      },
      "execution_count": 123,
      "outputs": [
        {
          "output_type": "display_data",
          "data": {
            "text/plain": [
              "<Figure size 432x288 with 1 Axes>"
            ],
            "image/png": "[encoded data removed]"
          },
          "metadata": {
            "needs_background": "light"
          }
        }
      ]
    },
    {
      "cell_type": "code",
      "source": [
        "class LinearRegressionModel(nn.Module):\n",
        "  def __init__(self):\n",
        "    super(LinearRegressionModel, self).__init__()\n",
        "    self.linear = nn.Linear(1,1)\n",
        "\n",
        "  def forward(self,x):\n",
        "    pred = self.linear(x)\n",
        "    return pred"
      ],
      "metadata": {
        "id": "rJxkeDEIdxDR"
      },
      "execution_count": 177,
      "outputs": []
    },
    {
      "cell_type": "code",
      "source": [
        "model = LinearRegressionModel()\n",
        "print(model)\n",
        "print(list(model.parameters()))"
      ],
      "metadata": {
        "colab": {
          "base_uri": "https://localhost:8080/"
        },
        "id": "-LbwldJ4dpH-",
        "outputId": "b35f56f4-9efd-409d-9359-a9e43be18e41"
      },
      "execution_count": 178,
      "outputs": [
        {
          "output_type": "stream",
          "name": "stdout",
          "text": [
            "LinearRegressionModel(\n",
            "  (linear): Linear(in_features=1, out_features=1, bias=True)\n",
            ")\n",
            "[Parameter containing:\n",
            "tensor([[0.9237]], requires_grad=True), Parameter containing:\n",
            "tensor([-0.7742], requires_grad=True)]\n"
          ]
        }
      ]
    },
    {
      "cell_type": "code",
      "source": [
        "import numpy as np\n",
        "w, b = model.parameters()\n",
        "w1, b1 = w[0][0].item(), b[0].item()\n",
        "x1 = np.array([-30,30]) \n",
        "y1 = w1 * x1 + b1\n",
        "\n",
        "plt.plot(x1,y1,'r')\n",
        "plt.scatter(X,y)\n",
        "plt.grid()\n",
        "plt.show()"
      ],
      "metadata": {
        "colab": {
          "base_uri": "https://localhost:8080/",
          "height": 266
        },
        "id": "oudVkn-FecsX",
        "outputId": "603af910-fe0d-4b91-d615-a796e6a65ec9"
      },
      "execution_count": 179,
      "outputs": [
        {
          "output_type": "display_data",
          "data": {
            "text/plain": [
              "<Figure size 432x288 with 1 Axes>"
            ],
            "image/png": "[encoded data removed]"
          },
          "metadata": {
            "needs_background": "light"
          }
        }
      ]
    },
    {
      "cell_type": "markdown",
      "source": [
        "## 손실 함수 및 옵티마이저"
      ],
      "metadata": {
        "id": "lW_LSF1MjtQi"
      }
    },
    {
      "cell_type": "code",
      "source": [
        "import torch.optim as optim\n",
        "criterion = nn.MSELoss()\n",
        "optimizer = optim.SGD(model.parameters(), lr=0.001)"
      ],
      "metadata": {
        "id": "zMADRoIEfQKE"
      },
      "execution_count": 181,
      "outputs": []
    },
    {
      "cell_type": "markdown",
      "source": [
        "## 모델 학습"
      ],
      "metadata": {
        "id": "EYfiW0Tcjxut"
      }
    },
    {
      "cell_type": "code",
      "source": [
        "epochs = 100\n",
        "losses = []\n",
        "\n",
        "for epoch in range(epochs):\n",
        "  optimizer.zero_grad()\n",
        "\n",
        "  y_pred = model(X)\n",
        "  loss = criterion(y_pred, y)\n",
        "  losses.append(loss.item())\n",
        "  loss.backward()  # 역전파 수행, 자동 미분 결과 업데이트\n",
        "\n",
        "  optimizer.step() # 옵티마이저 스탭을 다음으로 진행"
      ],
      "metadata": {
        "id": "K-ZhyL2zfpkO"
      },
      "execution_count": 182,
      "outputs": []
    },
    {
      "cell_type": "code",
      "source": [
        "plt.plot(range(epochs), losses)\n",
        "plt.ylabel('Loss')\n",
        "plt.xlabel('Epoch')\n",
        "plt.show"
      ],
      "metadata": {
        "colab": {
          "base_uri": "https://localhost:8080/",
          "height": 297
        },
        "id": "xWzqXpWfgRsm",
        "outputId": "e217fe53-59ce-4621-bfc5-494c04eb3cea"
      },
      "execution_count": 183,
      "outputs": [
        {
          "output_type": "execute_result",
          "data": {
            "text/plain": [
              "<function matplotlib.pyplot.show>"
            ]
          },
          "metadata": {},
          "execution_count": 183
        },
        {
          "output_type": "display_data",
          "data": {
            "text/plain": [
              "<Figure size 432x288 with 1 Axes>"
            ],
            "image/png": "[encoded data removed]"
          },
          "metadata": {
            "needs_background": "light"
          }
        }
      ]
    },
    {
      "cell_type": "code",
      "source": [
        "import numpy as np\n",
        "w, b = model.parameters()\n",
        "w1, b1 = w[0][0].item(), b[0].item()\n",
        "x1 = np.array([-30,30]) \n",
        "y1 = w1 * x1 + b1\n",
        "\n",
        "plt.plot(x1,y1,'r')\n",
        "plt.scatter(X,y)\n",
        "plt.grid()\n",
        "plt.show()"
      ],
      "metadata": {
        "colab": {
          "base_uri": "https://localhost:8080/",
          "height": 265
        },
        "id": "DxMcOes-gi-o",
        "outputId": "b0d15170-dc7e-41c5-8e30-48058d3f7f9a"
      },
      "execution_count": 184,
      "outputs": [
        {
          "output_type": "display_data",
          "data": {
            "text/plain": [
              "<Figure size 432x288 with 1 Axes>"
            ],
            "image/png": "[encoded data removed]"
          },
          "metadata": {
            "needs_background": "light"
          }
        }
      ]
    },
    {
      "cell_type": "markdown",
      "source": [
        "# FashionMNIST 분류모델"
      ],
      "metadata": {
        "id": "QQ7LwvZqg95H"
      }
    },
    {
      "cell_type": "markdown",
      "source": [
        "## 데이터 로드"
      ],
      "metadata": {
        "id": "TVazEjZgi4Ys"
      }
    },
    {
      "cell_type": "code",
      "source": [
        "import torchvision \n",
        "from torch.utils.data import Dataset,DataLoader \n",
        "from torchvision import datasets\n",
        "import torchvision.transforms as transforms\n",
        "\n",
        "transform = transforms.Compose([transforms.ToTensor(),\n",
        "                                transforms.Normalize((0.5,),(0.5))])"
      ],
      "metadata": {
        "id": "v35v5IjZhDkF"
      },
      "execution_count": 135,
      "outputs": []
    },
    {
      "cell_type": "code",
      "source": [
        "trainset = datasets.FashionMNIST(root = '/content',\n",
        "                                train = True, download=True,\n",
        "                                transform=transform)\n",
        "testset = datasets.FashionMNIST(root = '/content',\n",
        "                                train = False, download=True,\n",
        "                                transform=transform)"
      ],
      "metadata": {
        "id": "iSTIOI1Jht0j"
      },
      "execution_count": 138,
      "outputs": []
    },
    {
      "cell_type": "code",
      "source": [
        "train_loader = DataLoader(trainset,batch_size=128, num_workers=2)\n",
        "test_loader = DataLoader(testset,batch_size=128, num_workers=2)"
      ],
      "metadata": {
        "id": "kyJfrkx4iIpi"
      },
      "execution_count": 139,
      "outputs": []
    },
    {
      "cell_type": "code",
      "source": [
        "# iter는 반복 가능한 객체에서 이터레이터를 반환하고 next함수는 이터레이터에서 값을 차례로 꺼내는 역할을 한다\n",
        "images, labels = next(iter(train_loader))\n",
        "images.shape, labels.shape"
      ],
      "metadata": {
        "colab": {
          "base_uri": "https://localhost:8080/"
        },
        "id": "NYaY8kN-iUAv",
        "outputId": "9090c5cf-9615-4ab0-bf69-14faa8be0afa"
      },
      "execution_count": 140,
      "outputs": [
        {
          "output_type": "execute_result",
          "data": {
            "text/plain": [
              "(torch.Size([128, 1, 28, 28]), torch.Size([128]))"
            ]
          },
          "metadata": {},
          "execution_count": 140
        }
      ]
    },
    {
      "cell_type": "code",
      "source": [
        "labels_map = {\n",
        "    0:'T-Shirt',\n",
        "    1:'Trouser',\n",
        "    2:'Pullover',\n",
        "    3:'Dress',\n",
        "    4:'Coat',\n",
        "    5:'Sandal',\n",
        "    6:'Shirt',\n",
        "    7:'Sneaker',\n",
        "    8:'Bag',\n",
        "    9:'Ankle Boot',\n",
        "\n",
        "}\n",
        "figure = plt.figure(figsize=(12,12))\n",
        "cols, rows = 4,4\n",
        "for i in range(1,cols * rows+1):\n",
        "  image = images[i].squeeze()\n",
        "  label_idx = labels[i].item()\n",
        "  label = labels_map[label_idx]\n",
        "\n",
        "  figure.add_subplot(rows,cols,i)\n",
        "  plt.title(label)\n",
        "  plt.axis('off')\n",
        "  plt.imshow(image,cmap='gray')\n",
        "plt.show()"
      ],
      "metadata": {
        "colab": {
          "base_uri": "https://localhost:8080/",
          "height": 699
        },
        "id": "W4g7jdpLiqSy",
        "outputId": "49310ff2-2a8a-49fe-92d9-eccd20152339"
      },
      "execution_count": 143,
      "outputs": [
        {
          "output_type": "display_data",
          "data": {
            "text/plain": [
              "<Figure size 864x864 with 16 Axes>"
            ],
            "image/png": "[encoded data removed]"
          },
          "metadata": {
            "needs_background": "light"
          }
        }
      ]
    },
    {
      "cell_type": "markdown",
      "source": [
        "### 모델 정의 및 파라미터"
      ],
      "metadata": {
        "id": "6PZtYW1Pmjaz"
      }
    },
    {
      "cell_type": "code",
      "source": [
        "from re import S\n",
        "import torch.nn.functional as F\n",
        "\n",
        "class NeuralNet(nn.Module):\n",
        "  def __init__(self):\n",
        "    super(NeuralNet, self).__init__()\n",
        "\n",
        "    self.conv1 = nn.Conv2d(1,6,3)\n",
        "    self.conv2 = nn.Conv2d(6,16,3)\n",
        "    self.fc1 = nn.Linear(16*5*5,120)\n",
        "    self.fc2 = nn.Linear(120,84)\n",
        "    self.fc3 = nn.Linear(84,10)\n",
        "\n",
        "  def forward(self,x):\n",
        "    x = F.max_pool2d(F.relu(self.conv1(x)), (2,2))\n",
        "    x = F.max_pool2d(F.relu(self.conv2(x)),2)\n",
        "    x = x.view(-1,self.num_flat_features(x))\n",
        "    x = F.relu(self.fc1(x))\n",
        "    x = F.relu(self.fc2(x))\n",
        "    x = self.fc3(x)\n",
        "    return x\n",
        "      \n",
        "  def num_flat_features(self,x):\n",
        "    size = x.size()[1:]\n",
        "    num_features = 1\n",
        "    for s in size:\n",
        "      num_features *= s\n",
        "\n",
        "    return num_features\n",
        "net = NeuralNet()\n",
        "print(net) "
      ],
      "metadata": {
        "colab": {
          "base_uri": "https://localhost:8080/"
        },
        "id": "uAcnoMpUmlgm",
        "outputId": "7f0b1070-01fb-4748-e106-8e27040bf815"
      },
      "execution_count": 153,
      "outputs": [
        {
          "output_type": "stream",
          "name": "stdout",
          "text": [
            "NeuralNet(\n",
            "  (conv1): Conv2d(1, 6, kernel_size=(3, 3), stride=(1, 1))\n",
            "  (conv2): Conv2d(6, 16, kernel_size=(3, 3), stride=(1, 1))\n",
            "  (fc1): Linear(in_features=400, out_features=120, bias=True)\n",
            "  (fc2): Linear(in_features=120, out_features=84, bias=True)\n",
            "  (fc3): Linear(in_features=84, out_features=10, bias=True)\n",
            ")\n"
          ]
        }
      ]
    },
    {
      "cell_type": "code",
      "source": [
        "params = list(net.parameters())\n",
        "print(len(params))\n",
        "print(params[0].size())"
      ],
      "metadata": {
        "colab": {
          "base_uri": "https://localhost:8080/"
        },
        "id": "i7FPEuNSojf6",
        "outputId": "045b32b7-1004-41d8-c8e5-bab8f67d2f7c"
      },
      "execution_count": 154,
      "outputs": [
        {
          "output_type": "stream",
          "name": "stdout",
          "text": [
            "10\n",
            "torch.Size([6, 1, 3, 3])\n"
          ]
        }
      ]
    },
    {
      "cell_type": "code",
      "source": [
        "input = torch.randn(1,1,28,28)\n",
        "out = net(input)\n",
        "print(out)"
      ],
      "metadata": {
        "colab": {
          "base_uri": "https://localhost:8080/"
        },
        "id": "4cgQtIkfpm6q",
        "outputId": "fdbac3f7-c062-4927-942b-3e7dcd3369a1"
      },
      "execution_count": 157,
      "outputs": [
        {
          "output_type": "stream",
          "name": "stdout",
          "text": [
            "tensor([[ 0.1637, -0.0884,  0.1232,  0.1331, -0.0238,  0.0566,  0.0826,  0.0810,\n",
            "          0.0442,  0.1333]], grad_fn=<AddmmBackward0>)\n"
          ]
        }
      ]
    },
    {
      "cell_type": "markdown",
      "source": [
        "### 손실함수와 옵티마이저"
      ],
      "metadata": {
        "id": "UW8Gnyx8mjYb"
      }
    },
    {
      "cell_type": "code",
      "source": [
        "criterion = nn.CrossEntropyLoss()\n",
        "optimizer = optim.SGD(net.parameters(), lr=0.001, momentum=0.9)\n"
      ],
      "metadata": {
        "id": "g_RjUDgtpxs9"
      },
      "execution_count": 158,
      "outputs": []
    },
    {
      "cell_type": "markdown",
      "source": [
        "### 모델학습"
      ],
      "metadata": {
        "id": "KjWziOgImjUo"
      }
    },
    {
      "cell_type": "code",
      "source": [
        "total_batch = len(train_loader)\n",
        "print(total_batch)"
      ],
      "metadata": {
        "colab": {
          "base_uri": "https://localhost:8080/"
        },
        "id": "hhlpc087qQG5",
        "outputId": "e638fc60-2bc7-4bb0-e026-7581c9f87107"
      },
      "execution_count": 159,
      "outputs": [
        {
          "output_type": "stream",
          "name": "stdout",
          "text": [
            "469\n"
          ]
        }
      ]
    },
    {
      "cell_type": "markdown",
      "source": [
        "zero_grad()\n",
        "\n",
        "보통 딥러닝에서는 미니배치+루프 조합을 사용해서 parameter들을 업데이트하는데,\n",
        "한 루프에서 업데이트를 위해 loss.backward()를 호출하면 각 파라미터들의 .grad 값에 변화도가 저장이 된다.\n",
        "\n",
        "이후 다음 루프에서 zero_grad()를 하지않고 역전파를 시키면 이전 루프에서 .grad에 저장된 값이 다음 루프의 업데이트에도 간섭을 해서 원하는 방향으로 학습이 안된다고 한다.\n",
        "\n",
        "따라서 루프가 한번 돌고나서 역전파를 하기전에 반드시 zero_grad()로 .grad 값들을 0으로 초기화시킨 후 학습을 진행해야 한다.\n"
      ],
      "metadata": {
        "id": "mjVk_rKqmSDO"
      }
    },
    {
      "cell_type": "code",
      "source": [
        "for epoch in range(10):\n",
        "  running_loss = 0.0 # 초기화\n",
        "\n",
        "  for i, data in enumerate(train_loader,0):\n",
        "    inputs, labels = data\n",
        "    optimizer.zero_grad()\n",
        "    outputs = net(inputs)\n",
        "    loss = criterion(outputs, labels)\n",
        "    loss.backward()\n",
        "    optimizer.step()\n",
        "\n",
        "    running_loss += loss.item()\n",
        "    if i % 100 ==99:\n",
        "      print('Epoch:{}, iter:{}, Loss:{}'.format(epoch+1, i+1, running_loss/20000))\n",
        "      running_loss = 0.0\n",
        "      "
      ],
      "metadata": {
        "colab": {
          "base_uri": "https://localhost:8080/"
        },
        "id": "l7lCJU-Zqh6G",
        "outputId": "60d223a6-09bb-4bf6-b9f9-78d02ea462c8"
      },
      "execution_count": 160,
      "outputs": [
        {
          "output_type": "stream",
          "name": "stdout",
          "text": [
            "Epoch:1, iter:100, Loss:0.011515939974784851\n",
            "Epoch:1, iter:200, Loss:0.011473420178890229\n",
            "Epoch:1, iter:300, Loss:0.01141892727613449\n",
            "Epoch:1, iter:400, Loss:0.011316385662555694\n",
            "Epoch:2, iter:100, Loss:0.010392659276723861\n",
            "Epoch:2, iter:200, Loss:0.008198815393447877\n",
            "Epoch:2, iter:300, Loss:0.005626836740970612\n",
            "Epoch:2, iter:400, Loss:0.004419202494621277\n",
            "Epoch:3, iter:100, Loss:0.003836798706650734\n",
            "Epoch:3, iter:200, Loss:0.0037391003340482712\n",
            "Epoch:3, iter:300, Loss:0.003629201835393906\n",
            "Epoch:3, iter:400, Loss:0.0034472730278968812\n",
            "Epoch:4, iter:100, Loss:0.0033600311383605004\n",
            "Epoch:4, iter:200, Loss:0.00338323305696249\n",
            "Epoch:4, iter:300, Loss:0.00332836326956749\n",
            "Epoch:4, iter:400, Loss:0.0031810392379760743\n",
            "Epoch:5, iter:100, Loss:0.0031343719020485877\n",
            "Epoch:5, iter:200, Loss:0.0031820054426789286\n",
            "Epoch:5, iter:300, Loss:0.0031269497618079184\n",
            "Epoch:5, iter:400, Loss:0.0029911467626690864\n",
            "Epoch:6, iter:100, Loss:0.0029601957961916925\n",
            "Epoch:6, iter:200, Loss:0.0030177262023091318\n",
            "Epoch:6, iter:300, Loss:0.002963088904321194\n",
            "Epoch:6, iter:400, Loss:0.002839832350611687\n",
            "Epoch:7, iter:100, Loss:0.002820807234942913\n",
            "Epoch:7, iter:200, Loss:0.0028742861345410348\n",
            "Epoch:7, iter:300, Loss:0.0028240124195814133\n",
            "Epoch:7, iter:400, Loss:0.002711822867393494\n",
            "Epoch:8, iter:100, Loss:0.002695978292822838\n",
            "Epoch:8, iter:200, Loss:0.0027481056690216066\n",
            "Epoch:8, iter:300, Loss:0.0026979978010058404\n",
            "Epoch:8, iter:400, Loss:0.002596446706354618\n",
            "Epoch:9, iter:100, Loss:0.0025867002546787264\n",
            "Epoch:9, iter:200, Loss:0.002634681276977062\n",
            "Epoch:9, iter:300, Loss:0.002587569186091423\n",
            "Epoch:9, iter:400, Loss:0.0024957507118582726\n",
            "Epoch:10, iter:100, Loss:0.002492172698676586\n",
            "Epoch:10, iter:200, Loss:0.0025334625750780106\n",
            "Epoch:10, iter:300, Loss:0.0024877442166209222\n",
            "Epoch:10, iter:400, Loss:0.002404851424694061\n"
          ]
        }
      ]
    },
    {
      "cell_type": "markdown",
      "source": [
        "### 모델의 저장 및 로드\n",
        "\n",
        "- `torch.save`: `net.state_dict()`를 저장\n",
        "- `torch.load`: `load_state_dict`로 모델을 로드\n"
      ],
      "metadata": {
        "id": "KvS1vlY2mWvK"
      }
    },
    {
      "cell_type": "code",
      "source": [
        "PATH = './fashion_mnist.pth'\n",
        "torch.save(net.state_dict(), PATH)"
      ],
      "metadata": {
        "id": "meJweey6sJX_"
      },
      "execution_count": 161,
      "outputs": []
    },
    {
      "cell_type": "code",
      "source": [
        "net = NeuralNet()\n",
        "net.load_state_dict(torch.load(PATH))"
      ],
      "metadata": {
        "colab": {
          "base_uri": "https://localhost:8080/"
        },
        "id": "JrcI7Dt2sawz",
        "outputId": "5de626cd-8f19-419d-b977-7297881d78af"
      },
      "execution_count": 162,
      "outputs": [
        {
          "output_type": "execute_result",
          "data": {
            "text/plain": [
              "<All keys matched successfully>"
            ]
          },
          "metadata": {},
          "execution_count": 162
        }
      ]
    },
    {
      "cell_type": "code",
      "source": [
        "net.parameters"
      ],
      "metadata": {
        "colab": {
          "base_uri": "https://localhost:8080/"
        },
        "id": "R10qgqm9sjb6",
        "outputId": "986825e7-6eee-4359-967d-f82e86b752db"
      },
      "execution_count": 163,
      "outputs": [
        {
          "output_type": "execute_result",
          "data": {
            "text/plain": [
              "<bound method Module.parameters of NeuralNet(\n",
              "  (conv1): Conv2d(1, 6, kernel_size=(3, 3), stride=(1, 1))\n",
              "  (conv2): Conv2d(6, 16, kernel_size=(3, 3), stride=(1, 1))\n",
              "  (fc1): Linear(in_features=400, out_features=120, bias=True)\n",
              "  (fc2): Linear(in_features=120, out_features=84, bias=True)\n",
              "  (fc3): Linear(in_features=84, out_features=10, bias=True)\n",
              ")>"
            ]
          },
          "metadata": {},
          "execution_count": 163
        }
      ]
    },
    {
      "cell_type": "markdown",
      "source": [
        "### 모델 테스트"
      ],
      "metadata": {
        "id": "MZLFgiSymguK"
      }
    },
    {
      "cell_type": "code",
      "source": [
        "def imshow(image):\n",
        "  image = image / 2 + 0.5\n",
        "  npimg = image.numpy()\n",
        "\n",
        "  fit = plt.figure(figsize=(16,8))\n",
        "  plt.imshow(np.transpose(npimg,(1,2,0))) #rgb를 gbr로 바꾼것\n",
        "  plt.show()"
      ],
      "metadata": {
        "id": "2B1C2j-esqzA"
      },
      "execution_count": 164,
      "outputs": []
    },
    {
      "cell_type": "code",
      "source": [
        "import torchvision\n",
        "\n",
        "dataiter = iter(test_loader)\n",
        "images, labels = dataiter.next()\n",
        "\n",
        "imshow(torchvision.utils.make_grid(images[:6]))\n"
      ],
      "metadata": {
        "colab": {
          "base_uri": "https://localhost:8080/",
          "height": 206
        },
        "id": "5MrZRxOTtFEZ",
        "outputId": "0e4c51c8-e9dc-43cc-e827-a25e3e065792"
      },
      "execution_count": 165,
      "outputs": [
        {
          "output_type": "display_data",
          "data": {
            "text/plain": [
              "<Figure size 1152x576 with 1 Axes>"
            ],
            "image/png": "[encoded data removed]"
          },
          "metadata": {
            "needs_background": "light"
          }
        }
      ]
    },
    {
      "cell_type": "code",
      "source": [
        "outputs = net(images)\n",
        "_,predicted = torch.max(outputs,1)\n",
        "print(predicted)"
      ],
      "metadata": {
        "colab": {
          "base_uri": "https://localhost:8080/"
        },
        "id": "plZTNC0qtbre",
        "outputId": "01d6403e-532f-4951-d3a3-f722f2261582"
      },
      "execution_count": 166,
      "outputs": [
        {
          "output_type": "stream",
          "name": "stdout",
          "text": [
            "tensor([7, 2, 1, 1, 6, 1, 4, 6, 7, 7, 4, 5, 7, 3, 4, 1, 2, 6, 8, 0, 2, 7, 7, 5,\n",
            "        1, 2, 4, 0, 9, 4, 8, 8, 3, 3, 8, 0, 7, 5, 7, 9, 0, 1, 0, 9, 2, 7, 2, 1,\n",
            "        2, 2, 2, 2, 5, 6, 4, 2, 8, 4, 8, 0, 7, 7, 8, 5, 1, 1, 0, 4, 7, 8, 7, 0,\n",
            "        2, 0, 4, 3, 1, 2, 8, 4, 1, 8, 5, 9, 5, 0, 3, 2, 0, 2, 5, 3, 6, 7, 1, 8,\n",
            "        0, 1, 4, 2, 3, 4, 7, 2, 7, 8, 5, 7, 9, 4, 2, 5, 7, 0, 5, 2, 8, 4, 7, 8,\n",
            "        0, 0, 9, 9, 3, 0, 8, 4])\n"
          ]
        }
      ]
    },
    {
      "cell_type": "code",
      "source": [
        "print(''.join('{},'.format(labels_map[int(predicted[j].numpy())]) for j in range(6)))"
      ],
      "metadata": {
        "colab": {
          "base_uri": "https://localhost:8080/"
        },
        "id": "sMu2zcZetbn5",
        "outputId": "dae69fd4-05ff-4f85-a501-3a1ce2f15fda"
      },
      "execution_count": 167,
      "outputs": [
        {
          "output_type": "stream",
          "name": "stdout",
          "text": [
            "Sneaker,Pullover,Trouser,Trouser,Shirt,Trouser,\n"
          ]
        }
      ]
    },
    {
      "cell_type": "markdown",
      "source": [
        "### 평가점수"
      ],
      "metadata": {
        "id": "gjf7Tewgt3pb"
      }
    },
    {
      "cell_type": "code",
      "source": [
        "correct = 0\n",
        "total = 0\n",
        "\n",
        "with torch.no_grad():\n",
        "  for data in test_loader:\n",
        "    images, labels = data\n",
        "    outputs = net(images)\n",
        "    _,predicted = torch.max(outputs.data,1)\n",
        "    total += labels.size(0)\n",
        "    correct += (predicted == labels).sum().item()\n",
        "print(100*correct/total)"
      ],
      "metadata": {
        "colab": {
          "base_uri": "https://localhost:8080/"
        },
        "id": "Wk0BPouLtblw",
        "outputId": "f3ce6dde-c771-473f-c81c-eab245de7e56"
      },
      "execution_count": 168,
      "outputs": [
        {
          "output_type": "stream",
          "name": "stdout",
          "text": [
            "79.8\n"
          ]
        }
      ]
    }
  ]
}