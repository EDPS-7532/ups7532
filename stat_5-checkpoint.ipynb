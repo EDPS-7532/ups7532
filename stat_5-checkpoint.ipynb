{
 "cells": [
  {
   "cell_type": "markdown",
   "id": "a91f30c6",
   "metadata": {},
   "source": [
    "#### 통계적 추정\n",
    "- 점추정\n",
    "  - 모평균이나 모분산 등의 모수를 하나의 수치로 추정\n",
    "  - 추정량의 기댓값이 추측하려는 모수가 되는 성질을 불편성이라고 하며, 불편성을 가진 추정량을 불편추정량이라고 한다.\n",
    "  - 표본평균이 모평균을 잘 추정할 수 있는 근거중 하나가 바로 이 불편성이다.\n",
    "  - 표본크기 n을 증가시키면 추측하기 원하는 모수에 수렴해 가는 성질을 일치성이라고 하며, 일치성을 지닌 추정량을 일치 추정량이라고 함\n",
    "  - 표본평균은 불편성과 일치성을 모두 가지고 있기 때문에 모평균을 잘 추정한다고 할 수 있다.\n",
    "  - 모분산의 불편 추정량이 되는 표본통계량은 불편분산이다.\n",
    "  - 불편분산은 표본분산에서 나누는 수 n-1로 하는 식으로 계산하며 표본분산은 $S^2$로 나타내지만 불편분산은 $s^2$으로 나타낸다.\n",
    "  \n",
    "- 구간추정\n",
    "  - 모분산을 알고 있는 경우의 모평균 구간추정\n",
    "  - 모분산을 알고 있는 경우의 모분산 구간추정\n",
    "  - 모분산을 알지 못하는 경우 모평균 구간추정\n",
    "  - 베르누이 분포의 모평균의 구간추정\n",
    "  - 포아송 분포의 모평균의 구간추정"
   ]
  },
  {
   "cell_type": "code",
   "execution_count": 2,
   "id": "436b812d",
   "metadata": {},
   "outputs": [],
   "source": [
    "import numpy as np\n",
    "import pandas as pd\n",
    "import matplotlib.pyplot as plt\n",
    "from scipy import stats\n"
   ]
  },
  {
   "cell_type": "code",
   "execution_count": 20,
   "id": "2b13df1d",
   "metadata": {},
   "outputs": [
    {
     "data": {
      "text/plain": [
       "array([13, 16,  1,  4,  4,  8, 10, 19,  5,  7])"
      ]
     },
     "execution_count": 20,
     "metadata": {},
     "output_type": "execute_result"
    }
   ],
   "source": [
    "np.random.seed(0)\n",
    "sample = np.random.randint(1,20,10)\n",
    "sample"
   ]
  },
  {
   "cell_type": "code",
   "execution_count": null,
   "id": "385265c1",
   "metadata": {},
   "outputs": [],
   "source": [
    "# [과제] 모평균과 모분산의 점추정 사례를 파이썬 코드로 수행하세요."
   ]
  },
  {
   "cell_type": "code",
   "execution_count": 22,
   "id": "632c9663",
   "metadata": {},
   "outputs": [
    {
     "name": "stdout",
     "output_type": "stream",
     "text": [
      "1번째 표준평균:13.000000\n",
      "2번째 표준평균:16.000000\n",
      "3번째 표준평균:1.000000\n",
      "4번째 표준평균:4.000000\n",
      "5번째 표준평균:4.000000\n"
     ]
    }
   ],
   "source": [
    "for i in range(5):\n",
    "    s_mean = np.mean(sample[i])\n",
    "    print(f'{i+1}번째 표준평균:{s_mean:3f}')"
   ]
  },
  {
   "cell_type": "code",
   "execution_count": 24,
   "id": "271c398b",
   "metadata": {},
   "outputs": [
    {
     "data": {
      "text/plain": [
       "8.7"
      ]
     },
     "execution_count": 24,
     "metadata": {},
     "output_type": "execute_result"
    }
   ],
   "source": [
    "sample_means = np.mean(sample)\n",
    "np.mean(sample_means)"
   ]
  },
  {
   "cell_type": "code",
   "execution_count": 31,
   "id": "8860062c",
   "metadata": {
    "scrolled": true
   },
   "outputs": [
    {
     "data": {
      "text/plain": [
       "8.990957"
      ]
     },
     "execution_count": 31,
     "metadata": {},
     "output_type": "execute_result"
    }
   ],
   "source": [
    "np.mean(np.random.choice(19,int(1e6)))"
   ]
  },
  {
   "cell_type": "code",
   "execution_count": 39,
   "id": "9fdc195f",
   "metadata": {},
   "outputs": [
    {
     "data": {
      "text/plain": [
       "array([45, 48, 65, 68, 68, 10, 84, 22, 37, 88, 71, 89, 89, 13, 59, 66, 40,\n",
       "       88, 47, 89])"
      ]
     },
     "execution_count": 39,
     "metadata": {},
     "output_type": "execute_result"
    }
   ],
   "source": [
    "np.random.seed(0)\n",
    "sample1 = np.random.randint(1,101,20)\n",
    "sample1"
   ]
  },
  {
   "cell_type": "code",
   "execution_count": 44,
   "id": "c6223d33",
   "metadata": {},
   "outputs": [
    {
     "name": "stdout",
     "output_type": "stream",
     "text": [
      "1번째 표본분산: 0.000\n",
      "2번째 표본분산: 0.000\n",
      "3번째 표본분산: 0.000\n",
      "4번째 표본분산: 0.000\n",
      "5번째 표본분산: 0.000\n"
     ]
    }
   ],
   "source": [
    "for i in range(5):\n",
    "    s_var = np.var(sample1[i])\n",
    "    print(f'{i+1}번째 표본분산: {s_var:.3f}')"
   ]
  },
  {
   "cell_type": "code",
   "execution_count": 43,
   "id": "ba501cdb",
   "metadata": {},
   "outputs": [
    {
     "data": {
      "text/plain": [
       "629.41"
      ]
     },
     "execution_count": 43,
     "metadata": {},
     "output_type": "execute_result"
    }
   ],
   "source": [
    "sample1_vars = np.var(sample1)\n",
    "np.mean(sample1_vars)"
   ]
  },
  {
   "cell_type": "code",
   "execution_count": 45,
   "id": "963bdb93",
   "metadata": {},
   "outputs": [
    {
     "data": {
      "text/plain": [
       "59.3"
      ]
     },
     "execution_count": 45,
     "metadata": {},
     "output_type": "execute_result"
    }
   ],
   "source": [
    "s_mean = np.mean(sample1)\n",
    "s_mean"
   ]
  },
  {
   "cell_type": "code",
   "execution_count": null,
   "id": "8bd91359",
   "metadata": {},
   "outputs": [],
   "source": [
    "# [과제] 모분산을 알지 못할 때 정규분포의 모평균의 구간 추정을 파이썬 코드로 수행하세요."
   ]
  },
  {
   "cell_type": "code",
   "execution_count": 50,
   "id": "2dd22e84",
   "metadata": {},
   "outputs": [],
   "source": [
    "rv = stats.chi2(df=n-1)\n",
    "cnt = 0\n",
    "for sample in sample1:\n",
    "    u_var = np.var(sample1, ddof=1)\n",
    "    lcl = (n-1)*u_var/rv.isf(0.025)\n",
    "    ucl = (n-1)*u_var/rv.isf(0.975)\n"
   ]
  },
  {
   "cell_type": "code",
   "execution_count": 51,
   "id": "75c37ce2",
   "metadata": {},
   "outputs": [
    {
     "data": {
      "text/plain": [
       "(40.88686273117575, 77.71313726882424)"
      ]
     },
     "execution_count": 51,
     "metadata": {},
     "output_type": "execute_result"
    }
   ],
   "source": [
    "rv = stats.t(df=n-1)\n",
    "lcl = s_mean - rv.isf(0.025) * np.sqrt(u_var/n)\n",
    "ucl = s_mean - rv.isf(0.975) * np.sqrt(u_var/n)\n",
    "\n",
    "lcl,ucl"
   ]
  },
  {
   "cell_type": "code",
   "execution_count": null,
   "id": "5841f12f",
   "metadata": {},
   "outputs": [],
   "source": [
    "# [과제] 모집단에 정규분포를 가정할 수 없는 예를 포아송 분포로 설정하여 모평균 신뢰구간을 구하세요"
   ]
  },
  {
   "cell_type": "code",
   "execution_count": 55,
   "id": "992378f6",
   "metadata": {},
   "outputs": [
    {
     "data": {
      "text/plain": [
       "(43.346605389008594, 75.25339461099139)"
      ]
     },
     "execution_count": 55,
     "metadata": {},
     "output_type": "execute_result"
    }
   ],
   "source": [
    "rv = stats.norm()\n",
    "lcl = s_mean - rv.isf(0.025) * np.sqrt(u_var/n)\n",
    "ucl = s_mean - rv.isf(0.975) * np.sqrt(u_var/n)\n",
    "\n",
    "lcl,ucl"
   ]
  }
 ],
 "metadata": {
  "kernelspec": {
   "display_name": "Python 3 (ipykernel)",
   "language": "python",
   "name": "python3"
  },
  "language_info": {
   "codemirror_mode": {
    "name": "ipython",
    "version": 3
   },
   "file_extension": ".py",
   "mimetype": "text/x-python",
   "name": "python",
   "nbconvert_exporter": "python",
   "pygments_lexer": "ipython3",
   "version": "3.9.7"
  }
 },
 "nbformat": 4,
 "nbformat_minor": 5
}
