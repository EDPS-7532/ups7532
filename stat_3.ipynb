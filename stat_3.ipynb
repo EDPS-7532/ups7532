{
 "cells": [
  {
   "cell_type": "markdown",
   "id": "27349c1b",
   "metadata": {},
   "source": [
    "이산형 확률분포"
   ]
  },
  {
   "cell_type": "markdown",
   "id": "73160511",
   "metadata": {},
   "source": [
    "  - 확률변수 : 변수가 취할 수 있는 값과 그 값이 나오는 확률\n",
    "  - 확률분포 : 확률변수가 취할 수 있는 값, 그 확률의 구체적인 대응\n",
    "  - x_set : 확률변수가 취할 수 있는 값의 집합\n",
    "  - 확률함수 : 확률변수X가 x가 될때의 확률을 반환하는 함수\n",
    "  - 기댓값 : 확률변수의 평균\n",
    "  - 결합분포(결합확률분포) : 두개의 확률변수를 동시에 고려한 분포\n",
    " "
   ]
  },
  {
   "cell_type": "code",
   "execution_count": 199,
   "id": "b98845b7",
   "metadata": {},
   "outputs": [],
   "source": [
    "# 1차원 이산확률분포\n",
    "import numpy as np\n",
    "import matplotlib.pyplot as plt\n",
    "\n",
    "x_set = np.array([1,2,3,4,5,6])\n",
    "\n",
    "def f(x):\n",
    "    if x in x_set:\n",
    "        return x / 21\n",
    "    else:\n",
    "        return 0\n",
    "X = [x_set, f]"
   ]
  },
  {
   "cell_type": "code",
   "execution_count": 200,
   "id": "29c592d8",
   "metadata": {},
   "outputs": [
    {
     "name": "stdout",
     "output_type": "stream",
     "text": [
      "[0.04761905 0.0952381  0.14285714 0.19047619 0.23809524 0.28571429] \n",
      "\n"
     ]
    },
    {
     "data": {
      "text/plain": [
       "{1: 0.047619047619047616,\n",
       " 2: 0.09523809523809523,\n",
       " 3: 0.14285714285714285,\n",
       " 4: 0.19047619047619047,\n",
       " 5: 0.23809523809523808,\n",
       " 6: 0.2857142857142857}"
      ]
     },
     "execution_count": 200,
     "metadata": {},
     "output_type": "execute_result"
    }
   ],
   "source": [
    "prob = np.array([f(x_k) for x_k in x_set])\n",
    "print(prob,'\\n')\n",
    "dict(zip(x_set, prob))"
   ]
  },
  {
   "cell_type": "code",
   "execution_count": 201,
   "id": "9ab5f412",
   "metadata": {
    "scrolled": true
   },
   "outputs": [
    {
     "data": {
      "text/plain": [
       "<function matplotlib.pyplot.show(close=None, block=None)>"
      ]
     },
     "execution_count": 201,
     "metadata": {},
     "output_type": "execute_result"
    },
    {
     "data": {
      "image/png": "[encoded data removed]",
      "text/plain": [
       "<Figure size 720x432 with 1 Axes>"
      ]
     },
     "metadata": {
      "needs_background": "light"
     },
     "output_type": "display_data"
    }
   ],
   "source": [
    "fig = plt.figure(figsize=(10,6))\n",
    "ax = fig.add_subplot(111)\n",
    "ax.bar(x_set,prob, color='cornflowerblue')\n",
    "ax.set_xlabel('X')\n",
    "ax.set_ylabel('probability')\n",
    "plt.show"
   ]
  },
  {
   "cell_type": "code",
   "execution_count": 202,
   "id": "452dd5fd",
   "metadata": {},
   "outputs": [
    {
     "data": {
      "text/plain": [
       "Text(0.5, 1.0, 'Bar Graph')"
      ]
     },
     "execution_count": 202,
     "metadata": {},
     "output_type": "execute_result"
    },
    {
     "data": {
      "image/png": "[encoded data removed]",
      "text/plain": [
       "<Figure size 432x288 with 1 Axes>"
      ]
     },
     "metadata": {
      "needs_background": "light"
     },
     "output_type": "display_data"
    }
   ],
   "source": [
    "import warnings\n",
    "warnings.filterwarnings('ignore')\n",
    "import seaborn as sns\n",
    "sns.barplot(x_set,prob)\n",
    "plt.title('Bar Graph', fontsize=30)"
   ]
  },
  {
   "cell_type": "code",
   "execution_count": 203,
   "id": "ca6a7f53",
   "metadata": {},
   "outputs": [
    {
     "data": {
      "text/plain": [
       "True"
      ]
     },
     "execution_count": 203,
     "metadata": {},
     "output_type": "execute_result"
    }
   ],
   "source": [
    "np.all(prob>=0)"
   ]
  },
  {
   "cell_type": "code",
   "execution_count": 204,
   "id": "0fe67bf1",
   "metadata": {},
   "outputs": [
    {
     "data": {
      "text/plain": [
       "0.9999999999999999"
      ]
     },
     "execution_count": 204,
     "metadata": {},
     "output_type": "execute_result"
    }
   ],
   "source": [
    "np.sum(prob)"
   ]
  },
  {
   "cell_type": "code",
   "execution_count": 205,
   "id": "9817e188",
   "metadata": {},
   "outputs": [],
   "source": [
    "# 누적분포함수\n",
    "def F(x):\n",
    "    return np.sum([f(x_k) for x_k in x_set if x_k <= x])"
   ]
  },
  {
   "cell_type": "code",
   "execution_count": 206,
   "id": "ba7d2a61",
   "metadata": {},
   "outputs": [
    {
     "data": {
      "text/plain": [
       "0.9999999999999999"
      ]
     },
     "execution_count": 206,
     "metadata": {},
     "output_type": "execute_result"
    }
   ],
   "source": [
    "F(6)"
   ]
  },
  {
   "cell_type": "code",
   "execution_count": 207,
   "id": "168575d6",
   "metadata": {},
   "outputs": [
    {
     "data": {
      "text/plain": [
       "{5: 0.047619047619047616,\n",
       " 7: 0.09523809523809523,\n",
       " 9: 0.14285714285714285,\n",
       " 11: 0.19047619047619047,\n",
       " 13: 0.23809523809523808,\n",
       " 15: 0.2857142857142857}"
      ]
     },
     "execution_count": 207,
     "metadata": {},
     "output_type": "execute_result"
    }
   ],
   "source": [
    "# 확률변수의 변환: 확률변수 X에 2를 곱하고 3을 더한 2X + 3도 확률변수가 된다.\n",
    "y_set = np.array([2*x_k + 3 for x_k in x_set])\n",
    "prob = np.array([f(x_k) for x_k in x_set])\n",
    "dict(zip(y_set,prob))"
   ]
  },
  {
   "cell_type": "code",
   "execution_count": 208,
   "id": "7bc9dce2",
   "metadata": {},
   "outputs": [
    {
     "data": {
      "text/plain": [
       "4.333333333333333"
      ]
     },
     "execution_count": 208,
     "metadata": {},
     "output_type": "execute_result"
    }
   ],
   "source": [
    "# 1차원 이산형 확률변수의 지표\n",
    "# 평균 : 확률변수의 평균은 확률변수의 중심을 나타내는 지표가 되며, 기댓값이라고 부른다.\n",
    "np.sum([x_k*f(x_k) for x_k in x_set])"
   ]
  },
  {
   "cell_type": "code",
   "execution_count": 209,
   "id": "c2a7602b",
   "metadata": {},
   "outputs": [
    {
     "data": {
      "text/plain": [
       "4.332539"
      ]
     },
     "execution_count": 209,
     "metadata": {},
     "output_type": "execute_result"
    }
   ],
   "source": [
    "# 확률변수의 기댓값은 확률변수를 무제한 수행하여 얻은 실현값의 평균\n",
    "sample = np.random.choice(x_set, int(1e6), p=prob)\n",
    "np.mean(sample)"
   ]
  },
  {
   "cell_type": "code",
   "execution_count": 210,
   "id": "da229623",
   "metadata": {},
   "outputs": [],
   "source": [
    "# 일반화표현\n",
    "def E(X, g=lambda x:x):\n",
    "    x_set, f=X   # f= X 오른쪽에서 왼쪽으로 대입(확률변수=확률)  => f(x_k)는 i를 의미한다고 생각하면 됨.\n",
    "    return np.sum([g(x_k) * f(x_k) for x_k in x_set])"
   ]
  },
  {
   "cell_type": "code",
   "execution_count": 211,
   "id": "d5a43fa0",
   "metadata": {
    "scrolled": true
   },
   "outputs": [
    {
     "data": {
      "text/plain": [
       "4.333333333333333"
      ]
     },
     "execution_count": 211,
     "metadata": {},
     "output_type": "execute_result"
    }
   ],
   "source": [
    "E(X)"
   ]
  },
  {
   "cell_type": "code",
   "execution_count": 212,
   "id": "8c62b3b0",
   "metadata": {},
   "outputs": [
    {
     "data": {
      "text/plain": [
       "11.666666666666664"
      ]
     },
     "execution_count": 212,
     "metadata": {},
     "output_type": "execute_result"
    }
   ],
   "source": [
    "#변환을 할 경우의 기댓값\n",
    "E(X, g=lambda x:2*x+3)"
   ]
  },
  {
   "cell_type": "code",
   "execution_count": 213,
   "id": "7a9a272c",
   "metadata": {},
   "outputs": [
    {
     "data": {
      "text/plain": [
       "11.666666666666666"
      ]
     },
     "execution_count": 213,
     "metadata": {},
     "output_type": "execute_result"
    }
   ],
   "source": [
    "#기댓값의 선형성(선형성이란 비슷한 성질을 가진다는 의미이다.)\n",
    "2 * E(X) + 3"
   ]
  },
  {
   "cell_type": "code",
   "execution_count": 214,
   "id": "e1a8b90e",
   "metadata": {},
   "outputs": [
    {
     "data": {
      "text/plain": [
       "2.2222222222222223"
      ]
     },
     "execution_count": 214,
     "metadata": {},
     "output_type": "execute_result"
    }
   ],
   "source": [
    "# 분산\n",
    "mean = E(X)\n",
    "np.sum([(x_k-mean)**2 * f(x_k) for x_k in x_set])  #for문을 보다 간편하게 표현"
   ]
  },
  {
   "cell_type": "code",
   "execution_count": 215,
   "id": "ea2a1df0",
   "metadata": {},
   "outputs": [],
   "source": [
    "# 일반화\n",
    "def V(X, g=lambda x:x):\n",
    "    x_set, f=X\n",
    "    mean = E(X,g)\n",
    "    return np.sum([(g(x_k)-mean)**2*f(x_k) for x_k in x_set])"
   ]
  },
  {
   "cell_type": "code",
   "execution_count": 216,
   "id": "c3586303",
   "metadata": {},
   "outputs": [
    {
     "data": {
      "text/plain": [
       "2.2222222222222223"
      ]
     },
     "execution_count": 216,
     "metadata": {},
     "output_type": "execute_result"
    }
   ],
   "source": [
    "V(X)"
   ]
  },
  {
   "cell_type": "code",
   "execution_count": 217,
   "id": "f94ea4b9",
   "metadata": {},
   "outputs": [
    {
     "data": {
      "text/plain": [
       "8.88888888888889"
      ]
     },
     "execution_count": 217,
     "metadata": {},
     "output_type": "execute_result"
    }
   ],
   "source": [
    "V(X, lambda x : 2*x + 3)"
   ]
  },
  {
   "cell_type": "code",
   "execution_count": 218,
   "id": "d3666408",
   "metadata": {},
   "outputs": [
    {
     "data": {
      "text/plain": [
       "8.88888888888889"
      ]
     },
     "execution_count": 218,
     "metadata": {},
     "output_type": "execute_result"
    }
   ],
   "source": [
    "# 분산의 공식\n",
    "2**2*V(X)"
   ]
  },
  {
   "cell_type": "code",
   "execution_count": 219,
   "id": "ba3970df",
   "metadata": {},
   "outputs": [],
   "source": [
    "# 2차원 이산형 확률분포\n",
    "x_set = np.arange(2,13)\n",
    "y_set = np.arange(1,7)"
   ]
  },
  {
   "cell_type": "code",
   "execution_count": 220,
   "id": "a0715c40",
   "metadata": {},
   "outputs": [],
   "source": [
    "def f_XY(x,y):\n",
    "    if 1<= y <= 6 and 1<= x-y <=6:\n",
    "        return y * (x-y) / 441   # y: A(y의 눈금) , B(x-y의 값) =>p129~130참조 \n",
    "    else:\n",
    "        return 0"
   ]
  },
  {
   "cell_type": "code",
   "execution_count": 221,
   "id": "1a275db4",
   "metadata": {},
   "outputs": [],
   "source": [
    "XY= [x_set,y_set,f_XY]"
   ]
  },
  {
   "cell_type": "code",
   "execution_count": 222,
   "id": "f905bf2e",
   "metadata": {
    "scrolled": true
   },
   "outputs": [
    {
     "data": {
      "image/png": "[encoded data removed]",
      "text/plain": [
       "<Figure size 720x576 with 2 Axes>"
      ]
     },
     "metadata": {
      "needs_background": "light"
     },
     "output_type": "display_data"
    }
   ],
   "source": [
    "prob = np.array([[f_XY(x_i, y_j) for y_j in y_set]\n",
    "                 for x_i in x_set])\n",
    "\n",
    "fig = plt.figure(figsize=(10,8))\n",
    "ax =fig.add_subplot(111)\n",
    "\n",
    "c = ax.pcolor(prob)\n",
    "ax.set_xticks(np.arange(prob.shape[1]) + 0.5, minor=False)\n",
    "ax.set_yticks(np.arange(prob.shape[0]) + 0.5, minor=False)\n",
    "ax.set_xticklabels(np.arange(1,7), minor=False)\n",
    "ax.set_yticklabels(np.arange(2,13), minor=False)\n",
    "#y축을 내림차순의 숫자가 되게 하여, 위 아래를 역전시킨다.\n",
    "ax.invert_yaxis()\n",
    "#x축 눈금을 그래프 위쪽에 표시\n",
    "ax.xaxis.tick_top()\n",
    "fig.colorbar(c, ax=ax)\n",
    "plt.show()\n"
   ]
  },
  {
   "cell_type": "code",
   "execution_count": 223,
   "id": "05621507",
   "metadata": {
    "scrolled": false
   },
   "outputs": [
    {
     "data": {
      "text/plain": [
       "True"
      ]
     },
     "execution_count": 223,
     "metadata": {},
     "output_type": "execute_result"
    }
   ],
   "source": [
    "np.all(prob >=0)"
   ]
  },
  {
   "cell_type": "code",
   "execution_count": 224,
   "id": "8a9f858a",
   "metadata": {},
   "outputs": [
    {
     "data": {
      "text/plain": [
       "1.0"
      ]
     },
     "execution_count": 224,
     "metadata": {},
     "output_type": "execute_result"
    }
   ],
   "source": [
    "np.sum(prob)"
   ]
  },
  {
   "cell_type": "code",
   "execution_count": 225,
   "id": "ded2b870",
   "metadata": {},
   "outputs": [],
   "source": [
    "# 주변 확률 분포: 확률변수 (X,Y)는 결합확률분포에 의해 동시에 정의되지만 개별 확률변수에만 흥미가 있을 수 있다.\n",
    "# 확률변수 X만의 움직임, 즉 확률변수 X의 확률함수를 알고 싶은 상황"
   ]
  },
  {
   "cell_type": "code",
   "execution_count": 226,
   "id": "2b972736",
   "metadata": {},
   "outputs": [],
   "source": [
    "def f_X(x):\n",
    "    return np.sum([f_XY(x,y_k) for y_k in y_set])"
   ]
  },
  {
   "cell_type": "code",
   "execution_count": 227,
   "id": "c5f3fb59",
   "metadata": {},
   "outputs": [],
   "source": [
    "def f_Y(y):\n",
    "    return np.sum([f_XY(x_k,y) for x_k in x_set])"
   ]
  },
  {
   "cell_type": "code",
   "execution_count": 228,
   "id": "729940a3",
   "metadata": {},
   "outputs": [],
   "source": [
    "X = [x_set,f_X]\n",
    "Y = [y_set,f_Y]"
   ]
  },
  {
   "cell_type": "code",
   "execution_count": 229,
   "id": "0afea02e",
   "metadata": {},
   "outputs": [
    {
     "data": {
      "text/plain": [
       "[array([ 2,  3,  4,  5,  6,  7,  8,  9, 10, 11, 12]),\n",
       " <function __main__.f_X(x)>]"
      ]
     },
     "execution_count": 229,
     "metadata": {},
     "output_type": "execute_result"
    }
   ],
   "source": [
    "X"
   ]
  },
  {
   "cell_type": "code",
   "execution_count": 230,
   "id": "f95fb118",
   "metadata": {},
   "outputs": [
    {
     "data": {
      "text/plain": [
       "[array([1, 2, 3, 4, 5, 6]), <function __main__.f_Y(y)>]"
      ]
     },
     "execution_count": 230,
     "metadata": {},
     "output_type": "execute_result"
    }
   ],
   "source": [
    "Y"
   ]
  },
  {
   "cell_type": "code",
   "execution_count": 231,
   "id": "f2981739",
   "metadata": {},
   "outputs": [
    {
     "data": {
      "image/png": "[encoded data removed]",
      "text/plain": [
       "<Figure size 864x288 with 2 Axes>"
      ]
     },
     "metadata": {
      "needs_background": "light"
     },
     "output_type": "display_data"
    }
   ],
   "source": [
    "prob_x = np.array([f_X(x_k) for x_k in x_set])\n",
    "prob_y = np.array([f_Y(y_k) for y_k in y_set])\n",
    "\n",
    "fig = plt.figure(figsize=(12,4))\n",
    "ax1 = fig.add_subplot(121)\n",
    "ax2 = fig.add_subplot(122)\n",
    "\n",
    "ax1.bar(x_set, prob_x)\n",
    "ax1.set_title(' X_marginal probability distribution')\n",
    "ax1.set_xlabel('X_value')\n",
    "ax1.set_ylabel('probability')\n",
    "ax1.set_xticks(x_set)\n",
    "\n",
    "ax2.bar(y_set, prob_y)\n",
    "ax2.set_title(' Y_marginal probability distribution')\n",
    "ax2.set_xlabel('Y_value')\n",
    "ax2.set_ylabel('probability')\n",
    "\n",
    "plt.show()"
   ]
  },
  {
   "cell_type": "code",
   "execution_count": 232,
   "id": "0a19ce1e",
   "metadata": {},
   "outputs": [
    {
     "data": {
      "text/plain": [
       "8.666666666666666"
      ]
     },
     "execution_count": 232,
     "metadata": {},
     "output_type": "execute_result"
    }
   ],
   "source": [
    "# 2차원 이산형 확률분포의 지표\n",
    "# 기댓값(확률변수의 평균)\n",
    "np.sum([x_i*f_XY(x_i,y_j) for x_i in x_set for y_j in y_set])"
   ]
  },
  {
   "cell_type": "code",
   "execution_count": 233,
   "id": "9da60000",
   "metadata": {},
   "outputs": [
    {
     "data": {
      "text/plain": [
       "8.666666666666666"
      ]
     },
     "execution_count": 233,
     "metadata": {},
     "output_type": "execute_result"
    }
   ],
   "source": [
    "# 다중 for 문\n",
    "sum = 0\n",
    "for y_j in y_set:\n",
    "    for x_i in x_set:\n",
    "       sum += x_i * f_XY(x_i,y_j) \n",
    "sum\n",
    "    \n",
    "    "
   ]
  },
  {
   "cell_type": "code",
   "execution_count": 234,
   "id": "f4c06d1b",
   "metadata": {},
   "outputs": [],
   "source": [
    "def E(XY, g): \n",
    "    x_set, y_set,f_XY =XY\n",
    "    return np.sum([g(x_i,y_j)*f_XY(x_i,y_j)\n",
    "                  for x_i in x_set for y_j in y_set])"
   ]
  },
  {
   "cell_type": "code",
   "execution_count": 235,
   "id": "3ee9402b",
   "metadata": {},
   "outputs": [
    {
     "data": {
      "text/plain": [
       "8.666666666666666"
      ]
     },
     "execution_count": 235,
     "metadata": {},
     "output_type": "execute_result"
    }
   ],
   "source": [
    "mean_X = E(XY, lambda x,y:x)\n",
    "mean_X"
   ]
  },
  {
   "cell_type": "code",
   "execution_count": 236,
   "id": "821b145c",
   "metadata": {},
   "outputs": [
    {
     "data": {
      "text/plain": [
       "4.333333333333333"
      ]
     },
     "execution_count": 236,
     "metadata": {},
     "output_type": "execute_result"
    }
   ],
   "source": [
    "mean_Y = E(XY, lambda x,y:y)\n",
    "mean_Y"
   ]
  },
  {
   "cell_type": "code",
   "execution_count": 237,
   "id": "87f4a134",
   "metadata": {},
   "outputs": [],
   "source": [
    "a,b = 2,3"
   ]
  },
  {
   "cell_type": "code",
   "execution_count": 238,
   "id": "3ec78fee",
   "metadata": {},
   "outputs": [
    {
     "data": {
      "text/plain": [
       "30.333333333333332"
      ]
     },
     "execution_count": 238,
     "metadata": {},
     "output_type": "execute_result"
    }
   ],
   "source": [
    "#기댓값의 선형성\n",
    "E(XY, lambda x,y: a*x + b*y)"
   ]
  },
  {
   "cell_type": "code",
   "execution_count": 239,
   "id": "3ccc0125",
   "metadata": {},
   "outputs": [
    {
     "data": {
      "text/plain": [
       "4.444444444444444"
      ]
     },
     "execution_count": 239,
     "metadata": {},
     "output_type": "execute_result"
    }
   ],
   "source": [
    "# 분산: X의 분산이라면 X에 관한 편차의 제곱의 기댓값으로 구할 수 있다.\n",
    "np.sum([(x_i-mean_X)**2*f_XY(x_i,y_j) for x_i in x_set for y_j in y_set])"
   ]
  },
  {
   "cell_type": "code",
   "execution_count": 240,
   "id": "92c397c7",
   "metadata": {},
   "outputs": [],
   "source": [
    "# 분산의 사용자함수\n",
    "def V(XY, g):\n",
    "    x_set,y_set, f_XY =XY\n",
    "    mean=E(XY, g)\n",
    "    return np.sum([(g(x_i,y_j)-mean)**2*f_XY(x_i,y_j)\n",
    "                 for x_i in x_set for y_j in y_set])"
   ]
  },
  {
   "cell_type": "code",
   "execution_count": 241,
   "id": "a14dbeef",
   "metadata": {},
   "outputs": [
    {
     "data": {
      "text/plain": [
       "4.444444444444444"
      ]
     },
     "execution_count": 241,
     "metadata": {},
     "output_type": "execute_result"
    }
   ],
   "source": [
    "var_X = V(XY, lambda x,y:x)\n",
    "var_X"
   ]
  },
  {
   "cell_type": "code",
   "execution_count": 242,
   "id": "c11d4fdd",
   "metadata": {},
   "outputs": [
    {
     "data": {
      "text/plain": [
       "2.2222222222222223"
      ]
     },
     "execution_count": 242,
     "metadata": {},
     "output_type": "execute_result"
    }
   ],
   "source": [
    "var_Y = V(XY, lambda x,y:y)\n",
    "var_Y"
   ]
  },
  {
   "cell_type": "code",
   "execution_count": 243,
   "id": "4f71f0b8",
   "metadata": {},
   "outputs": [],
   "source": [
    "# 공분산\n",
    "def Cov(XY):\n",
    "    x_set, y_set, f_XY = XY\n",
    "    mean_Y = E(XY, lambda x,y:y)\n",
    "    mean_X = E(XY, lambda x,y:x)\n",
    "    return np.sum([(x_i-mean_X)*(y_j-mean_Y)*f_XY(x_i,y_j)\n",
    "                   for x_i in x_set for y_j in y_set])"
   ]
  },
  {
   "cell_type": "code",
   "execution_count": 244,
   "id": "4f1509a1",
   "metadata": {},
   "outputs": [
    {
     "data": {
      "text/plain": [
       "2.222222222222222"
      ]
     },
     "execution_count": 244,
     "metadata": {},
     "output_type": "execute_result"
    }
   ],
   "source": [
    "cov_xy = Cov(XY)\n",
    "cov_xy"
   ]
  },
  {
   "cell_type": "code",
   "execution_count": 245,
   "id": "25769f96",
   "metadata": {},
   "outputs": [
    {
     "data": {
      "text/plain": [
       "64.44444444444444"
      ]
     },
     "execution_count": 245,
     "metadata": {},
     "output_type": "execute_result"
    }
   ],
   "source": [
    "V(XY, lambda x,y:a*x + b*y)"
   ]
  },
  {
   "cell_type": "code",
   "execution_count": 246,
   "id": "419d6134",
   "metadata": {},
   "outputs": [
    {
     "data": {
      "text/plain": [
       "64.44444444444443"
      ]
     },
     "execution_count": 246,
     "metadata": {},
     "output_type": "execute_result"
    }
   ],
   "source": [
    "#분산과 공분산의 공식\n",
    "a**2 * var_X + b**2 * var_Y + 2*a*b*cov_xy"
   ]
  },
  {
   "cell_type": "code",
   "execution_count": 247,
   "id": "56246f55",
   "metadata": {},
   "outputs": [],
   "source": [
    "# 확률변수의 상관계수 : 공분산을 각각의 표준편차로 나누어 산출"
   ]
  },
  {
   "cell_type": "code",
   "execution_count": 248,
   "id": "07c3c319",
   "metadata": {
    "scrolled": true
   },
   "outputs": [
    {
     "data": {
      "text/plain": [
       "0.7071067811865474"
      ]
     },
     "execution_count": 248,
     "metadata": {},
     "output_type": "execute_result"
    }
   ],
   "source": [
    " cov_xy / np.sqrt(var_X*var_Y)"
   ]
  },
  {
   "cell_type": "markdown",
   "id": "2c14a351",
   "metadata": {},
   "source": [
    " - 비모수적 기법 : 모집단의 확률분포에 어떠한 가정도 하지 않는것\n",
    " - 모수적 기법 : 모집단에 대한 어느정도의 가정을 전제하고, 그 뒤에 확률분포의 기댓값이나 분산을 결정하는 소수의 파라미터를 추측하는 방법\n",
    " - check_prob는 확률변수를 인수로 가지며, 그 확률변수가 확률의 성질을 만족하는지 확인하고, 기댓값과 분산을 계산하여 반환하는 함수."
   ]
  },
  {
   "cell_type": "markdown",
   "id": "057fe2d5",
   "metadata": {},
   "source": [
    "대표적인 이산형 확률분포"
   ]
  },
  {
   "cell_type": "code",
   "execution_count": 249,
   "id": "e4df90e1",
   "metadata": {},
   "outputs": [],
   "source": [
    "# assert : 원하는 조건의 변수 값을 보증받을 때까지 테스트 \n",
    "# 그래프를 위한 사용자 함수\n",
    "import numpy as np\n",
    "import matplotlib.pyplot as plt\n",
    "from scipy import stats\n",
    "\n",
    "linestyles = ['-','--',':']\n",
    "\n",
    "def E(X, g=lambda x: x):\n",
    "    x_set, f =X\n",
    "    return np.sum([g(x_k)*f(x_k) for x_k in x_set])\n",
    "\n",
    "def V(X, g=lambda x: x):\n",
    "    x_set, f=X\n",
    "    mean = E(X,g)\n",
    "    return np.sum([(g(x_k)-mean)**2*f(x_k) for x_k in x_set])\n",
    "\n",
    "def check_prob(X): #확률분포를 인수로 가지면 기댓값과 분산 계산 결과를 반환\n",
    "    x_set, f=X\n",
    "    prob = np.array([f(x_k) for x_k in x_set])\n",
    "    assert np.all(prob>=0), 'minus probability'\n",
    "    prob_sum = np.round(np.sum(prob),6)\n",
    "    assert prob_sum == 1, f'sum of probability{prob_sum}'\n",
    "    print(f'expected value {E(X):.4}')\n",
    "    print(f'variance{(V(X)):.4}')\n",
    "    \n",
    "def plot_prob(X): # 확률분포를 인수로 가지며 그 확률변수의 확률함수와 기댓값을 그리기 위한 함수\n",
    "    x_set, f = X   # 대입연산자(=): 오른쪽에서 왼쪽으로 \n",
    "    prob = np.array([f(x_k) for x_k in x_set])\n",
    "    \n",
    "    fig =plt.figure(figsize=(10,6))\n",
    "    ax = fig.add_subplot(111)\n",
    "    ax.bar(x_set,prob,label='prob')\n",
    "    ax.vlines(E(X),0,1,label='mean',color='crimson')\n",
    "    ax.set_xticks(np.append(x_set,E(X)))\n",
    "    ax.set_ylim(0, prob.max()*1.2)\n",
    "    ax.legend()"
   ]
  },
  {
   "cell_type": "markdown",
   "id": "85d00f5d",
   "metadata": {},
   "source": [
    "#### 베르누이 분포(다양한 경우에 응용됨)\n",
    " - 가장 기본적인 이산형 확률분포로 확률변수가 취할 수 있는 값이 0과 1밖에 없는 분포이다.\n",
    " - 베르누이 분포를 따르는 확률변수의 시행을 베르누이 시행이라 하며 1이 나오면 성공, 0이 나오면 실패\n",
    " - 동전을 던져 앞면이 나올 확률, 주사위를 한 번 굴려 6이 나오지 않을 확률 "
   ]
  },
  {
   "cell_type": "code",
   "execution_count": 250,
   "id": "bb9e895a",
   "metadata": {},
   "outputs": [],
   "source": [
    "def Bern(p):\n",
    "    x_set = np.array([0,1])\n",
    "    def f(x):\n",
    "        if x in x_set:\n",
    "            return p**x * (1-p)**(1-x)\n",
    "        else:\n",
    "            return 0\n",
    "    return x_set, f"
   ]
  },
  {
   "cell_type": "code",
   "execution_count": 251,
   "id": "f479202a",
   "metadata": {},
   "outputs": [],
   "source": [
    "p = 0.3\n",
    "X = Bern(p)"
   ]
  },
  {
   "cell_type": "code",
   "execution_count": 252,
   "id": "c8a1e1b2",
   "metadata": {},
   "outputs": [
    {
     "name": "stdout",
     "output_type": "stream",
     "text": [
      "expected value 0.3\n",
      "variance0.21\n"
     ]
    }
   ],
   "source": [
    "check_prob(X)"
   ]
  },
  {
   "cell_type": "code",
   "execution_count": 253,
   "id": "af5bc1fc",
   "metadata": {
    "scrolled": true
   },
   "outputs": [
    {
     "data": {
      "image/png": "[encoded data removed]",
      "text/plain": [
       "<Figure size 720x432 with 1 Axes>"
      ]
     },
     "metadata": {
      "needs_background": "light"
     },
     "output_type": "display_data"
    }
   ],
   "source": [
    "plot_prob(X)"
   ]
  },
  {
   "cell_type": "code",
   "execution_count": 254,
   "id": "02a09e62",
   "metadata": {},
   "outputs": [],
   "source": [
    "rv = stats.bernoulli(p)"
   ]
  },
  {
   "cell_type": "code",
   "execution_count": 255,
   "id": "44689c96",
   "metadata": {},
   "outputs": [
    {
     "data": {
      "text/plain": [
       "(0.7, 0.3)"
      ]
     },
     "execution_count": 255,
     "metadata": {},
     "output_type": "execute_result"
    }
   ],
   "source": [
    "rv.pmf(0),rv.pmf(1)"
   ]
  },
  {
   "cell_type": "code",
   "execution_count": 256,
   "id": "f4cc42ce",
   "metadata": {},
   "outputs": [
    {
     "data": {
      "text/plain": [
       "array([0.7, 0.3])"
      ]
     },
     "execution_count": 256,
     "metadata": {},
     "output_type": "execute_result"
    }
   ],
   "source": [
    "rv.pmf([0,1])    # pmf 메소드"
   ]
  },
  {
   "cell_type": "code",
   "execution_count": 257,
   "id": "25e12a8b",
   "metadata": {},
   "outputs": [
    {
     "data": {
      "text/plain": [
       "array([0.7, 1. ])"
      ]
     },
     "execution_count": 257,
     "metadata": {},
     "output_type": "execute_result"
    }
   ],
   "source": [
    "rv.cdf([0,1])   #  cdf : 누적밀도함수"
   ]
  },
  {
   "cell_type": "code",
   "execution_count": 258,
   "id": "93ec8e3f",
   "metadata": {},
   "outputs": [
    {
     "data": {
      "text/plain": [
       "(0.3, 0.21)"
      ]
     },
     "execution_count": 258,
     "metadata": {},
     "output_type": "execute_result"
    }
   ],
   "source": [
    "rv.mean(), rv.var()"
   ]
  },
  {
   "cell_type": "markdown",
   "id": "2bceb84c",
   "metadata": {},
   "source": [
    "#### 이항분포\n",
    " - 성공확률이 p인 베르누이 시행을 n번 했을 때의 성공 횟수가 따르는 분포\n",
    " \n",
    "f(x) = $_{n}\\mathrm{C}_{x}p^x(1-p)^{n-x}$ $(x \\in \\{0,1,...,n\\}$)\n",
    "\n",
    "       0            (otherwise)"
   ]
  },
  {
   "cell_type": "code",
   "execution_count": 259,
   "id": "fd40004c",
   "metadata": {},
   "outputs": [],
   "source": [
    "from scipy.special import comb\n",
    "\n",
    "def Bin(n,p):\n",
    "    x_set = np.arange(n+1)\n",
    "    def f(x):\n",
    "        if x in x_set:\n",
    "            return comb(n,x) * p**x * (1-p)**(n-x)\n",
    "        else:\n",
    "            return 0\n",
    "    return x_set, f"
   ]
  },
  {
   "cell_type": "code",
   "execution_count": 260,
   "id": "b424c6e9",
   "metadata": {},
   "outputs": [],
   "source": [
    "# [과제] 동전을 10번 던져 앞면이 3번 나오는 이항분포의 기대값과 분산을 구하세요."
   ]
  },
  {
   "cell_type": "code",
   "execution_count": 261,
   "id": "30e29a0b",
   "metadata": {},
   "outputs": [],
   "source": [
    "n =10\n",
    "p = 0.3\n",
    "X =Bin(n,p)"
   ]
  },
  {
   "cell_type": "code",
   "execution_count": 262,
   "id": "e8668832",
   "metadata": {},
   "outputs": [
    {
     "name": "stdout",
     "output_type": "stream",
     "text": [
      "expected value 3.0\n",
      "variance2.1\n"
     ]
    }
   ],
   "source": [
    "check_prob(X)"
   ]
  },
  {
   "cell_type": "code",
   "execution_count": 263,
   "id": "96592aad",
   "metadata": {},
   "outputs": [],
   "source": [
    "#[과제] 상기 이항분포의 확률함수와 기댓값을 시각화 하세요"
   ]
  },
  {
   "cell_type": "code",
   "execution_count": 264,
   "id": "ffce7966",
   "metadata": {},
   "outputs": [
    {
     "data": {
      "image/png": "[encoded data removed]",
      "text/plain": [
       "<Figure size 720x432 with 1 Axes>"
      ]
     },
     "metadata": {
      "needs_background": "light"
     },
     "output_type": "display_data"
    }
   ],
   "source": [
    "plot_prob(X)"
   ]
  },
  {
   "cell_type": "code",
   "execution_count": 265,
   "id": "cbe10bb1",
   "metadata": {},
   "outputs": [],
   "source": [
    "#[과제] 확률이 0.3, 0.5, 0.7로 변할때 확률함수가 변하는 모습을 시각화 하세요"
   ]
  },
  {
   "cell_type": "code",
   "execution_count": 266,
   "id": "92ced2c6",
   "metadata": {},
   "outputs": [
    {
     "data": {
      "image/png": "[encoded data removed]",
      "text/plain": [
       "<Figure size 720x432 with 1 Axes>"
      ]
     },
     "metadata": {
      "needs_background": "light"
     },
     "output_type": "display_data"
    }
   ],
   "source": [
    "fig = plt.figure(figsize=(10,6))\n",
    "ax = fig.add_subplot(111)\n",
    "\n",
    "x_set = np.arange(n+1)\n",
    "for p, ls in zip([0.3, 0.5, 0.7], linestyles):\n",
    "    rv = stats.binom(n,p)\n",
    "    ax.plot(x_set, rv.pmf(x_set),\n",
    "           label=f'p:{p}',ls=ls, color='blue')\n",
    "ax.set_xticks(x_set)\n",
    "ax.legend()\n",
    "\n",
    "plt.show()"
   ]
  },
  {
   "cell_type": "markdown",
   "id": "a7f11fe3",
   "metadata": {},
   "source": [
    "#### 기하분포\n",
    " - 베르누이 시행에서 처음 성공할 때까지 반복한 시행 횟수가 따르는 분포\n",
    " - 기하분포의 파라미터는 베르누이 시행의 성공 확률 파라미터 p가 되며 파라미터 p의 기하분포를 Ge(p)로 표기\n",
    " \n",
    "f(x) = $(1-p)^{x-1}p$ $(x \\in \\{1,2,3,...\\})$\n",
    "\n",
    "       0              (otherwise)\n",
    " - 기하분포의 기댓값과 분산 : E(X) = 1/p, V(X) = (1-p)/$p^2$"
   ]
  },
  {
   "cell_type": "code",
   "execution_count": 267,
   "id": "b9636d59",
   "metadata": {},
   "outputs": [],
   "source": [
    "# [과제] 사용자 함수를 구하세요(단, 확률변수를 1 이상 29 이하인 정수로 설정)\n",
    "def Ge(p):\n",
    "    x_set = np.arange(1,30)\n",
    "    def f(x):\n",
    "        if x in x_set:\n",
    "            return p * (1-p) **(x-1)\n",
    "        else:\n",
    "            return 0\n",
    "    return x_set, f"
   ]
  },
  {
   "cell_type": "code",
   "execution_count": 268,
   "id": "4098da6e",
   "metadata": {},
   "outputs": [],
   "source": [
    "# [과제] 성공확률이 0.5일때 기하분포의 기댓값과 분산을 구하세요"
   ]
  },
  {
   "cell_type": "code",
   "execution_count": 269,
   "id": "242e9332",
   "metadata": {},
   "outputs": [],
   "source": [
    "p = 0.5\n",
    "x = Ge(p)"
   ]
  },
  {
   "cell_type": "code",
   "execution_count": 270,
   "id": "6f134b4a",
   "metadata": {},
   "outputs": [
    {
     "name": "stdout",
     "output_type": "stream",
     "text": [
      "expected value 2.0\n",
      "variance2.0\n"
     ]
    }
   ],
   "source": [
    "check_prob(x)"
   ]
  },
  {
   "cell_type": "code",
   "execution_count": 271,
   "id": "6cc0b89d",
   "metadata": {},
   "outputs": [],
   "source": [
    "#[과제] 상기 기하분포의 확률함수와 기댓값을 시각화 하세요"
   ]
  },
  {
   "cell_type": "code",
   "execution_count": 272,
   "id": "e4deabd3",
   "metadata": {},
   "outputs": [
    {
     "data": {
      "image/png": "[encoded data removed]",
      "text/plain": [
       "<Figure size 720x432 with 1 Axes>"
      ]
     },
     "metadata": {
      "needs_background": "light"
     },
     "output_type": "display_data"
    }
   ],
   "source": [
    "plot_prob(x)"
   ]
  },
  {
   "cell_type": "code",
   "execution_count": 273,
   "id": "5a61382a",
   "metadata": {},
   "outputs": [],
   "source": [
    "#[과제] 성공 확률이 0.2, 0.5, 0.8로 변할 때 확률함수가 변화하는 모습을 시각화 하세요."
   ]
  },
  {
   "cell_type": "code",
   "execution_count": 274,
   "id": "50f2cc07",
   "metadata": {},
   "outputs": [
    {
     "data": {
      "image/png": "[encoded data removed]",
      "text/plain": [
       "<Figure size 720x432 with 1 Axes>"
      ]
     },
     "metadata": {
      "needs_background": "light"
     },
     "output_type": "display_data"
    }
   ],
   "source": [
    "fig = plt.figure(figsize=(10,6))\n",
    "ax = fig.add_subplot(111)\n",
    "\n",
    "x_set = np.arange(1,15)\n",
    "for p, ls in zip ([0.2, 0.5, 0.8], linestyles):\n",
    "    rv = stats.geom(p)\n",
    "    ax.plot(x_set,rv.pmf(x_set),\n",
    "           label=f'p:{p}', ls=ls, color='green')\n",
    "ax.set_xticks(x_set)\n",
    "ax.legend()\n",
    "\n",
    "plt.show()"
   ]
  },
  {
   "cell_type": "markdown",
   "id": "c604bae6",
   "metadata": {},
   "source": [
    "#### 포아송 분포\n",
    " - 임의의 사건이 단위 시간당 발생하는 건수가 따르는 확률분포이며 포아송 분포의 파라미터는  $\\lambda$로 나타낸다.\n",
    " - 하루에 평균 2건의 교통사고가 발생하는 지역에서 하루 교통사고 발생건수는 Poi(2)를 따른다.\n",
    " - 하루에 한번도 교통사고가 발생하지 않을 확률: P(X=0) =2!/0! * $e^{-2}$ = 0.135\n",
    "\n",
    " - 포아송 분포의 기댓값과 분산은 모두  $\\lambda$가 된다.\n",
    " \n",
    "f(x) = $\\lambda^x/x!*e^{-\\lambda}$ $(x \\in \\{0,1,2,...\\})$\n",
    "       \n",
    "         0              (otherwise)"
   ]
  },
  {
   "cell_type": "code",
   "execution_count": 275,
   "id": "7c02a27e",
   "metadata": {},
   "outputs": [],
   "source": [
    "# [과제] 사용자 함수를 구하세요(단, 확률변수를 1 이상 19 이하인 정수로 설정)\n",
    "from scipy.special import factorial\n",
    "\n",
    "def Poi(lam):\n",
    "    x_set = np.arange(20)\n",
    "    def f(x):\n",
    "        if x in x_set:\n",
    "            return np.power(lam,x) / factorial(x) * np.exp(-lam)\n",
    "        else:\n",
    "            return 0\n",
    "    return x_set, f"
   ]
  },
  {
   "cell_type": "code",
   "execution_count": 276,
   "id": "4766d2cb",
   "metadata": {},
   "outputs": [],
   "source": [
    "#[과제] 람다값이 3일때 포아송분포의 기댓값과 분산을 구하세요"
   ]
  },
  {
   "cell_type": "code",
   "execution_count": 277,
   "id": "0f1a5645",
   "metadata": {},
   "outputs": [],
   "source": [
    "lam = 3\n",
    "x = Poi(lam)"
   ]
  },
  {
   "cell_type": "code",
   "execution_count": 278,
   "id": "a0dcc920",
   "metadata": {},
   "outputs": [
    {
     "name": "stdout",
     "output_type": "stream",
     "text": [
      "expected value 3.0\n",
      "variance3.0\n"
     ]
    }
   ],
   "source": [
    "check_prob(x)"
   ]
  },
  {
   "cell_type": "code",
   "execution_count": 279,
   "id": "175515df",
   "metadata": {},
   "outputs": [],
   "source": [
    "#[과제] 상기 포아송분포의 확률함수와 기댓값을 시각화 하세요"
   ]
  },
  {
   "cell_type": "code",
   "execution_count": 280,
   "id": "1a4c49d1",
   "metadata": {},
   "outputs": [
    {
     "data": {
      "image/png": "[encoded data removed]",
      "text/plain": [
       "<Figure size 720x432 with 1 Axes>"
      ]
     },
     "metadata": {
      "needs_background": "light"
     },
     "output_type": "display_data"
    }
   ],
   "source": [
    "plot_prob(x)"
   ]
  },
  {
   "cell_type": "code",
   "execution_count": 281,
   "id": "a81541c1",
   "metadata": {},
   "outputs": [],
   "source": [
    "#[과제] 람다가 3, 5, 8로 변할 때 확률함수가 변화하는 모습을 시각화 하세요."
   ]
  },
  {
   "cell_type": "code",
   "execution_count": 282,
   "id": "88548466",
   "metadata": {
    "scrolled": true
   },
   "outputs": [
    {
     "data": {
      "image/png": "[encoded data removed]",
      "text/plain": [
       "<Figure size 720x432 with 1 Axes>"
      ]
     },
     "metadata": {
      "needs_background": "light"
     },
     "output_type": "display_data"
    }
   ],
   "source": [
    "fig = plt.figure(figsize=(10,6))\n",
    "ax = fig.add_subplot(111)\n",
    "\n",
    "x_set = np.arange(20)\n",
    "for lam, ls in zip([3,5,8],linestyles):\n",
    "    rv = stats.poisson(lam)\n",
    "    ax.plot(x_set,rv.pmf(x_set),\n",
    "           label=f'lam:{lam}',ls=ls, color='crimson' )\n",
    "ax.set_xticks(x_set)\n",
    "ax.legend()\n",
    "\n",
    "plt.show()"
   ]
  },
  {
   "cell_type": "markdown",
   "id": "540e4afa",
   "metadata": {},
   "source": [
    "#### 이항분포\n",
    "- 성공확률이 p인 베르누이 시행을 n번 했을 때의 성공 횟수가 따르는 분포\n",
    "\n",
    "$f(x)=\n",
    "\\begin{cases}\n",
    "_{n}\\mathrm{C}_{x}p^x(1-p)^{(n-x)} & \\mbox {$(x \\in \\{0,1,...,n\\}$} \\\\\n",
    "\\\\\n",
    "0 & \\mbox{(otherwise)}\n",
    "\\end{cases}$\n",
    "\n",
    "#### 기하분포\n",
    "- 베르누이 시행에서 처음 성공할 때까지 반복한 시행 횟수가 따르는 분포\n",
    "- 기하분포의 파라미터는 베르누이 시행의 성공 확률 파라미터 p가 되며 파라미터 p의 기하분포를 Ge(p)로 표기\n",
    "\n",
    "$f(x)=\n",
    "\\begin{cases}\n",
    "(1-p)^{(x-1)}p & \\mbox {$(x \\in \\{1,2,3,...\\}$} \\\\\n",
    "\\\\\n",
    "0 & \\mbox{(otherwise)}\n",
    "\\end{cases}$\n",
    "       \n",
    "- 기하분포의 기댓값과 분산 : $E(X) = {1\\over p}, \\ V(X)={(1-p) \\over p^2}$ \n",
    "\n",
    "#### 포아송 분포\n",
    "- 임의의 사건이 단위 시간당 발생하는 건수가 따르는 확률분포이며 포아송 분포의 파라미터는 $\\lambda$로 나타낸다\n",
    "- 하루에 평균 2건의 교통사고가 발생하는 지역에서 하루 교통사고 발생건수는 $Poi(2)$를 따른다.\n",
    "  예) 하루에 교통사고가 한 건도 일어나지 않을 확률 : $P(X=0)$= ${2! \\over 0!}$ $\\cdot$ $e^{-2}$ $\\simeq$ 0.135\n",
    "\n",
    "\n",
    "- 포아송 분포의 기댓값과 분산은 모두 $\\lambda$가 된다.\n",
    "\n",
    "$f(x) =\n",
    "\\begin{cases}\n",
    "{\\lambda^x \\over x!} \\cdot e^{-\\lambda} & \\mbox (x \\in \\{0,1,2,...\\}) \\\\\n",
    "\\\\\n",
    "0 & \\mbox{(otherwise)}\n",
    "\\end{cases}$\n"
   ]
  },
  {
   "cell_type": "code",
   "execution_count": 283,
   "id": "69f48f34",
   "metadata": {},
   "outputs": [],
   "source": [
    "# [과제] 베르누이, 이항분포, 기하함수, 포아송분포의 사례를 각각 2개씩 제시및 설명하세요. "
   ]
  },
  {
   "cell_type": "markdown",
   "id": "5fc6cc35",
   "metadata": {},
   "source": [
    "# 베르누이\n",
    " - 사례1 : 적색공 8개와 흑색공 2개가 들어있는 주머니에서 공 하나를 뽑을때 적색공이면 실패, 흑색공이면 성공이라고 할때 흑색공이 나올 확률은\n",
    " - 사례2 : 온라인게임에서 10%의 확률로 아이템을 강화가 성공한다고 한다면, 아이템을 강화하는데 성공할 확률은?"
   ]
  },
  {
   "cell_type": "code",
   "execution_count": 284,
   "id": "9e4ee007",
   "metadata": {},
   "outputs": [],
   "source": [
    "# 사용자함수\n",
    "def Bern(p):\n",
    "    x_set = np.array([0,1])\n",
    "    def f(x):\n",
    "        if x in x_set:\n",
    "            return p**x * (1-p)**(1-x)\n",
    "        else:\n",
    "            return 0\n",
    "    return x_set, f"
   ]
  },
  {
   "cell_type": "code",
   "execution_count": 285,
   "id": "826f3ba8",
   "metadata": {},
   "outputs": [],
   "source": [
    "#사례1\n",
    "p = 0.2\n",
    "X = Bern(p)"
   ]
  },
  {
   "cell_type": "code",
   "execution_count": 286,
   "id": "afb9847b",
   "metadata": {
    "scrolled": false
   },
   "outputs": [
    {
     "name": "stdout",
     "output_type": "stream",
     "text": [
      "expected value 0.2\n",
      "variance0.16\n"
     ]
    }
   ],
   "source": [
    "check_prob(X)"
   ]
  },
  {
   "cell_type": "code",
   "execution_count": 287,
   "id": "90360768",
   "metadata": {},
   "outputs": [
    {
     "data": {
      "image/png": "[encoded data removed]",
      "text/plain": [
       "<Figure size 720x432 with 1 Axes>"
      ]
     },
     "metadata": {
      "needs_background": "light"
     },
     "output_type": "display_data"
    }
   ],
   "source": [
    "plot_prob(X)"
   ]
  },
  {
   "cell_type": "code",
   "execution_count": 288,
   "id": "a0deae73",
   "metadata": {},
   "outputs": [],
   "source": [
    "#사례2\n",
    "p = 0.1\n",
    "X = Bern(p)"
   ]
  },
  {
   "cell_type": "code",
   "execution_count": 289,
   "id": "1d050e06",
   "metadata": {},
   "outputs": [
    {
     "name": "stdout",
     "output_type": "stream",
     "text": [
      "expected value 0.1\n",
      "variance0.09\n"
     ]
    }
   ],
   "source": [
    "check_prob(X)"
   ]
  },
  {
   "cell_type": "code",
   "execution_count": 290,
   "id": "d4f2995a",
   "metadata": {},
   "outputs": [
    {
     "data": {
      "image/png": "[encoded data removed]",
      "text/plain": [
       "<Figure size 720x432 with 1 Axes>"
      ]
     },
     "metadata": {
      "needs_background": "light"
     },
     "output_type": "display_data"
    }
   ],
   "source": [
    "plot_prob(X)"
   ]
  },
  {
   "cell_type": "markdown",
   "id": "f7c44bfe",
   "metadata": {},
   "source": [
    "# 이항분포\n",
    " - 사례1 축구선수가 패널티킥을 찼을때 이 선수가 10번의 패널티킥을 차서 성공할 확률은?\n",
    " - 사례2 치명적인 바이러스에 감염되었을대, 회복률이 10%라고 한다. 그럼 바이러스에 감염된 환자 20명을 치료했을때 회복될 확률은?"
   ]
  },
  {
   "cell_type": "code",
   "execution_count": 291,
   "id": "4da6fb56",
   "metadata": {},
   "outputs": [],
   "source": [
    "#사용자 함수\n",
    "from scipy.special import comb\n",
    "\n",
    "def Bin(n,p):\n",
    "    x_set = np.arange(n+1)\n",
    "    def f(x):\n",
    "        if x in x_set:\n",
    "            return comb(n,x) * p**x * (1-p)**(n-x)\n",
    "        else:\n",
    "            return 0\n",
    "    return x_set, f"
   ]
  },
  {
   "cell_type": "code",
   "execution_count": 292,
   "id": "be5820b3",
   "metadata": {},
   "outputs": [],
   "source": [
    "#사례1\n",
    "n =10\n",
    "p = 0.5\n",
    "X =Bin(n,p)"
   ]
  },
  {
   "cell_type": "code",
   "execution_count": 293,
   "id": "06c7790a",
   "metadata": {
    "scrolled": true
   },
   "outputs": [
    {
     "name": "stdout",
     "output_type": "stream",
     "text": [
      "expected value 5.0\n",
      "variance2.5\n"
     ]
    }
   ],
   "source": [
    "check_prob(X)"
   ]
  },
  {
   "cell_type": "code",
   "execution_count": 294,
   "id": "8b27c2bd",
   "metadata": {
    "scrolled": true
   },
   "outputs": [
    {
     "data": {
      "image/png": "[encoded data removed]",
      "text/plain": [
       "<Figure size 720x432 with 1 Axes>"
      ]
     },
     "metadata": {
      "needs_background": "light"
     },
     "output_type": "display_data"
    }
   ],
   "source": [
    "plot_prob(X)"
   ]
  },
  {
   "cell_type": "code",
   "execution_count": 295,
   "id": "1d06187e",
   "metadata": {},
   "outputs": [],
   "source": [
    "#사례2"
   ]
  },
  {
   "cell_type": "code",
   "execution_count": 296,
   "id": "d6f2c4dc",
   "metadata": {},
   "outputs": [],
   "source": [
    "n =20\n",
    "p = 0.1\n",
    "X =Bin(n,p)"
   ]
  },
  {
   "cell_type": "code",
   "execution_count": 297,
   "id": "3e05aa6c",
   "metadata": {
    "scrolled": true
   },
   "outputs": [
    {
     "name": "stdout",
     "output_type": "stream",
     "text": [
      "expected value 2.0\n",
      "variance1.8\n"
     ]
    }
   ],
   "source": [
    "check_prob(X)"
   ]
  },
  {
   "cell_type": "code",
   "execution_count": 298,
   "id": "43b6bd58",
   "metadata": {
    "scrolled": true
   },
   "outputs": [
    {
     "data": {
      "image/png": "[encoded data removed]",
      "text/plain": [
       "<Figure size 720x432 with 1 Axes>"
      ]
     },
     "metadata": {
      "needs_background": "light"
     },
     "output_type": "display_data"
    }
   ],
   "source": [
    "plot_prob(X)"
   ]
  },
  {
   "cell_type": "markdown",
   "id": "f60f096f",
   "metadata": {},
   "source": [
    "## 기하함수\n",
    " - 사례1 어느 야구 선수가 안타을 칠 확률이 40%라고 하자, 그럼 이선수가 8번째 타석에서 안타를 칠 확률은?\n",
    " - 사례2 어떤 사람의 운전면허 합격률은 80%라고 한다. 그러면 이 지원자가 적어도 5번 이내에 합격할 확률은?"
   ]
  },
  {
   "cell_type": "code",
   "execution_count": 299,
   "id": "11e39c4c",
   "metadata": {},
   "outputs": [],
   "source": [
    "#사용자 함수\n",
    "def Ge(p):\n",
    "    x_set = np.arange(1,30)\n",
    "    def f(x):\n",
    "        if x in x_set:\n",
    "            return p * (1-p) **(x-1)\n",
    "        else:\n",
    "            return 0\n",
    "    return x_set, f"
   ]
  },
  {
   "cell_type": "code",
   "execution_count": 300,
   "id": "72d14ab4",
   "metadata": {},
   "outputs": [],
   "source": [
    "#사례1\n",
    "p = 0.4\n",
    "x = Ge(p)"
   ]
  },
  {
   "cell_type": "code",
   "execution_count": 301,
   "id": "94f175ee",
   "metadata": {
    "scrolled": true
   },
   "outputs": [
    {
     "name": "stdout",
     "output_type": "stream",
     "text": [
      "expected value 2.5\n",
      "variance3.75\n"
     ]
    }
   ],
   "source": [
    "check_prob(x)"
   ]
  },
  {
   "cell_type": "code",
   "execution_count": 302,
   "id": "da4b267b",
   "metadata": {
    "scrolled": false
   },
   "outputs": [
    {
     "data": {
      "image/png": "[encoded data removed]",
      "text/plain": [
       "<Figure size 720x432 with 1 Axes>"
      ]
     },
     "metadata": {
      "needs_background": "light"
     },
     "output_type": "display_data"
    }
   ],
   "source": [
    "plot_prob(x)"
   ]
  },
  {
   "cell_type": "code",
   "execution_count": 303,
   "id": "53d47ec3",
   "metadata": {},
   "outputs": [],
   "source": [
    "#사례2\n",
    "p = 0.8\n",
    "x = Ge(p)"
   ]
  },
  {
   "cell_type": "code",
   "execution_count": 304,
   "id": "008d1c62",
   "metadata": {},
   "outputs": [
    {
     "name": "stdout",
     "output_type": "stream",
     "text": [
      "expected value 1.25\n",
      "variance0.3125\n"
     ]
    }
   ],
   "source": [
    "check_prob(x)"
   ]
  },
  {
   "cell_type": "code",
   "execution_count": 305,
   "id": "a7c285dd",
   "metadata": {},
   "outputs": [
    {
     "data": {
      "image/png": "[encoded data removed]",
      "text/plain": [
       "<Figure size 720x432 with 1 Axes>"
      ]
     },
     "metadata": {
      "needs_background": "light"
     },
     "output_type": "display_data"
    }
   ],
   "source": [
    "plot_prob(x)"
   ]
  },
  {
   "cell_type": "markdown",
   "id": "f7cd583a",
   "metadata": {},
   "source": [
    "## 포아송분포\n",
    "\n",
    "사례1  고객센터의 상담건수가 1시간에 180건의 전화요청이 들어온다고 한다 그럼 1분동안 걸려오는 전화가 10건 이하일 확률은?\n",
    "\n",
    "사례2 어느 출판사에서 책의 오탈자를 검사하였다. 10 페이지중에서 오타가 20개 발견되었다. 이 책에서 무작위로 한 페이지를 검사할때 오타가 3개 나올 확률은?   "
   ]
  },
  {
   "cell_type": "code",
   "execution_count": 306,
   "id": "33663437",
   "metadata": {},
   "outputs": [],
   "source": [
    "# 사용자함수\n",
    "from scipy.special import factorial\n",
    "\n",
    "def Poi(lam):\n",
    "    x_set = np.arange(20)\n",
    "    def f(x):\n",
    "        if x in x_set:\n",
    "            return np.power(lam,x) / factorial(x) * np.exp(-lam)\n",
    "        else:\n",
    "            return 0\n",
    "    return x_set, f"
   ]
  },
  {
   "cell_type": "code",
   "execution_count": 307,
   "id": "3bae789d",
   "metadata": {},
   "outputs": [],
   "source": [
    "# 사례1\n",
    "lam = 3\n",
    "x = Poi(lam)"
   ]
  },
  {
   "cell_type": "code",
   "execution_count": 308,
   "id": "25c2010c",
   "metadata": {
    "scrolled": true
   },
   "outputs": [
    {
     "name": "stdout",
     "output_type": "stream",
     "text": [
      "expected value 3.0\n",
      "variance3.0\n"
     ]
    }
   ],
   "source": [
    "check_prob(x)"
   ]
  },
  {
   "cell_type": "code",
   "execution_count": 309,
   "id": "d2e1b3b5",
   "metadata": {
    "scrolled": true
   },
   "outputs": [
    {
     "data": {
      "image/png": "[encoded data removed]",
      "text/plain": [
       "<Figure size 720x432 with 1 Axes>"
      ]
     },
     "metadata": {
      "needs_background": "light"
     },
     "output_type": "display_data"
    }
   ],
   "source": [
    "plot_prob(x)"
   ]
  },
  {
   "cell_type": "code",
   "execution_count": 310,
   "id": "3c7d2235",
   "metadata": {},
   "outputs": [],
   "source": [
    "# 사례2\n",
    "lam = 2\n",
    "x = Poi(lam)"
   ]
  },
  {
   "cell_type": "code",
   "execution_count": 311,
   "id": "e3652f9c",
   "metadata": {},
   "outputs": [
    {
     "name": "stdout",
     "output_type": "stream",
     "text": [
      "expected value 2.0\n",
      "variance2.0\n"
     ]
    }
   ],
   "source": [
    "check_prob(x)"
   ]
  },
  {
   "cell_type": "code",
   "execution_count": 312,
   "id": "2dc60593",
   "metadata": {
    "scrolled": true
   },
   "outputs": [
    {
     "data": {
      "image/png": "[encoded data removed]",
      "text/plain": [
       "<Figure size 720x432 with 1 Axes>"
      ]
     },
     "metadata": {
      "needs_background": "light"
     },
     "output_type": "display_data"
    }
   ],
   "source": [
    "plot_prob(x)"
   ]
  },
  {
   "cell_type": "markdown",
   "id": "f69ae591",
   "metadata": {},
   "source": [
    "2022년 1월 27일"
   ]
  },
  {
   "cell_type": "markdown",
   "id": "bee58d35",
   "metadata": {},
   "source": [
    "연속형 확률변수\n",
    " - 이산형 확률변수와 연속형 확률변수의 주된 차이는 확률변수가 취할 수 있는 값이 이산적인가 연속적인가이다.  \n",
    " - 연속형 확률변수의 경우 계산 과정에 적분이 포함된다. 적분은 SciPy의 integral 모듈을 사용하여 구현한다.\n",
    "\n",
    "연속형 확률분포와 확률밀도함수\n",
    " - 특정값이 될 확률은  0, 특정 값이 범위에 들어갈 확률은 확률밀도함수를 적분하여 계산(적분은 곡선 아래 면적의 크기)\n",
    " - 정규분포는 연속확률분포로 가장 자주 쓰이는 확률분포. 모양은 평균을 중심으로 하나의 봉우리 형태를 띄며 한 집단의 많은 사람들의 키, 몸무게, 시험성적등의 데이터에 잘 나타나는 분포\n",
    "  - 누적분포함수 : 확률분포에서 얻은 확률변수 3 이하가 되는 확률. Cumulative density function\n",
    "     * stats.norm.cdf(loc=4, scale=0.8, x=3)\n",
    "  - 정규분포의 확률밀도 계산\n",
    "     * 확률변수 3일때의 확률밀도 N(3|4, 0.8**2)\n",
    "     * stats.norm.pdf(loc=4, scale=0.8, x=3) Probability density function\n",
    "  - 하측확률 : '확률변수 x가 N보다 낮을 확률은 M퍼센트이다.'에서 N을 고정하고 M을 구하는 경우 \n",
    "     * 이때의 M이 하측확률이며 M(확률)을 고정하고 N(변수)을 구하는 경우 이때의 N이 퍼센트포인트 하측확률이 2.5%가 되는  퍼센트 포인트\n",
    "  - stats.norm.pdf(x=x)로 하여 loc와 scale을 지정하지 않을 경우 표준정규분포가 됨. probability density function \n",
    "  - stats.norm.rvs() 함수는 정규확률분포로 부터 난수 생성"
   ]
  },
  {
   "cell_type": "code",
   "execution_count": 313,
   "id": "287955c2",
   "metadata": {},
   "outputs": [],
   "source": [
    "import numpy as np\n",
    "import matplotlib.pyplot as plt\n",
    "from scipy import integrate\n",
    "from scipy import stats\n",
    "import scipy as sp\n",
    "import seaborn as sns\n",
    "import warnings\n",
    "warnings.filterwarnings('ignore')"
   ]
  },
  {
   "cell_type": "code",
   "execution_count": 314,
   "id": "7bf481c5",
   "metadata": {
    "scrolled": false
   },
   "outputs": [
    {
     "data": {
      "text/plain": [
       "Text(0.5, 1.0, '확률밀도함수')"
      ]
     },
     "execution_count": 314,
     "metadata": {},
     "output_type": "execute_result"
    },
    {
     "data": {
      "image/png": "[encoded data removed]",
      "text/plain": [
       "<Figure size 576x432 with 1 Axes>"
      ]
     },
     "metadata": {
      "needs_background": "light"
     },
     "output_type": "display_data"
    }
   ],
   "source": [
    "from matplotlib import rc\n",
    "rc('font', family='Malgun Gothic')\n",
    "plt.rcParams['axes.unicode_minus'] = False\n",
    "rv = stats.norm(loc=4,scale=0.8)\n",
    "xx = np.linspace(0,8,100)\n",
    "pdf =rv.pdf(xx)\n",
    "plt.figure(figsize=(8,6))\n",
    "plt.plot(xx,pdf)\n",
    "plt.title('확률밀도함수')\n",
    "\n",
    "# 확률밀도함수는 면적으로 확률의 값을 계산한다"
   ]
  },
  {
   "cell_type": "code",
   "execution_count": 315,
   "id": "afcc0a4e",
   "metadata": {},
   "outputs": [
    {
     "data": {
      "text/plain": [
       "Text(0.5, 1.0, '누적분포함수')"
      ]
     },
     "execution_count": 315,
     "metadata": {},
     "output_type": "execute_result"
    },
    {
     "data": {
      "image/png": "[encoded data removed]",
      "text/plain": [
       "<Figure size 576x432 with 1 Axes>"
      ]
     },
     "metadata": {
      "needs_background": "light"
     },
     "output_type": "display_data"
    }
   ],
   "source": [
    "xx = np.linspace(-4,4,100)\n",
    "cdf = rv.cdf(xx)\n",
    "plt.figure(figsize=(8,6))\n",
    "plt.plot(xx,cdf)\n",
    "plt.title('누적분포함수')\n"
   ]
  },
  {
   "cell_type": "code",
   "execution_count": 316,
   "id": "f33cba60",
   "metadata": {},
   "outputs": [],
   "source": [
    "x_range = np.array([0,1])\n",
    "\n",
    "def f(x):\n",
    "    if x_range[0] <= x <= x_range[1]:\n",
    "        return 2 * x\n",
    "    else:\n",
    "        return 0\n",
    "    \n",
    "X = [x_range, f]"
   ]
  },
  {
   "cell_type": "code",
   "execution_count": 317,
   "id": "fc6f23ba",
   "metadata": {
    "scrolled": true
   },
   "outputs": [
    {
     "data": {
      "text/plain": [
       "<matplotlib.legend.Legend at 0x1e7622f7f40>"
      ]
     },
     "execution_count": 317,
     "metadata": {},
     "output_type": "execute_result"
    },
    {
     "data": {
      "image/png": "[encoded data removed]",
      "text/plain": [
       "<Figure size 720x432 with 1 Axes>"
      ]
     },
     "metadata": {
      "needs_background": "light"
     },
     "output_type": "display_data"
    }
   ],
   "source": [
    "xs = np.linspace(x_range[0],x_range[1],100)\n",
    "fig = plt.figure(figsize=(10,6))\n",
    "ax = fig.add_subplot(111)\n",
    "\n",
    "ax.plot(xs, [f(x) for x in xs], label='f(x)', color = 'gray')\n",
    "ax.hlines(0,-0.2,1.2,alpha=0.3)\n",
    "ax.vlines(0,-0.2,2.2,alpha=0.3)\n",
    "ax.vlines(xs.max(),0,2.2,linestyles=':',color='gray')\n",
    "# 0.4 ~ 0.6 x좌표를 setting\n",
    "xs = np.linspace(0.4,0.6,100)\n",
    "ax.fill_between(xs,[f(x) for x in xs], label='prob')\n",
    "\n",
    "ax.set_xticks(np.arange(-0.2,1.3,0.2))\n",
    "ax.set_xlim(-0.1,1.1)\n",
    "ax.set_ylim(-0.2,2.1)\n",
    "ax.legend()"
   ]
  },
  {
   "cell_type": "code",
   "execution_count": 318,
   "id": "9fb760c3",
   "metadata": {},
   "outputs": [
    {
     "data": {
      "text/plain": [
       "(0.19999999999999996, 2.2204460492503127e-15)"
      ]
     },
     "execution_count": 318,
     "metadata": {},
     "output_type": "execute_result"
    }
   ],
   "source": [
    "# 첫번째 인수는 피적분함수, 두번째 인수와 세번째 인수는 적분 범위\n",
    "# quad 함수는 적분값과 추정오차를 반환\n",
    "integrate.quad(f, 0.4, 0.6)"
   ]
  },
  {
   "cell_type": "markdown",
   "id": "6ff772de",
   "metadata": {},
   "source": [
    "연속형 확률변수에서는 확률의 성질이 수식을 만족해야 함\n",
    " - f(x)가 항상 0 이상의 값을 취함\n",
    " - f(x)에 대하여 무한대 범위의 적분 결과는 1"
   ]
  },
  {
   "cell_type": "code",
   "execution_count": 319,
   "id": "e7b134a0",
   "metadata": {},
   "outputs": [
    {
     "data": {
      "text/plain": [
       "0"
      ]
     },
     "execution_count": 319,
     "metadata": {},
     "output_type": "execute_result"
    }
   ],
   "source": [
    "from scipy.optimize import minimize_scalar\n",
    "\n",
    "res = minimize_scalar(f)\n",
    "res.fun # 함수의 최솟값은 fun이라는 인스턴스 변수"
   ]
  },
  {
   "cell_type": "code",
   "execution_count": 320,
   "id": "f20568c8",
   "metadata": {
    "scrolled": false
   },
   "outputs": [
    {
     "data": {
      "text/plain": [
       "1.0"
      ]
     },
     "execution_count": 320,
     "metadata": {},
     "output_type": "execute_result"
    }
   ],
   "source": [
    "integrate.quad(f, -np.inf,np.inf)[0]"
   ]
  },
  {
   "cell_type": "code",
   "execution_count": 321,
   "id": "46331bb0",
   "metadata": {},
   "outputs": [
    {
     "data": {
      "text/plain": [
       "3.141592653589793"
      ]
     },
     "execution_count": 321,
     "metadata": {},
     "output_type": "execute_result"
    }
   ],
   "source": [
    "np.pi"
   ]
  },
  {
   "cell_type": "code",
   "execution_count": 322,
   "id": "d361cd03",
   "metadata": {},
   "outputs": [
    {
     "data": {
      "text/plain": [
       "0.22831135673627742"
      ]
     },
     "execution_count": 322,
     "metadata": {},
     "output_type": "execute_result"
    }
   ],
   "source": [
    "#정리\n",
    "# 정규분포의 확률밀도 계산\n",
    "# 확률변수 3일때의 확률밀도 N(3/4.0,0.8**2)\n",
    "x = 3\n",
    "mu = 4\n",
    "sigma = 0.8  #(표준편차)\n",
    "\n",
    "1/ (np.sqrt(2 * np.pi*sigma**2))*sp.exp(-((x-mu)**2)/(2*sigma**2))\n",
    "# 정규분포는 특정값으로 나오는것이 아니라 면적으로 계산하는 것이 원칙"
   ]
  },
  {
   "cell_type": "code",
   "execution_count": 323,
   "id": "84e65d52",
   "metadata": {},
   "outputs": [
    {
     "data": {
      "text/plain": [
       "0.2283113567362774"
      ]
     },
     "execution_count": 323,
     "metadata": {},
     "output_type": "execute_result"
    }
   ],
   "source": [
    "stats.norm.pdf(loc=4,scale=0.8,x=3)"
   ]
  },
  {
   "cell_type": "code",
   "execution_count": 324,
   "id": "6fb7c13d",
   "metadata": {},
   "outputs": [],
   "source": [
    "# Q. 표준정규분포에서 확률변수가 1일때의 확률밀도를 구하세요"
   ]
  },
  {
   "cell_type": "code",
   "execution_count": 325,
   "id": "bbd2df26",
   "metadata": {},
   "outputs": [
    {
     "data": {
      "text/plain": [
       "0.24197072451914337"
      ]
     },
     "execution_count": 325,
     "metadata": {},
     "output_type": "execute_result"
    }
   ],
   "source": [
    "stats.norm.pdf(loc=0,scale=1,x=1)"
   ]
  },
  {
   "cell_type": "code",
   "execution_count": 326,
   "id": "57dc7c83",
   "metadata": {},
   "outputs": [
    {
     "data": {
      "text/plain": [
       "0.2283113567362774"
      ]
     },
     "execution_count": 326,
     "metadata": {},
     "output_type": "execute_result"
    }
   ],
   "source": [
    "# 정규분포 인스턴스 생성\n",
    "norm_dist = stats.norm(loc=4,scale=0.8)\n",
    "norm_dist.pdf(x=3)"
   ]
  },
  {
   "cell_type": "code",
   "execution_count": 327,
   "id": "a64f300f",
   "metadata": {},
   "outputs": [
    {
     "data": {
      "text/plain": [
       "array([1. , 1.1, 1.2, 1.3, 1.4, 1.5, 1.6, 1.7, 1.8, 1.9, 2. , 2.1, 2.2,\n",
       "       2.3, 2.4, 2.5, 2.6, 2.7, 2.8, 2.9, 3. , 3.1, 3.2, 3.3, 3.4, 3.5,\n",
       "       3.6, 3.7, 3.8, 3.9, 4. , 4.1, 4.2, 4.3, 4.4, 4.5, 4.6, 4.7, 4.8,\n",
       "       4.9, 5. , 5.1, 5.2, 5.3, 5.4, 5.5, 5.6, 5.7, 5.8, 5.9, 6. , 6.1,\n",
       "       6.2, 6.3, 6.4, 6.5, 6.6, 6.7, 6.8, 6.9, 7. ])"
      ]
     },
     "execution_count": 327,
     "metadata": {},
     "output_type": "execute_result"
    }
   ],
   "source": [
    "# Q. 다음 x_plot을 정규분포로 만드시오\n",
    "x_plot = np.arange(1,7.1,0.1)\n",
    "x_plot"
   ]
  },
  {
   "cell_type": "code",
   "execution_count": 328,
   "id": "0042c059",
   "metadata": {
    "scrolled": true
   },
   "outputs": [
    {
     "data": {
      "text/plain": [
       "[<matplotlib.lines.Line2D at 0x1e76234a4f0>]"
      ]
     },
     "execution_count": 328,
     "metadata": {},
     "output_type": "execute_result"
    },
    {
     "data": {
      "image/png": "[encoded data removed]",
      "text/plain": [
       "<Figure size 576x432 with 1 Axes>"
      ]
     },
     "metadata": {
      "needs_background": "light"
     },
     "output_type": "display_data"
    }
   ],
   "source": [
    "from matplotlib import rc\n",
    "\n",
    "\n",
    "rv = stats.norm(loc=3.5,scale=1)\n",
    "xx = np.linspace(0,7,80)\n",
    "pdf =rv.pdf(xx)\n",
    "plt.figure(figsize=(8,6))\n",
    "plt.plot(xx,pdf)\n"
   ]
  },
  {
   "cell_type": "code",
   "execution_count": 329,
   "id": "af24fdcd",
   "metadata": {},
   "outputs": [
    {
     "data": {
      "text/plain": [
       "array([5.29947629, 3.51059487, 3.5774626 , 3.1416251 , 4.6923261 ,\n",
       "       2.15876904, 5.39584941, 3.39103448, 4.25523128, 3.8005037 ])"
      ]
     },
     "execution_count": 329,
     "metadata": {},
     "output_type": "execute_result"
    }
   ],
   "source": [
    "# 표본이 어떤 값 이하가 되는 비율\n",
    "np.random.seed(1)\n",
    "simulated_sample = stats.norm.rvs(loc=4, scale=0.8,size=100000)\n",
    "simulated_sample[:10]"
   ]
  },
  {
   "cell_type": "code",
   "execution_count": 330,
   "id": "210e09a5",
   "metadata": {},
   "outputs": [
    {
     "data": {
      "text/plain": [
       "count    100000.000000\n",
       "mean          4.004202\n",
       "std           0.798667\n",
       "min           0.538490\n",
       "25%           3.465533\n",
       "50%           4.004800\n",
       "75%           4.539819\n",
       "max           7.334494\n",
       "dtype: float64"
      ]
     },
     "execution_count": 330,
     "metadata": {},
     "output_type": "execute_result"
    }
   ],
   "source": [
    "# 요약통계표\n",
    "import pandas as pd\n",
    "pd.Series(simulated_sample).describe()\n"
   ]
  },
  {
   "cell_type": "code",
   "execution_count": 331,
   "id": "f6c9c30a",
   "metadata": {},
   "outputs": [
    {
     "data": {
      "text/plain": [
       "27151.549504137874"
      ]
     },
     "execution_count": 331,
     "metadata": {},
     "output_type": "execute_result"
    }
   ],
   "source": [
    "# Q. 3보다 작은 샘플의 합계?\n",
    "a= pd.Series(simulated_sample)\n",
    "a[a<=3].sum()\n",
    "#len(a[a<=3])"
   ]
  },
  {
   "cell_type": "code",
   "execution_count": 332,
   "id": "865945a9",
   "metadata": {},
   "outputs": [
    {
     "data": {
      "text/plain": [
       "100000"
      ]
     },
     "execution_count": 332,
     "metadata": {},
     "output_type": "execute_result"
    }
   ],
   "source": [
    "len(simulated_sample)"
   ]
  },
  {
   "cell_type": "code",
   "execution_count": 333,
   "id": "b75f4da1",
   "metadata": {},
   "outputs": [
    {
     "data": {
      "text/plain": [
       "0.10371"
      ]
     },
     "execution_count": 333,
     "metadata": {},
     "output_type": "execute_result"
    }
   ],
   "source": [
    "# Q. 3보다 작은 샘플의 확률은?\n",
    "len(a[a<=3])/len(simulated_sample)"
   ]
  },
  {
   "cell_type": "code",
   "execution_count": 334,
   "id": "8c2eb3a5",
   "metadata": {},
   "outputs": [],
   "source": [
    "# 누적분포함수 : 확률분포에서 얻은 확률변수 3 이하가 되는 확률(loc=4, scale=0.8)\n"
   ]
  },
  {
   "cell_type": "code",
   "execution_count": 335,
   "id": "40532679",
   "metadata": {},
   "outputs": [
    {
     "data": {
      "text/plain": [
       "0.10564977366685535"
      ]
     },
     "execution_count": 335,
     "metadata": {},
     "output_type": "execute_result"
    }
   ],
   "source": [
    "# 누적분포함수\n",
    "rv = stats.norm.cdf(loc=4, scale=0.8, x=3)\n",
    "rv"
   ]
  },
  {
   "cell_type": "code",
   "execution_count": 336,
   "id": "d16d8c83",
   "metadata": {},
   "outputs": [
    {
     "data": {
      "text/plain": [
       "0.5"
      ]
     },
     "execution_count": 336,
     "metadata": {},
     "output_type": "execute_result"
    }
   ],
   "source": [
    "# 정규분포는 평균에 대해 좌우대칭\n",
    "# 데이터가 평균값 이하가 될 확률은? 50%\n",
    "stats.norm.cdf(loc=4, scale=0.8, x=4)"
   ]
  },
  {
   "cell_type": "code",
   "execution_count": 337,
   "id": "b051eb8a",
   "metadata": {},
   "outputs": [
    {
     "data": {
      "text/plain": [
       "2.4320288123679563"
      ]
     },
     "execution_count": 337,
     "metadata": {},
     "output_type": "execute_result"
    }
   ],
   "source": [
    "# 하측확률 : '확률변수 X가 N보다 작을 확률은 M퍼센트이다.' 에서 M을 고정하고 N을 구하는 경우\n",
    "# q는 하측확률이며, 하측확률을 주어졌을때 퍼센트포인트 구하기.\n",
    "stats.norm.ppf(loc=4, scale=0.8, q=0.025) "
   ]
  },
  {
   "cell_type": "code",
   "execution_count": 338,
   "id": "1fa71def",
   "metadata": {},
   "outputs": [
    {
     "data": {
      "text/plain": [
       "0.024999999999999977"
      ]
     },
     "execution_count": 338,
     "metadata": {},
     "output_type": "execute_result"
    }
   ],
   "source": [
    "# 퍼센트 포인트가 주어질때 하측확률을 구하기\n",
    "stats.norm.cdf(loc=4, scale=0.8, x=2.4320288123679563)"
   ]
  },
  {
   "cell_type": "code",
   "execution_count": 339,
   "id": "6aab3281",
   "metadata": {},
   "outputs": [
    {
     "data": {
      "text/plain": [
       "4.0"
      ]
     },
     "execution_count": 339,
     "metadata": {},
     "output_type": "execute_result"
    }
   ],
   "source": [
    "# 하측확률이 50%가 되는 퍼센트 포인트는 평균과 일치\n",
    "stats.norm.ppf(loc=4, scale=0.8, q=0.5)"
   ]
  },
  {
   "cell_type": "code",
   "execution_count": 340,
   "id": "cac90846",
   "metadata": {},
   "outputs": [],
   "source": [
    "# [과제] 평균 100, 표준편차 10인 정규분포에서 하측확률이 0.3일 경우의 퍼센트포인트를 구하고\n",
    "#그 pp(퍼센트포인트)를 적용하여 하측확률을 구하세요"
   ]
  },
  {
   "cell_type": "code",
   "execution_count": 341,
   "id": "c4fd4838",
   "metadata": {},
   "outputs": [
    {
     "data": {
      "text/plain": [
       "94.75599487291959"
      ]
     },
     "execution_count": 341,
     "metadata": {},
     "output_type": "execute_result"
    }
   ],
   "source": [
    "stats.norm.ppf(loc=100, scale=10,q=0.3)"
   ]
  },
  {
   "cell_type": "code",
   "execution_count": 342,
   "id": "b684f796",
   "metadata": {},
   "outputs": [
    {
     "data": {
      "text/plain": [
       "0.2999999999999998"
      ]
     },
     "execution_count": 342,
     "metadata": {},
     "output_type": "execute_result"
    }
   ],
   "source": [
    "stats.norm.cdf(loc=100, scale=10, x=94.75599487291959)"
   ]
  },
  {
   "cell_type": "code",
   "execution_count": 343,
   "id": "7e6bba7f",
   "metadata": {},
   "outputs": [],
   "source": [
    "# [과제] 상기 정규분포의 확률밀도함수와 누적분포함수를 시각화하여 하측확률과 pp(퍼센트포인트)간의\n",
    "#관계를 확인하세요."
   ]
  },
  {
   "cell_type": "code",
   "execution_count": 344,
   "id": "90ce6b8f",
   "metadata": {
    "scrolled": true
   },
   "outputs": [
    {
     "data": {
      "image/png": "[encoded data removed]",
      "text/plain": [
       "<Figure size 720x432 with 2 Axes>"
      ]
     },
     "metadata": {
      "needs_background": "light"
     },
     "output_type": "display_data"
    }
   ],
   "source": [
    "fig=plt.figure(figsize=(10,6))\n",
    "ax1 = fig.add_subplot(111)\n",
    "ax2 = ax1.twinx()\n",
    "\n",
    "rv = stats.norm(loc=100, scale=10)\n",
    "xx = np.linspace(60,140,100)\n",
    "\n",
    "pdf = rv.pdf(xx)\n",
    "cdf = rv.cdf(xx)\n",
    "\n",
    "line_pdf = ax1.plot(xx,pdf,color='red',label='PDF')\n",
    "ax1.set_xlabel('num',fontsize=15)\n",
    "ax1.set_ylabel('pdf',rotation=0,fontsize=15,labelpad=20)\n",
    "\n",
    "line_cdf = ax2.plot(xx,cdf,color='blue',label='CDF')\n",
    "ax2.set_ylabel('cdf',rotation=0,fontsize=15,labelpad=20)\n",
    "\n",
    "ax1.legend(loc='center left')\n",
    "ax2.legend(loc='center right')\n",
    "plt.show()\n"
   ]
  },
  {
   "cell_type": "code",
   "execution_count": 345,
   "id": "137ed28f",
   "metadata": {},
   "outputs": [],
   "source": [
    "rv = stats.norm(0,1)"
   ]
  },
  {
   "cell_type": "code",
   "execution_count": 346,
   "id": "147fa302",
   "metadata": {},
   "outputs": [],
   "source": [
    "# Q. 확률밀도함수와 누적분포함수를 하나의 그래프로 시각화하여 비교하세요."
   ]
  },
  {
   "cell_type": "code",
   "execution_count": 347,
   "id": "44c7714d",
   "metadata": {},
   "outputs": [
    {
     "name": "stdout",
     "output_type": "stream",
     "text": [
      "누적 확률이 M이되는 확률변수 값에 직선을 그려드리겠습니다. M을 입력하세요.(0~1사이)1\n"
     ]
    },
    {
     "data": {
      "image/png": "[encoded data removed]",
      "text/plain": [
       "<Figure size 1440x432 with 2 Axes>"
      ]
     },
     "metadata": {
      "needs_background": "light"
     },
     "output_type": "display_data"
    }
   ],
   "source": [
    "from matplotlib import rc\n",
    "rc('font',family='Malgun Gothic') # 한글 인코딩\n",
    "plt.rcParams['axes.unicode_minus'] = False # 음수 부분 처리\n",
    "\n",
    "a = float(input('누적 확률이 M이되는 확률변수 값에 직선을 그려드리겠습니다. M을 입력하세요.(0~1사이)'))\n",
    "rv = stats.norm(0,1)\n",
    "xx = np.linspace(-3,3)\n",
    "pdf = rv.pdf(xx)\n",
    "cdf = rv.cdf(xx)\n",
    "\n",
    "fig = plt.figure(figsize=(20,6))\n",
    "ax1 = fig.add_subplot(121)\n",
    "ax1.set_ylabel('확률밀도함수',rotation=0,fontsize=12,loc='top')\n",
    "ax1.set_xlabel('확률변수 값',fontsize=15)\n",
    "ax1.vlines(rv.ppf(a),0,0.42,colors='gray',ls = ':')\n",
    "lns1 = ax1.plot(xx,pdf,label='pdf',color='cornflowerblue')\n",
    "\n",
    "ax2 = plt.twinx(ax1)\n",
    "lns2 = ax2.set_ylabel('누적분포함수',rotation=0,fontsize=12,loc='bottom')\n",
    "lns2 = ax2.plot(xx,cdf,label='cdf',color='crimson')\n",
    "lns = lns1 + lns2\n",
    "lab = [i.get_label() for i in lns]\n",
    "ax1.legend(lns,lab,loc='upper left',fontsize=15)\n",
    "\n",
    "plt.title('확률밀도함수와 누적분포함수',fontsize=30)\n",
    "plt.show()\n"
   ]
  },
  {
   "cell_type": "code",
   "execution_count": 348,
   "id": "efea1fcc",
   "metadata": {},
   "outputs": [],
   "source": [
    "# Q. 0까지 누적분포"
   ]
  },
  {
   "cell_type": "code",
   "execution_count": 383,
   "id": "4f8beac3",
   "metadata": {},
   "outputs": [
    {
     "data": {
      "text/plain": [
       "0.0"
      ]
     },
     "execution_count": 383,
     "metadata": {},
     "output_type": "execute_result"
    }
   ],
   "source": [
    "rv.cdf(0)"
   ]
  },
  {
   "cell_type": "code",
   "execution_count": 350,
   "id": "4e927074",
   "metadata": {},
   "outputs": [],
   "source": [
    "# Q. 누적분포가 0.5인 X값 "
   ]
  },
  {
   "cell_type": "code",
   "execution_count": 351,
   "id": "9d852309",
   "metadata": {},
   "outputs": [
    {
     "data": {
      "text/plain": [
       "0.0"
      ]
     },
     "execution_count": 351,
     "metadata": {},
     "output_type": "execute_result"
    }
   ],
   "source": [
    "rv.ppf(0.5)\n"
   ]
  },
  {
   "cell_type": "code",
   "execution_count": 352,
   "id": "6b479f19",
   "metadata": {},
   "outputs": [],
   "source": [
    "# Q. 0~1까지의 누적확률분포"
   ]
  },
  {
   "cell_type": "code",
   "execution_count": 353,
   "id": "3be89ca2",
   "metadata": {},
   "outputs": [
    {
     "data": {
      "text/plain": [
       "0.3413447460685429"
      ]
     },
     "execution_count": 353,
     "metadata": {},
     "output_type": "execute_result"
    }
   ],
   "source": [
    "rv.cdf(1) - rv.cdf(0)\n"
   ]
  },
  {
   "cell_type": "code",
   "execution_count": 354,
   "id": "ce89b021",
   "metadata": {},
   "outputs": [],
   "source": [
    "# Q. (-2< x <2) 확률 "
   ]
  },
  {
   "cell_type": "code",
   "execution_count": 355,
   "id": "cc501fa7",
   "metadata": {},
   "outputs": [
    {
     "data": {
      "text/plain": [
       "0.9544997361036416"
      ]
     },
     "execution_count": 355,
     "metadata": {},
     "output_type": "execute_result"
    }
   ],
   "source": [
    "rv.cdf(2) - rv.cdf(-2)"
   ]
  },
  {
   "cell_type": "code",
   "execution_count": 356,
   "id": "4599ace9",
   "metadata": {},
   "outputs": [],
   "source": [
    "# Q. 상위 5% 확률의 퍼센트 포인트"
   ]
  },
  {
   "cell_type": "code",
   "execution_count": 357,
   "id": "a9d2178a",
   "metadata": {},
   "outputs": [
    {
     "data": {
      "text/plain": [
       "1.6448536269514729"
      ]
     },
     "execution_count": 357,
     "metadata": {},
     "output_type": "execute_result"
    }
   ],
   "source": [
    "rv.isf(0.05)"
   ]
  },
  {
   "cell_type": "code",
   "execution_count": 358,
   "id": "9ff84175",
   "metadata": {},
   "outputs": [],
   "source": [
    "# Q. 하위 5% 확률의 퍼센트 포인트"
   ]
  },
  {
   "cell_type": "code",
   "execution_count": 359,
   "id": "0ee3643e",
   "metadata": {},
   "outputs": [
    {
     "data": {
      "text/plain": [
       "1.6448536269514729"
      ]
     },
     "execution_count": 359,
     "metadata": {},
     "output_type": "execute_result"
    }
   ],
   "source": [
    "rv.isf(0.05)"
   ]
  },
  {
   "cell_type": "code",
   "execution_count": 360,
   "id": "49e20a8f",
   "metadata": {},
   "outputs": [
    {
     "data": {
      "text/plain": [
       "1.6448536269514722"
      ]
     },
     "execution_count": 360,
     "metadata": {},
     "output_type": "execute_result"
    }
   ],
   "source": [
    "rv.ppf(0.95)"
   ]
  },
  {
   "cell_type": "code",
   "execution_count": 361,
   "id": "b479c4b0",
   "metadata": {},
   "outputs": [],
   "source": [
    "# Q. 하위 5% 상위 5% 퍼센트 포인트"
   ]
  },
  {
   "cell_type": "code",
   "execution_count": 362,
   "id": "84d60fa2",
   "metadata": {},
   "outputs": [
    {
     "data": {
      "text/plain": [
       "(-1.6448536269514729, 1.6448536269514722)"
      ]
     },
     "execution_count": 362,
     "metadata": {},
     "output_type": "execute_result"
    }
   ],
   "source": [
    "rv.interval(0.9)\n"
   ]
  },
  {
   "cell_type": "markdown",
   "id": "41538ed4",
   "metadata": {},
   "source": [
    " Q. 어느 회사에서 종업원들의 근무시간을 조사하였는데 종업원의 근무기간은 평균이 11년이고 표준편차가 4년인 정규분포를 따른다고 한다. 그럼 이 회사에서 14년이상 근무한 종업원의 비율을 구하세요."
   ]
  },
  {
   "cell_type": "code",
   "execution_count": 363,
   "id": "e63a2c64",
   "metadata": {},
   "outputs": [
    {
     "data": {
      "text/plain": [
       "0.22662735237686826"
      ]
     },
     "execution_count": 363,
     "metadata": {},
     "output_type": "execute_result"
    }
   ],
   "source": [
    "rv1 = stats.norm(11,4)\n",
    "1 - rv1.cdf(14)\n"
   ]
  },
  {
   "cell_type": "markdown",
   "id": "3a4cb322",
   "metadata": {},
   "source": [
    "Q. 어느 전구회사의 전구의 수명은 평균 800일, 표준편차 30일인 정규분포를 따른다. 전구의 수명이 760일 이하일 확률을 구하세요."
   ]
  },
  {
   "cell_type": "code",
   "execution_count": 364,
   "id": "3794a1bd",
   "metadata": {},
   "outputs": [
    {
     "data": {
      "text/plain": [
       "0.09121121972586788"
      ]
     },
     "execution_count": 364,
     "metadata": {},
     "output_type": "execute_result"
    }
   ],
   "source": [
    "rv2 = stats.norm(800,30)\n",
    "rv2.cdf(760)"
   ]
  },
  {
   "cell_type": "markdown",
   "id": "0913348b",
   "metadata": {},
   "source": [
    "Q. 어느 고등학교 3학년 학생들의 수학 성적은 평균이 70점이고 분산이 64점인 정규분포를 따른다고 한다. 그러면 점수가 80점 이상이고 90점 이하일 확률을 구하세요\n"
   ]
  },
  {
   "cell_type": "code",
   "execution_count": 365,
   "id": "714cb97f",
   "metadata": {},
   "outputs": [
    {
     "data": {
      "text/plain": [
       "0.09944010834107919"
      ]
     },
     "execution_count": 365,
     "metadata": {},
     "output_type": "execute_result"
    }
   ],
   "source": [
    "rv3 = stats.norm(70,8)\n",
    "rv3.cdf(90)-rv3.cdf(80)"
   ]
  },
  {
   "cell_type": "markdown",
   "id": "99fc87c1",
   "metadata": {},
   "source": [
    "대표적인 연속형 확률분포\n",
    " - 검정할때 많이 쓰인다."
   ]
  },
  {
   "cell_type": "code",
   "execution_count": 366,
   "id": "9bbc102e",
   "metadata": {},
   "outputs": [],
   "source": [
    "import numpy as np\n",
    "import matplotlib.pyplot as plt\n",
    "from scipy import stats, integrate\n",
    "from scipy.optimize import minimize_scalar\n",
    "\n",
    "linestyles = ['-','--',':']\n",
    "\n",
    "def E(X, g=lambda x:x):\n",
    "    x_range, f=X\n",
    "    def integrand(x):\n",
    "        return g(x)*f(x)\n",
    "    return integrate.quad(integrand, -np.inf, np.inf)[0]\n",
    "\n",
    "def V(X, g=lambda x:x):\n",
    "    x_range, f=X\n",
    "    mean = E(X ,g)\n",
    "    def integrand(x):\n",
    "        return (g(x) -mean)**2*f(x)\n",
    "    return integrate.quad(integrand, -np.inf, np.inf)[0]\n",
    "\n",
    "def check_prob(X):\n",
    "    x_range, f=X\n",
    "    f_min = minimize_scalar(f).fun\n",
    "    assert f_min >=0, 'density function is minus value'\n",
    "    prob_sum = np.round(integrate.quad(f, -np.inf, np.inf)[0],6)\n",
    "    assert prob_sum == 1, f'sum of probability is {prob_sum}'\n",
    "    print(f'expected value{E(X):.3f}')\n",
    "    print(f'variance{V(X):.3f}')\n",
    "    \n",
    "def plot_prob(X, x_min, x_max):  # 확률분포와 구간을 인수로 취하고 그 확률변수의 \n",
    "    x_range, f=X                 # 확률밀도함수와 누적분포를 그리는 함수 \n",
    "    def F(x):\n",
    "        return integrate.quad(f, -np.inf, x)[0]\n",
    "    \n",
    "    xs = np.linspace(x_min,x_max,100)\n",
    "    \n",
    "    fig=plt.figure(figsize=(10,6))\n",
    "    ax=fig.add_subplot(111)\n",
    "    ax.plot(xs, [f(x) for x in xs],\n",
    "           label = 'f(x)', color='gray')\n",
    "    ax.plot(xs, [F(x) for x in xs],\n",
    "           label = 'F(x)', ls='--', color='gray')\n",
    "    \n",
    "    ax.legend()\n",
    "    plt.show()"
   ]
  },
  {
   "cell_type": "markdown",
   "id": "7476d517",
   "metadata": {},
   "source": [
    "#### 정규분포\n",
    " - 통계분석에서 자주 사용되는 중요한 확률분포로 자연계에서 일어나는 수 많은 현상을 표현. 가우스 분포라고 부름\n",
    " - 정규분포가 취할 수 있는 값은 실수 전체로 파라미터는 평균과 분산 두가지이다."
   ]
  },
  {
   "cell_type": "code",
   "execution_count": 367,
   "id": "38e6e5ee",
   "metadata": {},
   "outputs": [],
   "source": [
    "def N(mu, sigma):\n",
    "    x_range = [-np.inf, np.inf]\n",
    "    def f(x):\n",
    "        return 1/ (np.sqrt(2 * np.pi*sigma**2))*sp.exp(-((x-mu)**2)/(2*sigma**2))\n",
    "    return x_range, f"
   ]
  },
  {
   "cell_type": "code",
   "execution_count": 368,
   "id": "516baaa4",
   "metadata": {},
   "outputs": [
    {
     "name": "stdout",
     "output_type": "stream",
     "text": [
      "expected value2.000\n",
      "variance0.250\n"
     ]
    }
   ],
   "source": [
    "mu, sigma =2,0.5\n",
    "X = N(mu, sigma)\n",
    "check_prob(X)"
   ]
  },
  {
   "cell_type": "code",
   "execution_count": 369,
   "id": "75caddc5",
   "metadata": {
    "scrolled": true
   },
   "outputs": [
    {
     "data": {
      "image/png": "[encoded data removed]",
      "text/plain": [
       "<Figure size 720x432 with 1 Axes>"
      ]
     },
     "metadata": {
      "needs_background": "light"
     },
     "output_type": "display_data"
    }
   ],
   "source": [
    "plot_prob(X, 0, 4)"
   ]
  },
  {
   "cell_type": "code",
   "execution_count": 370,
   "id": "9fc1cbf0",
   "metadata": {},
   "outputs": [
    {
     "name": "stdout",
     "output_type": "stream",
     "text": [
      "2.0 0.25\n"
     ]
    }
   ],
   "source": [
    "rv = stats.norm(2,0.5)  # 평균2 , 표준편차 0.5\n",
    "print(rv.mean(),rv.var())"
   ]
  },
  {
   "cell_type": "code",
   "execution_count": 371,
   "id": "2fe72fff",
   "metadata": {},
   "outputs": [
    {
     "data": {
      "text/plain": [
       "0.7978845608028654"
      ]
     },
     "execution_count": 371,
     "metadata": {},
     "output_type": "execute_result"
    }
   ],
   "source": [
    "#퍼센트포인트(pp)가 2일때 확률밀도\n",
    "rv.pdf(2)    # 확률밀도함수"
   ]
  },
  {
   "cell_type": "code",
   "execution_count": 372,
   "id": "781a2478",
   "metadata": {
    "scrolled": true
   },
   "outputs": [
    {
     "data": {
      "text/plain": [
       "0.5"
      ]
     },
     "execution_count": 372,
     "metadata": {},
     "output_type": "execute_result"
    }
   ],
   "source": [
    "# Q. pp가 2일때 하측확률\n",
    "rv.cdf(x=2)   # 누적분포함수"
   ]
  },
  {
   "cell_type": "code",
   "execution_count": 373,
   "id": "148e0172",
   "metadata": {},
   "outputs": [
    {
     "data": {
      "text/plain": [
       "2.2622002563540207"
      ]
     },
     "execution_count": 373,
     "metadata": {},
     "output_type": "execute_result"
    }
   ],
   "source": [
    "# 상위 30% 점\n",
    "rv.isf(0.3)"
   ]
  },
  {
   "cell_type": "code",
   "execution_count": 374,
   "id": "d83bb572",
   "metadata": {},
   "outputs": [
    {
     "data": {
      "text/plain": [
       "(1.020018007729973, 2.979981992270027)"
      ]
     },
     "execution_count": 374,
     "metadata": {},
     "output_type": "execute_result"
    }
   ],
   "source": [
    "# 95% 구간을 구하세요\n",
    "rv.interval(0.95)"
   ]
  },
  {
   "cell_type": "code",
   "execution_count": 375,
   "id": "cdf1f36c",
   "metadata": {},
   "outputs": [
    {
     "data": {
      "text/plain": [
       "(1.1775731865242638, 2.8224268134757367)"
      ]
     },
     "execution_count": 375,
     "metadata": {},
     "output_type": "execute_result"
    }
   ],
   "source": [
    "rv.isf(0.95), rv.isf(0.05)"
   ]
  },
  {
   "cell_type": "code",
   "execution_count": 376,
   "id": "b5da2ea4",
   "metadata": {},
   "outputs": [],
   "source": [
    "# [과제] N(mean, sigma**2)파라미터를 각각(0,1), (0,4), (1,1)로 변경할 때의 정규분포를 비교할 수 있도록 시각화 하세요. "
   ]
  },
  {
   "cell_type": "code",
   "execution_count": 377,
   "id": "29b29411",
   "metadata": {},
   "outputs": [
    {
     "data": {
      "image/png": "[encoded data removed]",
      "text/plain": [
       "<Figure size 720x432 with 1 Axes>"
      ]
     },
     "metadata": {
      "needs_background": "light"
     },
     "output_type": "display_data"
    }
   ],
   "source": [
    "fig = plt.figure(figsize=(10,6))\n",
    "ax = fig.add_subplot(111)\n",
    "\n",
    "xs = np.linspace(-5,5,100)\n",
    "params = [(0,1),(0,2),(1,1)]\n",
    "for param, ls in zip(params, linestyles):\n",
    "    mean, sigma = param\n",
    "    rv = stats.norm(mean, sigma)\n",
    "    ax.plot(xs, rv.pdf(xs),\n",
    "            label=f'N({mean},{sigma**2})', ls=ls, color='gray')\n",
    "ax.legend()\n",
    "\n",
    "plt.show()"
   ]
  },
  {
   "cell_type": "markdown",
   "id": "336ec4c4",
   "metadata": {},
   "source": [
    "#### 지수분포\n",
    " - 어떤 사건이 발생하는 간격이 따르는 분포이며 확률변수가 취할 수 있는 값은 0 이상의 실수\n",
    " - 지수분포의 파라미터는 $\\lambda$로 양의 실수이며 EX($\\lambda$)로 표기한다.\n",
    " - EX($\\lambda$)는 단위시간당 평균 $\\lambda$번 발생하는 사건의 발생 간격에 따르는 확률분포이다."
   ]
  },
  {
   "cell_type": "code",
   "execution_count": 378,
   "id": "65c16338",
   "metadata": {},
   "outputs": [],
   "source": [
    "def Ex(lam):\n",
    "    x_range = [0, np.inf]\n",
    "    def f(x):\n",
    "        if x >=0:\n",
    "            return lam*np.exp(-lam*x)    # exp: 지수함수\n",
    "        else:                             \n",
    "            return 0\n",
    "    return x_range, f"
   ]
  },
  {
   "cell_type": "code",
   "execution_count": 379,
   "id": "e14064c6",
   "metadata": {},
   "outputs": [
    {
     "name": "stdout",
     "output_type": "stream",
     "text": [
      "expected value0.333\n",
      "variance0.111\n"
     ]
    }
   ],
   "source": [
    "lam = 3\n",
    "X = Ex(lam)\n",
    "check_prob(X)"
   ]
  },
  {
   "cell_type": "code",
   "execution_count": 380,
   "id": "869743b4",
   "metadata": {
    "scrolled": true
   },
   "outputs": [
    {
     "data": {
      "image/png": "[encoded data removed]",
      "text/plain": [
       "<Figure size 720x432 with 1 Axes>"
      ]
     },
     "metadata": {
      "needs_background": "light"
     },
     "output_type": "display_data"
    }
   ],
   "source": [
    "plot_prob(X, 0, 2)"
   ]
  },
  {
   "cell_type": "code",
   "execution_count": 381,
   "id": "2e7b000b",
   "metadata": {},
   "outputs": [],
   "source": [
    "# [과제] 파라미터 람다가 1,2,3 으로 변경시 지수분포의 확률분포함수를 시각화하세요."
   ]
  },
  {
   "cell_type": "code",
   "execution_count": 382,
   "id": "a1b4aeff",
   "metadata": {
    "scrolled": true
   },
   "outputs": [
    {
     "data": {
      "image/png": "[encoded data removed]",
      "text/plain": [
       "<Figure size 720x432 with 1 Axes>"
      ]
     },
     "metadata": {
      "needs_background": "light"
     },
     "output_type": "display_data"
    }
   ],
   "source": [
    "fig = plt.figure(figsize=(10,6))\n",
    "ax = fig.add_subplot(111)\n",
    "\n",
    "xs = np.linspace(0,3,100)\n",
    "for lam, ls in zip([1,2,3], linestyles):\n",
    "    rv = stats.expon(scale=1/lam)\n",
    "    ax.plot(xs, rv.pdf(xs),\n",
    "           label=f'lambda:{lam}', ls=ls, color='gray')\n",
    "ax.legend()\n",
    "plt.show()"
   ]
  },
  {
   "cell_type": "code",
   "execution_count": 385,
   "id": "e405be49",
   "metadata": {},
   "outputs": [
    {
     "data": {
      "image/png": "[encoded data removed]",
      "text/plain": [
       "<Figure size 936x576 with 1 Axes>"
      ]
     },
     "metadata": {
      "needs_background": "light"
     },
     "output_type": "display_data"
    }
   ],
   "source": [
    "x = np.linspace(0, 10, 1000)\n",
    "\n",
    "fig = plt.figure(figsize = (13, 8))\n",
    "ax = fig.add_subplot(111)\n",
    "\n",
    "for i in range(1, 4):\n",
    "    lam = i * np.exp(-i * x)\n",
    "    ax.plot(x, lam)\n",
    "    ax.legend(['$\\lambda$ : 1', '$\\lambda$ : 2', '$\\lambda$ : 3'], fontsize = 20)\n"
   ]
  },
  {
   "cell_type": "markdown",
   "id": "730cd95f",
   "metadata": {},
   "source": [
    "#### 카이제곱분포\n",
    " - Z_1, Z_2, ... Z_n이 서로 독립이고 N(0,1)을 따르고 있을 때, 그 제곱합의 확률분포를 자유도가 n인 카이제곱분포라고 한다.\n",
    " - 카이제곱분포는 분산의 구간 추정이나 독립성 검정에서 사용되는 확률분포이다.\n",
    " - 좌우비대칭으로 왼쪽으로 치우치고 오른쪽으로 넓어진다.\n",
    " - 자유도가 커지면 좌우대칭에 가까워진다.\n",
    " - 자유도의 값 가까이에 분포의 정점이 있다.\n",
    " "
   ]
  },
  {
   "cell_type": "code",
   "execution_count": 392,
   "id": "04aabb61",
   "metadata": {},
   "outputs": [],
   "source": [
    "n = 10\n",
    "rv = stats.norm()\n",
    "sample_size = int(1e6)\n",
    "z_sample = rv.rvs((n, sample_size))\n",
    "z_sample.shape\n",
    "chi2_sample = np.sum(z_sample**2,axis=0)"
   ]
  },
  {
   "cell_type": "code",
   "execution_count": 396,
   "id": "f0be128c",
   "metadata": {
    "scrolled": false
   },
   "outputs": [
    {
     "data": {
      "image/png": "[encoded data removed]",
      "text/plain": [
       "<Figure size 720x432 with 1 Axes>"
      ]
     },
     "metadata": {
      "needs_background": "light"
     },
     "output_type": "display_data"
    }
   ],
   "source": [
    "plt.figure(figsize=(10,6))\n",
    "rv_true = stats.chi2(n)\n",
    "xs = np.linspace(0,30,100)\n",
    "plt.hist(chi2_sample, bins=100, density=True,\n",
    "       alpha = 0.5, label='chi2_sample')\n",
    "\n",
    "plt.plot(xs, rv_true.pdf(xs), label=f'chi({n})', color='gray')\n",
    "plt.legend()\n",
    "plt.xlim(0,30)\n",
    "plt.show()"
   ]
  },
  {
   "cell_type": "code",
   "execution_count": 414,
   "id": "21cd8b43",
   "metadata": {},
   "outputs": [],
   "source": [
    "# 자유도 변화에 따른 카이제곱 분포(p331~332참조): 자유도를 3,5,10으로 변화"
   ]
  },
  {
   "cell_type": "markdown",
   "id": "af744296",
   "metadata": {},
   "source": [
    "https://www.jmp.com/ko_kr/statistics-knowledge-portal/chi-square-test/chi-square-test-of-independence.html\n"
   ]
  },
  {
   "cell_type": "code",
   "execution_count": 398,
   "id": "f3a9bc4a",
   "metadata": {
    "scrolled": true
   },
   "outputs": [
    {
     "data": {
      "image/png": "[encoded data removed]",
      "text/plain": [
       "<Figure size 720x432 with 1 Axes>"
      ]
     },
     "metadata": {
      "needs_background": "light"
     },
     "output_type": "display_data"
    }
   ],
   "source": [
    "plt.figure(figsize=(10,6))\n",
    "xs = np.linspace(0, 20,500)\n",
    "for n,ls in zip([3,5,10],linestyles):\n",
    "    rv =stats.chi2(n)\n",
    "    plt.plot(xs, rv.pdf(xs),\n",
    "           label=f'chi2({n})', ls=ls, color='blue')\n",
    "\n",
    "ax.legend()\n",
    "plt.show()"
   ]
  },
  {
   "cell_type": "code",
   "execution_count": 400,
   "id": "9622ed3e",
   "metadata": {},
   "outputs": [
    {
     "data": {
      "text/plain": [
       "11.070497693516355"
      ]
     },
     "execution_count": 400,
     "metadata": {},
     "output_type": "execute_result"
    }
   ],
   "source": [
    "# 자유도 n = 5, 상위 5%의 확률\n",
    "rv = stats.chi2(5)\n",
    "rv.isf(0.05)"
   ]
  },
  {
   "cell_type": "markdown",
   "id": "5aa3f06c",
   "metadata": {},
   "source": [
    "### t분포 ( 표본 샘플이 적어질수록 불확실성이 커지기 때문에  유용함)\n",
    " - 정규분포에서 모평균의 구간추정 등에 사용되는 확률분포\n",
    " - 확률변수 Z,Y는 서로 독립이고 Z는 표준정규분포 N(0,1)을 Y는 자유도가 n인 카이제곱분포 $\\chi^2(n)$을 따를 때 t = ${Z}\\over{\\sqrt{{Y}\\over{n}}}$의 확률분포를 자유도가 n인 t분포라고 한다.\n",
    " - t분포의 의미\n",
    "  * 모분산을 모르는 상황에서도 표본평균의 분포에 대하여 얘기할 수 있다. \n",
    "  * t분포를 만들 때 표본에서 계산한 표분오차로 표본평균을 표준화함\n",
    "  * 표본에서 계산한 표준오차로 표본평균을 표준화했을 경우의 결과가 t분포를 따른다는 사실을 이용하면 얻어진 표본평균에 관한 불확실성을 짐작할 수 있다.\n",
    " - t분포의 특성\n",
    "  * t분포는 모집단이 정규분포이더라도 분산 $\\sigma^2$이 알려져 있지 않고 표본의 수가 적은 경우에 평균 $\\mu$에 대한 신뢰구간 추정 및 가설검증에 아주 유용하게 쓰이는 분포이다.\n",
    "  * t분포는 표준정규분포처럼 0을 중심으로 중형의 모습을 가진 대칭분포이다.\n",
    "  * t분포는 꼬리는 표준정규분포보다 두껍다.(fat tail)\n",
    "  * t분포는 자유도 n에 따라 모습이 변하는데 자유도 n이 커짐에 따라 표준정규분포 N(0,1)에 수렴한다. 통상 모집단의 분산이 알려져 있지 않을경우 표본분포를 결정할 때 표본의 크기가 30이하이면 t분포를 이용하며, 표본의 크기가 30 이상이면 표준정규분포를 이용한다. \n",
    "  "
   ]
  },
  {
   "cell_type": "code",
   "execution_count": 401,
   "id": "f405a86a",
   "metadata": {},
   "outputs": [],
   "source": [
    "n = 10\n",
    "rv1 =stats.norm()\n",
    "rv2 =stats.chi2(n)\n",
    "\n",
    "sample_size = int(1e6)\n",
    "z_sample = rv1.rvs(sample_size)\n",
    "chi2_sample = rv2.rvs(sample_size)\n",
    "\n",
    "t_sample = z_sample / np.sqrt(chi2_sample/n)"
   ]
  },
  {
   "cell_type": "code",
   "execution_count": null,
   "id": "4b16de92",
   "metadata": {},
   "outputs": [],
   "source": [
    "# 표본데이터의 히스토그램과 밀도함수"
   ]
  },
  {
   "cell_type": "code",
   "execution_count": 409,
   "id": "f6901487",
   "metadata": {
    "scrolled": false
   },
   "outputs": [
    {
     "data": {
      "image/png": "[encoded data removed]",
      "text/plain": [
       "<Figure size 720x432 with 1 Axes>"
      ]
     },
     "metadata": {
      "needs_background": "light"
     },
     "output_type": "display_data"
    }
   ],
   "source": [
    "fig = plt.figure(figsize=(10,6))\n",
    "ax = fig.add_subplot(111)\n",
    "\n",
    "rv = stats.t(n)\n",
    "xs = np.linspace(-10,10,100)\n",
    "ax.hist(t_sample, bins=100, range=(-5,5),\n",
    "       density=True, alpha=0.5, label='t_sample')\n",
    "ax.plot(xs, rv.pdf(xs), label=f't({n})',color='blue')\n",
    "\n",
    "ax.legend()\n",
    "ax.set_xlim(-3,3)\n",
    "plt.show()"
   ]
  },
  {
   "cell_type": "code",
   "execution_count": null,
   "id": "7ed02296",
   "metadata": {},
   "outputs": [],
   "source": [
    "# Q. 자유도 n을 3,5,10,으로 변화 시킬 경우 분포형태를 시각화하여 비교하세요"
   ]
  },
  {
   "cell_type": "code",
   "execution_count": 410,
   "id": "dd935d84",
   "metadata": {
    "scrolled": true
   },
   "outputs": [
    {
     "data": {
      "image/png": "[encoded data removed]",
      "text/plain": [
       "<Figure size 720x432 with 1 Axes>"
      ]
     },
     "metadata": {
      "needs_background": "light"
     },
     "output_type": "display_data"
    }
   ],
   "source": [
    "fig = plt.figure(figsize=(10,6))\n",
    "ax = fig.add_subplot(111)\n",
    "\n",
    "xs = np.linspace(-5,5,100)\n",
    "for n, ls in zip([3,5,10], linestyles):\n",
    "    rv = stats.t(n)\n",
    "    ax.plot(xs, rv.pdf(xs),\n",
    "           label = f't({n})', ls=ls, color='gray')\n",
    "rv = stats.norm()\n",
    "ax.plot(xs, rv.pdf(xs), label='N(0,1)')\n",
    "ax.legend()\n",
    "plt.show()"
   ]
  },
  {
   "cell_type": "code",
   "execution_count": 411,
   "id": "b65f8955",
   "metadata": {},
   "outputs": [
    {
     "data": {
      "image/png": "[encoded data removed]",
      "text/plain": [
       "<Figure size 720x360 with 1 Axes>"
      ]
     },
     "metadata": {
      "needs_background": "light"
     },
     "output_type": "display_data"
    }
   ],
   "source": [
    "color = ['lightcoral','orange','cornflowerblue']\n",
    "freedom = [3,5,10]\n",
    "plt.figure(figsize=(10,5))\n",
    "xrange = np.linspace(-5,5,100)\n",
    "for i,color in zip(freedom, color):\n",
    "    plt.plot(xrange, stats.t(i).pdf(xrange), color=color,\n",
    "            label = f'n {i}')\n",
    "plt.plot(xrange,stats.norm().pdf(xrange), color='mediumpurple', label='N(0,1)')\n",
    "plt.legend()\n",
    "plt.show()\n"
   ]
  },
  {
   "cell_type": "code",
   "execution_count": 406,
   "id": "23065fbc",
   "metadata": {},
   "outputs": [],
   "source": [
    "# Q. 자유도가 5인 t분포의 상위 5%의 확률"
   ]
  },
  {
   "cell_type": "code",
   "execution_count": 413,
   "id": "5da9a048",
   "metadata": {},
   "outputs": [
    {
     "name": "stdout",
     "output_type": "stream",
     "text": [
      "2.0150483726691575\n",
      "2.015048372669157\n"
     ]
    },
    {
     "data": {
      "text/plain": [
       "0.05000000004235261"
      ]
     },
     "execution_count": 413,
     "metadata": {},
     "output_type": "execute_result"
    }
   ],
   "source": [
    "rv = stats.t(5)\n",
    "print(rv.isf(0.05))\n",
    "print(rv.ppf(0.95))\n",
    "1 - rv.cdf(2.015048372669157) "
   ]
  },
  {
   "cell_type": "markdown",
   "id": "26011572",
   "metadata": {},
   "source": [
    "#### F분포\n",
    " - 확률변수 $Y_1, Y_2는 서로 독립이고 각각 Y_1$ ~ ${\\chi}^2(n_1), Y_2$ ~ ${{\\chi}^2(n_2)}$를 따를 때, F = ${Y_1/n_1}\\over{Y_2/n_2}$의 확률분포를 자유도 $n_1,n_2$인 F분포 F$(n_1,n_2)$라고 한다.\n",
    " - 좌우 비대칭으로 왼쪽으로 치우치고 오른쪽으로 넓어지는 분포이다.\n",
    " - F분포가 취할 수 있는 값은 0 이상인 실수이며 분포의 정점은 1에 가깝다."
   ]
  },
  {
   "cell_type": "code",
   "execution_count": 415,
   "id": "46e6eb47",
   "metadata": {},
   "outputs": [],
   "source": [
    "n1 = 5\n",
    "n2 = 10\n",
    "rv1 = stats.chi2(n1)\n",
    "rv2 = stats.chi2(n2)\n",
    "\n",
    "sample_size = int(1e6)\n",
    "sample1 = rv1.rvs(sample_size)\n",
    "sample2 = rv2.rvs(sample_size)\n",
    "\n",
    "f_sample = (sample1/n1) / (sample2/n2)"
   ]
  },
  {
   "cell_type": "code",
   "execution_count": null,
   "id": "31b228ff",
   "metadata": {},
   "outputs": [],
   "source": [
    "# Q. 표본데이터의 히스토그램 밀도함수"
   ]
  },
  {
   "cell_type": "code",
   "execution_count": 416,
   "id": "bc5eeadf",
   "metadata": {},
   "outputs": [
    {
     "data": {
      "image/png": "[encoded data removed]",
      "text/plain": [
       "<Figure size 720x432 with 1 Axes>"
      ]
     },
     "metadata": {
      "needs_background": "light"
     },
     "output_type": "display_data"
    }
   ],
   "source": [
    "fig = plt.figure(figsize=(10,6))\n",
    "ax = fig.add_subplot(111)\n",
    "\n",
    "rv = stats.f(n1,n2)\n",
    "xs = np.linspace(0,6,200)[1:]\n",
    "ax.hist(f_sample, bins=100, range=(0,6),\n",
    "       density=True, alpha=0.5, label = 'f_sample')\n",
    "ax.plot(xs, rv.pdf(xs), label=f'F({n1},{n2})',color = 'gray')\n",
    "\n",
    "ax.legend()\n",
    "ax.set_xlim(0,6)\n",
    "plt.show()"
   ]
  },
  {
   "cell_type": "code",
   "execution_count": null,
   "id": "c7526f36",
   "metadata": {},
   "outputs": [],
   "source": [
    "# Q. n2를 10으로 고정하고 n1을 3,5,10으로 변화시킬 때 분포 형태를 시각화하여 비교하세요."
   ]
  },
  {
   "cell_type": "code",
   "execution_count": 417,
   "id": "7bb532ef",
   "metadata": {},
   "outputs": [
    {
     "data": {
      "image/png": "[encoded data removed]",
      "text/plain": [
       "<Figure size 720x432 with 1 Axes>"
      ]
     },
     "metadata": {
      "needs_background": "light"
     },
     "output_type": "display_data"
    }
   ],
   "source": [
    "fig = plt.figure(figsize=(10,6))\n",
    "ax = fig.add_subplot(111)\n",
    "\n",
    "xs= np.linspace(0,6,200)[1:]\n",
    "for n1, ls in zip([3,5,10], linestyles):\n",
    "    rv = stats.f(n1,10)\n",
    "    ax.plot(xs, rv.pdf(xs),\n",
    "           label = f'F({n1},10)', ls=ls, color='gray')\n",
    "ax.legend()\n",
    "plt.show()"
   ]
  },
  {
   "cell_type": "code",
   "execution_count": null,
   "id": "de185929",
   "metadata": {},
   "outputs": [],
   "source": [
    "# n1을 5로 고정하고 n2를 5,10,15로 변화시킬 때 분포 형태를 시각화 하여 비교하세요."
   ]
  },
  {
   "cell_type": "code",
   "execution_count": 422,
   "id": "95c01529",
   "metadata": {
    "scrolled": true
   },
   "outputs": [
    {
     "ename": "SyntaxError",
     "evalue": "invalid syntax (Temp/ipykernel_712/3709015977.py, line 9)",
     "output_type": "error",
     "traceback": [
      "\u001b[1;36m  File \u001b[1;32m\"C:\\Users\\admin\\AppData\\Local\\Temp/ipykernel_712/3709015977.py\"\u001b[1;36m, line \u001b[1;32m9\u001b[0m\n\u001b[1;33m    ax.legend()\u001b[0m\n\u001b[1;37m    ^\u001b[0m\n\u001b[1;31mSyntaxError\u001b[0m\u001b[1;31m:\u001b[0m invalid syntax\n"
     ]
    }
   ],
   "source": [
    "fig = plt.figure(figsize=(10,6))\n",
    "ax = fig.add_subplot(111)\n",
    "\n",
    "xs = np.linspace(0,6,200)[1:]\n",
    "for n2, ls in zip( [5,10,15], linestyle):\n",
    "    rv = stats.f(5,n2)\n",
    "    ax.plot(xs,rv.pdf(xs),\n",
    "           label = f'F(5,{n2})', ls=ls, color=color\n",
    "ax.legend()\n",
    "plt.show()"
   ]
  },
  {
   "cell_type": "code",
   "execution_count": 423,
   "id": "f7cd8d6e",
   "metadata": {
    "scrolled": true
   },
   "outputs": [
    {
     "data": {
      "image/png": "[encoded data removed]",
      "text/plain": [
       "<Figure size 720x432 with 1 Axes>"
      ]
     },
     "metadata": {
      "needs_background": "light"
     },
     "output_type": "display_data"
    }
   ],
   "source": [
    "plt.figure(figsize=(10,6))\n",
    "color = ['yellowgreen','dodgerblue','deeppink']\n",
    "xs = np.linspace(0,6,200)\n",
    "for n2,ls,color in zip([5,10,15],linestyles,color):\n",
    "    rv = stats.f(n1,n2)\n",
    "    plt.plot(xs,rv.pdf(xs),label=f'f ({n1},{n2})',ls=ls,color=color)\n",
    "plt.legend(fontsize=13)\n",
    "plt.title('n2의 변화에 따른 확률밀도함수',fontsize=20)\n",
    "plt.show()\n"
   ]
  },
  {
   "cell_type": "code",
   "execution_count": null,
   "id": "6ecaaea7",
   "metadata": {},
   "outputs": [],
   "source": []
  }
 ],
 "metadata": {
  "kernelspec": {
   "display_name": "Python 3 (ipykernel)",
   "language": "python",
   "name": "python3"
  },
  "language_info": {
   "codemirror_mode": {
    "name": "ipython",
    "version": 3
   },
   "file_extension": ".py",
   "mimetype": "text/x-python",
   "name": "python",
   "nbconvert_exporter": "python",
   "pygments_lexer": "ipython3",
   "version": "3.8.12"
  }
 },
 "nbformat": 4,
 "nbformat_minor": 5
}
