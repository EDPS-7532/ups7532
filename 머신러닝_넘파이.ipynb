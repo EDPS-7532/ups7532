{
 "cells": [
  {
   "cell_type": "code",
   "execution_count": 1,
   "id": "522e33ba",
   "metadata": {},
   "outputs": [],
   "source": [
    "import numpy as np"
   ]
  },
  {
   "cell_type": "code",
   "execution_count": 5,
   "id": "ba2b5c68",
   "metadata": {
    "scrolled": true
   },
   "outputs": [
    {
     "name": "stdout",
     "output_type": "stream",
     "text": [
      "[1 2 3] <class 'numpy.ndarray'> (3,)\n",
      "[[1 2 3]\n",
      " [2 3 4]] <class 'numpy.ndarray'> (2, 3)\n",
      "[[[1 2 3]]] <class 'numpy.ndarray'> (1, 1, 3)\n"
     ]
    }
   ],
   "source": [
    "array1 = np.array([1,2,3])\n",
    "array2 = np.array([[1,2,3],\n",
    "                  [2,3,4]])\n",
    "array3 = np.array([[[1,2,3]]])\n",
    "print(array1,type(array1),array1.shape)\n",
    "print(array2,type(array2),array2.shape)\n",
    "print(array3,type(array3),array3.shape)"
   ]
  },
  {
   "cell_type": "code",
   "execution_count": 7,
   "id": "14bf1db6",
   "metadata": {},
   "outputs": [
    {
     "name": "stdout",
     "output_type": "stream",
     "text": [
      "float64\n",
      "int32\n"
     ]
    }
   ],
   "source": [
    "array_int = np.array([1,2,3])\n",
    "array_float = array_int.astype('float64')\n",
    "print(array_float.dtype)\n",
    "# 그 반대의 경우\n",
    "array_int2 = array_float.astype('int32')\n",
    "print(array_int2.dtype)"
   ]
  },
  {
   "cell_type": "code",
   "execution_count": 10,
   "id": "83e2c6f0",
   "metadata": {},
   "outputs": [
    {
     "name": "stdout",
     "output_type": "stream",
     "text": [
      "[[0 0]\n",
      " [0 0]\n",
      " [0 0]]\n"
     ]
    }
   ],
   "source": [
    "zero_array = np.zeros((3,2),dtype='int')\n",
    "print(zero_array)"
   ]
  },
  {
   "cell_type": "code",
   "execution_count": 11,
   "id": "4d34f23f",
   "metadata": {
    "scrolled": true
   },
   "outputs": [
    {
     "name": "stdout",
     "output_type": "stream",
     "text": [
      "[[1. 1.]\n",
      " [1. 1.]\n",
      " [1. 1.]] float64\n"
     ]
    }
   ],
   "source": [
    "one_array = np.ones((3,2))\n",
    "print(one_array, one_array.dtype)"
   ]
  },
  {
   "cell_type": "code",
   "execution_count": 12,
   "id": "71b17e65",
   "metadata": {},
   "outputs": [
    {
     "name": "stdout",
     "output_type": "stream",
     "text": [
      "[0 1 2 3 4 5 6 7 8 9] (10,)\n"
     ]
    }
   ],
   "source": [
    "#reshape\n",
    "ar1 = np.arange(10)\n",
    "print(ar1,ar1.shape)"
   ]
  },
  {
   "cell_type": "code",
   "execution_count": 15,
   "id": "1c524dac",
   "metadata": {},
   "outputs": [],
   "source": [
    "ar2 = np.arange(10).reshape(2,5)\n"
   ]
  },
  {
   "cell_type": "code",
   "execution_count": null,
   "id": "d394e633",
   "metadata": {},
   "outputs": [],
   "source": [
    "ar3 = np.arrange(10)."
   ]
  },
  {
   "cell_type": "code",
   "execution_count": null,
   "id": "9adc8c41",
   "metadata": {},
   "outputs": [],
   "source": [
    "# reshape,-1"
   ]
  },
  {
   "cell_type": "code",
   "execution_count": null,
   "id": "58a9c2ac",
   "metadata": {},
   "outputs": [],
   "source": [
    "ar1 = np.arange(10)\n",
    "print(ar1,ar1.shape)\n",
    "print(ar1.reshape(2,-1))\n",
    "print(ar1.reshape(-1,2,5))\n"
   ]
  },
  {
   "cell_type": "code",
   "execution_count": null,
   "id": "d1195511",
   "metadata": {
    "scrolled": true
   },
   "outputs": [],
   "source": [
    "# 3차원 >>1,2차원\n",
    "ar3 = np.arange(8),reshape((2,2,2))\n",
    "ar3 "
   ]
  },
  {
   "cell_type": "code",
   "execution_count": null,
   "id": "f4d1d774",
   "metadata": {},
   "outputs": [],
   "source": [
    "ar3 = np.arange(8).reshape((2,2,2))\n",
    "ar2 = ar3.reshape(-1,2)\n",
    "ar1 = ar3.reshape(-1,)\n",
    "print(ar3, ar3.shape)\n",
    "print(ar2, ar2.shape)\n",
    "print(ar1, ar1.shape)\n"
   ]
  },
  {
   "cell_type": "code",
   "execution_count": 22,
   "id": "9cd51e42",
   "metadata": {},
   "outputs": [
    {
     "name": "stdout",
     "output_type": "stream",
     "text": [
      "[1 2 3 4 5 6 7 8 9]\n",
      "2\n",
      "9\n",
      "7\n"
     ]
    }
   ],
   "source": [
    "# indexing\n",
    "ar1 = np.arange(1,10)\n",
    "print(ar1)\n",
    "value = ar1[1]\n",
    "print(value)\n",
    "print(ar1[-1])\n",
    "print(ar1[-3])"
   ]
  },
  {
   "cell_type": "code",
   "execution_count": 24,
   "id": "a19b1fc3",
   "metadata": {},
   "outputs": [
    {
     "name": "stdout",
     "output_type": "stream",
     "text": [
      "[[1 2 3]\n",
      " [4 5 6]\n",
      " [7 8 9]]\n"
     ]
    }
   ],
   "source": [
    "ar2d = np.arange(1,10).reshape(3,3)\n",
    "print(ar2d)"
   ]
  },
  {
   "cell_type": "code",
   "execution_count": 25,
   "id": "4c5e3bd4",
   "metadata": {},
   "outputs": [
    {
     "name": "stdout",
     "output_type": "stream",
     "text": [
      "1\n",
      "2\n",
      "4\n",
      "9\n"
     ]
    }
   ],
   "source": [
    "print(ar2d[0,0])\n",
    "print(ar2d[0,1])\n",
    "print(ar2d[1,0])\n",
    "print(ar2d[2,2])"
   ]
  },
  {
   "cell_type": "code",
   "execution_count": 26,
   "id": "b7370f8b",
   "metadata": {},
   "outputs": [
    {
     "name": "stdout",
     "output_type": "stream",
     "text": [
      "[ 1  2  3  4  5  6  7  8  9 10 11 12 13 14 15 16 17 18 19]\n"
     ]
    }
   ],
   "source": [
    "#slicing\n",
    "ar1 = np.arange(1,20)\n",
    "print(ar1)"
   ]
  },
  {
   "cell_type": "code",
   "execution_count": 28,
   "id": "bb25a98e",
   "metadata": {},
   "outputs": [
    {
     "name": "stdout",
     "output_type": "stream",
     "text": [
      "[4 5 6]\n",
      "[16 17 18]\n"
     ]
    }
   ],
   "source": [
    "arr1 = ar1[3:6]\n",
    "arr2 = ar1[-4:-1]\n",
    "print(arr1)\n",
    "print(arr2)"
   ]
  },
  {
   "cell_type": "code",
   "execution_count": 29,
   "id": "959123d1",
   "metadata": {},
   "outputs": [
    {
     "name": "stdout",
     "output_type": "stream",
     "text": [
      "[[1 2 3]\n",
      " [4 5 6]\n",
      " [7 8 9]]\n"
     ]
    }
   ],
   "source": [
    "ar2d = np.arange(1,10).reshape(3,3)\n",
    "print(ar2d)"
   ]
  },
  {
   "cell_type": "code",
   "execution_count": 31,
   "id": "05a34a33",
   "metadata": {},
   "outputs": [
    {
     "name": "stdout",
     "output_type": "stream",
     "text": [
      "[[1 2]\n",
      " [4 5]]\n"
     ]
    }
   ],
   "source": [
    "print(ar2d[:2,:2])"
   ]
  },
  {
   "cell_type": "code",
   "execution_count": 33,
   "id": "f3a598cc",
   "metadata": {
    "scrolled": true
   },
   "outputs": [
    {
     "name": "stdout",
     "output_type": "stream",
     "text": [
      "[[4 5 6]\n",
      " [7 8 9]]\n",
      "[[4 5 6]\n",
      " [7 8 9]]\n"
     ]
    }
   ],
   "source": [
    "print(ar2d[1:3,0:3])\n",
    "print(ar2d[1:3,:])"
   ]
  },
  {
   "cell_type": "code",
   "execution_count": 34,
   "id": "0665cf36",
   "metadata": {},
   "outputs": [
    {
     "name": "stdout",
     "output_type": "stream",
     "text": [
      "[[2 3]\n",
      " [5 6]]\n"
     ]
    }
   ],
   "source": [
    "print(ar2d[:2,1:])"
   ]
  },
  {
   "cell_type": "code",
   "execution_count": 35,
   "id": "edeb20ca",
   "metadata": {
    "scrolled": true
   },
   "outputs": [
    {
     "name": "stdout",
     "output_type": "stream",
     "text": [
      "[1 4]\n"
     ]
    }
   ],
   "source": [
    "print(ar2d[:2,0])\n"
   ]
  },
  {
   "cell_type": "code",
   "execution_count": 40,
   "id": "9e5f4395",
   "metadata": {},
   "outputs": [
    {
     "name": "stdout",
     "output_type": "stream",
     "text": [
      "[[1 2 3]\n",
      " [4 5 6]\n",
      " [7 8 9]]\n"
     ]
    }
   ],
   "source": [
    "# fancy indexing\n",
    "ar2 = np.arange(1,10).reshape(3,3)\n",
    "print(ar1)"
   ]
  },
  {
   "cell_type": "code",
   "execution_count": 41,
   "id": "2f8618c4",
   "metadata": {},
   "outputs": [
    {
     "name": "stdout",
     "output_type": "stream",
     "text": [
      "[3 6]\n"
     ]
    }
   ],
   "source": [
    "print(ar2[[0,1],2])"
   ]
  },
  {
   "cell_type": "code",
   "execution_count": 43,
   "id": "c91f0aa3",
   "metadata": {
    "scrolled": true
   },
   "outputs": [
    {
     "name": "stdout",
     "output_type": "stream",
     "text": [
      "[[1 2]\n",
      " [4 5]]\n"
     ]
    }
   ],
   "source": [
    "print(ar2[[0,1],0:2])"
   ]
  },
  {
   "cell_type": "code",
   "execution_count": 44,
   "id": "66dedacc",
   "metadata": {},
   "outputs": [
    {
     "name": "stdout",
     "output_type": "stream",
     "text": [
      "[[1 2 3]\n",
      " [4 5 6]]\n"
     ]
    }
   ],
   "source": [
    "print(ar2[[0,1]])"
   ]
  },
  {
   "cell_type": "code",
   "execution_count": 36,
   "id": "63b88b1d",
   "metadata": {},
   "outputs": [
    {
     "name": "stdout",
     "output_type": "stream",
     "text": [
      "[1 2 3 4 5 6 7 8 9]\n"
     ]
    }
   ],
   "source": [
    "# boolean indexing\n",
    "ar1 = np.arange(1,10)\n",
    "print(ar1)"
   ]
  },
  {
   "cell_type": "code",
   "execution_count": 37,
   "id": "5332c66b",
   "metadata": {
    "scrolled": true
   },
   "outputs": [
    {
     "name": "stdout",
     "output_type": "stream",
     "text": [
      "[6 7 8 9]\n"
     ]
    }
   ],
   "source": [
    "ar2 = ar1[ar1>5]\n",
    "print(ar2)"
   ]
  },
  {
   "cell_type": "code",
   "execution_count": 51,
   "id": "4e362b54",
   "metadata": {},
   "outputs": [
    {
     "name": "stdout",
     "output_type": "stream",
     "text": [
      "[3 1 9 5]\n",
      "[1 3 5 9]\n",
      "[3 1 9 5]\n",
      "None\n",
      "[1 3 5 9]\n"
     ]
    }
   ],
   "source": [
    "# 첫번째는 np.sort() : 원본 미반영\n",
    "ar = np.array([3,1,9,5])\n",
    "print(ar)\n",
    "sort_ar = np.sort(ar)\n",
    "print(sort_ar)\n",
    "# ndarray.sort() : 원본 반영\n",
    "print(ar)\n",
    "sort_ar1 = ar.sort()\n",
    "print(sort_ar1)\n",
    "print(ar)"
   ]
  },
  {
   "cell_type": "code",
   "execution_count": 54,
   "id": "0c9952d0",
   "metadata": {
    "scrolled": true
   },
   "outputs": [
    {
     "name": "stdout",
     "output_type": "stream",
     "text": [
      "[9 5 3 1]\n"
     ]
    }
   ],
   "source": [
    "# 내림차순 정렬\n",
    "sort_ar_desc = np.sort(ar)[::-1] # ::은 역순\n",
    "print(sort_ar_desc)"
   ]
  },
  {
   "cell_type": "code",
   "execution_count": 58,
   "id": "943ef3b0",
   "metadata": {},
   "outputs": [
    {
     "name": "stdout",
     "output_type": "stream",
     "text": [
      "[[ 8 12]\n",
      " [ 7  1]]\n",
      "[[ 7  1]\n",
      " [ 8 12]]\n",
      "[[ 8 12]\n",
      " [ 1  7]]\n"
     ]
    }
   ],
   "source": [
    "# 2차원 이상에서 정렬하는방법\n",
    "ar2 = np.array([[8,12],\n",
    "                [7,1]])\n",
    "print(ar2)\n",
    "sort_ar2_axis0 = np.sort(ar2,axis=0)\n",
    "print(sort_ar2_axis0)\n",
    "sort_ar1_axis1 = np.sort(ar2,axis=1)\n",
    "print(sort_ar1_axis1)"
   ]
  },
  {
   "cell_type": "code",
   "execution_count": 61,
   "id": "f976d805",
   "metadata": {},
   "outputs": [
    {
     "name": "stdout",
     "output_type": "stream",
     "text": [
      "[3 1 9 5]\n",
      "[1 0 3 2]\n"
     ]
    }
   ],
   "source": [
    "# 정렬 행렬의 인덱스 반환\n",
    "ar = np.array([3,1,9,5])\n",
    "print(ar)\n",
    "sort_indices = np.argsort(ar)\n",
    "print(sort_indices) # 3,1,9,5의 순서를 나타내기 1은1번째,3은 2번째"
   ]
  },
  {
   "cell_type": "code",
   "execution_count": 64,
   "id": "d4dfcb8f",
   "metadata": {},
   "outputs": [],
   "source": [
    "# 행렬내적\n",
    "a = np.array([[1,2,3],\n",
    "             [4,5,6]])\n",
    "b = np.array([[7,8],\n",
    "             [9,10],\n",
    "             [11,12]])"
   ]
  },
  {
   "cell_type": "code",
   "execution_count": 65,
   "id": "6b8703e3",
   "metadata": {},
   "outputs": [
    {
     "data": {
      "text/plain": [
       "array([[ 58,  64],\n",
       "       [139, 154]])"
      ]
     },
     "execution_count": 65,
     "metadata": {},
     "output_type": "execute_result"
    }
   ],
   "source": [
    " np.dot(a,b)"
   ]
  },
  {
   "cell_type": "code",
   "execution_count": 68,
   "id": "cdc45f07",
   "metadata": {},
   "outputs": [],
   "source": [
    "# 전치행렬\n",
    "a = np.array([[1,2],\n",
    "             [3,4]])"
   ]
  },
  {
   "cell_type": "code",
   "execution_count": 69,
   "id": "23c1fbe2",
   "metadata": {
    "scrolled": true
   },
   "outputs": [
    {
     "data": {
      "text/plain": [
       "array([[1, 3],\n",
       "       [2, 4]])"
      ]
     },
     "execution_count": 69,
     "metadata": {},
     "output_type": "execute_result"
    }
   ],
   "source": [
    "ap = np.transpose(a)\n",
    "a.T"
   ]
  },
  {
   "cell_type": "code",
   "execution_count": null,
   "id": "bf5866bd",
   "metadata": {},
   "outputs": [],
   "source": []
  }
 ],
 "metadata": {
  "kernelspec": {
   "display_name": "Python 3 (ipykernel)",
   "language": "python",
   "name": "python3"
  },
  "language_info": {
   "codemirror_mode": {
    "name": "ipython",
    "version": 3
   },
   "file_extension": ".py",
   "mimetype": "text/x-python",
   "name": "python",
   "nbconvert_exporter": "python",
   "pygments_lexer": "ipython3",
   "version": "3.9.7"
  }
 },
 "nbformat": 4,
 "nbformat_minor": 5
}
