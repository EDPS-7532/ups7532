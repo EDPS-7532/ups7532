{
 "cells": [
  {
   "cell_type": "markdown",
   "id": "bc950ba4",
   "metadata": {},
   "source": [
    "## Python Numpy 선형대수\n",
    "\n",
    "- 단위행렬 (Unit matrix): np.eye(n)\n",
    "- 대각행렬 (Diagonal matrix): np.diag(x)\n",
    "- 내적 (Dot product, Inner product): np.dot(a, b)\n",
    "- 대각합 (Trace): np.trace(x)\n",
    "- 행렬식 (Matrix Determinant): np.linalg.det(x)\n",
    "- 역행렬 (Inverse of a matrix): np.linalg.inv(x)\n",
    "- 고유값 (Eigenvalue), 고유벡터 (Eigenvector): w, v = np.linalg.eig(x)\n",
    "- 특이값 분해 (Singular Value Decomposition): u, s, vh = np.linalg.svd(A)\n",
    "- 연립방정식 해 풀기 (Solve a linear matrix equation): np.linalg.solve(a, b)\n",
    "- 최소자승 해 풀기 (Compute the Least-squares solution): m, c = np.linalg.lstsq(A, y, rcond=None)[0]\n",
    "\n",
    "https://rfriend.tistory.com/380\n"
   ]
  },
  {
   "cell_type": "code",
   "execution_count": 2,
   "id": "89801611",
   "metadata": {},
   "outputs": [],
   "source": [
    "import numpy as np"
   ]
  },
  {
   "cell_type": "code",
   "execution_count": 3,
   "id": "d066d341",
   "metadata": {},
   "outputs": [
    {
     "data": {
      "text/plain": [
       "array([[0, 1, 2],\n",
       "       [3, 4, 5],\n",
       "       [6, 7, 8]])"
      ]
     },
     "execution_count": 3,
     "metadata": {},
     "output_type": "execute_result"
    }
   ],
   "source": [
    "# 정방행렬/정사각형 행렬: 같은 수의 행과 열을 갖는 행렬(n x n 행렬)\n",
    "np.arange(9).reshape(3,3)"
   ]
  },
  {
   "cell_type": "code",
   "execution_count": 5,
   "id": "aa09690c",
   "metadata": {},
   "outputs": [
    {
     "data": {
      "text/plain": [
       "array([[1, 0, 0, 0, 0],\n",
       "       [0, 2, 0, 0, 0],\n",
       "       [0, 0, 3, 0, 0],\n",
       "       [0, 0, 0, 4, 0],\n",
       "       [0, 0, 0, 0, 5]])"
      ]
     },
     "execution_count": 5,
     "metadata": {},
     "output_type": "execute_result"
    }
   ],
   "source": [
    "# 대각 정방행렬 : 주대각선 원소외에 모두 0인 정방행렬\n",
    "np.diag([1,2,3,4,5])"
   ]
  },
  {
   "cell_type": "code",
   "execution_count": 8,
   "id": "748e660d",
   "metadata": {},
   "outputs": [
    {
     "data": {
      "text/plain": [
       "array([[1., 0., 0.],\n",
       "       [0., 1., 0.],\n",
       "       [0., 0., 1.]])"
      ]
     },
     "execution_count": 8,
     "metadata": {},
     "output_type": "execute_result"
    }
   ],
   "source": [
    "# 항등행렬 : 단위 행렬(unit matrix)라고도 하며 주 대각선 원소가 모두 1이고 나머지 원소는 모두 0인 정방행렬\n",
    "np.identity(3)"
   ]
  },
  {
   "cell_type": "code",
   "execution_count": 9,
   "id": "ed4d0beb",
   "metadata": {},
   "outputs": [
    {
     "data": {
      "text/plain": [
       "array([[1., 0., 0.],\n",
       "       [0., 1., 0.],\n",
       "       [0., 0., 1.]])"
      ]
     },
     "execution_count": 9,
     "metadata": {},
     "output_type": "execute_result"
    }
   ],
   "source": [
    "np.eye(3)"
   ]
  },
  {
   "cell_type": "markdown",
   "id": "5116e178",
   "metadata": {},
   "source": [
    "벡터와 행렬의 연산\n",
    "- 벡터/행렬의 덧셈과 뺄셈 : 같은 위치에 있는 원소끼리 수행. 요소별 연산\n",
    "- 스칼라와 벡터/행렬의 곱셈\n",
    "- 브로드캐스팅 : 스칼라를 벡터로 변환한 연산을 허용\n",
    "- 벡터와 벡터의 곱셈. 내적\n",
    " - 두 벡터의 차원(길이)이 같아야 한다.\n",
    " - 앞의 벡터가 행벡터이고 위의 벡터가 열벡터여야 한다.\n",
    " - 내적의 결과는 스칼라 값이 됨. dot() 또는 @ 연산자로 계산\n"
   ]
  },
  {
   "cell_type": "code",
   "execution_count": 11,
   "id": "8e371847",
   "metadata": {},
   "outputs": [
    {
     "name": "stdout",
     "output_type": "stream",
     "text": [
      "[10 12 14 16 18]\n",
      "[10 10 10 10 10]\n"
     ]
    }
   ],
   "source": [
    "import numpy as np\n",
    "x = np.array([10,11,12,13,14])\n",
    "y = np.array([0,1,2,3,4])\n",
    "print(x + y)\n",
    "print(x - y)"
   ]
  },
  {
   "cell_type": "code",
   "execution_count": 13,
   "id": "ae2ed065",
   "metadata": {},
   "outputs": [
    {
     "data": {
      "text/plain": [
       "array([[5, 6],\n",
       "       [7, 8]])"
      ]
     },
     "execution_count": 13,
     "metadata": {},
     "output_type": "execute_result"
    }
   ],
   "source": [
    "np.array([[5,6],[7,8]])"
   ]
  },
  {
   "cell_type": "code",
   "execution_count": 14,
   "id": "7759476b",
   "metadata": {},
   "outputs": [
    {
     "data": {
      "text/plain": [
       "array([[10, 20],\n",
       "       [30, 40]])"
      ]
     },
     "execution_count": 14,
     "metadata": {},
     "output_type": "execute_result"
    }
   ],
   "source": [
    "np.array([[10,20],[30,40]])"
   ]
  },
  {
   "cell_type": "code",
   "execution_count": 15,
   "id": "2b8c9606",
   "metadata": {},
   "outputs": [
    {
     "data": {
      "text/plain": [
       "array([[1, 2],\n",
       "       [3, 4]])"
      ]
     },
     "execution_count": 15,
     "metadata": {},
     "output_type": "execute_result"
    }
   ],
   "source": [
    "np.array([[1,2],[3,4]])"
   ]
  },
  {
   "cell_type": "code",
   "execution_count": 16,
   "id": "f77f9202",
   "metadata": {},
   "outputs": [],
   "source": [
    "# 연산"
   ]
  },
  {
   "cell_type": "code",
   "execution_count": 12,
   "id": "67dfd8b6",
   "metadata": {},
   "outputs": [
    {
     "data": {
      "text/plain": [
       "array([[14, 24],\n",
       "       [34, 44]])"
      ]
     },
     "execution_count": 12,
     "metadata": {},
     "output_type": "execute_result"
    }
   ],
   "source": [
    "np.array([[5,6],[7,8]]) + np.array([[10,20],[30,40]]) - np.array([[1,2],[3,4]])"
   ]
  },
  {
   "cell_type": "code",
   "execution_count": 18,
   "id": "be69425b",
   "metadata": {},
   "outputs": [
    {
     "data": {
      "text/plain": [
       "array([13, 14, 15])"
      ]
     },
     "execution_count": 18,
     "metadata": {},
     "output_type": "execute_result"
    }
   ],
   "source": [
    "# 브로드캐스팅(개념에 대해서 검색후 작성)\n",
    "x1 = np.array([10,11,12])\n",
    "x1 + 3"
   ]
  },
  {
   "cell_type": "code",
   "execution_count": 19,
   "id": "57baea67",
   "metadata": {},
   "outputs": [
    {
     "data": {
      "text/plain": [
       "array([30, 33, 36])"
      ]
     },
     "execution_count": 19,
     "metadata": {},
     "output_type": "execute_result"
    }
   ],
   "source": [
    "x1 * 3 "
   ]
  },
  {
   "cell_type": "code",
   "execution_count": 20,
   "id": "38a6a4c9",
   "metadata": {},
   "outputs": [
    {
     "data": {
      "text/plain": [
       "array([30, 33, 36])"
      ]
     },
     "execution_count": 20,
     "metadata": {},
     "output_type": "execute_result"
    }
   ],
   "source": [
    "np.dot(3,x1)"
   ]
  },
  {
   "cell_type": "markdown",
   "id": "516b70d1",
   "metadata": {},
   "source": [
    "행렬 곱을 응용하여 신경망에 적용\n",
    "<img src = '행렬곱.jpg' STYLE='width:300px;'>"
   ]
  },
  {
   "cell_type": "code",
   "execution_count": 24,
   "id": "ac83bb8a",
   "metadata": {},
   "outputs": [
    {
     "name": "stdout",
     "output_type": "stream",
     "text": [
      "[[1 2 3]\n",
      " [4 5 6]] \n",
      "\n",
      "[[ 6 23]\n",
      " [-1  7]\n",
      " [ 8  9]]\n"
     ]
    }
   ],
   "source": [
    "x = np.arange(1,7).reshape(2,3)\n",
    "y = np.array([[6,23],[-1,7],[8,9]])\n",
    "print(x,'\\n')\n",
    "print(y)"
   ]
  },
  {
   "cell_type": "code",
   "execution_count": 23,
   "id": "2790438c",
   "metadata": {},
   "outputs": [
    {
     "data": {
      "text/plain": [
       "array([[ 28,  64],\n",
       "       [ 67, 181]])"
      ]
     },
     "execution_count": 23,
     "metadata": {},
     "output_type": "execute_result"
    }
   ],
   "source": [
    "np.dot(x,y)"
   ]
  },
  {
   "cell_type": "code",
   "execution_count": null,
   "id": "f913dd0f",
   "metadata": {},
   "outputs": [],
   "source": [
    "(2,3)*(3,2) = (2,2)"
   ]
  },
  {
   "cell_type": "code",
   "execution_count": 27,
   "id": "80632788",
   "metadata": {},
   "outputs": [
    {
     "name": "stdout",
     "output_type": "stream",
     "text": [
      "[[1 2 3]]\n",
      "[[4]\n",
      " [5]\n",
      " [6]]\n"
     ]
    },
    {
     "data": {
      "text/plain": [
       "array([[32]])"
      ]
     },
     "execution_count": 27,
     "metadata": {},
     "output_type": "execute_result"
    }
   ],
   "source": [
    "# 행렬의 내적 : dot() or @연산자\n",
    "# (1,3) * (3,1) = (1,1)\n",
    "x = np.array([[1],[2],[3]])\n",
    "y = np.array([[4],[5],[6]])\n",
    "print(x.T)\n",
    "print(y)\n",
    "x.T @ y"
   ]
  },
  {
   "cell_type": "code",
   "execution_count": 29,
   "id": "f19491f5",
   "metadata": {},
   "outputs": [
    {
     "name": "stdout",
     "output_type": "stream",
     "text": [
      "[1 2 3]\n",
      "[4 5 6]\n"
     ]
    },
    {
     "data": {
      "text/plain": [
       "32"
      ]
     },
     "execution_count": 29,
     "metadata": {},
     "output_type": "execute_result"
    }
   ],
   "source": [
    "# 1차원 ndarray는 전치연산이 정의되지 않는다.\n",
    "x = np.array([1,2,3])\n",
    "y = np.array([4,5,6])\n",
    "print(x)\n",
    "print(y)\n",
    "\n",
    "x @ y"
   ]
  },
  {
   "cell_type": "code",
   "execution_count": 30,
   "id": "8e053507",
   "metadata": {},
   "outputs": [
    {
     "data": {
      "text/plain": [
       "870"
      ]
     },
     "execution_count": 30,
     "metadata": {},
     "output_type": "execute_result"
    }
   ],
   "source": [
    "# p 주식가격, n 주식수일 때 매수금액을 내적으로 구하기\n",
    "p = np.array([100,80,50])\n",
    "n = np.array([3,4,5])\n",
    "\n",
    "np.dot(p,n)"
   ]
  },
  {
   "cell_type": "code",
   "execution_count": 35,
   "id": "81b075ad",
   "metadata": {
    "scrolled": true
   },
   "outputs": [
    {
     "name": "stdout",
     "output_type": "stream",
     "text": [
      "[[ 0.  0.  5. 13.  9.  1.  0.  0.]\n",
      " [ 0.  0. 13. 15. 10. 15.  5.  0.]\n",
      " [ 0.  3. 15.  2.  0. 11.  8.  0.]\n",
      " [ 0.  4. 12.  0.  0.  8.  8.  0.]\n",
      " [ 0.  5.  8.  0.  0.  9.  8.  0.]\n",
      " [ 0.  4. 11.  0.  1. 12.  7.  0.]\n",
      " [ 0.  2. 14.  5. 10. 12.  0.  0.]\n",
      " [ 0.  0.  6. 13. 10.  0.  0.  0.]]\n",
      "(8, 8)\n",
      "[[ 0.]\n",
      " [ 0.]\n",
      " [ 5.]\n",
      " [13.]\n",
      " [ 9.]\n",
      " [ 1.]\n",
      " [ 0.]\n",
      " [ 0.]\n",
      " [ 0.]\n",
      " [ 0.]]\n"
     ]
    },
    {
     "data": {
      "text/plain": [
       "<matplotlib.image.AxesImage at 0x18af90e7c70>"
      ]
     },
     "execution_count": 35,
     "metadata": {},
     "output_type": "execute_result"
    },
    {
     "data": {
      "image/png": "[encoded data removed]",
      "text/plain": [
       "<Figure size 72x72 with 1 Axes>"
      ]
     },
     "metadata": {
      "needs_background": "light"
     },
     "output_type": "display_data"
    }
   ],
   "source": [
    "from sklearn.datasets import load_digits\n",
    "import matplotlib.gridspec as gridspec\n",
    "import matplotlib.pyplot as plt\n",
    "\n",
    "digits = load_digits()\n",
    "d1 = digits.images[0]\n",
    "print(d1)\n",
    "print(d1.shape)\n",
    "v1 = d1.reshape(64,1)\n",
    "print(v1[:10,:])\n",
    "plt.figure(figsize=(1,1))\n",
    "plt.imshow(d1,aspect=1,\n",
    "          interpolation='nearest',cmap=plt.cm.bone_r)"
   ]
  },
  {
   "cell_type": "code",
   "execution_count": 36,
   "id": "988a025e",
   "metadata": {},
   "outputs": [
    {
     "data": {
      "image/png": "[encoded data removed]",
      "text/plain": [
       "<Figure size 648x648 with 8 Axes>"
      ]
     },
     "metadata": {},
     "output_type": "display_data"
    }
   ],
   "source": [
    "from sklearn.datasets import load_digits\n",
    "import matplotlib.gridspec as gridspec\n",
    "\n",
    "digits = load_digits()\n",
    "d1 = digits.images[0]\n",
    "d2 = digits.images[10]\n",
    "d3 = digits.images[1]\n",
    "d4 = digits.images[11]\n",
    "v1 = d1.reshape(64, 1)\n",
    "v2 = d2.reshape(64, 1)\n",
    "v3 = d3.reshape(64, 1)\n",
    "v4 = d4.reshape(64, 1)\n",
    "\n",
    "plt.figure(figsize=(9, 9))\n",
    "gs = gridspec.GridSpec(1, 8, height_ratios=[1],\n",
    "                       width_ratios=[9, 1, 9, 1, 9, 1, 9, 1])\n",
    "for i in range(4):\n",
    "    plt.subplot(gs[2 * i])\n",
    "    plt.imshow(eval(\"d\" + str(i + 1)), aspect=1,\n",
    "               interpolation='nearest', cmap=plt.cm.bone_r)\n",
    "    plt.grid(False)\n",
    "    plt.xticks([])\n",
    "    plt.yticks([])\n",
    "    plt.title(\"image {}\".format(i + 1))\n",
    "    plt.subplot(gs[2 * i + 1])\n",
    "    plt.imshow(eval(\"v\" + str(i + 1)), aspect=0.25,\n",
    "               interpolation='nearest', cmap=plt.cm.bone_r)\n",
    "    plt.grid(False)\n",
    "    plt.xticks([])\n",
    "    plt.yticks([])\n",
    "    plt.title(\"vector {}\".format(i + 1))\n",
    "plt.tight_layout()\n",
    "plt.show()\n"
   ]
  },
  {
   "cell_type": "code",
   "execution_count": 37,
   "id": "bbaaef41",
   "metadata": {},
   "outputs": [
    {
     "data": {
      "text/plain": [
       "array([[ 0.,  0.,  5., 13.,  9.,  1.,  0.,  0.,  0.,  0., 13., 15., 10.,\n",
       "        15.,  5.,  0.,  0.,  3., 15.,  2.,  0., 11.,  8.,  0.,  0.,  4.,\n",
       "        12.,  0.,  0.,  8.,  8.,  0.,  0.,  5.,  8.,  0.,  0.,  9.,  8.,\n",
       "         0.,  0.,  4., 11.,  0.,  1., 12.,  7.,  0.,  0.,  2., 14.,  5.,\n",
       "        10., 12.,  0.,  0.,  0.,  0.,  6., 13., 10.,  0.,  0.,  0.]])"
      ]
     },
     "execution_count": 37,
     "metadata": {},
     "output_type": "execute_result"
    }
   ],
   "source": [
    "v1.T"
   ]
  },
  {
   "cell_type": "code",
   "execution_count": 39,
   "id": "7ef024b3",
   "metadata": {},
   "outputs": [
    {
     "data": {
      "text/plain": [
       "1866.0"
      ]
     },
     "execution_count": 39,
     "metadata": {},
     "output_type": "execute_result"
    }
   ],
   "source": [
    "(v1.T@v3)[0][0]"
   ]
  },
  {
   "cell_type": "code",
   "execution_count": 44,
   "id": "e77a0bc0",
   "metadata": {},
   "outputs": [
    {
     "data": {
      "text/plain": [
       "Text(0.5, 1.0, 'image 3:$0.7x_1+0.3X_2$')"
      ]
     },
     "execution_count": 44,
     "metadata": {},
     "output_type": "execute_result"
    },
    {
     "data": {
      "image/png": "[encoded data removed]",
      "text/plain": [
       "<Figure size 432x288 with 3 Axes>"
      ]
     },
     "metadata": {},
     "output_type": "display_data"
    }
   ],
   "source": [
    "from sklearn.datasets import fetch_olivetti_faces\n",
    "faces = fetch_olivetti_faces()\n",
    "\n",
    "f,ax = plt.subplots(1,3)\n",
    "ax[0].imshow(faces.images[6],cmap=plt.cm.bone)\n",
    "ax[0].grid(False)\n",
    "ax[0].set_xticks([])\n",
    "ax[0].set_yticks([])\n",
    "ax[0].set_title(\"image 1:$x_1$\")\n",
    "\n",
    "ax[1].imshow(faces.images[10],cmap=plt.cm.bone)\n",
    "ax[1].grid(False)\n",
    "ax[1].set_xticks([])\n",
    "ax[1].set_yticks([])\n",
    "ax[1].set_title(\"image 2:$x_2$\")\n",
    "\n",
    "new_face = 0.7 * faces.images[6] + 0.3 * faces.images[10]\n",
    "ax[2].imshow(new_face,cmap=plt.cm.bone)\n",
    "ax[2].grid(False)\n",
    "ax[2].set_xticks([])\n",
    "ax[2].set_yticks([])\n",
    "ax[2].set_title(\"image 3:$0.7x_1+0.3X_2$\")"
   ]
  },
  {
   "cell_type": "code",
   "execution_count": null,
   "id": "d82ab88f",
   "metadata": {},
   "outputs": [],
   "source": [
    "# 행렬과 행렬의 곱셈 : 앞 행렬의 열의 수가 뒤 행렬의 행의 수와 일치해야 한다."
   ]
  },
  {
   "cell_type": "code",
   "execution_count": null,
   "id": "231a8a41",
   "metadata": {},
   "outputs": [],
   "source": [
    "# Q. 행렬 곱셈의 교환법칙과 분배법칙의 실례를 수행하세요"
   ]
  },
  {
   "cell_type": "code",
   "execution_count": 2,
   "id": "cdd94092",
   "metadata": {},
   "outputs": [],
   "source": [
    "import numpy as np"
   ]
  },
  {
   "cell_type": "code",
   "execution_count": 3,
   "id": "722781b0",
   "metadata": {},
   "outputs": [],
   "source": [
    "A = np.array([[1,2],[3,4]])\n",
    "B = np.array([[5,6],[7,8]])\n",
    "C = np.array([[9,8],[7,6]])"
   ]
  },
  {
   "cell_type": "code",
   "execution_count": null,
   "id": "d185bcb5",
   "metadata": {},
   "outputs": [],
   "source": [
    "# 교환법칙"
   ]
  },
  {
   "cell_type": "code",
   "execution_count": 4,
   "id": "ba7d5259",
   "metadata": {},
   "outputs": [
    {
     "data": {
      "text/plain": [
       "array([[19, 22],\n",
       "       [43, 50]])"
      ]
     },
     "execution_count": 4,
     "metadata": {},
     "output_type": "execute_result"
    }
   ],
   "source": [
    "A @ B"
   ]
  },
  {
   "cell_type": "code",
   "execution_count": 5,
   "id": "4a9abb6a",
   "metadata": {},
   "outputs": [
    {
     "data": {
      "text/plain": [
       "array([[23, 34],\n",
       "       [31, 46]])"
      ]
     },
     "execution_count": 5,
     "metadata": {},
     "output_type": "execute_result"
    }
   ],
   "source": [
    "B @ A "
   ]
  },
  {
   "cell_type": "code",
   "execution_count": null,
   "id": "b7814642",
   "metadata": {},
   "outputs": [],
   "source": [
    "# 분배법칙"
   ]
  },
  {
   "cell_type": "code",
   "execution_count": 6,
   "id": "50c7980b",
   "metadata": {},
   "outputs": [
    {
     "data": {
      "text/plain": [
       "array([[42, 42],\n",
       "       [98, 98]])"
      ]
     },
     "execution_count": 6,
     "metadata": {},
     "output_type": "execute_result"
    }
   ],
   "source": [
    "A @ (B + C)"
   ]
  },
  {
   "cell_type": "code",
   "execution_count": 7,
   "id": "e7dd9318",
   "metadata": {},
   "outputs": [
    {
     "data": {
      "text/plain": [
       "array([[42, 42],\n",
       "       [98, 98]])"
      ]
     },
     "execution_count": 7,
     "metadata": {},
     "output_type": "execute_result"
    }
   ],
   "source": [
    "A @ B + A @ C"
   ]
  },
  {
   "cell_type": "code",
   "execution_count": 8,
   "id": "a8329410",
   "metadata": {},
   "outputs": [
    {
     "data": {
      "text/plain": [
       "array([[110,  96],\n",
       "       [174, 152]])"
      ]
     },
     "execution_count": 8,
     "metadata": {},
     "output_type": "execute_result"
    }
   ],
   "source": [
    "(A + B) @ C "
   ]
  },
  {
   "cell_type": "code",
   "execution_count": 9,
   "id": "7625f787",
   "metadata": {},
   "outputs": [
    {
     "data": {
      "text/plain": [
       "array([[110,  96],\n",
       "       [174, 152]])"
      ]
     },
     "execution_count": 9,
     "metadata": {},
     "output_type": "execute_result"
    }
   ],
   "source": [
    "A @ C + B @ C"
   ]
  },
  {
   "cell_type": "code",
   "execution_count": null,
   "id": "fc54e532",
   "metadata": {},
   "outputs": [],
   "source": [
    "# Q. 어떤 행렬이든 항등행렬을 곱하면 그 행렬의 값은 변하지 않는다는 사례를 보여주세요."
   ]
  },
  {
   "cell_type": "code",
   "execution_count": 10,
   "id": "005ff1fe",
   "metadata": {},
   "outputs": [
    {
     "data": {
      "text/plain": [
       "array([[ 6, 10],\n",
       "       [ 8, 12]])"
      ]
     },
     "execution_count": 10,
     "metadata": {},
     "output_type": "execute_result"
    }
   ],
   "source": [
    "(A + B).T"
   ]
  },
  {
   "cell_type": "code",
   "execution_count": 11,
   "id": "180b15ab",
   "metadata": {},
   "outputs": [
    {
     "data": {
      "text/plain": [
       "array([[ 6, 10],\n",
       "       [ 8, 12]])"
      ]
     },
     "execution_count": 11,
     "metadata": {},
     "output_type": "execute_result"
    }
   ],
   "source": [
    "A.T + B.T"
   ]
  },
  {
   "cell_type": "code",
   "execution_count": 12,
   "id": "baf93052",
   "metadata": {},
   "outputs": [
    {
     "data": {
      "text/plain": [
       "array([[19, 43],\n",
       "       [22, 50]])"
      ]
     },
     "execution_count": 12,
     "metadata": {},
     "output_type": "execute_result"
    }
   ],
   "source": [
    "(A @ B).T"
   ]
  },
  {
   "cell_type": "code",
   "execution_count": 14,
   "id": "05403200",
   "metadata": {},
   "outputs": [
    {
     "data": {
      "text/plain": [
       "array([[19, 43],\n",
       "       [22, 50]])"
      ]
     },
     "execution_count": 14,
     "metadata": {},
     "output_type": "execute_result"
    }
   ],
   "source": [
    "B.T @ A.T"
   ]
  },
  {
   "cell_type": "markdown",
   "id": "391163c8",
   "metadata": {},
   "source": [
    "# 행렬 놈\n",
    "\n",
    "- 벡터의 놈은 다음 4가지 성질을 만족하면서 벡터에서 실수 값을 연결하는 함수로 정의하고, \\||x||로 표기한다.\n",
    "\n",
    "           1. ||x||은 음수가 아닌 실수값이다. 즉, ||x||>=0\n",
    "           2. x = 0일때만 ||x|| = 0 이다.\n",
    "           3. 스칼라 a에 대해서 ||ax|| = |a|||x|| 가 성립한다.\n",
    "           4. ||x+y|| <= ||x|| + ||y|| 이 성립한다..\n",
    "\n",
    "- 위 4가지 성질을 만족하기만 하면 놈이라고 할 수 있는데, 많이 사용되는 놈은 다음 세 가지이다. 놈을 구별하기 위하여 아래 첨자를 사용하고, $||x||_1을 1-놈, ||x||_2 를 2-놈, ||x||_\\infty를 3-놈$이라고 한다.\n",
    "- 1-놈은 벡터 x의 성분의 절대값을 모두 더한 것으로, 2-놈은 벡터의 기하학적 길이로, $\\infty-놈$은 벡터 성분 중에서 크기가 제일 큰 값으로 정의한다.\n",
    "- p = 2인 경우가 가장 많이 쓰이므로 p값 표기가 없는 경우 p=2인 프로베니우스 놈을 사용한다.\n",
    "\n",
    "https://bskyvision.com/825  \n",
    "https://pasus.tistory.com/34\n"
   ]
  },
  {
   "cell_type": "code",
   "execution_count": 17,
   "id": "7f41abbd",
   "metadata": {},
   "outputs": [
    {
     "data": {
      "text/plain": [
       "array([[-4, -3, -2],\n",
       "       [-1,  0,  1],\n",
       "       [ 2,  3,  4]])"
      ]
     },
     "execution_count": 17,
     "metadata": {},
     "output_type": "execute_result"
    }
   ],
   "source": [
    "A = (np.arange(9) - 4).reshape(3,3)\n",
    "A"
   ]
  },
  {
   "cell_type": "code",
   "execution_count": 18,
   "id": "e9a33091",
   "metadata": {},
   "outputs": [
    {
     "data": {
      "text/plain": [
       "7.745966692414834"
      ]
     },
     "execution_count": 18,
     "metadata": {},
     "output_type": "execute_result"
    }
   ],
   "source": [
    "np.linalg.norm(A)"
   ]
  },
  {
   "cell_type": "code",
   "execution_count": 19,
   "id": "56a4b480",
   "metadata": {},
   "outputs": [
    {
     "data": {
      "text/plain": [
       "array([[1., 0., 0.],\n",
       "       [0., 1., 0.],\n",
       "       [0., 0., 1.]])"
      ]
     },
     "execution_count": 19,
     "metadata": {},
     "output_type": "execute_result"
    }
   ],
   "source": [
    "# 대각합\n",
    "np.eye(3)"
   ]
  },
  {
   "cell_type": "code",
   "execution_count": 20,
   "id": "f3f23de9",
   "metadata": {},
   "outputs": [
    {
     "data": {
      "text/plain": [
       "3.0"
      ]
     },
     "execution_count": 20,
     "metadata": {},
     "output_type": "execute_result"
    }
   ],
   "source": [
    "np.trace(np.eye(3))"
   ]
  },
  {
   "cell_type": "markdown",
   "id": "1b0d4d2b",
   "metadata": {},
   "source": [
    "행렬식\n",
    "\n",
    "https://ratsgo.github.io/linear%20algebra/2017/05/21/determinants/\n",
    "\n",
    "https://www.youtube.com/watch?v=fuVMiyahzH4\n"
   ]
  },
  {
   "cell_type": "code",
   "execution_count": 23,
   "id": "7e438912",
   "metadata": {},
   "outputs": [
    {
     "name": "stdout",
     "output_type": "stream",
     "text": [
      "[[1 2 3]\n",
      " [4 5 6]\n",
      " [7 8 9]]\n"
     ]
    },
    {
     "data": {
      "text/plain": [
       "-9.51619735392994e-16"
      ]
     },
     "execution_count": 23,
     "metadata": {},
     "output_type": "execute_result"
    }
   ],
   "source": [
    "A = np.array([[1,2,3],[4,5,6],[7,8,9]])\n",
    "print(A)\n",
    "np.linalg.det(A)"
   ]
  },
  {
   "cell_type": "code",
   "execution_count": 24,
   "id": "29908dc6",
   "metadata": {},
   "outputs": [
    {
     "data": {
      "text/plain": [
       "0"
      ]
     },
     "execution_count": 24,
     "metadata": {},
     "output_type": "execute_result"
    }
   ],
   "source": [
    "# 행렬식을 수작업으로 계산\n",
    "1*3 - 4*6 + 7*3"
   ]
  },
  {
   "cell_type": "markdown",
   "id": "359d09a0",
   "metadata": {},
   "source": [
    "선형 연립방정식\n",
    "- 선형예측모형은 입력 데이터 벡터와 가중치 벡터의 내적으로 계산된 예측값이 실제 출력 데이터와 유사한 값을 출력하도록 하는 모형\n",
    "- 연립방정식과 역행렬을 이용하여 선형 예측 모형의 가중치 벡터를 구할 수 있다.\n",
    "역행렬\n",
    "- 정방행렬에 대한 역행렬은 원래의 행렬과 다음 관계를 만족하는 정방행렬을 의미 $A^{-1}A = AA^{-1} = I$, I는 항등행렬\n"
   ]
  },
  {
   "cell_type": "code",
   "execution_count": 26,
   "id": "6938bd5e",
   "metadata": {
    "scrolled": true
   },
   "outputs": [
    {
     "name": "stdout",
     "output_type": "stream",
     "text": [
      "[[1 2 1]\n",
      " [2 2 3]\n",
      " [1 3 1]] \n",
      "\n",
      "[[ 7. -1. -4.]\n",
      " [-1.  0.  1.]\n",
      " [-4.  1.  2.]]\n"
     ]
    }
   ],
   "source": [
    "np.random.seed(0)\n",
    "mt1 = np.random.randint(1,4,size=(3,3))\n",
    "print(mt1,'\\n')\n",
    "\n",
    "mt2 = np.linalg.inv(mt1)\n",
    "print(mt2)"
   ]
  },
  {
   "cell_type": "code",
   "execution_count": 27,
   "id": "73dc34f0",
   "metadata": {},
   "outputs": [
    {
     "data": {
      "text/plain": [
       "array([[1., 0., 0.],\n",
       "       [0., 1., 0.],\n",
       "       [0., 0., 1.]])"
      ]
     },
     "execution_count": 27,
     "metadata": {},
     "output_type": "execute_result"
    }
   ],
   "source": [
    "np.dot(mt1,mt2)"
   ]
  },
  {
   "cell_type": "code",
   "execution_count": 29,
   "id": "74828710",
   "metadata": {},
   "outputs": [
    {
     "data": {
      "text/plain": [
       "array([[1., 0., 0.],\n",
       "       [0., 1., 0.],\n",
       "       [0., 0., 1.]])"
      ]
     },
     "execution_count": 29,
     "metadata": {},
     "output_type": "execute_result"
    }
   ],
   "source": [
    "np.matmul(mt1,mt2)"
   ]
  },
  {
   "cell_type": "code",
   "execution_count": 28,
   "id": "2c34ea0a",
   "metadata": {
    "scrolled": true
   },
   "outputs": [
    {
     "name": "stdout",
     "output_type": "stream",
     "text": [
      "[[[ 0  1  2]\n",
      "  [ 3  4  5]]\n",
      "\n",
      " [[ 6  7  8]\n",
      "  [ 9 10 11]]\n",
      "\n",
      " [[12 13 14]\n",
      "  [15 16 17]]] \n",
      "\n",
      "[[[ 0  1]\n",
      "  [ 2  3]\n",
      "  [ 4  5]]\n",
      "\n",
      " [[ 6  7]\n",
      "  [ 8  9]\n",
      "  [10 11]]\n",
      "\n",
      " [[12 13]\n",
      "  [14 15]\n",
      "  [16 17]]]\n"
     ]
    }
   ],
   "source": [
    "# dot() vs matmul()\n",
    "a1 = np.arange(18).reshape(3,2,3)\n",
    "a2 = np.arange(18).reshape(3,3,2)\n",
    "print(a1,'\\n')\n",
    "print(a2)"
   ]
  },
  {
   "cell_type": "markdown",
   "id": "648e12cd",
   "metadata": {},
   "source": [
    "https://m.blog.naver.com/PostView.naver?isHttpsRedirect=true&blogId=cjh226&logNo=221356884894\n"
   ]
  },
  {
   "cell_type": "code",
   "execution_count": 30,
   "id": "5fae2127",
   "metadata": {},
   "outputs": [
    {
     "data": {
      "text/plain": [
       "array([[[[ 10,  13],\n",
       "         [ 28,  31],\n",
       "         [ 46,  49]],\n",
       "\n",
       "        [[ 28,  40],\n",
       "         [100, 112],\n",
       "         [172, 184]]],\n",
       "\n",
       "\n",
       "       [[[ 46,  67],\n",
       "         [172, 193],\n",
       "         [298, 319]],\n",
       "\n",
       "        [[ 64,  94],\n",
       "         [244, 274],\n",
       "         [424, 454]]],\n",
       "\n",
       "\n",
       "       [[[ 82, 121],\n",
       "         [316, 355],\n",
       "         [550, 589]],\n",
       "\n",
       "        [[100, 148],\n",
       "         [388, 436],\n",
       "         [676, 724]]]])"
      ]
     },
     "metadata": {},
     "output_type": "display_data"
    },
    {
     "data": {
      "text/plain": [
       "array([[[ 10,  13],\n",
       "        [ 28,  40]],\n",
       "\n",
       "       [[172, 193],\n",
       "        [244, 274]],\n",
       "\n",
       "       [[550, 589],\n",
       "        [676, 724]]])"
      ]
     },
     "metadata": {},
     "output_type": "display_data"
    },
    {
     "data": {
      "text/plain": [
       "(3, 2, 3, 2)"
      ]
     },
     "metadata": {},
     "output_type": "display_data"
    },
    {
     "data": {
      "text/plain": [
       "(3, 2, 2)"
      ]
     },
     "metadata": {},
     "output_type": "display_data"
    }
   ],
   "source": [
    "display(np.dot(a1,a2), np.matmul(a1,a2))\n",
    "display(np.dot(a1,a2).shape, np.matmul(a1,a2).shape)\n"
   ]
  },
  {
   "cell_type": "code",
   "execution_count": null,
   "id": "b51f3069",
   "metadata": {},
   "outputs": [],
   "source": []
  },
  {
   "cell_type": "code",
   "execution_count": null,
   "id": "6ec2328c",
   "metadata": {},
   "outputs": [],
   "source": []
  }
 ],
 "metadata": {
  "kernelspec": {
   "display_name": "Python 3 (ipykernel)",
   "language": "python",
   "name": "python3"
  },
  "language_info": {
   "codemirror_mode": {
    "name": "ipython",
    "version": 3
   },
   "file_extension": ".py",
   "mimetype": "text/x-python",
   "name": "python",
   "nbconvert_exporter": "python",
   "pygments_lexer": "ipython3",
   "version": "3.9.7"
  }
 },
 "nbformat": 4,
 "nbformat_minor": 5
}
