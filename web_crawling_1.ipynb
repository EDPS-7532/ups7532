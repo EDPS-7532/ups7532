{
 "cells": [
  {
   "cell_type": "markdown",
   "id": "ba961b00",
   "metadata": {},
   "source": [
    "#### HTML의 구조  및 태그\n",
    "- 구조\n",
    " - \\<!Doctype html> : HTML5 문서를 선언하는 구문\n",
    " - \\<html></html> : HTML 문서의 시작과 끝\n",
    " - \\<head></head> : CSS, JavaScript, meta, title 정보들을 설정\n",
    " - \\<body></body> : 실제 홈페이지 화면을 나타내는 부분\n",
    "\n",
    "- 요소 구조\n",
    " - HTML 요소는 여러 속성들을 가질 수 있으며 속성들은 해당 요소에 대한 추가 정보를 제공\n",
    " - 시작 태그\\(< >)로 시작해서 종료 태그(</>)로 끝남\n",
    " - 요소 안에 다른 요소를 작성할 수 있음 \n",
    " <img src = './dataset/html요소구조.jpg' STYLE = 'width:750px;'>\n"
   ]
  },
  {
   "cell_type": "markdown",
   "id": "d6869947",
   "metadata": {},
   "source": [
    "#### HTML 태그(콘텐츠 내용을 만듦)\n",
    "- p 태그를 이용하여 문단 작성\n",
    "- h 태그를 이용하여 폰트 크기 설정\n",
    "- ul(unordered list)과 ol(ordered list) 태그로 리스트 작성, 리스트 각각의 요소는 li(항목 나열) 태그로 표시  \n",
    "- table 태그는 thead, tbody를 가질 수 있으며 표를 표현 : tr 행, th(가운데 정렬,굵은 글씨체),td 각 행의 컬럼\n",
    "- input 태그와 button 태그 : 데이터를 넣는 폼과 페이지 조작 버튼 생성\n",
    "- select # select 태그로 선택 리스트 생성\n",
    "- a 태그로 다른 페이지로 이동. 상대경로(내가 있는 경로부터의 경로), 절대경로(항상 같은 url)\n",
    "- img 태그로 이미지 포함 : src(이미지 붙임), alt(이미지 대체)\n",
    "- span 태그로 p태그 처럼 글을 추가. span 태그는 옆으로 나열. br 태그 사용하여 p 태그처럼 사용\n",
    "- div 태그는 화면 레이아웃을 잡는 역할 : 하위 태그들의 영역을 잡아줌\n"
   ]
  },
  {
   "cell_type": "markdown",
   "id": "11eff6c4",
   "metadata": {},
   "source": [
    "CSS(디자인)\n",
    "CSS로 웹 사이트를 꾸며주기 위해 해당 태그에 접근하는 방식을 크롤러에서도 사용.\n",
    "selector : CSS로 꾸미기 위해 특정 요소에 접근하는 것을 셀렉터라고 함.\n",
    "html 파일을 만들었다면 각각의 태그에 다르게 css 를 설정 할 것입니다. 이 때, 어 느 요소에 스타일을 적용할지 알려주는 방식이 바로 css 선택자 입니다.\n",
    "태그를 이용하여 접근하면 태그는 전부 CSS 효과가 적용\n",
    "class를 이용하면 원하는 요소만 CSS 효과 적용할 수 있고 원하는 요소만 수집할 수  있음.\n",
    "id는 class와 다르게 id값이 고유해야 함(id는 한페이지에 하나만 존재해야 함)\n",
    "부모 태그와 자식 태그를 나열하여 복잡한 셀렉터를 생성\n",
    "CSS 선택자 이해\n",
    "\n",
    "https://ssungkang.tistory.com/entry/css-css-%EC%84%A0%ED%83%9D%EC%9E%90selector-%EC%9D%98-%EC%A2%85%EB%A5%98%EC%99%80-%EC%98%88%EC%8B%9C\n",
    "https://developer.mozilla.org/en-US/docs/Web/CSS/CSS_Selectors\n",
    "https://www.nextree.co.kr/p8468/\n",
    "1\n",
    "css = \"\"\"\n"
   ]
  },
  {
   "cell_type": "markdown",
   "id": "9cc7deef",
   "metadata": {},
   "source": [
    "#### JavaScript(프로그래밍)\n",
    "- 웹 사이트의 기능을 넣어줌. script 태그를 이용하여 작성. head or body 하단에 위치\n",
    "- js를 이용하여 HTML 코드를 생성. 크롤러로 분석하기 가장 어려운 부분임\n",
    "- DOM(Document Object Model)이란 HTML을 시각적으로 쉽게 표현하기 위해 만든 객체로 크롤러 만들 때 중요\n",
    "- 데이터를 수집하기 위해 DOM을 이용해 데이터에 접근한 후 해당 데이터 수집\n",
    "- 웹 브라우저는 HTML 코드를 가져온 후 JavaScript를 실행시킨 결과를 보여줌\n",
    "- 소스 보기 페이지에 수집하고자 하는 요소가 없다면 네트워크 탭을 이용, 서버에서 데이터를 받아오는 지 확인\n",
    "- 그렇지 않은 경우 셀레니움을 사용하여 해결\n"
   ]
  },
  {
   "cell_type": "markdown",
   "id": "1a13db2f",
   "metadata": {},
   "source": [
    "http://www.tcpschool.com/javascript/js_dom_document\n"
   ]
  },
  {
   "cell_type": "markdown",
   "id": "99be6f3f",
   "metadata": {},
   "source": [
    "파이썬을 활용한 데이터 가공\n",
    "\n",
    "- 문자열 자료형(인덱싱) : 시퀀스 자료형으로 인덱스가 있고 인덱스 값으로 접근이 가능함\n",
    "- 파이썬에서 문자열을 쉽게 다룰 수 있도록 제공하는 내장함수\n",
    "    - find: 해당문자가 없으면 -1반환\n",
    "    - index: 해당문자가 없으면 에러\n",
    "    - strip: 데이터 가공 초기 단계에 불필요한 공백을 지울 때 사용\n",
    "    - replace: 특정 문자를 원하는 내용으로 변경\n",
    "- 정규표현식\n",
    " - 특정한 규칙을 가진 문자열을 표현하기 위해 사용하는 형식\n",
    " - 주로 문자열의 검색 및 치환에 활용\n",
    " - re 모듈을 제공\n",
    " - 규칙을 정의하기 위해 메타문자를 활용 "
   ]
  },
  {
   "cell_type": "code",
   "execution_count": 1,
   "id": "aab4419f",
   "metadata": {
    "scrolled": true
   },
   "outputs": [
    {
     "name": "stdout",
     "output_type": "stream",
     "text": [
      "k\n",
      "기\n",
      "Abc\n",
      "ABC\n",
      "K-digital training 5기\n"
     ]
    }
   ],
   "source": [
    "# 인덱싱\n",
    "text = \"k-digital training 5기\"\n",
    "text1 = 'abc'\n",
    "print(text[0])\n",
    "print(text[-1])\n",
    "print(text1.capitalize())\n",
    "print(text1.upper())\n",
    "print(text.capitalize())"
   ]
  },
  {
   "cell_type": "code",
   "execution_count": 2,
   "id": "fdcf7762",
   "metadata": {},
   "outputs": [],
   "source": [
    "#[과제] \"K-Digital Training 5기\"를 출력하세요"
   ]
  },
  {
   "cell_type": "code",
   "execution_count": 3,
   "id": "4a45e392",
   "metadata": {},
   "outputs": [
    {
     "data": {
      "text/plain": [
       "'K-Digital Training 5기'"
      ]
     },
     "execution_count": 3,
     "metadata": {},
     "output_type": "execute_result"
    }
   ],
   "source": [
    "text = \"k-digital training 5기\"\n",
    "text.title()\n"
   ]
  },
  {
   "cell_type": "code",
   "execution_count": 4,
   "id": "6eb7f94c",
   "metadata": {},
   "outputs": [],
   "source": [
    "text1 = \"     <k-digital training 5기>    \"\n",
    "text2 = ';'"
   ]
  },
  {
   "cell_type": "code",
   "execution_count": 5,
   "id": "7b51f7e1",
   "metadata": {},
   "outputs": [],
   "source": [
    "# Q. <k-digital training 5기>; 를 출력하세요"
   ]
  },
  {
   "cell_type": "code",
   "execution_count": 6,
   "id": "be7e5da0",
   "metadata": {},
   "outputs": [
    {
     "name": "stdout",
     "output_type": "stream",
     "text": [
      "<k-digital training 5기>;\n"
     ]
    }
   ],
   "source": [
    "print(text1.strip()+text2)"
   ]
  },
  {
   "cell_type": "code",
   "execution_count": 7,
   "id": "c01b0773",
   "metadata": {},
   "outputs": [],
   "source": [
    "# Q. <k-digital training 5기>   ; 를 출력하세요"
   ]
  },
  {
   "cell_type": "code",
   "execution_count": 8,
   "id": "6c912d65",
   "metadata": {},
   "outputs": [
    {
     "data": {
      "text/plain": [
       "'<k-digital training 5기>    ;'"
      ]
     },
     "execution_count": 8,
     "metadata": {},
     "output_type": "execute_result"
    }
   ],
   "source": [
    "text1.lstrip()+text2"
   ]
  },
  {
   "cell_type": "code",
   "execution_count": 9,
   "id": "58b48b4b",
   "metadata": {},
   "outputs": [],
   "source": [
    "# Q.    <k-digital training 5기>; 를 출력하세요"
   ]
  },
  {
   "cell_type": "code",
   "execution_count": 10,
   "id": "3e29d492",
   "metadata": {
    "scrolled": true
   },
   "outputs": [
    {
     "data": {
      "text/plain": [
       "'     <k-digital training 5기>;'"
      ]
     },
     "execution_count": 10,
     "metadata": {},
     "output_type": "execute_result"
    }
   ],
   "source": [
    "text1.rstrip()+text2"
   ]
  },
  {
   "cell_type": "code",
   "execution_count": 11,
   "id": "52c23a2b",
   "metadata": {},
   "outputs": [],
   "source": [
    "text =  \"<title>k-digital training 5기</title>\""
   ]
  },
  {
   "cell_type": "code",
   "execution_count": 12,
   "id": "581bc86e",
   "metadata": {},
   "outputs": [],
   "source": [
    "# Q. text를 아래와 같이 출력하세요\n",
    "# <div>k-digital training 5기</title>"
   ]
  },
  {
   "cell_type": "code",
   "execution_count": 13,
   "id": "2e3b4c0a",
   "metadata": {
    "scrolled": true
   },
   "outputs": [
    {
     "data": {
      "text/plain": [
       "'<div>k-digital training 5기</title>'"
      ]
     },
     "execution_count": 13,
     "metadata": {},
     "output_type": "execute_result"
    }
   ],
   "source": [
    "text.replace('title','div',1)"
   ]
  },
  {
   "cell_type": "code",
   "execution_count": 14,
   "id": "783147ca",
   "metadata": {},
   "outputs": [],
   "source": [
    "# Q. text를 아래와 같이 출력하세요\n",
    "# <div>k-digital training 5기</div>"
   ]
  },
  {
   "cell_type": "code",
   "execution_count": 15,
   "id": "32b49295",
   "metadata": {},
   "outputs": [
    {
     "data": {
      "text/plain": [
       "'<div>k-digital training 5기</div>'"
      ]
     },
     "execution_count": 15,
     "metadata": {},
     "output_type": "execute_result"
    }
   ],
   "source": [
    "text.replace('title','div')"
   ]
  },
  {
   "cell_type": "code",
   "execution_count": 16,
   "id": "00d1a16a",
   "metadata": {},
   "outputs": [],
   "source": [
    "# 정규표현식"
   ]
  },
  {
   "cell_type": "code",
   "execution_count": 17,
   "id": "7abd5c56",
   "metadata": {},
   "outputs": [
    {
     "name": "stdout",
     "output_type": "stream",
     "text": [
      "\n",
      "park 800905-*******\n",
      "kim  700905-*******\n",
      "\n"
     ]
    }
   ],
   "source": [
    "# \\g<그룹이름>을 사용하면 정규식의 그룹 이름을 참조할 수 있다.\n",
    "import re \n",
    "\n",
    "data = \"\"\"\n",
    "park 800905-1049118\n",
    "kim  700905-1059119\n",
    "\"\"\"\n",
    "\n",
    "pat = re.compile(\"(\\d{6})[-]\\d{7}\")\n",
    "print(pat.sub(\"\\g<1>-*******\", data))"
   ]
  },
  {
   "cell_type": "code",
   "execution_count": 18,
   "id": "48e23b8f",
   "metadata": {},
   "outputs": [],
   "source": [
    "# text = ('111<head>안녕하세요</head>22') 에서\n",
    "# <head>안녕하세요</head>만 출력하세요"
   ]
  },
  {
   "cell_type": "code",
   "execution_count": 19,
   "id": "9d690bb5",
   "metadata": {},
   "outputs": [
    {
     "name": "stdout",
     "output_type": "stream",
     "text": [
      "<head>안녕하세요</head>\n"
     ]
    }
   ],
   "source": [
    "import re\n",
    "\n",
    "text = ('111<head>안녕하세요</head>22')\n",
    "body = re.search('<head>안녕하세요</head>',text)\n",
    "body = body.group()\n",
    "print(body)"
   ]
  },
  {
   "cell_type": "code",
   "execution_count": 20,
   "id": "85faed10",
   "metadata": {},
   "outputs": [
    {
     "data": {
      "text/plain": [
       "'<head>안녕하세요</head>'"
      ]
     },
     "execution_count": 20,
     "metadata": {},
     "output_type": "execute_result"
    }
   ],
   "source": [
    "# 방법1\n",
    "a = re.search('<head>.+</head>',text)\n",
    "a.group()"
   ]
  },
  {
   "cell_type": "code",
   "execution_count": 21,
   "id": "97ce95fd",
   "metadata": {},
   "outputs": [
    {
     "data": {
      "text/plain": [
       "'<head>안녕하세요</head>'"
      ]
     },
     "execution_count": 21,
     "metadata": {},
     "output_type": "execute_result"
    }
   ],
   "source": [
    "# 방법2\n",
    "t = re.compile('[^0-9]+').search(text)\n",
    "t.group()"
   ]
  },
  {
   "cell_type": "code",
   "execution_count": 22,
   "id": "71eb1fc6",
   "metadata": {},
   "outputs": [
    {
     "data": {
      "text/plain": [
       "'<head>안녕하세요</head>'"
      ]
     },
     "execution_count": 22,
     "metadata": {},
     "output_type": "execute_result"
    }
   ],
   "source": [
    "# 방법3\n",
    "body = re.search(r'\\D+',text)\n",
    "body.group()"
   ]
  },
  {
   "cell_type": "markdown",
   "id": "52f02c6e",
   "metadata": {},
   "source": [
    "안녕하세요 만 출력"
   ]
  },
  {
   "cell_type": "code",
   "execution_count": 23,
   "id": "7e92584d",
   "metadata": {},
   "outputs": [
    {
     "data": {
      "text/plain": [
       "'안녕하세요'"
      ]
     },
     "execution_count": 23,
     "metadata": {},
     "output_type": "execute_result"
    }
   ],
   "source": [
    "body = re.compile('[가-힣]+').search(text)\n",
    "body.group()"
   ]
  },
  {
   "cell_type": "code",
   "execution_count": 24,
   "id": "749f3865",
   "metadata": {},
   "outputs": [],
   "source": [
    "text = \"<head>안녕하세요...<title>k-digital training 5기</title> 반갑습니다...</head>\""
   ]
  },
  {
   "cell_type": "code",
   "execution_count": 25,
   "id": "8e059af3",
   "metadata": {},
   "outputs": [],
   "source": [
    "# <title>k-digital training 5기</title>를 출력하세요."
   ]
  },
  {
   "cell_type": "code",
   "execution_count": 26,
   "id": "2e131e5f",
   "metadata": {},
   "outputs": [
    {
     "name": "stdout",
     "output_type": "stream",
     "text": [
      "<title>k-digital training 5기</title>\n"
     ]
    }
   ],
   "source": [
    "t = re.search('<title>.+</title>',text)\n",
    "print(t.group())"
   ]
  },
  {
   "cell_type": "code",
   "execution_count": 27,
   "id": "1d63e362",
   "metadata": {},
   "outputs": [
    {
     "name": "stdout",
     "output_type": "stream",
     "text": [
      "<title>k-digital training 5기</title>\n"
     ]
    }
   ],
   "source": [
    "t = re.search('<title>.+</title>',text)\n",
    "print(t.group())"
   ]
  },
  {
   "cell_type": "code",
   "execution_count": 28,
   "id": "b042328d",
   "metadata": {},
   "outputs": [
    {
     "name": "stdout",
     "output_type": "stream",
     "text": [
      "<title>k-digital training 5기</title>\n"
     ]
    }
   ],
   "source": [
    "t = re.search('<title>.*</title>',text)\n",
    "print(t.group())"
   ]
  },
  {
   "cell_type": "code",
   "execution_count": 29,
   "id": "0c03fb1e",
   "metadata": {},
   "outputs": [],
   "source": [
    "# k-digital training 5기를 출력하세요\n",
    "# group(0) 매치된 전체 문자열, group(1) 매치된 첫번째 그룹에 해당하는 문자열"
   ]
  },
  {
   "cell_type": "code",
   "execution_count": 30,
   "id": "2605b673",
   "metadata": {
    "scrolled": true
   },
   "outputs": [
    {
     "data": {
      "text/plain": [
       "'k-digital training 5기'"
      ]
     },
     "execution_count": 30,
     "metadata": {},
     "output_type": "execute_result"
    }
   ],
   "source": [
    "t = t.group()\n",
    "t = re.sub('<.+?>','',t)\n",
    "t"
   ]
  },
  {
   "cell_type": "code",
   "execution_count": 31,
   "id": "ba924a31",
   "metadata": {},
   "outputs": [
    {
     "data": {
      "text/plain": [
       "'k-digital training 5기'"
      ]
     },
     "execution_count": 31,
     "metadata": {},
     "output_type": "execute_result"
    }
   ],
   "source": [
    "t = re.search('<title>(.+)</title>',text)\n",
    "t.group(1)"
   ]
  },
  {
   "cell_type": "markdown",
   "id": "717cb918",
   "metadata": {},
   "source": [
    "requests 모듈\n",
    "- pip install requests 명령어로 설치\n",
    "- http는 요청과 응답으로 이루어져 있음\n",
    "- 요청 응답 구조\n",
    " -  GET : 정보를 가져오기 위해 요청\n",
    " - POST : 새로운 정보를 보내기 위해 요청\n",
    " - PUT  : 수정할 정보를 보내기 위해 요청\n",
    " - DEL  : 정보를 삭제하기 위해 요청\n",
    "- 응답\n",
    " - 1XX : 요청을 받았고 작업 진행 중\n",
    " - 2XX : 사용자의 요청이 성공적으로 수행됨\n",
    " - 3XX : 요청은 완료되었으나 리다이렉션이 필요\n",
    " - 4XX : 사용자의 요청이 잘못됨\n",
    " - 5XX : 서버 오류가 발생함"
   ]
  },
  {
   "cell_type": "code",
   "execution_count": 32,
   "id": "3436cfb6",
   "metadata": {},
   "outputs": [
    {
     "name": "stdout",
     "output_type": "stream",
     "text": [
      "Requirement already satisfied: requests in c:\\users\\kal19\\anaconda3\\lib\\site-packages (2.26.0)\n",
      "Requirement already satisfied: urllib3<1.27,>=1.21.1 in c:\\users\\kal19\\anaconda3\\lib\\site-packages (from requests) (1.26.7)\n",
      "Requirement already satisfied: charset-normalizer~=2.0.0 in c:\\users\\kal19\\anaconda3\\lib\\site-packages (from requests) (2.0.4)\n",
      "Requirement already satisfied: idna<4,>=2.5 in c:\\users\\kal19\\anaconda3\\lib\\site-packages (from requests) (3.2)\n",
      "Requirement already satisfied: certifi>=2017.4.17 in c:\\users\\kal19\\anaconda3\\lib\\site-packages (from requests) (2021.10.8)\n"
     ]
    }
   ],
   "source": [
    "!pip install requests"
   ]
  },
  {
   "cell_type": "code",
   "execution_count": null,
   "id": "461f9d40",
   "metadata": {},
   "outputs": [],
   "source": [
    "import requests\n",
    "URL = 'http://naver.com'\n",
    "response = requests.get(URL)\n",
    "response.status_code\n",
    "html_data = response.text\n",
    "html_data"
   ]
  },
  {
   "cell_type": "code",
   "execution_count": 34,
   "id": "eff2ec1f",
   "metadata": {},
   "outputs": [
    {
     "data": {
      "text/plain": [
       "365"
      ]
     },
     "execution_count": 34,
     "metadata": {},
     "output_type": "execute_result"
    }
   ],
   "source": [
    "html_data.find('네이버')"
   ]
  },
  {
   "cell_type": "code",
   "execution_count": 35,
   "id": "cbc40358",
   "metadata": {},
   "outputs": [
    {
     "name": "stdout",
     "output_type": "stream",
     "text": [
      "네이버\n"
     ]
    }
   ],
   "source": [
    "print(html_data[365:368])"
   ]
  },
  {
   "cell_type": "code",
   "execution_count": 36,
   "id": "054c8891",
   "metadata": {},
   "outputs": [
    {
     "data": {
      "text/plain": [
       "'네이버'"
      ]
     },
     "execution_count": 36,
     "metadata": {},
     "output_type": "execute_result"
    }
   ],
   "source": [
    "import re\n",
    "words = re.search('네이버',html_data)\n",
    "words.group()"
   ]
  },
  {
   "cell_type": "code",
   "execution_count": 37,
   "id": "97b5edcf",
   "metadata": {},
   "outputs": [
    {
     "data": {
      "text/plain": [
       "'네이버'"
      ]
     },
     "execution_count": 37,
     "metadata": {},
     "output_type": "execute_result"
    }
   ],
   "source": [
    "import re\n",
    "words = re.search('([가-힣]+)',html_data)\n",
    "words.group()"
   ]
  },
  {
   "cell_type": "code",
   "execution_count": 38,
   "id": "50a53e1e",
   "metadata": {},
   "outputs": [
    {
     "name": "stdout",
     "output_type": "stream",
     "text": [
      " 만나 보세요\"/> <meta property=\"og:title\" content=\"네이버\"> <meta property=\"og:url\" content=\"https\n"
     ]
    }
   ],
   "source": [
    "html_data.find('<meta property=')\n",
    "print(html_data[390:480])"
   ]
  },
  {
   "cell_type": "code",
   "execution_count": 39,
   "id": "fee0356b",
   "metadata": {},
   "outputs": [
    {
     "data": {
      "text/plain": [
       "'\"og:title\" content=\"네이버\"> '"
      ]
     },
     "execution_count": 39,
     "metadata": {},
     "output_type": "execute_result"
    }
   ],
   "source": [
    "content = html_data.split('<meta property=')[1]  #<meta property=를 기준으로 나누는 경우\n",
    "content  # 뒷부분이 나온다"
   ]
  },
  {
   "cell_type": "code",
   "execution_count": 40,
   "id": "3af953d9",
   "metadata": {},
   "outputs": [
    {
     "name": "stdout",
     "output_type": "stream",
     "text": [
      "\n",
      "<!doctype html>                          <html lang=\"ko\" data-dark=\"false\"> <head> <meta charset=\"utf-8\"> <title>NAVER</title> <meta http-equiv=\"X-UA-Compatible\" content=\"IE=edge\"> <meta name=\"viewport\" content=\"width=1190\"> <meta name=\"apple-mobile-web-app-title\" content=\"NAVER\"/> <meta name=\"robots\" content=\"index,nofollow\"/> <meta name=\"description\" content=\"네이버 메인에서 다양한 정보와 유용한 컨텐츠를 만나 보세요\"/>  \n",
      "\n",
      "\"og:title\" content=\"네이버\"> \n"
     ]
    }
   ],
   "source": [
    "content0 = html_data.split('<meta property=')[0]\n",
    "content1 = html_data.split('<meta property=')[1]  \n",
    "print(content0,'\\n')  \n",
    "print(content1)"
   ]
  },
  {
   "cell_type": "code",
   "execution_count": 41,
   "id": "5cac1a09",
   "metadata": {},
   "outputs": [
    {
     "data": {
      "text/plain": [
       "'네이버'"
      ]
     },
     "execution_count": 41,
     "metadata": {},
     "output_type": "execute_result"
    }
   ],
   "source": [
    "content = re.search('네이버+',content1)\n",
    "content.group()"
   ]
  },
  {
   "cell_type": "code",
   "execution_count": null,
   "id": "2ad98467",
   "metadata": {
    "scrolled": false
   },
   "outputs": [],
   "source": [
    "# 네이버에 빅데이터라고 검색한 내용을 가져오기(query의 값인 빅데이터를 params값으로 가져오기)\n",
    "URL = 'https://search.naver.com/search.naver'\n",
    "params = {'query':'빅데이터'}\n",
    "response = requests.get(URL, params=params) #params: 파라미스\n",
    "response.status_code\n",
    "response.text"
   ]
  },
  {
   "cell_type": "code",
   "execution_count": null,
   "id": "d098982a",
   "metadata": {
    "scrolled": false
   },
   "outputs": [],
   "source": [
    "# 파라미터를 2개 이상 가져오는 방법\n",
    "URL = 'https://comic.naver.com/webtoon/detail'\n",
    "params = {'titled':784255,'no':29,'weekday':'wed'}\n",
    "response = requests.get(URL,params=params)\n",
    "response.status_code\n",
    "response.text"
   ]
  },
  {
   "cell_type": "code",
   "execution_count": null,
   "id": "576bb5a3",
   "metadata": {},
   "outputs": [],
   "source": [
    "# 네이버 사이트에서 '공지사항'을 찾아서 출력하세요(파이썬 인덱싱,함수 / 정규표현식)\n",
    "URL = 'http://naver.com'\n",
    "response = requests.get(URL)\n",
    "response.status_code\n",
    "html_data = response.text\n",
    "html_data"
   ]
  },
  {
   "cell_type": "code",
   "execution_count": 45,
   "id": "4d722f59",
   "metadata": {},
   "outputs": [
    {
     "data": {
      "text/plain": [
       "'공지사항'"
      ]
     },
     "execution_count": 45,
     "metadata": {},
     "output_type": "execute_result"
    }
   ],
   "source": [
    "import re\n",
    "words = re.search('공지사항',html_data)\n",
    "words.group()"
   ]
  },
  {
   "cell_type": "code",
   "execution_count": 46,
   "id": "7e0e7585",
   "metadata": {},
   "outputs": [
    {
     "data": {
      "text/plain": [
       "'공지사항'"
      ]
     },
     "execution_count": 46,
     "metadata": {},
     "output_type": "execute_result"
    }
   ],
   "source": [
    "URL = 'http://naver.com'\n",
    "response = requests.get(URL)\n",
    "response.status_code\n",
    "naver = response.text\n",
    "t = re.search('공지사항',naver)\n",
    "t.group()\n"
   ]
  },
  {
   "cell_type": "code",
   "execution_count": 47,
   "id": "6bfafa31",
   "metadata": {},
   "outputs": [
    {
     "data": {
      "text/plain": [
       "181656"
      ]
     },
     "metadata": {},
     "output_type": "display_data"
    },
    {
     "data": {
      "text/plain": [
       "'공지사항'"
      ]
     },
     "metadata": {},
     "output_type": "display_data"
    }
   ],
   "source": [
    "url = 'https://naver.com'\n",
    "res = requests.get(url)\n",
    "res.status_code\n",
    "r = res.text\n",
    "\n",
    "# 인덱싱\n",
    "rr = r.find('공지사항')\n",
    "display(rr,\n",
    "        r[rr:(rr+4)])\n"
   ]
  },
  {
   "cell_type": "markdown",
   "id": "3a52f380",
   "metadata": {},
   "source": [
    "[과제] 네이버 홈페이지에 있는 ['메일','카페','블로그','지식iN','쇼핑']을 출력하세요"
   ]
  },
  {
   "cell_type": "code",
   "execution_count": null,
   "id": "47a39af8",
   "metadata": {},
   "outputs": [],
   "source": [
    "import requests\n",
    "URL = 'http://naver.com'\n",
    "response = requests.get(URL)\n",
    "response.status_code\n",
    "html_data = response.text\n",
    "html_data"
   ]
  },
  {
   "cell_type": "code",
   "execution_count": 50,
   "id": "126c1b27",
   "metadata": {},
   "outputs": [
    {
     "data": {
      "text/plain": [
       "['메일', '카페', '블로그', '지식iN', '쇼핑']"
      ]
     },
     "execution_count": 50,
     "metadata": {},
     "output_type": "execute_result"
    }
   ],
   "source": [
    "from bs4 import BeautifulSoup\n",
    "URL = 'http://naver.com'\n",
    "response = requests.get(URL)\n",
    "response.status_code\n",
    "naver = response.text\n",
    "soup = BeautifulSoup(naver,'html.parser')\n",
    "a = soup.select('#NM_FAVORITE > div.group_nav > ul.list_nav.type_fix > li> a',limit=5)\n",
    "li = []\n",
    "for i in a:\n",
    "    li.append(i.text)\n",
    "li\n"
   ]
  },
  {
   "cell_type": "code",
   "execution_count": 51,
   "id": "83ce310d",
   "metadata": {},
   "outputs": [
    {
     "name": "stdout",
     "output_type": "stream",
     "text": [
      "ass=\"group_nav\">\n",
      "<ul class=\"list_nav type_fix\">\n",
      "<li class=\"nav_item\">\n",
      "<a href=\"https://mail.naver.com/\" class=\"nav\" data-clk=\"svc.mail\"><i class=\"ico_mail\"></i>메일</a>\n",
      "</li>\n",
      "<li class=\"nav_item\"><a href=\"https://section.cafe.naver.com/\" class=\"nav\" data-clk=\"svc.cafe\">카페</a></li>\n",
      "<li class=\"nav_item\"><a href=\"https://section.blog.naver.com/\" class=\"nav\" data-clk=\"svc.blog\">블로그</a></li>\n",
      "<li class=\"n \n",
      "\n",
      "['메일', '카페', '블로그', '지식iN', '쇼핑']\n"
     ]
    }
   ],
   "source": [
    "url = 'https://naver.com'\n",
    "html = requests.get(url).text\n",
    "soup = BeautifulSoup(html, 'html.parser')\n",
    "\n",
    "re.search('메일', html)\n",
    "print(html[25800:26200], '\\n')\n",
    "a = soup.select('div.group_nav')\n",
    "b = soup.find_all('a', class_ = ['nav'])[0:5]\n",
    "\n",
    "c = [i.text for i in b]\n",
    "print(c)\n"
   ]
  },
  {
   "cell_type": "markdown",
   "id": "cfe7ed6d",
   "metadata": {},
   "source": [
    "BeautifulSoup 모듈\n",
    "\n",
    "- 홈페이지 내 데이터를 쉽게 추출할 수 있게 해주는 파이썬 외부 라이브러리\n",
    "- 웹 문서 내 수많은 HTML 태그들을 parser를 활용해 사용하기 편한 파이썬 객체로 만들어 제공\n",
    "- 웹 문서 구조를 알고 있다면 편하게 데이터를 뽑아 활용할 수 있음\n",
    "- BS는 HTML 문서 태그 기반으로 구조화하여 태그로 원하는 데이터를 찾아가는 형식\n",
    "\n",
    "- find() : HTML의 해당 태그에 대한 첫번째 정보를 가져옴\n",
    "  - find(속성='값') : HTML 해당 속성과 일치하는 값에 대한 첫번째 정보를 가져옴\n",
    "- findall(),findAll \n",
    "  - HTML의 해당 태그에 대한 모든 정보를 리스트 형식으로 가져옴. limit 옵션으로 개수 지정 가능\n",
    "  - CSS 속성으로 필터링(class_로 클래스를 직접 사용 혹은 attrs에서 속성 = 값으로 필터링)\n",
    "- select_one(), select()\n",
    "  - CSS 선택자를 활용하여 원하는 정보를 가져옴(태그를 검색하는 find, find_all과 비슷함)\n",
    "  - class는 ., id는 #로 표시한다"
   ]
  },
  {
   "cell_type": "code",
   "execution_count": 52,
   "id": "db9da90e",
   "metadata": {
    "scrolled": true
   },
   "outputs": [
    {
     "name": "stdout",
     "output_type": "stream",
     "text": [
      "Requirement already satisfied: beautifulsoup4 in c:\\users\\kal19\\anaconda3\\lib\\site-packages (4.10.0)\n",
      "Requirement already satisfied: soupsieve>1.2 in c:\\users\\kal19\\anaconda3\\lib\\site-packages (from beautifulsoup4) (2.2.1)\n"
     ]
    }
   ],
   "source": [
    "!pip install beautifulsoup4"
   ]
  },
  {
   "cell_type": "code",
   "execution_count": 53,
   "id": "392f945a",
   "metadata": {
    "scrolled": true
   },
   "outputs": [
    {
     "name": "stdout",
     "output_type": "stream",
     "text": [
      "<html lang=\"en\">\n",
      " <head>\n",
      "  <title>\n",
      "   crawl\n",
      "  </title>\n",
      " </head>\n",
      " <body>\n",
      "  <p align=\"center\" class=\"a\">\n",
      "   text1\n",
      "  </p>\n",
      "  <p align=\"center\" class=\"b\">\n",
      "   text2\n",
      "  </p>\n",
      "  <p align=\"center\" class=\"c\">\n",
      "   text3\n",
      "  </p>\n",
      "  <div>\n",
      "   <img height=\"200\" src=\"/source\" width=\"300\"/>\n",
      "  </div>\n",
      " </body>\n",
      "</html>\n",
      "\n"
     ]
    }
   ],
   "source": [
    "html_doc = \"\"\"\n",
    "<html lang=\"en\">\n",
    "<head><title>crawl</title></head>\n",
    "<body>\n",
    "<p class=\"a\" align=\"center\"> text1</p>\n",
    "<p class=\"b\" align=\"center\"> text2</p>\n",
    "<p class=\"c\" align=\"center\"> text3</p>\n",
    "<div><img src=\"/source\" width=\"300\" height=\"200\"></div>\n",
    "</body>\n",
    "</html>\n",
    "\"\"\"\n",
    "from bs4 import BeautifulSoup\n",
    "soup = BeautifulSoup(html_doc, 'html.parser')\n",
    "soup\n",
    "print(soup.prettify()) # prettify를 써서 간격을 다시 정렬해준다"
   ]
  },
  {
   "cell_type": "code",
   "execution_count": 54,
   "id": "16b6cc3d",
   "metadata": {},
   "outputs": [
    {
     "data": {
      "text/plain": [
       "'er.com/banner/details/quicksearch?=main&wpid=RydDy7\"\\ndata-clk=\"dropbanner1a\"\\n></a\\n><i class=\"_1KncATpM _1yl_Ow6o\"><span class=\"blind\">NAVER whale</span></i\\n><img\\nsrc=\"https://static-whale.pstatic.net/'"
      ]
     },
     "execution_count": 54,
     "metadata": {},
     "output_type": "execute_result"
    }
   ],
   "source": [
    "URL = 'http://naver.com'\n",
    "req = requests.get(URL)\n",
    "html = req.text\n",
    "html.find('blind') # 네이버 사이트에서 blind의 갯수\n",
    "html[9800:10000] #naver사이트의 9800번째에서 10000번까지 글자 모음(naver whale을 찾음)"
   ]
  },
  {
   "cell_type": "code",
   "execution_count": 55,
   "id": "04fa5733",
   "metadata": {},
   "outputs": [
    {
     "data": {
      "text/plain": [
       "'NAVER whale'"
      ]
     },
     "execution_count": 55,
     "metadata": {},
     "output_type": "execute_result"
    }
   ],
   "source": [
    "soup = BeautifulSoup(html,'html.parser')\n",
    "result = soup.find(class_='blind')\n",
    "result.text"
   ]
  },
  {
   "cell_type": "code",
   "execution_count": 56,
   "id": "c15f2266",
   "metadata": {},
   "outputs": [
    {
     "data": {
      "text/plain": [
       "'웹 페이지를 분석하는 것'"
      ]
     },
     "execution_count": 56,
     "metadata": {},
     "output_type": "execute_result"
    }
   ],
   "source": [
    "# BeautifulSoup 사용하여 특정 부분을 출력하는 방법\n",
    "html = \"\"\"\n",
    "<html><body>\n",
    "  <h1>스크레이핑이란?</h1>\n",
    "  <p id = \"body\">웹 페이지를 분석하는 것</p>\n",
    "  <p>원하는 부분을 추출하는 것</p>\n",
    "</body></html>\n",
    "\"\"\"\n",
    "soup = BeautifulSoup(html, 'html.parser')\n",
    "body = soup.find(id=\"body\")\n",
    "body.text"
   ]
  },
  {
   "cell_type": "code",
   "execution_count": 57,
   "id": "9d4e403e",
   "metadata": {
    "scrolled": true
   },
   "outputs": [
    {
     "data": {
      "text/plain": [
       "'스크레이핑이란?'"
      ]
     },
     "execution_count": 57,
     "metadata": {},
     "output_type": "execute_result"
    }
   ],
   "source": [
    "# 다른방법\n",
    "html = \"\"\"\n",
    "<html><body>\n",
    "  <h1 id=\"title\">스크레이핑이란?</h1>\n",
    "  <p id = \"body\">웹 페이지를 분석하는 것</p>\n",
    "  <p>원하는 부분을 추출하는 것</p>\n",
    "</body></html>\n",
    "\"\"\"\n",
    "soup = BeautifulSoup(html, 'html.parser')\n",
    "body = soup.find(id=\"body\")\n",
    "title = soup.find(id='title')\n",
    "body.text\n",
    "title.string  # text도 되지만 string(문자)도 가능하다"
   ]
  },
  {
   "cell_type": "code",
   "execution_count": 58,
   "id": "ae61e699",
   "metadata": {
    "scrolled": true
   },
   "outputs": [
    {
     "data": {
      "text/plain": [
       "'스크레이핑이란?'"
      ]
     },
     "execution_count": 58,
     "metadata": {},
     "output_type": "execute_result"
    }
   ],
   "source": [
    "h1 = soup.html.body.h1.string\n",
    "h1"
   ]
  },
  {
   "cell_type": "code",
   "execution_count": 59,
   "id": "dd7685de",
   "metadata": {},
   "outputs": [
    {
     "data": {
      "text/plain": [
       "'웹 페이지를 분석하는 것'"
      ]
     },
     "execution_count": 59,
     "metadata": {},
     "output_type": "execute_result"
    }
   ],
   "source": [
    "p1 = soup.html.body.p\n",
    "p1.string"
   ]
  },
  {
   "cell_type": "code",
   "execution_count": 60,
   "id": "6cee4c2d",
   "metadata": {
    "scrolled": true
   },
   "outputs": [
    {
     "data": {
      "text/plain": [
       "<p>원하는 부분을 추출하는 것</p>"
      ]
     },
     "execution_count": 60,
     "metadata": {},
     "output_type": "execute_result"
    }
   ],
   "source": [
    "p2 = p1.next_sibling.next_sibling # next_sibling은 한칸을 옮기는것, 안쪽에 '\\n'이 있기 때문에 한번더 해야 만들어진다.\n",
    "p2"
   ]
  },
  {
   "cell_type": "code",
   "execution_count": 61,
   "id": "341955d1",
   "metadata": {},
   "outputs": [
    {
     "name": "stdout",
     "output_type": "stream",
     "text": [
      "웹 페이지를 분석하는 것\n",
      "원하는 부분을 추출하는 것\n"
     ]
    }
   ],
   "source": [
    "# find_all() : 여러개를 추출하는데 사용\n",
    "texts = soup.find_all('p')\n",
    "for text in texts:\n",
    "    print(text.text)"
   ]
  },
  {
   "cell_type": "code",
   "execution_count": 63,
   "id": "8f6e51c3",
   "metadata": {},
   "outputs": [],
   "source": [
    "html = \"\"\"\n",
    "<html><body>\n",
    "  <h1 id=\"title\">스크레이핑이란?</h1>\n",
    "  <p id = \"body\">웹 페이지를 분석하는 것</p>\n",
    "  <p>원하는 부분을 추출하는 것</p>\n",
    "</body></html>\n",
    "\"\"\""
   ]
  },
  {
   "cell_type": "code",
   "execution_count": null,
   "id": "2652558a",
   "metadata": {
    "scrolled": true
   },
   "outputs": [],
   "source": [
    "soup = BeautifulSoup(html,'htlm.parser')\n",
    "texts = soup.find_all('p')\n",
    "for text in texts:\n",
    "    print(text.text)"
   ]
  },
  {
   "cell_type": "code",
   "execution_count": 65,
   "id": "60c3535a",
   "metadata": {},
   "outputs": [
    {
     "name": "stdout",
     "output_type": "stream",
     "text": [
      "naver > http://www.naver.com\n",
      "daum > http://www.daum.net\n"
     ]
    }
   ],
   "source": [
    "html = \"\"\"\n",
    "<html><body>\n",
    "  <ul>\n",
    "    <li><a href=\"http://www.naver.com\">naver</a></li>\n",
    "    <li><a href=\"http://www.daum.net\">daum</a></li>\n",
    "  </ul>\n",
    "</body></html>\n",
    "\"\"\"\n",
    "soup = BeautifulSoup(html,'html.parser')\n",
    "links = soup.find_all('a')\n",
    "for a in links:\n",
    "    print(a.text,'>', a.get('href'))\n"
   ]
  },
  {
   "cell_type": "code",
   "execution_count": null,
   "id": "57ac1dc5",
   "metadata": {},
   "outputs": [],
   "source": [
    "naver > http://www.naver.com\n",
    "daum > http://www.daum.net"
   ]
  },
  {
   "cell_type": "code",
   "execution_count": 67,
   "id": "92237e0d",
   "metadata": {},
   "outputs": [
    {
     "data": {
      "text/plain": [
       "'기상청 육상 중기예보'"
      ]
     },
     "execution_count": 67,
     "metadata": {},
     "output_type": "execute_result"
    }
   ],
   "source": [
    "# urllib.request를 추출(내장)\n",
    "import urllib.request as req\n",
    "\n",
    "url = \"http://www.kma.go.kr/weather/forecast/mid-term-rss3.jsp\"\n",
    "res = req.urlopen(url)\n",
    "soup = BeautifulSoup(res,'html.parser')\n",
    "title = soup.find('title').string\n",
    "title\n"
   ]
  },
  {
   "cell_type": "code",
   "execution_count": 68,
   "id": "5c4fe5bb",
   "metadata": {},
   "outputs": [
    {
     "data": {
      "text/plain": [
       "'기상청 육상 중기예보'"
      ]
     },
     "execution_count": 68,
     "metadata": {},
     "output_type": "execute_result"
    }
   ],
   "source": [
    "# 외부 라이브러리 사용법\n",
    "url = \"http://www.kma.go.kr/weather/forecast/mid-term-rss3.jsp\"\n",
    "res = requests.get(url).text\n",
    "soup = BeautifulSoup(res,'html.parser')\n",
    "title = soup.find('title').string\n",
    "title"
   ]
  },
  {
   "cell_type": "code",
   "execution_count": 71,
   "id": "f0f8f06a",
   "metadata": {
    "scrolled": true
   },
   "outputs": [
    {
     "data": {
      "text/plain": [
       "'(강수) 15일(화) 오전에는 강원도와 충청권, 전라권에 눈(전남권은 비 또는 눈)이 오는 곳이 있겠습니다.(기온) 이번 예보기간 아침 기온은-12~2도, 낮 기온은-1~10도로 어제(11일, 아침최저기온-9~2도, 낮최고기온 7~12도)보다 낮겠습니다.(해상) 15일(화)~17일(목) 동해상에서는 물결이 1.0~4.0m로 매우 높게 일겠습니다.'"
      ]
     },
     "execution_count": 71,
     "metadata": {},
     "output_type": "execute_result"
    }
   ],
   "source": [
    "url = \"http://www.kma.go.kr/weather/forecast/mid-term-rss3.jsp\"\n",
    "res = req.urlopen(url)\n",
    "soup = BeautifulSoup(res,'html.parser')\n",
    "wf = soup.find('wf').text\n",
    "text = ''.join(re.findall('[^A-Z0-9]?[0-9가-힣]+[^ A-Z0-9]?',wf))\n",
    "text\n"
   ]
  },
  {
   "cell_type": "code",
   "execution_count": null,
   "id": "1c81ae79",
   "metadata": {},
   "outputs": [],
   "source": [
    "# [과제] wf 태그는 모두 출력"
   ]
  },
  {
   "cell_type": "code",
   "execution_count": 72,
   "id": "610dd529",
   "metadata": {},
   "outputs": [
    {
     "name": "stdout",
     "output_type": "stream",
     "text": [
      "(강수) 15일(화) 오전에는 강원도와 충청권, 전라권에 눈(전남권은 비 또는 눈)이 오는 곳이 있겠습니다.(기온) 이번 예보기간 아침 기온은-12~2도, 낮 기온은-1~10도로 어제(11일, 아침최저기온-9~2도, 낮최고기온 7~12도)보다 낮겠습니다.(해상) 15일(화)~17일(목) 동해상에서는 물결이 1.0~4.0m로 매우 높게 일겠습니다.\n",
      "(강수) 15일(화) 오전에는 강원도와 충청권, 전라권에 눈(전남권은 비 또는 눈)이 오는 곳이 있겠습니다.(기온) 이번 예보기간 아침 기온은-12~2도, 낮 기온은-1~10도로 어제(11일, 아침최저기온-9~2도, 낮최고기온 7~12도)보다 낮겠습니다.(해상) 15일(화)~17일(목) 동해상에서는 물결이 1.0~4.0m로 매우 높게 일겠습니다.\n",
      "(강수) 15일(화) 오전에는 강원도와 충청권, 전라권에 눈(전남권은 비 또는 눈)이 오는 곳이 있겠습니다.(기온) 이번 예보기간 아침 기온은-12~2도, 낮 기온은-1~10도로 어제(11일, 아침최저기온-9~2도, 낮최고기온 7~12도)보다 낮겠습니다.(해상) 15일(화)~17일(목) 동해상에서는 물결이 1.0~4.0m로 매우 높게 일겠습니다.\n",
      "(강수) 15일(화) 오전에는 강원도와 충청권, 전라권에 눈(전남권은 비 또는 눈)이 오는 곳이 있겠습니다.(기온) 이번 예보기간 아침 기온은-12~2도, 낮 기온은-1~10도로 어제(11일, 아침최저기온-9~2도, 낮최고기온 7~12도)보다 낮겠습니다.(해상) 15일(화)~17일(목) 동해상에서는 물결이 1.0~4.0m로 매우 높게 일겠습니다.\n",
      "(강수) 15일(화) 오전에는 강원도와 충청권, 전라권에 눈(전남권은 비 또는 눈)이 오는 곳이 있겠습니다.(기온) 이번 예보기간 아침 기온은-12~2도, 낮 기온은-1~10도로 어제(11일, 아침최저기온-9~2도, 낮최고기온 7~12도)보다 낮겠습니다.(해상) 15일(화)~17일(목) 동해상에서는 물결이 1.0~4.0m로 매우 높게 일겠습니다.\n",
      "(강수) 15일(화) 오전에는 강원도와 충청권, 전라권에 눈(전남권은 비 또는 눈)이 오는 곳이 있겠습니다.(기온) 이번 예보기간 아침 기온은-12~2도, 낮 기온은-1~10도로 어제(11일, 아침최저기온-9~2도, 낮최고기온 7~12도)보다 낮겠습니다.(해상) 15일(화)~17일(목) 동해상에서는 물결이 1.0~4.0m로 매우 높게 일겠습니다.\n",
      "(강수) 15일(화) 오전에는 강원도와 충청권, 전라권에 눈(전남권은 비 또는 눈)이 오는 곳이 있겠습니다.(기온) 이번 예보기간 아침 기온은-12~2도, 낮 기온은-1~10도로 어제(11일, 아침최저기온-9~2도, 낮최고기온 7~12도)보다 낮겠습니다.(해상) 15일(화)~17일(목) 동해상에서는 물결이 1.0~4.0m로 매우 높게 일겠습니다.\n",
      "(강수) 15일(화) 오전에는 강원도와 충청권, 전라권에 눈(전남권은 비 또는 눈)이 오는 곳이 있겠습니다.(기온) 이번 예보기간 아침 기온은-12~2도, 낮 기온은-1~10도로 어제(11일, 아침최저기온-9~2도, 낮최고기온 7~12도)보다 낮겠습니다.(해상) 15일(화)~17일(목) 동해상에서는 물결이 1.0~4.0m로 매우 높게 일겠습니다.\n",
      "(강수) 15일(화) 오전에는 강원도와 충청권, 전라권에 눈(전남권은 비 또는 눈)이 오는 곳이 있겠습니다.(기온) 이번 예보기간 아침 기온은-12~2도, 낮 기온은-1~10도로 어제(11일, 아침최저기온-9~2도, 낮최고기온 7~12도)보다 낮겠습니다.(해상) 15일(화)~17일(목) 동해상에서는 물결이 1.0~4.0m로 매우 높게 일겠습니다.\n",
      "(강수) 15일(화) 오전에는 강원도와 충청권, 전라권에 눈(전남권은 비 또는 눈)이 오는 곳이 있겠습니다.(기온) 이번 예보기간 아침 기온은-12~2도, 낮 기온은-1~10도로 어제(11일, 아침최저기온-9~2도, 낮최고기온 7~12도)보다 낮겠습니다.(해상) 15일(화)~17일(목) 동해상에서는 물결이 1.0~4.0m로 매우 높게 일겠습니다.\n",
      "(강수) 15일(화) 오전에는 강원도와 충청권, 전라권에 눈(전남권은 비 또는 눈)이 오는 곳이 있겠습니다.(기온) 이번 예보기간 아침 기온은-12~2도, 낮 기온은-1~10도로 어제(11일, 아침최저기온-9~2도, 낮최고기온 7~12도)보다 낮겠습니다.(해상) 15일(화)~17일(목) 동해상에서는 물결이 1.0~4.0m로 매우 높게 일겠습니다.\n",
      "(강수) 15일(화) 오전에는 강원도와 충청권, 전라권에 눈(전남권은 비 또는 눈)이 오는 곳이 있겠습니다.(기온) 이번 예보기간 아침 기온은-12~2도, 낮 기온은-1~10도로 어제(11일, 아침최저기온-9~2도, 낮최고기온 7~12도)보다 낮겠습니다.(해상) 15일(화)~17일(목) 동해상에서는 물결이 1.0~4.0m로 매우 높게 일겠습니다.\n",
      "(강수) 15일(화) 오전에는 강원도와 충청권, 전라권에 눈(전남권은 비 또는 눈)이 오는 곳이 있겠습니다.(기온) 이번 예보기간 아침 기온은-12~2도, 낮 기온은-1~10도로 어제(11일, 아침최저기온-9~2도, 낮최고기온 7~12도)보다 낮겠습니다.(해상) 15일(화)~17일(목) 동해상에서는 물결이 1.0~4.0m로 매우 높게 일겠습니다.\n",
      "(강수) 15일(화) 오전에는 강원도와 충청권, 전라권에 눈(전남권은 비 또는 눈)이 오는 곳이 있겠습니다.(기온) 이번 예보기간 아침 기온은-12~2도, 낮 기온은-1~10도로 어제(11일, 아침최저기온-9~2도, 낮최고기온 7~12도)보다 낮겠습니다.(해상) 15일(화)~17일(목) 동해상에서는 물결이 1.0~4.0m로 매우 높게 일겠습니다.\n",
      "(강수) 15일(화) 오전에는 강원도와 충청권, 전라권에 눈(전남권은 비 또는 눈)이 오는 곳이 있겠습니다.(기온) 이번 예보기간 아침 기온은-12~2도, 낮 기온은-1~10도로 어제(11일, 아침최저기온-9~2도, 낮최고기온 7~12도)보다 낮겠습니다.(해상) 15일(화)~17일(목) 동해상에서는 물결이 1.0~4.0m로 매우 높게 일겠습니다.\n",
      "(강수) 15일(화) 오전에는 강원도와 충청권, 전라권에 눈(전남권은 비 또는 눈)이 오는 곳이 있겠습니다.(기온) 이번 예보기간 아침 기온은-12~2도, 낮 기온은-1~10도로 어제(11일, 아침최저기온-9~2도, 낮최고기온 7~12도)보다 낮겠습니다.(해상) 15일(화)~17일(목) 동해상에서는 물결이 1.0~4.0m로 매우 높게 일겠습니다.\n",
      "(강수) 15일(화) 오전에는 강원도와 충청권, 전라권에 눈(전남권은 비 또는 눈)이 오는 곳이 있겠습니다.(기온) 이번 예보기간 아침 기온은-12~2도, 낮 기온은-1~10도로 어제(11일, 아침최저기온-9~2도, 낮최고기온 7~12도)보다 낮겠습니다.(해상) 15일(화)~17일(목) 동해상에서는 물결이 1.0~4.0m로 매우 높게 일겠습니다.\n",
      "(강수) 15일(화) 오전에는 강원도와 충청권, 전라권에 눈(전남권은 비 또는 눈)이 오는 곳이 있겠습니다.(기온) 이번 예보기간 아침 기온은-12~2도, 낮 기온은-1~10도로 어제(11일, 아침최저기온-9~2도, 낮최고기온 7~12도)보다 낮겠습니다.(해상) 15일(화)~17일(목) 동해상에서는 물결이 1.0~4.0m로 매우 높게 일겠습니다.\n",
      "(강수) 15일(화) 오전에는 강원도와 충청권, 전라권에 눈(전남권은 비 또는 눈)이 오는 곳이 있겠습니다.(기온) 이번 예보기간 아침 기온은-12~2도, 낮 기온은-1~10도로 어제(11일, 아침최저기온-9~2도, 낮최고기온 7~12도)보다 낮겠습니다.(해상) 15일(화)~17일(목) 동해상에서는 물결이 1.0~4.0m로 매우 높게 일겠습니다.\n",
      "(강수) 15일(화) 오전에는 강원도와 충청권, 전라권에 눈(전남권은 비 또는 눈)이 오는 곳이 있겠습니다.(기온) 이번 예보기간 아침 기온은-12~2도, 낮 기온은-1~10도로 어제(11일, 아침최저기온-9~2도, 낮최고기온 7~12도)보다 낮겠습니다.(해상) 15일(화)~17일(목) 동해상에서는 물결이 1.0~4.0m로 매우 높게 일겠습니다.\n",
      "(강수) 15일(화) 오전에는 강원도와 충청권, 전라권에 눈(전남권은 비 또는 눈)이 오는 곳이 있겠습니다.(기온) 이번 예보기간 아침 기온은-12~2도, 낮 기온은-1~10도로 어제(11일, 아침최저기온-9~2도, 낮최고기온 7~12도)보다 낮겠습니다.(해상) 15일(화)~17일(목) 동해상에서는 물결이 1.0~4.0m로 매우 높게 일겠습니다.\n",
      "(강수) 15일(화) 오전에는 강원도와 충청권, 전라권에 눈(전남권은 비 또는 눈)이 오는 곳이 있겠습니다.(기온) 이번 예보기간 아침 기온은-12~2도, 낮 기온은-1~10도로 어제(11일, 아침최저기온-9~2도, 낮최고기온 7~12도)보다 낮겠습니다.(해상) 15일(화)~17일(목) 동해상에서는 물결이 1.0~4.0m로 매우 높게 일겠습니다.\n",
      "(강수) 15일(화) 오전에는 강원도와 충청권, 전라권에 눈(전남권은 비 또는 눈)이 오는 곳이 있겠습니다.(기온) 이번 예보기간 아침 기온은-12~2도, 낮 기온은-1~10도로 어제(11일, 아침최저기온-9~2도, 낮최고기온 7~12도)보다 낮겠습니다.(해상) 15일(화)~17일(목) 동해상에서는 물결이 1.0~4.0m로 매우 높게 일겠습니다.\n",
      "(강수) 15일(화) 오전에는 강원도와 충청권, 전라권에 눈(전남권은 비 또는 눈)이 오는 곳이 있겠습니다.(기온) 이번 예보기간 아침 기온은-12~2도, 낮 기온은-1~10도로 어제(11일, 아침최저기온-9~2도, 낮최고기온 7~12도)보다 낮겠습니다.(해상) 15일(화)~17일(목) 동해상에서는 물결이 1.0~4.0m로 매우 높게 일겠습니다.\n",
      "(강수) 15일(화) 오전에는 강원도와 충청권, 전라권에 눈(전남권은 비 또는 눈)이 오는 곳이 있겠습니다.(기온) 이번 예보기간 아침 기온은-12~2도, 낮 기온은-1~10도로 어제(11일, 아침최저기온-9~2도, 낮최고기온 7~12도)보다 낮겠습니다.(해상) 15일(화)~17일(목) 동해상에서는 물결이 1.0~4.0m로 매우 높게 일겠습니다.\n",
      "(강수) 15일(화) 오전에는 강원도와 충청권, 전라권에 눈(전남권은 비 또는 눈)이 오는 곳이 있겠습니다.(기온) 이번 예보기간 아침 기온은-12~2도, 낮 기온은-1~10도로 어제(11일, 아침최저기온-9~2도, 낮최고기온 7~12도)보다 낮겠습니다.(해상) 15일(화)~17일(목) 동해상에서는 물결이 1.0~4.0m로 매우 높게 일겠습니다.\n",
      "(강수) 15일(화) 오전에는 강원도와 충청권, 전라권에 눈(전남권은 비 또는 눈)이 오는 곳이 있겠습니다.(기온) 이번 예보기간 아침 기온은-12~2도, 낮 기온은-1~10도로 어제(11일, 아침최저기온-9~2도, 낮최고기온 7~12도)보다 낮겠습니다.(해상) 15일(화)~17일(목) 동해상에서는 물결이 1.0~4.0m로 매우 높게 일겠습니다.\n",
      "(강수) 15일(화) 오전에는 강원도와 충청권, 전라권에 눈(전남권은 비 또는 눈)이 오는 곳이 있겠습니다.(기온) 이번 예보기간 아침 기온은-12~2도, 낮 기온은-1~10도로 어제(11일, 아침최저기온-9~2도, 낮최고기온 7~12도)보다 낮겠습니다.(해상) 15일(화)~17일(목) 동해상에서는 물결이 1.0~4.0m로 매우 높게 일겠습니다.\n",
      "(강수) 15일(화) 오전에는 강원도와 충청권, 전라권에 눈(전남권은 비 또는 눈)이 오는 곳이 있겠습니다.(기온) 이번 예보기간 아침 기온은-12~2도, 낮 기온은-1~10도로 어제(11일, 아침최저기온-9~2도, 낮최고기온 7~12도)보다 낮겠습니다.(해상) 15일(화)~17일(목) 동해상에서는 물결이 1.0~4.0m로 매우 높게 일겠습니다.\n",
      "(강수) 15일(화) 오전에는 강원도와 충청권, 전라권에 눈(전남권은 비 또는 눈)이 오는 곳이 있겠습니다.(기온) 이번 예보기간 아침 기온은-12~2도, 낮 기온은-1~10도로 어제(11일, 아침최저기온-9~2도, 낮최고기온 7~12도)보다 낮겠습니다.(해상) 15일(화)~17일(목) 동해상에서는 물결이 1.0~4.0m로 매우 높게 일겠습니다.\n",
      "(강수) 15일(화) 오전에는 강원도와 충청권, 전라권에 눈(전남권은 비 또는 눈)이 오는 곳이 있겠습니다.(기온) 이번 예보기간 아침 기온은-12~2도, 낮 기온은-1~10도로 어제(11일, 아침최저기온-9~2도, 낮최고기온 7~12도)보다 낮겠습니다.(해상) 15일(화)~17일(목) 동해상에서는 물결이 1.0~4.0m로 매우 높게 일겠습니다.\n",
      "(강수) 15일(화) 오전에는 강원도와 충청권, 전라권에 눈(전남권은 비 또는 눈)이 오는 곳이 있겠습니다.(기온) 이번 예보기간 아침 기온은-12~2도, 낮 기온은-1~10도로 어제(11일, 아침최저기온-9~2도, 낮최고기온 7~12도)보다 낮겠습니다.(해상) 15일(화)~17일(목) 동해상에서는 물결이 1.0~4.0m로 매우 높게 일겠습니다.\n",
      "(강수) 15일(화) 오전에는 강원도와 충청권, 전라권에 눈(전남권은 비 또는 눈)이 오는 곳이 있겠습니다.(기온) 이번 예보기간 아침 기온은-12~2도, 낮 기온은-1~10도로 어제(11일, 아침최저기온-9~2도, 낮최고기온 7~12도)보다 낮겠습니다.(해상) 15일(화)~17일(목) 동해상에서는 물결이 1.0~4.0m로 매우 높게 일겠습니다.\n",
      "(강수) 15일(화) 오전에는 강원도와 충청권, 전라권에 눈(전남권은 비 또는 눈)이 오는 곳이 있겠습니다.(기온) 이번 예보기간 아침 기온은-12~2도, 낮 기온은-1~10도로 어제(11일, 아침최저기온-9~2도, 낮최고기온 7~12도)보다 낮겠습니다.(해상) 15일(화)~17일(목) 동해상에서는 물결이 1.0~4.0m로 매우 높게 일겠습니다.\n",
      "(강수) 15일(화) 오전에는 강원도와 충청권, 전라권에 눈(전남권은 비 또는 눈)이 오는 곳이 있겠습니다.(기온) 이번 예보기간 아침 기온은-12~2도, 낮 기온은-1~10도로 어제(11일, 아침최저기온-9~2도, 낮최고기온 7~12도)보다 낮겠습니다.(해상) 15일(화)~17일(목) 동해상에서는 물결이 1.0~4.0m로 매우 높게 일겠습니다.\n",
      "(강수) 15일(화) 오전에는 강원도와 충청권, 전라권에 눈(전남권은 비 또는 눈)이 오는 곳이 있겠습니다.(기온) 이번 예보기간 아침 기온은-12~2도, 낮 기온은-1~10도로 어제(11일, 아침최저기온-9~2도, 낮최고기온 7~12도)보다 낮겠습니다.(해상) 15일(화)~17일(목) 동해상에서는 물결이 1.0~4.0m로 매우 높게 일겠습니다.\n",
      "(강수) 15일(화) 오전에는 강원도와 충청권, 전라권에 눈(전남권은 비 또는 눈)이 오는 곳이 있겠습니다.(기온) 이번 예보기간 아침 기온은-12~2도, 낮 기온은-1~10도로 어제(11일, 아침최저기온-9~2도, 낮최고기온 7~12도)보다 낮겠습니다.(해상) 15일(화)~17일(목) 동해상에서는 물결이 1.0~4.0m로 매우 높게 일겠습니다.\n",
      "(강수) 15일(화) 오전에는 강원도와 충청권, 전라권에 눈(전남권은 비 또는 눈)이 오는 곳이 있겠습니다.(기온) 이번 예보기간 아침 기온은-12~2도, 낮 기온은-1~10도로 어제(11일, 아침최저기온-9~2도, 낮최고기온 7~12도)보다 낮겠습니다.(해상) 15일(화)~17일(목) 동해상에서는 물결이 1.0~4.0m로 매우 높게 일겠습니다.\n",
      "(강수) 15일(화) 오전에는 강원도와 충청권, 전라권에 눈(전남권은 비 또는 눈)이 오는 곳이 있겠습니다.(기온) 이번 예보기간 아침 기온은-12~2도, 낮 기온은-1~10도로 어제(11일, 아침최저기온-9~2도, 낮최고기온 7~12도)보다 낮겠습니다.(해상) 15일(화)~17일(목) 동해상에서는 물결이 1.0~4.0m로 매우 높게 일겠습니다.\n",
      "(강수) 15일(화) 오전에는 강원도와 충청권, 전라권에 눈(전남권은 비 또는 눈)이 오는 곳이 있겠습니다.(기온) 이번 예보기간 아침 기온은-12~2도, 낮 기온은-1~10도로 어제(11일, 아침최저기온-9~2도, 낮최고기온 7~12도)보다 낮겠습니다.(해상) 15일(화)~17일(목) 동해상에서는 물결이 1.0~4.0m로 매우 높게 일겠습니다.\n",
      "(강수) 15일(화) 오전에는 강원도와 충청권, 전라권에 눈(전남권은 비 또는 눈)이 오는 곳이 있겠습니다.(기온) 이번 예보기간 아침 기온은-12~2도, 낮 기온은-1~10도로 어제(11일, 아침최저기온-9~2도, 낮최고기온 7~12도)보다 낮겠습니다.(해상) 15일(화)~17일(목) 동해상에서는 물결이 1.0~4.0m로 매우 높게 일겠습니다.\n",
      "(강수) 15일(화) 오전에는 강원도와 충청권, 전라권에 눈(전남권은 비 또는 눈)이 오는 곳이 있겠습니다.(기온) 이번 예보기간 아침 기온은-12~2도, 낮 기온은-1~10도로 어제(11일, 아침최저기온-9~2도, 낮최고기온 7~12도)보다 낮겠습니다.(해상) 15일(화)~17일(목) 동해상에서는 물결이 1.0~4.0m로 매우 높게 일겠습니다.\n",
      "(강수) 15일(화) 오전에는 강원도와 충청권, 전라권에 눈(전남권은 비 또는 눈)이 오는 곳이 있겠습니다.(기온) 이번 예보기간 아침 기온은-12~2도, 낮 기온은-1~10도로 어제(11일, 아침최저기온-9~2도, 낮최고기온 7~12도)보다 낮겠습니다.(해상) 15일(화)~17일(목) 동해상에서는 물결이 1.0~4.0m로 매우 높게 일겠습니다.\n",
      "(강수) 15일(화) 오전에는 강원도와 충청권, 전라권에 눈(전남권은 비 또는 눈)이 오는 곳이 있겠습니다.(기온) 이번 예보기간 아침 기온은-12~2도, 낮 기온은-1~10도로 어제(11일, 아침최저기온-9~2도, 낮최고기온 7~12도)보다 낮겠습니다.(해상) 15일(화)~17일(목) 동해상에서는 물결이 1.0~4.0m로 매우 높게 일겠습니다.\n",
      "(강수) 15일(화) 오전에는 강원도와 충청권, 전라권에 눈(전남권은 비 또는 눈)이 오는 곳이 있겠습니다.(기온) 이번 예보기간 아침 기온은-12~2도, 낮 기온은-1~10도로 어제(11일, 아침최저기온-9~2도, 낮최고기온 7~12도)보다 낮겠습니다.(해상) 15일(화)~17일(목) 동해상에서는 물결이 1.0~4.0m로 매우 높게 일겠습니다.\n",
      "(강수) 15일(화) 오전에는 강원도와 충청권, 전라권에 눈(전남권은 비 또는 눈)이 오는 곳이 있겠습니다.(기온) 이번 예보기간 아침 기온은-12~2도, 낮 기온은-1~10도로 어제(11일, 아침최저기온-9~2도, 낮최고기온 7~12도)보다 낮겠습니다.(해상) 15일(화)~17일(목) 동해상에서는 물결이 1.0~4.0m로 매우 높게 일겠습니다.\n",
      "(강수) 15일(화) 오전에는 강원도와 충청권, 전라권에 눈(전남권은 비 또는 눈)이 오는 곳이 있겠습니다.(기온) 이번 예보기간 아침 기온은-12~2도, 낮 기온은-1~10도로 어제(11일, 아침최저기온-9~2도, 낮최고기온 7~12도)보다 낮겠습니다.(해상) 15일(화)~17일(목) 동해상에서는 물결이 1.0~4.0m로 매우 높게 일겠습니다.\n",
      "(강수) 15일(화) 오전에는 강원도와 충청권, 전라권에 눈(전남권은 비 또는 눈)이 오는 곳이 있겠습니다.(기온) 이번 예보기간 아침 기온은-12~2도, 낮 기온은-1~10도로 어제(11일, 아침최저기온-9~2도, 낮최고기온 7~12도)보다 낮겠습니다.(해상) 15일(화)~17일(목) 동해상에서는 물결이 1.0~4.0m로 매우 높게 일겠습니다.\n",
      "(강수) 15일(화) 오전에는 강원도와 충청권, 전라권에 눈(전남권은 비 또는 눈)이 오는 곳이 있겠습니다.(기온) 이번 예보기간 아침 기온은-12~2도, 낮 기온은-1~10도로 어제(11일, 아침최저기온-9~2도, 낮최고기온 7~12도)보다 낮겠습니다.(해상) 15일(화)~17일(목) 동해상에서는 물결이 1.0~4.0m로 매우 높게 일겠습니다.\n",
      "(강수) 15일(화) 오전에는 강원도와 충청권, 전라권에 눈(전남권은 비 또는 눈)이 오는 곳이 있겠습니다.(기온) 이번 예보기간 아침 기온은-12~2도, 낮 기온은-1~10도로 어제(11일, 아침최저기온-9~2도, 낮최고기온 7~12도)보다 낮겠습니다.(해상) 15일(화)~17일(목) 동해상에서는 물결이 1.0~4.0m로 매우 높게 일겠습니다.\n",
      "(강수) 15일(화) 오전에는 강원도와 충청권, 전라권에 눈(전남권은 비 또는 눈)이 오는 곳이 있겠습니다.(기온) 이번 예보기간 아침 기온은-12~2도, 낮 기온은-1~10도로 어제(11일, 아침최저기온-9~2도, 낮최고기온 7~12도)보다 낮겠습니다.(해상) 15일(화)~17일(목) 동해상에서는 물결이 1.0~4.0m로 매우 높게 일겠습니다.\n",
      "(강수) 15일(화) 오전에는 강원도와 충청권, 전라권에 눈(전남권은 비 또는 눈)이 오는 곳이 있겠습니다.(기온) 이번 예보기간 아침 기온은-12~2도, 낮 기온은-1~10도로 어제(11일, 아침최저기온-9~2도, 낮최고기온 7~12도)보다 낮겠습니다.(해상) 15일(화)~17일(목) 동해상에서는 물결이 1.0~4.0m로 매우 높게 일겠습니다.\n",
      "(강수) 15일(화) 오전에는 강원도와 충청권, 전라권에 눈(전남권은 비 또는 눈)이 오는 곳이 있겠습니다.(기온) 이번 예보기간 아침 기온은-12~2도, 낮 기온은-1~10도로 어제(11일, 아침최저기온-9~2도, 낮최고기온 7~12도)보다 낮겠습니다.(해상) 15일(화)~17일(목) 동해상에서는 물결이 1.0~4.0m로 매우 높게 일겠습니다.\n",
      "(강수) 15일(화) 오전에는 강원도와 충청권, 전라권에 눈(전남권은 비 또는 눈)이 오는 곳이 있겠습니다.(기온) 이번 예보기간 아침 기온은-12~2도, 낮 기온은-1~10도로 어제(11일, 아침최저기온-9~2도, 낮최고기온 7~12도)보다 낮겠습니다.(해상) 15일(화)~17일(목) 동해상에서는 물결이 1.0~4.0m로 매우 높게 일겠습니다.\n",
      "(강수) 15일(화) 오전에는 강원도와 충청권, 전라권에 눈(전남권은 비 또는 눈)이 오는 곳이 있겠습니다.(기온) 이번 예보기간 아침 기온은-12~2도, 낮 기온은-1~10도로 어제(11일, 아침최저기온-9~2도, 낮최고기온 7~12도)보다 낮겠습니다.(해상) 15일(화)~17일(목) 동해상에서는 물결이 1.0~4.0m로 매우 높게 일겠습니다.\n",
      "(강수) 15일(화) 오전에는 강원도와 충청권, 전라권에 눈(전남권은 비 또는 눈)이 오는 곳이 있겠습니다.(기온) 이번 예보기간 아침 기온은-12~2도, 낮 기온은-1~10도로 어제(11일, 아침최저기온-9~2도, 낮최고기온 7~12도)보다 낮겠습니다.(해상) 15일(화)~17일(목) 동해상에서는 물결이 1.0~4.0m로 매우 높게 일겠습니다.\n",
      "(강수) 15일(화) 오전에는 강원도와 충청권, 전라권에 눈(전남권은 비 또는 눈)이 오는 곳이 있겠습니다.(기온) 이번 예보기간 아침 기온은-12~2도, 낮 기온은-1~10도로 어제(11일, 아침최저기온-9~2도, 낮최고기온 7~12도)보다 낮겠습니다.(해상) 15일(화)~17일(목) 동해상에서는 물결이 1.0~4.0m로 매우 높게 일겠습니다.\n",
      "(강수) 15일(화) 오전에는 강원도와 충청권, 전라권에 눈(전남권은 비 또는 눈)이 오는 곳이 있겠습니다.(기온) 이번 예보기간 아침 기온은-12~2도, 낮 기온은-1~10도로 어제(11일, 아침최저기온-9~2도, 낮최고기온 7~12도)보다 낮겠습니다.(해상) 15일(화)~17일(목) 동해상에서는 물결이 1.0~4.0m로 매우 높게 일겠습니다.\n",
      "(강수) 15일(화) 오전에는 강원도와 충청권, 전라권에 눈(전남권은 비 또는 눈)이 오는 곳이 있겠습니다.(기온) 이번 예보기간 아침 기온은-12~2도, 낮 기온은-1~10도로 어제(11일, 아침최저기온-9~2도, 낮최고기온 7~12도)보다 낮겠습니다.(해상) 15일(화)~17일(목) 동해상에서는 물결이 1.0~4.0m로 매우 높게 일겠습니다.\n",
      "(강수) 15일(화) 오전에는 강원도와 충청권, 전라권에 눈(전남권은 비 또는 눈)이 오는 곳이 있겠습니다.(기온) 이번 예보기간 아침 기온은-12~2도, 낮 기온은-1~10도로 어제(11일, 아침최저기온-9~2도, 낮최고기온 7~12도)보다 낮겠습니다.(해상) 15일(화)~17일(목) 동해상에서는 물결이 1.0~4.0m로 매우 높게 일겠습니다.\n",
      "(강수) 15일(화) 오전에는 강원도와 충청권, 전라권에 눈(전남권은 비 또는 눈)이 오는 곳이 있겠습니다.(기온) 이번 예보기간 아침 기온은-12~2도, 낮 기온은-1~10도로 어제(11일, 아침최저기온-9~2도, 낮최고기온 7~12도)보다 낮겠습니다.(해상) 15일(화)~17일(목) 동해상에서는 물결이 1.0~4.0m로 매우 높게 일겠습니다.\n",
      "(강수) 15일(화) 오전에는 강원도와 충청권, 전라권에 눈(전남권은 비 또는 눈)이 오는 곳이 있겠습니다.(기온) 이번 예보기간 아침 기온은-12~2도, 낮 기온은-1~10도로 어제(11일, 아침최저기온-9~2도, 낮최고기온 7~12도)보다 낮겠습니다.(해상) 15일(화)~17일(목) 동해상에서는 물결이 1.0~4.0m로 매우 높게 일겠습니다.\n",
      "(강수) 15일(화) 오전에는 강원도와 충청권, 전라권에 눈(전남권은 비 또는 눈)이 오는 곳이 있겠습니다.(기온) 이번 예보기간 아침 기온은-12~2도, 낮 기온은-1~10도로 어제(11일, 아침최저기온-9~2도, 낮최고기온 7~12도)보다 낮겠습니다.(해상) 15일(화)~17일(목) 동해상에서는 물결이 1.0~4.0m로 매우 높게 일겠습니다.\n",
      "(강수) 15일(화) 오전에는 강원도와 충청권, 전라권에 눈(전남권은 비 또는 눈)이 오는 곳이 있겠습니다.(기온) 이번 예보기간 아침 기온은-12~2도, 낮 기온은-1~10도로 어제(11일, 아침최저기온-9~2도, 낮최고기온 7~12도)보다 낮겠습니다.(해상) 15일(화)~17일(목) 동해상에서는 물결이 1.0~4.0m로 매우 높게 일겠습니다.\n",
      "(강수) 15일(화) 오전에는 강원도와 충청권, 전라권에 눈(전남권은 비 또는 눈)이 오는 곳이 있겠습니다.(기온) 이번 예보기간 아침 기온은-12~2도, 낮 기온은-1~10도로 어제(11일, 아침최저기온-9~2도, 낮최고기온 7~12도)보다 낮겠습니다.(해상) 15일(화)~17일(목) 동해상에서는 물결이 1.0~4.0m로 매우 높게 일겠습니다.\n",
      "(강수) 15일(화) 오전에는 강원도와 충청권, 전라권에 눈(전남권은 비 또는 눈)이 오는 곳이 있겠습니다.(기온) 이번 예보기간 아침 기온은-12~2도, 낮 기온은-1~10도로 어제(11일, 아침최저기온-9~2도, 낮최고기온 7~12도)보다 낮겠습니다.(해상) 15일(화)~17일(목) 동해상에서는 물결이 1.0~4.0m로 매우 높게 일겠습니다.\n",
      "(강수) 15일(화) 오전에는 강원도와 충청권, 전라권에 눈(전남권은 비 또는 눈)이 오는 곳이 있겠습니다.(기온) 이번 예보기간 아침 기온은-12~2도, 낮 기온은-1~10도로 어제(11일, 아침최저기온-9~2도, 낮최고기온 7~12도)보다 낮겠습니다.(해상) 15일(화)~17일(목) 동해상에서는 물결이 1.0~4.0m로 매우 높게 일겠습니다.\n",
      "(강수) 15일(화) 오전에는 강원도와 충청권, 전라권에 눈(전남권은 비 또는 눈)이 오는 곳이 있겠습니다.(기온) 이번 예보기간 아침 기온은-12~2도, 낮 기온은-1~10도로 어제(11일, 아침최저기온-9~2도, 낮최고기온 7~12도)보다 낮겠습니다.(해상) 15일(화)~17일(목) 동해상에서는 물결이 1.0~4.0m로 매우 높게 일겠습니다.\n",
      "(강수) 15일(화) 오전에는 강원도와 충청권, 전라권에 눈(전남권은 비 또는 눈)이 오는 곳이 있겠습니다.(기온) 이번 예보기간 아침 기온은-12~2도, 낮 기온은-1~10도로 어제(11일, 아침최저기온-9~2도, 낮최고기온 7~12도)보다 낮겠습니다.(해상) 15일(화)~17일(목) 동해상에서는 물결이 1.0~4.0m로 매우 높게 일겠습니다.\n",
      "(강수) 15일(화) 오전에는 강원도와 충청권, 전라권에 눈(전남권은 비 또는 눈)이 오는 곳이 있겠습니다.(기온) 이번 예보기간 아침 기온은-12~2도, 낮 기온은-1~10도로 어제(11일, 아침최저기온-9~2도, 낮최고기온 7~12도)보다 낮겠습니다.(해상) 15일(화)~17일(목) 동해상에서는 물결이 1.0~4.0m로 매우 높게 일겠습니다.\n",
      "(강수) 15일(화) 오전에는 강원도와 충청권, 전라권에 눈(전남권은 비 또는 눈)이 오는 곳이 있겠습니다.(기온) 이번 예보기간 아침 기온은-12~2도, 낮 기온은-1~10도로 어제(11일, 아침최저기온-9~2도, 낮최고기온 7~12도)보다 낮겠습니다.(해상) 15일(화)~17일(목) 동해상에서는 물결이 1.0~4.0m로 매우 높게 일겠습니다.\n",
      "(강수) 15일(화) 오전에는 강원도와 충청권, 전라권에 눈(전남권은 비 또는 눈)이 오는 곳이 있겠습니다.(기온) 이번 예보기간 아침 기온은-12~2도, 낮 기온은-1~10도로 어제(11일, 아침최저기온-9~2도, 낮최고기온 7~12도)보다 낮겠습니다.(해상) 15일(화)~17일(목) 동해상에서는 물결이 1.0~4.0m로 매우 높게 일겠습니다.\n",
      "(강수) 15일(화) 오전에는 강원도와 충청권, 전라권에 눈(전남권은 비 또는 눈)이 오는 곳이 있겠습니다.(기온) 이번 예보기간 아침 기온은-12~2도, 낮 기온은-1~10도로 어제(11일, 아침최저기온-9~2도, 낮최고기온 7~12도)보다 낮겠습니다.(해상) 15일(화)~17일(목) 동해상에서는 물결이 1.0~4.0m로 매우 높게 일겠습니다.\n",
      "(강수) 15일(화) 오전에는 강원도와 충청권, 전라권에 눈(전남권은 비 또는 눈)이 오는 곳이 있겠습니다.(기온) 이번 예보기간 아침 기온은-12~2도, 낮 기온은-1~10도로 어제(11일, 아침최저기온-9~2도, 낮최고기온 7~12도)보다 낮겠습니다.(해상) 15일(화)~17일(목) 동해상에서는 물결이 1.0~4.0m로 매우 높게 일겠습니다.\n",
      "(강수) 15일(화) 오전에는 강원도와 충청권, 전라권에 눈(전남권은 비 또는 눈)이 오는 곳이 있겠습니다.(기온) 이번 예보기간 아침 기온은-12~2도, 낮 기온은-1~10도로 어제(11일, 아침최저기온-9~2도, 낮최고기온 7~12도)보다 낮겠습니다.(해상) 15일(화)~17일(목) 동해상에서는 물결이 1.0~4.0m로 매우 높게 일겠습니다.\n",
      "(강수) 15일(화) 오전에는 강원도와 충청권, 전라권에 눈(전남권은 비 또는 눈)이 오는 곳이 있겠습니다.(기온) 이번 예보기간 아침 기온은-12~2도, 낮 기온은-1~10도로 어제(11일, 아침최저기온-9~2도, 낮최고기온 7~12도)보다 낮겠습니다.(해상) 15일(화)~17일(목) 동해상에서는 물결이 1.0~4.0m로 매우 높게 일겠습니다.\n",
      "(강수) 15일(화) 오전에는 강원도와 충청권, 전라권에 눈(전남권은 비 또는 눈)이 오는 곳이 있겠습니다.(기온) 이번 예보기간 아침 기온은-12~2도, 낮 기온은-1~10도로 어제(11일, 아침최저기온-9~2도, 낮최고기온 7~12도)보다 낮겠습니다.(해상) 15일(화)~17일(목) 동해상에서는 물결이 1.0~4.0m로 매우 높게 일겠습니다.\n",
      "(강수) 15일(화) 오전에는 강원도와 충청권, 전라권에 눈(전남권은 비 또는 눈)이 오는 곳이 있겠습니다.(기온) 이번 예보기간 아침 기온은-12~2도, 낮 기온은-1~10도로 어제(11일, 아침최저기온-9~2도, 낮최고기온 7~12도)보다 낮겠습니다.(해상) 15일(화)~17일(목) 동해상에서는 물결이 1.0~4.0m로 매우 높게 일겠습니다.\n",
      "(강수) 15일(화) 오전에는 강원도와 충청권, 전라권에 눈(전남권은 비 또는 눈)이 오는 곳이 있겠습니다.(기온) 이번 예보기간 아침 기온은-12~2도, 낮 기온은-1~10도로 어제(11일, 아침최저기온-9~2도, 낮최고기온 7~12도)보다 낮겠습니다.(해상) 15일(화)~17일(목) 동해상에서는 물결이 1.0~4.0m로 매우 높게 일겠습니다.\n",
      "(강수) 15일(화) 오전에는 강원도와 충청권, 전라권에 눈(전남권은 비 또는 눈)이 오는 곳이 있겠습니다.(기온) 이번 예보기간 아침 기온은-12~2도, 낮 기온은-1~10도로 어제(11일, 아침최저기온-9~2도, 낮최고기온 7~12도)보다 낮겠습니다.(해상) 15일(화)~17일(목) 동해상에서는 물결이 1.0~4.0m로 매우 높게 일겠습니다.\n",
      "(강수) 15일(화) 오전에는 강원도와 충청권, 전라권에 눈(전남권은 비 또는 눈)이 오는 곳이 있겠습니다.(기온) 이번 예보기간 아침 기온은-12~2도, 낮 기온은-1~10도로 어제(11일, 아침최저기온-9~2도, 낮최고기온 7~12도)보다 낮겠습니다.(해상) 15일(화)~17일(목) 동해상에서는 물결이 1.0~4.0m로 매우 높게 일겠습니다.\n",
      "(강수) 15일(화) 오전에는 강원도와 충청권, 전라권에 눈(전남권은 비 또는 눈)이 오는 곳이 있겠습니다.(기온) 이번 예보기간 아침 기온은-12~2도, 낮 기온은-1~10도로 어제(11일, 아침최저기온-9~2도, 낮최고기온 7~12도)보다 낮겠습니다.(해상) 15일(화)~17일(목) 동해상에서는 물결이 1.0~4.0m로 매우 높게 일겠습니다.\n",
      "(강수) 15일(화) 오전에는 강원도와 충청권, 전라권에 눈(전남권은 비 또는 눈)이 오는 곳이 있겠습니다.(기온) 이번 예보기간 아침 기온은-12~2도, 낮 기온은-1~10도로 어제(11일, 아침최저기온-9~2도, 낮최고기온 7~12도)보다 낮겠습니다.(해상) 15일(화)~17일(목) 동해상에서는 물결이 1.0~4.0m로 매우 높게 일겠습니다.\n",
      "(강수) 15일(화) 오전에는 강원도와 충청권, 전라권에 눈(전남권은 비 또는 눈)이 오는 곳이 있겠습니다.(기온) 이번 예보기간 아침 기온은-12~2도, 낮 기온은-1~10도로 어제(11일, 아침최저기온-9~2도, 낮최고기온 7~12도)보다 낮겠습니다.(해상) 15일(화)~17일(목) 동해상에서는 물결이 1.0~4.0m로 매우 높게 일겠습니다.\n",
      "(강수) 15일(화) 오전에는 강원도와 충청권, 전라권에 눈(전남권은 비 또는 눈)이 오는 곳이 있겠습니다.(기온) 이번 예보기간 아침 기온은-12~2도, 낮 기온은-1~10도로 어제(11일, 아침최저기온-9~2도, 낮최고기온 7~12도)보다 낮겠습니다.(해상) 15일(화)~17일(목) 동해상에서는 물결이 1.0~4.0m로 매우 높게 일겠습니다.\n",
      "(강수) 15일(화) 오전에는 강원도와 충청권, 전라권에 눈(전남권은 비 또는 눈)이 오는 곳이 있겠습니다.(기온) 이번 예보기간 아침 기온은-12~2도, 낮 기온은-1~10도로 어제(11일, 아침최저기온-9~2도, 낮최고기온 7~12도)보다 낮겠습니다.(해상) 15일(화)~17일(목) 동해상에서는 물결이 1.0~4.0m로 매우 높게 일겠습니다.\n",
      "(강수) 15일(화) 오전에는 강원도와 충청권, 전라권에 눈(전남권은 비 또는 눈)이 오는 곳이 있겠습니다.(기온) 이번 예보기간 아침 기온은-12~2도, 낮 기온은-1~10도로 어제(11일, 아침최저기온-9~2도, 낮최고기온 7~12도)보다 낮겠습니다.(해상) 15일(화)~17일(목) 동해상에서는 물결이 1.0~4.0m로 매우 높게 일겠습니다.\n",
      "(강수) 15일(화) 오전에는 강원도와 충청권, 전라권에 눈(전남권은 비 또는 눈)이 오는 곳이 있겠습니다.(기온) 이번 예보기간 아침 기온은-12~2도, 낮 기온은-1~10도로 어제(11일, 아침최저기온-9~2도, 낮최고기온 7~12도)보다 낮겠습니다.(해상) 15일(화)~17일(목) 동해상에서는 물결이 1.0~4.0m로 매우 높게 일겠습니다.\n",
      "(강수) 15일(화) 오전에는 강원도와 충청권, 전라권에 눈(전남권은 비 또는 눈)이 오는 곳이 있겠습니다.(기온) 이번 예보기간 아침 기온은-12~2도, 낮 기온은-1~10도로 어제(11일, 아침최저기온-9~2도, 낮최고기온 7~12도)보다 낮겠습니다.(해상) 15일(화)~17일(목) 동해상에서는 물결이 1.0~4.0m로 매우 높게 일겠습니다.\n",
      "(강수) 15일(화) 오전에는 강원도와 충청권, 전라권에 눈(전남권은 비 또는 눈)이 오는 곳이 있겠습니다.(기온) 이번 예보기간 아침 기온은-12~2도, 낮 기온은-1~10도로 어제(11일, 아침최저기온-9~2도, 낮최고기온 7~12도)보다 낮겠습니다.(해상) 15일(화)~17일(목) 동해상에서는 물결이 1.0~4.0m로 매우 높게 일겠습니다.\n",
      "(강수) 15일(화) 오전에는 강원도와 충청권, 전라권에 눈(전남권은 비 또는 눈)이 오는 곳이 있겠습니다.(기온) 이번 예보기간 아침 기온은-12~2도, 낮 기온은-1~10도로 어제(11일, 아침최저기온-9~2도, 낮최고기온 7~12도)보다 낮겠습니다.(해상) 15일(화)~17일(목) 동해상에서는 물결이 1.0~4.0m로 매우 높게 일겠습니다.\n",
      "(강수) 15일(화) 오전에는 강원도와 충청권, 전라권에 눈(전남권은 비 또는 눈)이 오는 곳이 있겠습니다.(기온) 이번 예보기간 아침 기온은-12~2도, 낮 기온은-1~10도로 어제(11일, 아침최저기온-9~2도, 낮최고기온 7~12도)보다 낮겠습니다.(해상) 15일(화)~17일(목) 동해상에서는 물결이 1.0~4.0m로 매우 높게 일겠습니다.\n",
      "(강수) 15일(화) 오전에는 강원도와 충청권, 전라권에 눈(전남권은 비 또는 눈)이 오는 곳이 있겠습니다.(기온) 이번 예보기간 아침 기온은-12~2도, 낮 기온은-1~10도로 어제(11일, 아침최저기온-9~2도, 낮최고기온 7~12도)보다 낮겠습니다.(해상) 15일(화)~17일(목) 동해상에서는 물결이 1.0~4.0m로 매우 높게 일겠습니다.\n",
      "(강수) 15일(화) 오전에는 강원도와 충청권, 전라권에 눈(전남권은 비 또는 눈)이 오는 곳이 있겠습니다.(기온) 이번 예보기간 아침 기온은-12~2도, 낮 기온은-1~10도로 어제(11일, 아침최저기온-9~2도, 낮최고기온 7~12도)보다 낮겠습니다.(해상) 15일(화)~17일(목) 동해상에서는 물결이 1.0~4.0m로 매우 높게 일겠습니다.\n",
      "(강수) 15일(화) 오전에는 강원도와 충청권, 전라권에 눈(전남권은 비 또는 눈)이 오는 곳이 있겠습니다.(기온) 이번 예보기간 아침 기온은-12~2도, 낮 기온은-1~10도로 어제(11일, 아침최저기온-9~2도, 낮최고기온 7~12도)보다 낮겠습니다.(해상) 15일(화)~17일(목) 동해상에서는 물결이 1.0~4.0m로 매우 높게 일겠습니다.\n",
      "(강수) 15일(화) 오전에는 강원도와 충청권, 전라권에 눈(전남권은 비 또는 눈)이 오는 곳이 있겠습니다.(기온) 이번 예보기간 아침 기온은-12~2도, 낮 기온은-1~10도로 어제(11일, 아침최저기온-9~2도, 낮최고기온 7~12도)보다 낮겠습니다.(해상) 15일(화)~17일(목) 동해상에서는 물결이 1.0~4.0m로 매우 높게 일겠습니다.\n",
      "(강수) 15일(화) 오전에는 강원도와 충청권, 전라권에 눈(전남권은 비 또는 눈)이 오는 곳이 있겠습니다.(기온) 이번 예보기간 아침 기온은-12~2도, 낮 기온은-1~10도로 어제(11일, 아침최저기온-9~2도, 낮최고기온 7~12도)보다 낮겠습니다.(해상) 15일(화)~17일(목) 동해상에서는 물결이 1.0~4.0m로 매우 높게 일겠습니다.\n",
      "(강수) 15일(화) 오전에는 강원도와 충청권, 전라권에 눈(전남권은 비 또는 눈)이 오는 곳이 있겠습니다.(기온) 이번 예보기간 아침 기온은-12~2도, 낮 기온은-1~10도로 어제(11일, 아침최저기온-9~2도, 낮최고기온 7~12도)보다 낮겠습니다.(해상) 15일(화)~17일(목) 동해상에서는 물결이 1.0~4.0m로 매우 높게 일겠습니다.\n",
      "(강수) 15일(화) 오전에는 강원도와 충청권, 전라권에 눈(전남권은 비 또는 눈)이 오는 곳이 있겠습니다.(기온) 이번 예보기간 아침 기온은-12~2도, 낮 기온은-1~10도로 어제(11일, 아침최저기온-9~2도, 낮최고기온 7~12도)보다 낮겠습니다.(해상) 15일(화)~17일(목) 동해상에서는 물결이 1.0~4.0m로 매우 높게 일겠습니다.\n",
      "(강수) 15일(화) 오전에는 강원도와 충청권, 전라권에 눈(전남권은 비 또는 눈)이 오는 곳이 있겠습니다.(기온) 이번 예보기간 아침 기온은-12~2도, 낮 기온은-1~10도로 어제(11일, 아침최저기온-9~2도, 낮최고기온 7~12도)보다 낮겠습니다.(해상) 15일(화)~17일(목) 동해상에서는 물결이 1.0~4.0m로 매우 높게 일겠습니다.\n",
      "(강수) 15일(화) 오전에는 강원도와 충청권, 전라권에 눈(전남권은 비 또는 눈)이 오는 곳이 있겠습니다.(기온) 이번 예보기간 아침 기온은-12~2도, 낮 기온은-1~10도로 어제(11일, 아침최저기온-9~2도, 낮최고기온 7~12도)보다 낮겠습니다.(해상) 15일(화)~17일(목) 동해상에서는 물결이 1.0~4.0m로 매우 높게 일겠습니다.\n",
      "(강수) 15일(화) 오전에는 강원도와 충청권, 전라권에 눈(전남권은 비 또는 눈)이 오는 곳이 있겠습니다.(기온) 이번 예보기간 아침 기온은-12~2도, 낮 기온은-1~10도로 어제(11일, 아침최저기온-9~2도, 낮최고기온 7~12도)보다 낮겠습니다.(해상) 15일(화)~17일(목) 동해상에서는 물결이 1.0~4.0m로 매우 높게 일겠습니다.\n",
      "(강수) 15일(화) 오전에는 강원도와 충청권, 전라권에 눈(전남권은 비 또는 눈)이 오는 곳이 있겠습니다.(기온) 이번 예보기간 아침 기온은-12~2도, 낮 기온은-1~10도로 어제(11일, 아침최저기온-9~2도, 낮최고기온 7~12도)보다 낮겠습니다.(해상) 15일(화)~17일(목) 동해상에서는 물결이 1.0~4.0m로 매우 높게 일겠습니다.\n",
      "(강수) 15일(화) 오전에는 강원도와 충청권, 전라권에 눈(전남권은 비 또는 눈)이 오는 곳이 있겠습니다.(기온) 이번 예보기간 아침 기온은-12~2도, 낮 기온은-1~10도로 어제(11일, 아침최저기온-9~2도, 낮최고기온 7~12도)보다 낮겠습니다.(해상) 15일(화)~17일(목) 동해상에서는 물결이 1.0~4.0m로 매우 높게 일겠습니다.\n",
      "(강수) 15일(화) 오전에는 강원도와 충청권, 전라권에 눈(전남권은 비 또는 눈)이 오는 곳이 있겠습니다.(기온) 이번 예보기간 아침 기온은-12~2도, 낮 기온은-1~10도로 어제(11일, 아침최저기온-9~2도, 낮최고기온 7~12도)보다 낮겠습니다.(해상) 15일(화)~17일(목) 동해상에서는 물결이 1.0~4.0m로 매우 높게 일겠습니다.\n",
      "(강수) 15일(화) 오전에는 강원도와 충청권, 전라권에 눈(전남권은 비 또는 눈)이 오는 곳이 있겠습니다.(기온) 이번 예보기간 아침 기온은-12~2도, 낮 기온은-1~10도로 어제(11일, 아침최저기온-9~2도, 낮최고기온 7~12도)보다 낮겠습니다.(해상) 15일(화)~17일(목) 동해상에서는 물결이 1.0~4.0m로 매우 높게 일겠습니다.\n",
      "(강수) 15일(화) 오전에는 강원도와 충청권, 전라권에 눈(전남권은 비 또는 눈)이 오는 곳이 있겠습니다.(기온) 이번 예보기간 아침 기온은-12~2도, 낮 기온은-1~10도로 어제(11일, 아침최저기온-9~2도, 낮최고기온 7~12도)보다 낮겠습니다.(해상) 15일(화)~17일(목) 동해상에서는 물결이 1.0~4.0m로 매우 높게 일겠습니다.\n",
      "(강수) 15일(화) 오전에는 강원도와 충청권, 전라권에 눈(전남권은 비 또는 눈)이 오는 곳이 있겠습니다.(기온) 이번 예보기간 아침 기온은-12~2도, 낮 기온은-1~10도로 어제(11일, 아침최저기온-9~2도, 낮최고기온 7~12도)보다 낮겠습니다.(해상) 15일(화)~17일(목) 동해상에서는 물결이 1.0~4.0m로 매우 높게 일겠습니다.\n",
      "(강수) 15일(화) 오전에는 강원도와 충청권, 전라권에 눈(전남권은 비 또는 눈)이 오는 곳이 있겠습니다.(기온) 이번 예보기간 아침 기온은-12~2도, 낮 기온은-1~10도로 어제(11일, 아침최저기온-9~2도, 낮최고기온 7~12도)보다 낮겠습니다.(해상) 15일(화)~17일(목) 동해상에서는 물결이 1.0~4.0m로 매우 높게 일겠습니다.\n",
      "(강수) 15일(화) 오전에는 강원도와 충청권, 전라권에 눈(전남권은 비 또는 눈)이 오는 곳이 있겠습니다.(기온) 이번 예보기간 아침 기온은-12~2도, 낮 기온은-1~10도로 어제(11일, 아침최저기온-9~2도, 낮최고기온 7~12도)보다 낮겠습니다.(해상) 15일(화)~17일(목) 동해상에서는 물결이 1.0~4.0m로 매우 높게 일겠습니다.\n",
      "(강수) 15일(화) 오전에는 강원도와 충청권, 전라권에 눈(전남권은 비 또는 눈)이 오는 곳이 있겠습니다.(기온) 이번 예보기간 아침 기온은-12~2도, 낮 기온은-1~10도로 어제(11일, 아침최저기온-9~2도, 낮최고기온 7~12도)보다 낮겠습니다.(해상) 15일(화)~17일(목) 동해상에서는 물결이 1.0~4.0m로 매우 높게 일겠습니다.\n",
      "(강수) 15일(화) 오전에는 강원도와 충청권, 전라권에 눈(전남권은 비 또는 눈)이 오는 곳이 있겠습니다.(기온) 이번 예보기간 아침 기온은-12~2도, 낮 기온은-1~10도로 어제(11일, 아침최저기온-9~2도, 낮최고기온 7~12도)보다 낮겠습니다.(해상) 15일(화)~17일(목) 동해상에서는 물결이 1.0~4.0m로 매우 높게 일겠습니다.\n",
      "(강수) 15일(화) 오전에는 강원도와 충청권, 전라권에 눈(전남권은 비 또는 눈)이 오는 곳이 있겠습니다.(기온) 이번 예보기간 아침 기온은-12~2도, 낮 기온은-1~10도로 어제(11일, 아침최저기온-9~2도, 낮최고기온 7~12도)보다 낮겠습니다.(해상) 15일(화)~17일(목) 동해상에서는 물결이 1.0~4.0m로 매우 높게 일겠습니다.\n",
      "(강수) 15일(화) 오전에는 강원도와 충청권, 전라권에 눈(전남권은 비 또는 눈)이 오는 곳이 있겠습니다.(기온) 이번 예보기간 아침 기온은-12~2도, 낮 기온은-1~10도로 어제(11일, 아침최저기온-9~2도, 낮최고기온 7~12도)보다 낮겠습니다.(해상) 15일(화)~17일(목) 동해상에서는 물결이 1.0~4.0m로 매우 높게 일겠습니다.\n",
      "(강수) 15일(화) 오전에는 강원도와 충청권, 전라권에 눈(전남권은 비 또는 눈)이 오는 곳이 있겠습니다.(기온) 이번 예보기간 아침 기온은-12~2도, 낮 기온은-1~10도로 어제(11일, 아침최저기온-9~2도, 낮최고기온 7~12도)보다 낮겠습니다.(해상) 15일(화)~17일(목) 동해상에서는 물결이 1.0~4.0m로 매우 높게 일겠습니다.\n",
      "(강수) 15일(화) 오전에는 강원도와 충청권, 전라권에 눈(전남권은 비 또는 눈)이 오는 곳이 있겠습니다.(기온) 이번 예보기간 아침 기온은-12~2도, 낮 기온은-1~10도로 어제(11일, 아침최저기온-9~2도, 낮최고기온 7~12도)보다 낮겠습니다.(해상) 15일(화)~17일(목) 동해상에서는 물결이 1.0~4.0m로 매우 높게 일겠습니다.\n",
      "(강수) 15일(화) 오전에는 강원도와 충청권, 전라권에 눈(전남권은 비 또는 눈)이 오는 곳이 있겠습니다.(기온) 이번 예보기간 아침 기온은-12~2도, 낮 기온은-1~10도로 어제(11일, 아침최저기온-9~2도, 낮최고기온 7~12도)보다 낮겠습니다.(해상) 15일(화)~17일(목) 동해상에서는 물결이 1.0~4.0m로 매우 높게 일겠습니다.\n",
      "(강수) 15일(화) 오전에는 강원도와 충청권, 전라권에 눈(전남권은 비 또는 눈)이 오는 곳이 있겠습니다.(기온) 이번 예보기간 아침 기온은-12~2도, 낮 기온은-1~10도로 어제(11일, 아침최저기온-9~2도, 낮최고기온 7~12도)보다 낮겠습니다.(해상) 15일(화)~17일(목) 동해상에서는 물결이 1.0~4.0m로 매우 높게 일겠습니다.\n",
      "(강수) 15일(화) 오전에는 강원도와 충청권, 전라권에 눈(전남권은 비 또는 눈)이 오는 곳이 있겠습니다.(기온) 이번 예보기간 아침 기온은-12~2도, 낮 기온은-1~10도로 어제(11일, 아침최저기온-9~2도, 낮최고기온 7~12도)보다 낮겠습니다.(해상) 15일(화)~17일(목) 동해상에서는 물결이 1.0~4.0m로 매우 높게 일겠습니다.\n",
      "(강수) 15일(화) 오전에는 강원도와 충청권, 전라권에 눈(전남권은 비 또는 눈)이 오는 곳이 있겠습니다.(기온) 이번 예보기간 아침 기온은-12~2도, 낮 기온은-1~10도로 어제(11일, 아침최저기온-9~2도, 낮최고기온 7~12도)보다 낮겠습니다.(해상) 15일(화)~17일(목) 동해상에서는 물결이 1.0~4.0m로 매우 높게 일겠습니다.\n",
      "(강수) 15일(화) 오전에는 강원도와 충청권, 전라권에 눈(전남권은 비 또는 눈)이 오는 곳이 있겠습니다.(기온) 이번 예보기간 아침 기온은-12~2도, 낮 기온은-1~10도로 어제(11일, 아침최저기온-9~2도, 낮최고기온 7~12도)보다 낮겠습니다.(해상) 15일(화)~17일(목) 동해상에서는 물결이 1.0~4.0m로 매우 높게 일겠습니다.\n",
      "(강수) 15일(화) 오전에는 강원도와 충청권, 전라권에 눈(전남권은 비 또는 눈)이 오는 곳이 있겠습니다.(기온) 이번 예보기간 아침 기온은-12~2도, 낮 기온은-1~10도로 어제(11일, 아침최저기온-9~2도, 낮최고기온 7~12도)보다 낮겠습니다.(해상) 15일(화)~17일(목) 동해상에서는 물결이 1.0~4.0m로 매우 높게 일겠습니다.\n",
      "(강수) 15일(화) 오전에는 강원도와 충청권, 전라권에 눈(전남권은 비 또는 눈)이 오는 곳이 있겠습니다.(기온) 이번 예보기간 아침 기온은-12~2도, 낮 기온은-1~10도로 어제(11일, 아침최저기온-9~2도, 낮최고기온 7~12도)보다 낮겠습니다.(해상) 15일(화)~17일(목) 동해상에서는 물결이 1.0~4.0m로 매우 높게 일겠습니다.\n",
      "(강수) 15일(화) 오전에는 강원도와 충청권, 전라권에 눈(전남권은 비 또는 눈)이 오는 곳이 있겠습니다.(기온) 이번 예보기간 아침 기온은-12~2도, 낮 기온은-1~10도로 어제(11일, 아침최저기온-9~2도, 낮최고기온 7~12도)보다 낮겠습니다.(해상) 15일(화)~17일(목) 동해상에서는 물결이 1.0~4.0m로 매우 높게 일겠습니다.\n",
      "(강수) 15일(화) 오전에는 강원도와 충청권, 전라권에 눈(전남권은 비 또는 눈)이 오는 곳이 있겠습니다.(기온) 이번 예보기간 아침 기온은-12~2도, 낮 기온은-1~10도로 어제(11일, 아침최저기온-9~2도, 낮최고기온 7~12도)보다 낮겠습니다.(해상) 15일(화)~17일(목) 동해상에서는 물결이 1.0~4.0m로 매우 높게 일겠습니다.\n",
      "(강수) 15일(화) 오전에는 강원도와 충청권, 전라권에 눈(전남권은 비 또는 눈)이 오는 곳이 있겠습니다.(기온) 이번 예보기간 아침 기온은-12~2도, 낮 기온은-1~10도로 어제(11일, 아침최저기온-9~2도, 낮최고기온 7~12도)보다 낮겠습니다.(해상) 15일(화)~17일(목) 동해상에서는 물결이 1.0~4.0m로 매우 높게 일겠습니다.\n",
      "(강수) 15일(화) 오전에는 강원도와 충청권, 전라권에 눈(전남권은 비 또는 눈)이 오는 곳이 있겠습니다.(기온) 이번 예보기간 아침 기온은-12~2도, 낮 기온은-1~10도로 어제(11일, 아침최저기온-9~2도, 낮최고기온 7~12도)보다 낮겠습니다.(해상) 15일(화)~17일(목) 동해상에서는 물결이 1.0~4.0m로 매우 높게 일겠습니다.\n",
      "(강수) 15일(화) 오전에는 강원도와 충청권, 전라권에 눈(전남권은 비 또는 눈)이 오는 곳이 있겠습니다.(기온) 이번 예보기간 아침 기온은-12~2도, 낮 기온은-1~10도로 어제(11일, 아침최저기온-9~2도, 낮최고기온 7~12도)보다 낮겠습니다.(해상) 15일(화)~17일(목) 동해상에서는 물결이 1.0~4.0m로 매우 높게 일겠습니다.\n",
      "(강수) 15일(화) 오전에는 강원도와 충청권, 전라권에 눈(전남권은 비 또는 눈)이 오는 곳이 있겠습니다.(기온) 이번 예보기간 아침 기온은-12~2도, 낮 기온은-1~10도로 어제(11일, 아침최저기온-9~2도, 낮최고기온 7~12도)보다 낮겠습니다.(해상) 15일(화)~17일(목) 동해상에서는 물결이 1.0~4.0m로 매우 높게 일겠습니다.\n",
      "(강수) 15일(화) 오전에는 강원도와 충청권, 전라권에 눈(전남권은 비 또는 눈)이 오는 곳이 있겠습니다.(기온) 이번 예보기간 아침 기온은-12~2도, 낮 기온은-1~10도로 어제(11일, 아침최저기온-9~2도, 낮최고기온 7~12도)보다 낮겠습니다.(해상) 15일(화)~17일(목) 동해상에서는 물결이 1.0~4.0m로 매우 높게 일겠습니다.\n",
      "(강수) 15일(화) 오전에는 강원도와 충청권, 전라권에 눈(전남권은 비 또는 눈)이 오는 곳이 있겠습니다.(기온) 이번 예보기간 아침 기온은-12~2도, 낮 기온은-1~10도로 어제(11일, 아침최저기온-9~2도, 낮최고기온 7~12도)보다 낮겠습니다.(해상) 15일(화)~17일(목) 동해상에서는 물결이 1.0~4.0m로 매우 높게 일겠습니다.\n",
      "(강수) 15일(화) 오전에는 강원도와 충청권, 전라권에 눈(전남권은 비 또는 눈)이 오는 곳이 있겠습니다.(기온) 이번 예보기간 아침 기온은-12~2도, 낮 기온은-1~10도로 어제(11일, 아침최저기온-9~2도, 낮최고기온 7~12도)보다 낮겠습니다.(해상) 15일(화)~17일(목) 동해상에서는 물결이 1.0~4.0m로 매우 높게 일겠습니다.\n",
      "(강수) 15일(화) 오전에는 강원도와 충청권, 전라권에 눈(전남권은 비 또는 눈)이 오는 곳이 있겠습니다.(기온) 이번 예보기간 아침 기온은-12~2도, 낮 기온은-1~10도로 어제(11일, 아침최저기온-9~2도, 낮최고기온 7~12도)보다 낮겠습니다.(해상) 15일(화)~17일(목) 동해상에서는 물결이 1.0~4.0m로 매우 높게 일겠습니다.\n",
      "(강수) 15일(화) 오전에는 강원도와 충청권, 전라권에 눈(전남권은 비 또는 눈)이 오는 곳이 있겠습니다.(기온) 이번 예보기간 아침 기온은-12~2도, 낮 기온은-1~10도로 어제(11일, 아침최저기온-9~2도, 낮최고기온 7~12도)보다 낮겠습니다.(해상) 15일(화)~17일(목) 동해상에서는 물결이 1.0~4.0m로 매우 높게 일겠습니다.\n",
      "(강수) 15일(화) 오전에는 강원도와 충청권, 전라권에 눈(전남권은 비 또는 눈)이 오는 곳이 있겠습니다.(기온) 이번 예보기간 아침 기온은-12~2도, 낮 기온은-1~10도로 어제(11일, 아침최저기온-9~2도, 낮최고기온 7~12도)보다 낮겠습니다.(해상) 15일(화)~17일(목) 동해상에서는 물결이 1.0~4.0m로 매우 높게 일겠습니다.\n",
      "(강수) 15일(화) 오전에는 강원도와 충청권, 전라권에 눈(전남권은 비 또는 눈)이 오는 곳이 있겠습니다.(기온) 이번 예보기간 아침 기온은-12~2도, 낮 기온은-1~10도로 어제(11일, 아침최저기온-9~2도, 낮최고기온 7~12도)보다 낮겠습니다.(해상) 15일(화)~17일(목) 동해상에서는 물결이 1.0~4.0m로 매우 높게 일겠습니다.\n",
      "(강수) 15일(화) 오전에는 강원도와 충청권, 전라권에 눈(전남권은 비 또는 눈)이 오는 곳이 있겠습니다.(기온) 이번 예보기간 아침 기온은-12~2도, 낮 기온은-1~10도로 어제(11일, 아침최저기온-9~2도, 낮최고기온 7~12도)보다 낮겠습니다.(해상) 15일(화)~17일(목) 동해상에서는 물결이 1.0~4.0m로 매우 높게 일겠습니다.\n",
      "(강수) 15일(화) 오전에는 강원도와 충청권, 전라권에 눈(전남권은 비 또는 눈)이 오는 곳이 있겠습니다.(기온) 이번 예보기간 아침 기온은-12~2도, 낮 기온은-1~10도로 어제(11일, 아침최저기온-9~2도, 낮최고기온 7~12도)보다 낮겠습니다.(해상) 15일(화)~17일(목) 동해상에서는 물결이 1.0~4.0m로 매우 높게 일겠습니다.\n",
      "(강수) 15일(화) 오전에는 강원도와 충청권, 전라권에 눈(전남권은 비 또는 눈)이 오는 곳이 있겠습니다.(기온) 이번 예보기간 아침 기온은-12~2도, 낮 기온은-1~10도로 어제(11일, 아침최저기온-9~2도, 낮최고기온 7~12도)보다 낮겠습니다.(해상) 15일(화)~17일(목) 동해상에서는 물결이 1.0~4.0m로 매우 높게 일겠습니다.\n",
      "(강수) 15일(화) 오전에는 강원도와 충청권, 전라권에 눈(전남권은 비 또는 눈)이 오는 곳이 있겠습니다.(기온) 이번 예보기간 아침 기온은-12~2도, 낮 기온은-1~10도로 어제(11일, 아침최저기온-9~2도, 낮최고기온 7~12도)보다 낮겠습니다.(해상) 15일(화)~17일(목) 동해상에서는 물결이 1.0~4.0m로 매우 높게 일겠습니다.\n",
      "(강수) 15일(화) 오전에는 강원도와 충청권, 전라권에 눈(전남권은 비 또는 눈)이 오는 곳이 있겠습니다.(기온) 이번 예보기간 아침 기온은-12~2도, 낮 기온은-1~10도로 어제(11일, 아침최저기온-9~2도, 낮최고기온 7~12도)보다 낮겠습니다.(해상) 15일(화)~17일(목) 동해상에서는 물결이 1.0~4.0m로 매우 높게 일겠습니다.\n",
      "(강수) 15일(화) 오전에는 강원도와 충청권, 전라권에 눈(전남권은 비 또는 눈)이 오는 곳이 있겠습니다.(기온) 이번 예보기간 아침 기온은-12~2도, 낮 기온은-1~10도로 어제(11일, 아침최저기온-9~2도, 낮최고기온 7~12도)보다 낮겠습니다.(해상) 15일(화)~17일(목) 동해상에서는 물결이 1.0~4.0m로 매우 높게 일겠습니다.\n",
      "(강수) 15일(화) 오전에는 강원도와 충청권, 전라권에 눈(전남권은 비 또는 눈)이 오는 곳이 있겠습니다.(기온) 이번 예보기간 아침 기온은-12~2도, 낮 기온은-1~10도로 어제(11일, 아침최저기온-9~2도, 낮최고기온 7~12도)보다 낮겠습니다.(해상) 15일(화)~17일(목) 동해상에서는 물결이 1.0~4.0m로 매우 높게 일겠습니다.\n",
      "(강수) 15일(화) 오전에는 강원도와 충청권, 전라권에 눈(전남권은 비 또는 눈)이 오는 곳이 있겠습니다.(기온) 이번 예보기간 아침 기온은-12~2도, 낮 기온은-1~10도로 어제(11일, 아침최저기온-9~2도, 낮최고기온 7~12도)보다 낮겠습니다.(해상) 15일(화)~17일(목) 동해상에서는 물결이 1.0~4.0m로 매우 높게 일겠습니다.\n",
      "(강수) 15일(화) 오전에는 강원도와 충청권, 전라권에 눈(전남권은 비 또는 눈)이 오는 곳이 있겠습니다.(기온) 이번 예보기간 아침 기온은-12~2도, 낮 기온은-1~10도로 어제(11일, 아침최저기온-9~2도, 낮최고기온 7~12도)보다 낮겠습니다.(해상) 15일(화)~17일(목) 동해상에서는 물결이 1.0~4.0m로 매우 높게 일겠습니다.\n",
      "(강수) 15일(화) 오전에는 강원도와 충청권, 전라권에 눈(전남권은 비 또는 눈)이 오는 곳이 있겠습니다.(기온) 이번 예보기간 아침 기온은-12~2도, 낮 기온은-1~10도로 어제(11일, 아침최저기온-9~2도, 낮최고기온 7~12도)보다 낮겠습니다.(해상) 15일(화)~17일(목) 동해상에서는 물결이 1.0~4.0m로 매우 높게 일겠습니다.\n",
      "(강수) 15일(화) 오전에는 강원도와 충청권, 전라권에 눈(전남권은 비 또는 눈)이 오는 곳이 있겠습니다.(기온) 이번 예보기간 아침 기온은-12~2도, 낮 기온은-1~10도로 어제(11일, 아침최저기온-9~2도, 낮최고기온 7~12도)보다 낮겠습니다.(해상) 15일(화)~17일(목) 동해상에서는 물결이 1.0~4.0m로 매우 높게 일겠습니다.\n",
      "(강수) 15일(화) 오전에는 강원도와 충청권, 전라권에 눈(전남권은 비 또는 눈)이 오는 곳이 있겠습니다.(기온) 이번 예보기간 아침 기온은-12~2도, 낮 기온은-1~10도로 어제(11일, 아침최저기온-9~2도, 낮최고기온 7~12도)보다 낮겠습니다.(해상) 15일(화)~17일(목) 동해상에서는 물결이 1.0~4.0m로 매우 높게 일겠습니다.\n",
      "(강수) 15일(화) 오전에는 강원도와 충청권, 전라권에 눈(전남권은 비 또는 눈)이 오는 곳이 있겠습니다.(기온) 이번 예보기간 아침 기온은-12~2도, 낮 기온은-1~10도로 어제(11일, 아침최저기온-9~2도, 낮최고기온 7~12도)보다 낮겠습니다.(해상) 15일(화)~17일(목) 동해상에서는 물결이 1.0~4.0m로 매우 높게 일겠습니다.\n",
      "(강수) 15일(화) 오전에는 강원도와 충청권, 전라권에 눈(전남권은 비 또는 눈)이 오는 곳이 있겠습니다.(기온) 이번 예보기간 아침 기온은-12~2도, 낮 기온은-1~10도로 어제(11일, 아침최저기온-9~2도, 낮최고기온 7~12도)보다 낮겠습니다.(해상) 15일(화)~17일(목) 동해상에서는 물결이 1.0~4.0m로 매우 높게 일겠습니다.\n",
      "(강수) 15일(화) 오전에는 강원도와 충청권, 전라권에 눈(전남권은 비 또는 눈)이 오는 곳이 있겠습니다.(기온) 이번 예보기간 아침 기온은-12~2도, 낮 기온은-1~10도로 어제(11일, 아침최저기온-9~2도, 낮최고기온 7~12도)보다 낮겠습니다.(해상) 15일(화)~17일(목) 동해상에서는 물결이 1.0~4.0m로 매우 높게 일겠습니다.\n",
      "(강수) 15일(화) 오전에는 강원도와 충청권, 전라권에 눈(전남권은 비 또는 눈)이 오는 곳이 있겠습니다.(기온) 이번 예보기간 아침 기온은-12~2도, 낮 기온은-1~10도로 어제(11일, 아침최저기온-9~2도, 낮최고기온 7~12도)보다 낮겠습니다.(해상) 15일(화)~17일(목) 동해상에서는 물결이 1.0~4.0m로 매우 높게 일겠습니다.\n",
      "(강수) 15일(화) 오전에는 강원도와 충청권, 전라권에 눈(전남권은 비 또는 눈)이 오는 곳이 있겠습니다.(기온) 이번 예보기간 아침 기온은-12~2도, 낮 기온은-1~10도로 어제(11일, 아침최저기온-9~2도, 낮최고기온 7~12도)보다 낮겠습니다.(해상) 15일(화)~17일(목) 동해상에서는 물결이 1.0~4.0m로 매우 높게 일겠습니다.\n",
      "(강수) 15일(화) 오전에는 강원도와 충청권, 전라권에 눈(전남권은 비 또는 눈)이 오는 곳이 있겠습니다.(기온) 이번 예보기간 아침 기온은-12~2도, 낮 기온은-1~10도로 어제(11일, 아침최저기온-9~2도, 낮최고기온 7~12도)보다 낮겠습니다.(해상) 15일(화)~17일(목) 동해상에서는 물결이 1.0~4.0m로 매우 높게 일겠습니다.\n",
      "(강수) 15일(화) 오전에는 강원도와 충청권, 전라권에 눈(전남권은 비 또는 눈)이 오는 곳이 있겠습니다.(기온) 이번 예보기간 아침 기온은-12~2도, 낮 기온은-1~10도로 어제(11일, 아침최저기온-9~2도, 낮최고기온 7~12도)보다 낮겠습니다.(해상) 15일(화)~17일(목) 동해상에서는 물결이 1.0~4.0m로 매우 높게 일겠습니다.\n",
      "(강수) 15일(화) 오전에는 강원도와 충청권, 전라권에 눈(전남권은 비 또는 눈)이 오는 곳이 있겠습니다.(기온) 이번 예보기간 아침 기온은-12~2도, 낮 기온은-1~10도로 어제(11일, 아침최저기온-9~2도, 낮최고기온 7~12도)보다 낮겠습니다.(해상) 15일(화)~17일(목) 동해상에서는 물결이 1.0~4.0m로 매우 높게 일겠습니다.\n",
      "(강수) 15일(화) 오전에는 강원도와 충청권, 전라권에 눈(전남권은 비 또는 눈)이 오는 곳이 있겠습니다.(기온) 이번 예보기간 아침 기온은-12~2도, 낮 기온은-1~10도로 어제(11일, 아침최저기온-9~2도, 낮최고기온 7~12도)보다 낮겠습니다.(해상) 15일(화)~17일(목) 동해상에서는 물결이 1.0~4.0m로 매우 높게 일겠습니다.\n",
      "(강수) 15일(화) 오전에는 강원도와 충청권, 전라권에 눈(전남권은 비 또는 눈)이 오는 곳이 있겠습니다.(기온) 이번 예보기간 아침 기온은-12~2도, 낮 기온은-1~10도로 어제(11일, 아침최저기온-9~2도, 낮최고기온 7~12도)보다 낮겠습니다.(해상) 15일(화)~17일(목) 동해상에서는 물결이 1.0~4.0m로 매우 높게 일겠습니다.\n",
      "(강수) 15일(화) 오전에는 강원도와 충청권, 전라권에 눈(전남권은 비 또는 눈)이 오는 곳이 있겠습니다.(기온) 이번 예보기간 아침 기온은-12~2도, 낮 기온은-1~10도로 어제(11일, 아침최저기온-9~2도, 낮최고기온 7~12도)보다 낮겠습니다.(해상) 15일(화)~17일(목) 동해상에서는 물결이 1.0~4.0m로 매우 높게 일겠습니다.\n",
      "(강수) 15일(화) 오전에는 강원도와 충청권, 전라권에 눈(전남권은 비 또는 눈)이 오는 곳이 있겠습니다.(기온) 이번 예보기간 아침 기온은-12~2도, 낮 기온은-1~10도로 어제(11일, 아침최저기온-9~2도, 낮최고기온 7~12도)보다 낮겠습니다.(해상) 15일(화)~17일(목) 동해상에서는 물결이 1.0~4.0m로 매우 높게 일겠습니다.\n",
      "(강수) 15일(화) 오전에는 강원도와 충청권, 전라권에 눈(전남권은 비 또는 눈)이 오는 곳이 있겠습니다.(기온) 이번 예보기간 아침 기온은-12~2도, 낮 기온은-1~10도로 어제(11일, 아침최저기온-9~2도, 낮최고기온 7~12도)보다 낮겠습니다.(해상) 15일(화)~17일(목) 동해상에서는 물결이 1.0~4.0m로 매우 높게 일겠습니다.\n",
      "(강수) 15일(화) 오전에는 강원도와 충청권, 전라권에 눈(전남권은 비 또는 눈)이 오는 곳이 있겠습니다.(기온) 이번 예보기간 아침 기온은-12~2도, 낮 기온은-1~10도로 어제(11일, 아침최저기온-9~2도, 낮최고기온 7~12도)보다 낮겠습니다.(해상) 15일(화)~17일(목) 동해상에서는 물결이 1.0~4.0m로 매우 높게 일겠습니다.\n",
      "(강수) 15일(화) 오전에는 강원도와 충청권, 전라권에 눈(전남권은 비 또는 눈)이 오는 곳이 있겠습니다.(기온) 이번 예보기간 아침 기온은-12~2도, 낮 기온은-1~10도로 어제(11일, 아침최저기온-9~2도, 낮최고기온 7~12도)보다 낮겠습니다.(해상) 15일(화)~17일(목) 동해상에서는 물결이 1.0~4.0m로 매우 높게 일겠습니다.\n",
      "(강수) 15일(화) 오전에는 강원도와 충청권, 전라권에 눈(전남권은 비 또는 눈)이 오는 곳이 있겠습니다.(기온) 이번 예보기간 아침 기온은-12~2도, 낮 기온은-1~10도로 어제(11일, 아침최저기온-9~2도, 낮최고기온 7~12도)보다 낮겠습니다.(해상) 15일(화)~17일(목) 동해상에서는 물결이 1.0~4.0m로 매우 높게 일겠습니다.\n",
      "(강수) 15일(화) 오전에는 강원도와 충청권, 전라권에 눈(전남권은 비 또는 눈)이 오는 곳이 있겠습니다.(기온) 이번 예보기간 아침 기온은-12~2도, 낮 기온은-1~10도로 어제(11일, 아침최저기온-9~2도, 낮최고기온 7~12도)보다 낮겠습니다.(해상) 15일(화)~17일(목) 동해상에서는 물결이 1.0~4.0m로 매우 높게 일겠습니다.\n",
      "(강수) 15일(화) 오전에는 강원도와 충청권, 전라권에 눈(전남권은 비 또는 눈)이 오는 곳이 있겠습니다.(기온) 이번 예보기간 아침 기온은-12~2도, 낮 기온은-1~10도로 어제(11일, 아침최저기온-9~2도, 낮최고기온 7~12도)보다 낮겠습니다.(해상) 15일(화)~17일(목) 동해상에서는 물결이 1.0~4.0m로 매우 높게 일겠습니다.\n",
      "(강수) 15일(화) 오전에는 강원도와 충청권, 전라권에 눈(전남권은 비 또는 눈)이 오는 곳이 있겠습니다.(기온) 이번 예보기간 아침 기온은-12~2도, 낮 기온은-1~10도로 어제(11일, 아침최저기온-9~2도, 낮최고기온 7~12도)보다 낮겠습니다.(해상) 15일(화)~17일(목) 동해상에서는 물결이 1.0~4.0m로 매우 높게 일겠습니다.\n",
      "(강수) 15일(화) 오전에는 강원도와 충청권, 전라권에 눈(전남권은 비 또는 눈)이 오는 곳이 있겠습니다.(기온) 이번 예보기간 아침 기온은-12~2도, 낮 기온은-1~10도로 어제(11일, 아침최저기온-9~2도, 낮최고기온 7~12도)보다 낮겠습니다.(해상) 15일(화)~17일(목) 동해상에서는 물결이 1.0~4.0m로 매우 높게 일겠습니다.\n",
      "(강수) 15일(화) 오전에는 강원도와 충청권, 전라권에 눈(전남권은 비 또는 눈)이 오는 곳이 있겠습니다.(기온) 이번 예보기간 아침 기온은-12~2도, 낮 기온은-1~10도로 어제(11일, 아침최저기온-9~2도, 낮최고기온 7~12도)보다 낮겠습니다.(해상) 15일(화)~17일(목) 동해상에서는 물결이 1.0~4.0m로 매우 높게 일겠습니다.\n",
      "(강수) 15일(화) 오전에는 강원도와 충청권, 전라권에 눈(전남권은 비 또는 눈)이 오는 곳이 있겠습니다.(기온) 이번 예보기간 아침 기온은-12~2도, 낮 기온은-1~10도로 어제(11일, 아침최저기온-9~2도, 낮최고기온 7~12도)보다 낮겠습니다.(해상) 15일(화)~17일(목) 동해상에서는 물결이 1.0~4.0m로 매우 높게 일겠습니다.\n",
      "(강수) 15일(화) 오전에는 강원도와 충청권, 전라권에 눈(전남권은 비 또는 눈)이 오는 곳이 있겠습니다.(기온) 이번 예보기간 아침 기온은-12~2도, 낮 기온은-1~10도로 어제(11일, 아침최저기온-9~2도, 낮최고기온 7~12도)보다 낮겠습니다.(해상) 15일(화)~17일(목) 동해상에서는 물결이 1.0~4.0m로 매우 높게 일겠습니다.\n",
      "(강수) 15일(화) 오전에는 강원도와 충청권, 전라권에 눈(전남권은 비 또는 눈)이 오는 곳이 있겠습니다.(기온) 이번 예보기간 아침 기온은-12~2도, 낮 기온은-1~10도로 어제(11일, 아침최저기온-9~2도, 낮최고기온 7~12도)보다 낮겠습니다.(해상) 15일(화)~17일(목) 동해상에서는 물결이 1.0~4.0m로 매우 높게 일겠습니다.\n",
      "(강수) 15일(화) 오전에는 강원도와 충청권, 전라권에 눈(전남권은 비 또는 눈)이 오는 곳이 있겠습니다.(기온) 이번 예보기간 아침 기온은-12~2도, 낮 기온은-1~10도로 어제(11일, 아침최저기온-9~2도, 낮최고기온 7~12도)보다 낮겠습니다.(해상) 15일(화)~17일(목) 동해상에서는 물결이 1.0~4.0m로 매우 높게 일겠습니다.\n",
      "(강수) 15일(화) 오전에는 강원도와 충청권, 전라권에 눈(전남권은 비 또는 눈)이 오는 곳이 있겠습니다.(기온) 이번 예보기간 아침 기온은-12~2도, 낮 기온은-1~10도로 어제(11일, 아침최저기온-9~2도, 낮최고기온 7~12도)보다 낮겠습니다.(해상) 15일(화)~17일(목) 동해상에서는 물결이 1.0~4.0m로 매우 높게 일겠습니다.\n",
      "(강수) 15일(화) 오전에는 강원도와 충청권, 전라권에 눈(전남권은 비 또는 눈)이 오는 곳이 있겠습니다.(기온) 이번 예보기간 아침 기온은-12~2도, 낮 기온은-1~10도로 어제(11일, 아침최저기온-9~2도, 낮최고기온 7~12도)보다 낮겠습니다.(해상) 15일(화)~17일(목) 동해상에서는 물결이 1.0~4.0m로 매우 높게 일겠습니다.\n",
      "(강수) 15일(화) 오전에는 강원도와 충청권, 전라권에 눈(전남권은 비 또는 눈)이 오는 곳이 있겠습니다.(기온) 이번 예보기간 아침 기온은-12~2도, 낮 기온은-1~10도로 어제(11일, 아침최저기온-9~2도, 낮최고기온 7~12도)보다 낮겠습니다.(해상) 15일(화)~17일(목) 동해상에서는 물결이 1.0~4.0m로 매우 높게 일겠습니다.\n",
      "(강수) 15일(화) 오전에는 강원도와 충청권, 전라권에 눈(전남권은 비 또는 눈)이 오는 곳이 있겠습니다.(기온) 이번 예보기간 아침 기온은-12~2도, 낮 기온은-1~10도로 어제(11일, 아침최저기온-9~2도, 낮최고기온 7~12도)보다 낮겠습니다.(해상) 15일(화)~17일(목) 동해상에서는 물결이 1.0~4.0m로 매우 높게 일겠습니다.\n",
      "(강수) 15일(화) 오전에는 강원도와 충청권, 전라권에 눈(전남권은 비 또는 눈)이 오는 곳이 있겠습니다.(기온) 이번 예보기간 아침 기온은-12~2도, 낮 기온은-1~10도로 어제(11일, 아침최저기온-9~2도, 낮최고기온 7~12도)보다 낮겠습니다.(해상) 15일(화)~17일(목) 동해상에서는 물결이 1.0~4.0m로 매우 높게 일겠습니다.\n",
      "(강수) 15일(화) 오전에는 강원도와 충청권, 전라권에 눈(전남권은 비 또는 눈)이 오는 곳이 있겠습니다.(기온) 이번 예보기간 아침 기온은-12~2도, 낮 기온은-1~10도로 어제(11일, 아침최저기온-9~2도, 낮최고기온 7~12도)보다 낮겠습니다.(해상) 15일(화)~17일(목) 동해상에서는 물결이 1.0~4.0m로 매우 높게 일겠습니다.\n",
      "(강수) 15일(화) 오전에는 강원도와 충청권, 전라권에 눈(전남권은 비 또는 눈)이 오는 곳이 있겠습니다.(기온) 이번 예보기간 아침 기온은-12~2도, 낮 기온은-1~10도로 어제(11일, 아침최저기온-9~2도, 낮최고기온 7~12도)보다 낮겠습니다.(해상) 15일(화)~17일(목) 동해상에서는 물결이 1.0~4.0m로 매우 높게 일겠습니다.\n",
      "(강수) 15일(화) 오전에는 강원도와 충청권, 전라권에 눈(전남권은 비 또는 눈)이 오는 곳이 있겠습니다.(기온) 이번 예보기간 아침 기온은-12~2도, 낮 기온은-1~10도로 어제(11일, 아침최저기온-9~2도, 낮최고기온 7~12도)보다 낮겠습니다.(해상) 15일(화)~17일(목) 동해상에서는 물결이 1.0~4.0m로 매우 높게 일겠습니다.\n",
      "(강수) 15일(화) 오전에는 강원도와 충청권, 전라권에 눈(전남권은 비 또는 눈)이 오는 곳이 있겠습니다.(기온) 이번 예보기간 아침 기온은-12~2도, 낮 기온은-1~10도로 어제(11일, 아침최저기온-9~2도, 낮최고기온 7~12도)보다 낮겠습니다.(해상) 15일(화)~17일(목) 동해상에서는 물결이 1.0~4.0m로 매우 높게 일겠습니다.\n",
      "(강수) 15일(화) 오전에는 강원도와 충청권, 전라권에 눈(전남권은 비 또는 눈)이 오는 곳이 있겠습니다.(기온) 이번 예보기간 아침 기온은-12~2도, 낮 기온은-1~10도로 어제(11일, 아침최저기온-9~2도, 낮최고기온 7~12도)보다 낮겠습니다.(해상) 15일(화)~17일(목) 동해상에서는 물결이 1.0~4.0m로 매우 높게 일겠습니다.\n",
      "(강수) 15일(화) 오전에는 강원도와 충청권, 전라권에 눈(전남권은 비 또는 눈)이 오는 곳이 있겠습니다.(기온) 이번 예보기간 아침 기온은-12~2도, 낮 기온은-1~10도로 어제(11일, 아침최저기온-9~2도, 낮최고기온 7~12도)보다 낮겠습니다.(해상) 15일(화)~17일(목) 동해상에서는 물결이 1.0~4.0m로 매우 높게 일겠습니다.\n",
      "(강수) 15일(화) 오전에는 강원도와 충청권, 전라권에 눈(전남권은 비 또는 눈)이 오는 곳이 있겠습니다.(기온) 이번 예보기간 아침 기온은-12~2도, 낮 기온은-1~10도로 어제(11일, 아침최저기온-9~2도, 낮최고기온 7~12도)보다 낮겠습니다.(해상) 15일(화)~17일(목) 동해상에서는 물결이 1.0~4.0m로 매우 높게 일겠습니다.\n",
      "(강수) 15일(화) 오전에는 강원도와 충청권, 전라권에 눈(전남권은 비 또는 눈)이 오는 곳이 있겠습니다.(기온) 이번 예보기간 아침 기온은-12~2도, 낮 기온은-1~10도로 어제(11일, 아침최저기온-9~2도, 낮최고기온 7~12도)보다 낮겠습니다.(해상) 15일(화)~17일(목) 동해상에서는 물결이 1.0~4.0m로 매우 높게 일겠습니다.\n",
      "(강수) 15일(화) 오전에는 강원도와 충청권, 전라권에 눈(전남권은 비 또는 눈)이 오는 곳이 있겠습니다.(기온) 이번 예보기간 아침 기온은-12~2도, 낮 기온은-1~10도로 어제(11일, 아침최저기온-9~2도, 낮최고기온 7~12도)보다 낮겠습니다.(해상) 15일(화)~17일(목) 동해상에서는 물결이 1.0~4.0m로 매우 높게 일겠습니다.\n",
      "(강수) 15일(화) 오전에는 강원도와 충청권, 전라권에 눈(전남권은 비 또는 눈)이 오는 곳이 있겠습니다.(기온) 이번 예보기간 아침 기온은-12~2도, 낮 기온은-1~10도로 어제(11일, 아침최저기온-9~2도, 낮최고기온 7~12도)보다 낮겠습니다.(해상) 15일(화)~17일(목) 동해상에서는 물결이 1.0~4.0m로 매우 높게 일겠습니다.\n",
      "(강수) 15일(화) 오전에는 강원도와 충청권, 전라권에 눈(전남권은 비 또는 눈)이 오는 곳이 있겠습니다.(기온) 이번 예보기간 아침 기온은-12~2도, 낮 기온은-1~10도로 어제(11일, 아침최저기온-9~2도, 낮최고기온 7~12도)보다 낮겠습니다.(해상) 15일(화)~17일(목) 동해상에서는 물결이 1.0~4.0m로 매우 높게 일겠습니다.\n",
      "(강수) 15일(화) 오전에는 강원도와 충청권, 전라권에 눈(전남권은 비 또는 눈)이 오는 곳이 있겠습니다.(기온) 이번 예보기간 아침 기온은-12~2도, 낮 기온은-1~10도로 어제(11일, 아침최저기온-9~2도, 낮최고기온 7~12도)보다 낮겠습니다.(해상) 15일(화)~17일(목) 동해상에서는 물결이 1.0~4.0m로 매우 높게 일겠습니다.\n",
      "(강수) 15일(화) 오전에는 강원도와 충청권, 전라권에 눈(전남권은 비 또는 눈)이 오는 곳이 있겠습니다.(기온) 이번 예보기간 아침 기온은-12~2도, 낮 기온은-1~10도로 어제(11일, 아침최저기온-9~2도, 낮최고기온 7~12도)보다 낮겠습니다.(해상) 15일(화)~17일(목) 동해상에서는 물결이 1.0~4.0m로 매우 높게 일겠습니다.\n",
      "(강수) 15일(화) 오전에는 강원도와 충청권, 전라권에 눈(전남권은 비 또는 눈)이 오는 곳이 있겠습니다.(기온) 이번 예보기간 아침 기온은-12~2도, 낮 기온은-1~10도로 어제(11일, 아침최저기온-9~2도, 낮최고기온 7~12도)보다 낮겠습니다.(해상) 15일(화)~17일(목) 동해상에서는 물결이 1.0~4.0m로 매우 높게 일겠습니다.\n",
      "(강수) 15일(화) 오전에는 강원도와 충청권, 전라권에 눈(전남권은 비 또는 눈)이 오는 곳이 있겠습니다.(기온) 이번 예보기간 아침 기온은-12~2도, 낮 기온은-1~10도로 어제(11일, 아침최저기온-9~2도, 낮최고기온 7~12도)보다 낮겠습니다.(해상) 15일(화)~17일(목) 동해상에서는 물결이 1.0~4.0m로 매우 높게 일겠습니다.\n",
      "(강수) 15일(화) 오전에는 강원도와 충청권, 전라권에 눈(전남권은 비 또는 눈)이 오는 곳이 있겠습니다.(기온) 이번 예보기간 아침 기온은-12~2도, 낮 기온은-1~10도로 어제(11일, 아침최저기온-9~2도, 낮최고기온 7~12도)보다 낮겠습니다.(해상) 15일(화)~17일(목) 동해상에서는 물결이 1.0~4.0m로 매우 높게 일겠습니다.\n",
      "(강수) 15일(화) 오전에는 강원도와 충청권, 전라권에 눈(전남권은 비 또는 눈)이 오는 곳이 있겠습니다.(기온) 이번 예보기간 아침 기온은-12~2도, 낮 기온은-1~10도로 어제(11일, 아침최저기온-9~2도, 낮최고기온 7~12도)보다 낮겠습니다.(해상) 15일(화)~17일(목) 동해상에서는 물결이 1.0~4.0m로 매우 높게 일겠습니다.\n",
      "(강수) 15일(화) 오전에는 강원도와 충청권, 전라권에 눈(전남권은 비 또는 눈)이 오는 곳이 있겠습니다.(기온) 이번 예보기간 아침 기온은-12~2도, 낮 기온은-1~10도로 어제(11일, 아침최저기온-9~2도, 낮최고기온 7~12도)보다 낮겠습니다.(해상) 15일(화)~17일(목) 동해상에서는 물결이 1.0~4.0m로 매우 높게 일겠습니다.\n",
      "(강수) 15일(화) 오전에는 강원도와 충청권, 전라권에 눈(전남권은 비 또는 눈)이 오는 곳이 있겠습니다.(기온) 이번 예보기간 아침 기온은-12~2도, 낮 기온은-1~10도로 어제(11일, 아침최저기온-9~2도, 낮최고기온 7~12도)보다 낮겠습니다.(해상) 15일(화)~17일(목) 동해상에서는 물결이 1.0~4.0m로 매우 높게 일겠습니다.\n",
      "(강수) 15일(화) 오전에는 강원도와 충청권, 전라권에 눈(전남권은 비 또는 눈)이 오는 곳이 있겠습니다.(기온) 이번 예보기간 아침 기온은-12~2도, 낮 기온은-1~10도로 어제(11일, 아침최저기온-9~2도, 낮최고기온 7~12도)보다 낮겠습니다.(해상) 15일(화)~17일(목) 동해상에서는 물결이 1.0~4.0m로 매우 높게 일겠습니다.\n",
      "(강수) 15일(화) 오전에는 강원도와 충청권, 전라권에 눈(전남권은 비 또는 눈)이 오는 곳이 있겠습니다.(기온) 이번 예보기간 아침 기온은-12~2도, 낮 기온은-1~10도로 어제(11일, 아침최저기온-9~2도, 낮최고기온 7~12도)보다 낮겠습니다.(해상) 15일(화)~17일(목) 동해상에서는 물결이 1.0~4.0m로 매우 높게 일겠습니다.\n",
      "(강수) 15일(화) 오전에는 강원도와 충청권, 전라권에 눈(전남권은 비 또는 눈)이 오는 곳이 있겠습니다.(기온) 이번 예보기간 아침 기온은-12~2도, 낮 기온은-1~10도로 어제(11일, 아침최저기온-9~2도, 낮최고기온 7~12도)보다 낮겠습니다.(해상) 15일(화)~17일(목) 동해상에서는 물결이 1.0~4.0m로 매우 높게 일겠습니다.\n",
      "(강수) 15일(화) 오전에는 강원도와 충청권, 전라권에 눈(전남권은 비 또는 눈)이 오는 곳이 있겠습니다.(기온) 이번 예보기간 아침 기온은-12~2도, 낮 기온은-1~10도로 어제(11일, 아침최저기온-9~2도, 낮최고기온 7~12도)보다 낮겠습니다.(해상) 15일(화)~17일(목) 동해상에서는 물결이 1.0~4.0m로 매우 높게 일겠습니다.\n",
      "(강수) 15일(화) 오전에는 강원도와 충청권, 전라권에 눈(전남권은 비 또는 눈)이 오는 곳이 있겠습니다.(기온) 이번 예보기간 아침 기온은-12~2도, 낮 기온은-1~10도로 어제(11일, 아침최저기온-9~2도, 낮최고기온 7~12도)보다 낮겠습니다.(해상) 15일(화)~17일(목) 동해상에서는 물결이 1.0~4.0m로 매우 높게 일겠습니다.\n",
      "(강수) 15일(화) 오전에는 강원도와 충청권, 전라권에 눈(전남권은 비 또는 눈)이 오는 곳이 있겠습니다.(기온) 이번 예보기간 아침 기온은-12~2도, 낮 기온은-1~10도로 어제(11일, 아침최저기온-9~2도, 낮최고기온 7~12도)보다 낮겠습니다.(해상) 15일(화)~17일(목) 동해상에서는 물결이 1.0~4.0m로 매우 높게 일겠습니다.\n",
      "(강수) 15일(화) 오전에는 강원도와 충청권, 전라권에 눈(전남권은 비 또는 눈)이 오는 곳이 있겠습니다.(기온) 이번 예보기간 아침 기온은-12~2도, 낮 기온은-1~10도로 어제(11일, 아침최저기온-9~2도, 낮최고기온 7~12도)보다 낮겠습니다.(해상) 15일(화)~17일(목) 동해상에서는 물결이 1.0~4.0m로 매우 높게 일겠습니다.\n",
      "(강수) 15일(화) 오전에는 강원도와 충청권, 전라권에 눈(전남권은 비 또는 눈)이 오는 곳이 있겠습니다.(기온) 이번 예보기간 아침 기온은-12~2도, 낮 기온은-1~10도로 어제(11일, 아침최저기온-9~2도, 낮최고기온 7~12도)보다 낮겠습니다.(해상) 15일(화)~17일(목) 동해상에서는 물결이 1.0~4.0m로 매우 높게 일겠습니다.\n",
      "(강수) 15일(화) 오전에는 강원도와 충청권, 전라권에 눈(전남권은 비 또는 눈)이 오는 곳이 있겠습니다.(기온) 이번 예보기간 아침 기온은-12~2도, 낮 기온은-1~10도로 어제(11일, 아침최저기온-9~2도, 낮최고기온 7~12도)보다 낮겠습니다.(해상) 15일(화)~17일(목) 동해상에서는 물결이 1.0~4.0m로 매우 높게 일겠습니다.\n",
      "(강수) 15일(화) 오전에는 강원도와 충청권, 전라권에 눈(전남권은 비 또는 눈)이 오는 곳이 있겠습니다.(기온) 이번 예보기간 아침 기온은-12~2도, 낮 기온은-1~10도로 어제(11일, 아침최저기온-9~2도, 낮최고기온 7~12도)보다 낮겠습니다.(해상) 15일(화)~17일(목) 동해상에서는 물결이 1.0~4.0m로 매우 높게 일겠습니다.\n",
      "(강수) 15일(화) 오전에는 강원도와 충청권, 전라권에 눈(전남권은 비 또는 눈)이 오는 곳이 있겠습니다.(기온) 이번 예보기간 아침 기온은-12~2도, 낮 기온은-1~10도로 어제(11일, 아침최저기온-9~2도, 낮최고기온 7~12도)보다 낮겠습니다.(해상) 15일(화)~17일(목) 동해상에서는 물결이 1.0~4.0m로 매우 높게 일겠습니다.\n",
      "(강수) 15일(화) 오전에는 강원도와 충청권, 전라권에 눈(전남권은 비 또는 눈)이 오는 곳이 있겠습니다.(기온) 이번 예보기간 아침 기온은-12~2도, 낮 기온은-1~10도로 어제(11일, 아침최저기온-9~2도, 낮최고기온 7~12도)보다 낮겠습니다.(해상) 15일(화)~17일(목) 동해상에서는 물결이 1.0~4.0m로 매우 높게 일겠습니다.\n",
      "(강수) 15일(화) 오전에는 강원도와 충청권, 전라권에 눈(전남권은 비 또는 눈)이 오는 곳이 있겠습니다.(기온) 이번 예보기간 아침 기온은-12~2도, 낮 기온은-1~10도로 어제(11일, 아침최저기온-9~2도, 낮최고기온 7~12도)보다 낮겠습니다.(해상) 15일(화)~17일(목) 동해상에서는 물결이 1.0~4.0m로 매우 높게 일겠습니다.\n",
      "(강수) 15일(화) 오전에는 강원도와 충청권, 전라권에 눈(전남권은 비 또는 눈)이 오는 곳이 있겠습니다.(기온) 이번 예보기간 아침 기온은-12~2도, 낮 기온은-1~10도로 어제(11일, 아침최저기온-9~2도, 낮최고기온 7~12도)보다 낮겠습니다.(해상) 15일(화)~17일(목) 동해상에서는 물결이 1.0~4.0m로 매우 높게 일겠습니다.\n",
      "(강수) 15일(화) 오전에는 강원도와 충청권, 전라권에 눈(전남권은 비 또는 눈)이 오는 곳이 있겠습니다.(기온) 이번 예보기간 아침 기온은-12~2도, 낮 기온은-1~10도로 어제(11일, 아침최저기온-9~2도, 낮최고기온 7~12도)보다 낮겠습니다.(해상) 15일(화)~17일(목) 동해상에서는 물결이 1.0~4.0m로 매우 높게 일겠습니다.\n",
      "(강수) 15일(화) 오전에는 강원도와 충청권, 전라권에 눈(전남권은 비 또는 눈)이 오는 곳이 있겠습니다.(기온) 이번 예보기간 아침 기온은-12~2도, 낮 기온은-1~10도로 어제(11일, 아침최저기온-9~2도, 낮최고기온 7~12도)보다 낮겠습니다.(해상) 15일(화)~17일(목) 동해상에서는 물결이 1.0~4.0m로 매우 높게 일겠습니다.\n",
      "(강수) 15일(화) 오전에는 강원도와 충청권, 전라권에 눈(전남권은 비 또는 눈)이 오는 곳이 있겠습니다.(기온) 이번 예보기간 아침 기온은-12~2도, 낮 기온은-1~10도로 어제(11일, 아침최저기온-9~2도, 낮최고기온 7~12도)보다 낮겠습니다.(해상) 15일(화)~17일(목) 동해상에서는 물결이 1.0~4.0m로 매우 높게 일겠습니다.\n",
      "(강수) 15일(화) 오전에는 강원도와 충청권, 전라권에 눈(전남권은 비 또는 눈)이 오는 곳이 있겠습니다.(기온) 이번 예보기간 아침 기온은-12~2도, 낮 기온은-1~10도로 어제(11일, 아침최저기온-9~2도, 낮최고기온 7~12도)보다 낮겠습니다.(해상) 15일(화)~17일(목) 동해상에서는 물결이 1.0~4.0m로 매우 높게 일겠습니다.\n",
      "(강수) 15일(화) 오전에는 강원도와 충청권, 전라권에 눈(전남권은 비 또는 눈)이 오는 곳이 있겠습니다.(기온) 이번 예보기간 아침 기온은-12~2도, 낮 기온은-1~10도로 어제(11일, 아침최저기온-9~2도, 낮최고기온 7~12도)보다 낮겠습니다.(해상) 15일(화)~17일(목) 동해상에서는 물결이 1.0~4.0m로 매우 높게 일겠습니다.\n",
      "(강수) 15일(화) 오전에는 강원도와 충청권, 전라권에 눈(전남권은 비 또는 눈)이 오는 곳이 있겠습니다.(기온) 이번 예보기간 아침 기온은-12~2도, 낮 기온은-1~10도로 어제(11일, 아침최저기온-9~2도, 낮최고기온 7~12도)보다 낮겠습니다.(해상) 15일(화)~17일(목) 동해상에서는 물결이 1.0~4.0m로 매우 높게 일겠습니다.\n",
      "(강수) 15일(화) 오전에는 강원도와 충청권, 전라권에 눈(전남권은 비 또는 눈)이 오는 곳이 있겠습니다.(기온) 이번 예보기간 아침 기온은-12~2도, 낮 기온은-1~10도로 어제(11일, 아침최저기온-9~2도, 낮최고기온 7~12도)보다 낮겠습니다.(해상) 15일(화)~17일(목) 동해상에서는 물결이 1.0~4.0m로 매우 높게 일겠습니다.\n",
      "(강수) 15일(화) 오전에는 강원도와 충청권, 전라권에 눈(전남권은 비 또는 눈)이 오는 곳이 있겠습니다.(기온) 이번 예보기간 아침 기온은-12~2도, 낮 기온은-1~10도로 어제(11일, 아침최저기온-9~2도, 낮최고기온 7~12도)보다 낮겠습니다.(해상) 15일(화)~17일(목) 동해상에서는 물결이 1.0~4.0m로 매우 높게 일겠습니다.\n",
      "(강수) 15일(화) 오전에는 강원도와 충청권, 전라권에 눈(전남권은 비 또는 눈)이 오는 곳이 있겠습니다.(기온) 이번 예보기간 아침 기온은-12~2도, 낮 기온은-1~10도로 어제(11일, 아침최저기온-9~2도, 낮최고기온 7~12도)보다 낮겠습니다.(해상) 15일(화)~17일(목) 동해상에서는 물결이 1.0~4.0m로 매우 높게 일겠습니다.\n",
      "(강수) 15일(화) 오전에는 강원도와 충청권, 전라권에 눈(전남권은 비 또는 눈)이 오는 곳이 있겠습니다.(기온) 이번 예보기간 아침 기온은-12~2도, 낮 기온은-1~10도로 어제(11일, 아침최저기온-9~2도, 낮최고기온 7~12도)보다 낮겠습니다.(해상) 15일(화)~17일(목) 동해상에서는 물결이 1.0~4.0m로 매우 높게 일겠습니다.\n",
      "(강수) 15일(화) 오전에는 강원도와 충청권, 전라권에 눈(전남권은 비 또는 눈)이 오는 곳이 있겠습니다.(기온) 이번 예보기간 아침 기온은-12~2도, 낮 기온은-1~10도로 어제(11일, 아침최저기온-9~2도, 낮최고기온 7~12도)보다 낮겠습니다.(해상) 15일(화)~17일(목) 동해상에서는 물결이 1.0~4.0m로 매우 높게 일겠습니다.\n",
      "(강수) 15일(화) 오전에는 강원도와 충청권, 전라권에 눈(전남권은 비 또는 눈)이 오는 곳이 있겠습니다.(기온) 이번 예보기간 아침 기온은-12~2도, 낮 기온은-1~10도로 어제(11일, 아침최저기온-9~2도, 낮최고기온 7~12도)보다 낮겠습니다.(해상) 15일(화)~17일(목) 동해상에서는 물결이 1.0~4.0m로 매우 높게 일겠습니다.\n",
      "(강수) 15일(화) 오전에는 강원도와 충청권, 전라권에 눈(전남권은 비 또는 눈)이 오는 곳이 있겠습니다.(기온) 이번 예보기간 아침 기온은-12~2도, 낮 기온은-1~10도로 어제(11일, 아침최저기온-9~2도, 낮최고기온 7~12도)보다 낮겠습니다.(해상) 15일(화)~17일(목) 동해상에서는 물결이 1.0~4.0m로 매우 높게 일겠습니다.\n",
      "(강수) 15일(화) 오전에는 강원도와 충청권, 전라권에 눈(전남권은 비 또는 눈)이 오는 곳이 있겠습니다.(기온) 이번 예보기간 아침 기온은-12~2도, 낮 기온은-1~10도로 어제(11일, 아침최저기온-9~2도, 낮최고기온 7~12도)보다 낮겠습니다.(해상) 15일(화)~17일(목) 동해상에서는 물결이 1.0~4.0m로 매우 높게 일겠습니다.\n",
      "(강수) 15일(화) 오전에는 강원도와 충청권, 전라권에 눈(전남권은 비 또는 눈)이 오는 곳이 있겠습니다.(기온) 이번 예보기간 아침 기온은-12~2도, 낮 기온은-1~10도로 어제(11일, 아침최저기온-9~2도, 낮최고기온 7~12도)보다 낮겠습니다.(해상) 15일(화)~17일(목) 동해상에서는 물결이 1.0~4.0m로 매우 높게 일겠습니다.\n",
      "(강수) 15일(화) 오전에는 강원도와 충청권, 전라권에 눈(전남권은 비 또는 눈)이 오는 곳이 있겠습니다.(기온) 이번 예보기간 아침 기온은-12~2도, 낮 기온은-1~10도로 어제(11일, 아침최저기온-9~2도, 낮최고기온 7~12도)보다 낮겠습니다.(해상) 15일(화)~17일(목) 동해상에서는 물결이 1.0~4.0m로 매우 높게 일겠습니다.\n",
      "(강수) 15일(화) 오전에는 강원도와 충청권, 전라권에 눈(전남권은 비 또는 눈)이 오는 곳이 있겠습니다.(기온) 이번 예보기간 아침 기온은-12~2도, 낮 기온은-1~10도로 어제(11일, 아침최저기온-9~2도, 낮최고기온 7~12도)보다 낮겠습니다.(해상) 15일(화)~17일(목) 동해상에서는 물결이 1.0~4.0m로 매우 높게 일겠습니다.\n",
      "(강수) 15일(화) 오전에는 강원도와 충청권, 전라권에 눈(전남권은 비 또는 눈)이 오는 곳이 있겠습니다.(기온) 이번 예보기간 아침 기온은-12~2도, 낮 기온은-1~10도로 어제(11일, 아침최저기온-9~2도, 낮최고기온 7~12도)보다 낮겠습니다.(해상) 15일(화)~17일(목) 동해상에서는 물결이 1.0~4.0m로 매우 높게 일겠습니다.\n",
      "(강수) 15일(화) 오전에는 강원도와 충청권, 전라권에 눈(전남권은 비 또는 눈)이 오는 곳이 있겠습니다.(기온) 이번 예보기간 아침 기온은-12~2도, 낮 기온은-1~10도로 어제(11일, 아침최저기온-9~2도, 낮최고기온 7~12도)보다 낮겠습니다.(해상) 15일(화)~17일(목) 동해상에서는 물결이 1.0~4.0m로 매우 높게 일겠습니다.\n",
      "(강수) 15일(화) 오전에는 강원도와 충청권, 전라권에 눈(전남권은 비 또는 눈)이 오는 곳이 있겠습니다.(기온) 이번 예보기간 아침 기온은-12~2도, 낮 기온은-1~10도로 어제(11일, 아침최저기온-9~2도, 낮최고기온 7~12도)보다 낮겠습니다.(해상) 15일(화)~17일(목) 동해상에서는 물결이 1.0~4.0m로 매우 높게 일겠습니다.\n",
      "(강수) 15일(화) 오전에는 강원도와 충청권, 전라권에 눈(전남권은 비 또는 눈)이 오는 곳이 있겠습니다.(기온) 이번 예보기간 아침 기온은-12~2도, 낮 기온은-1~10도로 어제(11일, 아침최저기온-9~2도, 낮최고기온 7~12도)보다 낮겠습니다.(해상) 15일(화)~17일(목) 동해상에서는 물결이 1.0~4.0m로 매우 높게 일겠습니다.\n",
      "(강수) 15일(화) 오전에는 강원도와 충청권, 전라권에 눈(전남권은 비 또는 눈)이 오는 곳이 있겠습니다.(기온) 이번 예보기간 아침 기온은-12~2도, 낮 기온은-1~10도로 어제(11일, 아침최저기온-9~2도, 낮최고기온 7~12도)보다 낮겠습니다.(해상) 15일(화)~17일(목) 동해상에서는 물결이 1.0~4.0m로 매우 높게 일겠습니다.\n",
      "(강수) 15일(화) 오전에는 강원도와 충청권, 전라권에 눈(전남권은 비 또는 눈)이 오는 곳이 있겠습니다.(기온) 이번 예보기간 아침 기온은-12~2도, 낮 기온은-1~10도로 어제(11일, 아침최저기온-9~2도, 낮최고기온 7~12도)보다 낮겠습니다.(해상) 15일(화)~17일(목) 동해상에서는 물결이 1.0~4.0m로 매우 높게 일겠습니다.\n",
      "(강수) 15일(화) 오전에는 강원도와 충청권, 전라권에 눈(전남권은 비 또는 눈)이 오는 곳이 있겠습니다.(기온) 이번 예보기간 아침 기온은-12~2도, 낮 기온은-1~10도로 어제(11일, 아침최저기온-9~2도, 낮최고기온 7~12도)보다 낮겠습니다.(해상) 15일(화)~17일(목) 동해상에서는 물결이 1.0~4.0m로 매우 높게 일겠습니다.\n",
      "(강수) 15일(화) 오전에는 강원도와 충청권, 전라권에 눈(전남권은 비 또는 눈)이 오는 곳이 있겠습니다.(기온) 이번 예보기간 아침 기온은-12~2도, 낮 기온은-1~10도로 어제(11일, 아침최저기온-9~2도, 낮최고기온 7~12도)보다 낮겠습니다.(해상) 15일(화)~17일(목) 동해상에서는 물결이 1.0~4.0m로 매우 높게 일겠습니다.\n",
      "(강수) 15일(화) 오전에는 강원도와 충청권, 전라권에 눈(전남권은 비 또는 눈)이 오는 곳이 있겠습니다.(기온) 이번 예보기간 아침 기온은-12~2도, 낮 기온은-1~10도로 어제(11일, 아침최저기온-9~2도, 낮최고기온 7~12도)보다 낮겠습니다.(해상) 15일(화)~17일(목) 동해상에서는 물결이 1.0~4.0m로 매우 높게 일겠습니다.\n",
      "(강수) 15일(화) 오전에는 강원도와 충청권, 전라권에 눈(전남권은 비 또는 눈)이 오는 곳이 있겠습니다.(기온) 이번 예보기간 아침 기온은-12~2도, 낮 기온은-1~10도로 어제(11일, 아침최저기온-9~2도, 낮최고기온 7~12도)보다 낮겠습니다.(해상) 15일(화)~17일(목) 동해상에서는 물결이 1.0~4.0m로 매우 높게 일겠습니다.\n",
      "(강수) 15일(화) 오전에는 강원도와 충청권, 전라권에 눈(전남권은 비 또는 눈)이 오는 곳이 있겠습니다.(기온) 이번 예보기간 아침 기온은-12~2도, 낮 기온은-1~10도로 어제(11일, 아침최저기온-9~2도, 낮최고기온 7~12도)보다 낮겠습니다.(해상) 15일(화)~17일(목) 동해상에서는 물결이 1.0~4.0m로 매우 높게 일겠습니다.\n",
      "(강수) 15일(화) 오전에는 강원도와 충청권, 전라권에 눈(전남권은 비 또는 눈)이 오는 곳이 있겠습니다.(기온) 이번 예보기간 아침 기온은-12~2도, 낮 기온은-1~10도로 어제(11일, 아침최저기온-9~2도, 낮최고기온 7~12도)보다 낮겠습니다.(해상) 15일(화)~17일(목) 동해상에서는 물결이 1.0~4.0m로 매우 높게 일겠습니다.\n",
      "(강수) 15일(화) 오전에는 강원도와 충청권, 전라권에 눈(전남권은 비 또는 눈)이 오는 곳이 있겠습니다.(기온) 이번 예보기간 아침 기온은-12~2도, 낮 기온은-1~10도로 어제(11일, 아침최저기온-9~2도, 낮최고기온 7~12도)보다 낮겠습니다.(해상) 15일(화)~17일(목) 동해상에서는 물결이 1.0~4.0m로 매우 높게 일겠습니다.\n",
      "(강수) 15일(화) 오전에는 강원도와 충청권, 전라권에 눈(전남권은 비 또는 눈)이 오는 곳이 있겠습니다.(기온) 이번 예보기간 아침 기온은-12~2도, 낮 기온은-1~10도로 어제(11일, 아침최저기온-9~2도, 낮최고기온 7~12도)보다 낮겠습니다.(해상) 15일(화)~17일(목) 동해상에서는 물결이 1.0~4.0m로 매우 높게 일겠습니다.\n",
      "(강수) 15일(화) 오전에는 강원도와 충청권, 전라권에 눈(전남권은 비 또는 눈)이 오는 곳이 있겠습니다.(기온) 이번 예보기간 아침 기온은-12~2도, 낮 기온은-1~10도로 어제(11일, 아침최저기온-9~2도, 낮최고기온 7~12도)보다 낮겠습니다.(해상) 15일(화)~17일(목) 동해상에서는 물결이 1.0~4.0m로 매우 높게 일겠습니다.\n",
      "(강수) 15일(화) 오전에는 강원도와 충청권, 전라권에 눈(전남권은 비 또는 눈)이 오는 곳이 있겠습니다.(기온) 이번 예보기간 아침 기온은-12~2도, 낮 기온은-1~10도로 어제(11일, 아침최저기온-9~2도, 낮최고기온 7~12도)보다 낮겠습니다.(해상) 15일(화)~17일(목) 동해상에서는 물결이 1.0~4.0m로 매우 높게 일겠습니다.\n",
      "(강수) 15일(화) 오전에는 강원도와 충청권, 전라권에 눈(전남권은 비 또는 눈)이 오는 곳이 있겠습니다.(기온) 이번 예보기간 아침 기온은-12~2도, 낮 기온은-1~10도로 어제(11일, 아침최저기온-9~2도, 낮최고기온 7~12도)보다 낮겠습니다.(해상) 15일(화)~17일(목) 동해상에서는 물결이 1.0~4.0m로 매우 높게 일겠습니다.\n",
      "(강수) 15일(화) 오전에는 강원도와 충청권, 전라권에 눈(전남권은 비 또는 눈)이 오는 곳이 있겠습니다.(기온) 이번 예보기간 아침 기온은-12~2도, 낮 기온은-1~10도로 어제(11일, 아침최저기온-9~2도, 낮최고기온 7~12도)보다 낮겠습니다.(해상) 15일(화)~17일(목) 동해상에서는 물결이 1.0~4.0m로 매우 높게 일겠습니다.\n",
      "(강수) 15일(화) 오전에는 강원도와 충청권, 전라권에 눈(전남권은 비 또는 눈)이 오는 곳이 있겠습니다.(기온) 이번 예보기간 아침 기온은-12~2도, 낮 기온은-1~10도로 어제(11일, 아침최저기온-9~2도, 낮최고기온 7~12도)보다 낮겠습니다.(해상) 15일(화)~17일(목) 동해상에서는 물결이 1.0~4.0m로 매우 높게 일겠습니다.\n",
      "(강수) 15일(화) 오전에는 강원도와 충청권, 전라권에 눈(전남권은 비 또는 눈)이 오는 곳이 있겠습니다.(기온) 이번 예보기간 아침 기온은-12~2도, 낮 기온은-1~10도로 어제(11일, 아침최저기온-9~2도, 낮최고기온 7~12도)보다 낮겠습니다.(해상) 15일(화)~17일(목) 동해상에서는 물결이 1.0~4.0m로 매우 높게 일겠습니다.\n",
      "(강수) 15일(화) 오전에는 강원도와 충청권, 전라권에 눈(전남권은 비 또는 눈)이 오는 곳이 있겠습니다.(기온) 이번 예보기간 아침 기온은-12~2도, 낮 기온은-1~10도로 어제(11일, 아침최저기온-9~2도, 낮최고기온 7~12도)보다 낮겠습니다.(해상) 15일(화)~17일(목) 동해상에서는 물결이 1.0~4.0m로 매우 높게 일겠습니다.\n",
      "(강수) 15일(화) 오전에는 강원도와 충청권, 전라권에 눈(전남권은 비 또는 눈)이 오는 곳이 있겠습니다.(기온) 이번 예보기간 아침 기온은-12~2도, 낮 기온은-1~10도로 어제(11일, 아침최저기온-9~2도, 낮최고기온 7~12도)보다 낮겠습니다.(해상) 15일(화)~17일(목) 동해상에서는 물결이 1.0~4.0m로 매우 높게 일겠습니다.\n",
      "(강수) 15일(화) 오전에는 강원도와 충청권, 전라권에 눈(전남권은 비 또는 눈)이 오는 곳이 있겠습니다.(기온) 이번 예보기간 아침 기온은-12~2도, 낮 기온은-1~10도로 어제(11일, 아침최저기온-9~2도, 낮최고기온 7~12도)보다 낮겠습니다.(해상) 15일(화)~17일(목) 동해상에서는 물결이 1.0~4.0m로 매우 높게 일겠습니다.\n",
      "(강수) 15일(화) 오전에는 강원도와 충청권, 전라권에 눈(전남권은 비 또는 눈)이 오는 곳이 있겠습니다.(기온) 이번 예보기간 아침 기온은-12~2도, 낮 기온은-1~10도로 어제(11일, 아침최저기온-9~2도, 낮최고기온 7~12도)보다 낮겠습니다.(해상) 15일(화)~17일(목) 동해상에서는 물결이 1.0~4.0m로 매우 높게 일겠습니다.\n",
      "(강수) 15일(화) 오전에는 강원도와 충청권, 전라권에 눈(전남권은 비 또는 눈)이 오는 곳이 있겠습니다.(기온) 이번 예보기간 아침 기온은-12~2도, 낮 기온은-1~10도로 어제(11일, 아침최저기온-9~2도, 낮최고기온 7~12도)보다 낮겠습니다.(해상) 15일(화)~17일(목) 동해상에서는 물결이 1.0~4.0m로 매우 높게 일겠습니다.\n",
      "(강수) 15일(화) 오전에는 강원도와 충청권, 전라권에 눈(전남권은 비 또는 눈)이 오는 곳이 있겠습니다.(기온) 이번 예보기간 아침 기온은-12~2도, 낮 기온은-1~10도로 어제(11일, 아침최저기온-9~2도, 낮최고기온 7~12도)보다 낮겠습니다.(해상) 15일(화)~17일(목) 동해상에서는 물결이 1.0~4.0m로 매우 높게 일겠습니다.\n",
      "(강수) 15일(화) 오전에는 강원도와 충청권, 전라권에 눈(전남권은 비 또는 눈)이 오는 곳이 있겠습니다.(기온) 이번 예보기간 아침 기온은-12~2도, 낮 기온은-1~10도로 어제(11일, 아침최저기온-9~2도, 낮최고기온 7~12도)보다 낮겠습니다.(해상) 15일(화)~17일(목) 동해상에서는 물결이 1.0~4.0m로 매우 높게 일겠습니다.\n",
      "(강수) 15일(화) 오전에는 강원도와 충청권, 전라권에 눈(전남권은 비 또는 눈)이 오는 곳이 있겠습니다.(기온) 이번 예보기간 아침 기온은-12~2도, 낮 기온은-1~10도로 어제(11일, 아침최저기온-9~2도, 낮최고기온 7~12도)보다 낮겠습니다.(해상) 15일(화)~17일(목) 동해상에서는 물결이 1.0~4.0m로 매우 높게 일겠습니다.\n",
      "(강수) 15일(화) 오전에는 강원도와 충청권, 전라권에 눈(전남권은 비 또는 눈)이 오는 곳이 있겠습니다.(기온) 이번 예보기간 아침 기온은-12~2도, 낮 기온은-1~10도로 어제(11일, 아침최저기온-9~2도, 낮최고기온 7~12도)보다 낮겠습니다.(해상) 15일(화)~17일(목) 동해상에서는 물결이 1.0~4.0m로 매우 높게 일겠습니다.\n",
      "(강수) 15일(화) 오전에는 강원도와 충청권, 전라권에 눈(전남권은 비 또는 눈)이 오는 곳이 있겠습니다.(기온) 이번 예보기간 아침 기온은-12~2도, 낮 기온은-1~10도로 어제(11일, 아침최저기온-9~2도, 낮최고기온 7~12도)보다 낮겠습니다.(해상) 15일(화)~17일(목) 동해상에서는 물결이 1.0~4.0m로 매우 높게 일겠습니다.\n",
      "(강수) 15일(화) 오전에는 강원도와 충청권, 전라권에 눈(전남권은 비 또는 눈)이 오는 곳이 있겠습니다.(기온) 이번 예보기간 아침 기온은-12~2도, 낮 기온은-1~10도로 어제(11일, 아침최저기온-9~2도, 낮최고기온 7~12도)보다 낮겠습니다.(해상) 15일(화)~17일(목) 동해상에서는 물결이 1.0~4.0m로 매우 높게 일겠습니다.\n",
      "(강수) 15일(화) 오전에는 강원도와 충청권, 전라권에 눈(전남권은 비 또는 눈)이 오는 곳이 있겠습니다.(기온) 이번 예보기간 아침 기온은-12~2도, 낮 기온은-1~10도로 어제(11일, 아침최저기온-9~2도, 낮최고기온 7~12도)보다 낮겠습니다.(해상) 15일(화)~17일(목) 동해상에서는 물결이 1.0~4.0m로 매우 높게 일겠습니다.\n",
      "(강수) 15일(화) 오전에는 강원도와 충청권, 전라권에 눈(전남권은 비 또는 눈)이 오는 곳이 있겠습니다.(기온) 이번 예보기간 아침 기온은-12~2도, 낮 기온은-1~10도로 어제(11일, 아침최저기온-9~2도, 낮최고기온 7~12도)보다 낮겠습니다.(해상) 15일(화)~17일(목) 동해상에서는 물결이 1.0~4.0m로 매우 높게 일겠습니다.\n",
      "(강수) 15일(화) 오전에는 강원도와 충청권, 전라권에 눈(전남권은 비 또는 눈)이 오는 곳이 있겠습니다.(기온) 이번 예보기간 아침 기온은-12~2도, 낮 기온은-1~10도로 어제(11일, 아침최저기온-9~2도, 낮최고기온 7~12도)보다 낮겠습니다.(해상) 15일(화)~17일(목) 동해상에서는 물결이 1.0~4.0m로 매우 높게 일겠습니다.\n",
      "(강수) 15일(화) 오전에는 강원도와 충청권, 전라권에 눈(전남권은 비 또는 눈)이 오는 곳이 있겠습니다.(기온) 이번 예보기간 아침 기온은-12~2도, 낮 기온은-1~10도로 어제(11일, 아침최저기온-9~2도, 낮최고기온 7~12도)보다 낮겠습니다.(해상) 15일(화)~17일(목) 동해상에서는 물결이 1.0~4.0m로 매우 높게 일겠습니다.\n",
      "(강수) 15일(화) 오전에는 강원도와 충청권, 전라권에 눈(전남권은 비 또는 눈)이 오는 곳이 있겠습니다.(기온) 이번 예보기간 아침 기온은-12~2도, 낮 기온은-1~10도로 어제(11일, 아침최저기온-9~2도, 낮최고기온 7~12도)보다 낮겠습니다.(해상) 15일(화)~17일(목) 동해상에서는 물결이 1.0~4.0m로 매우 높게 일겠습니다.\n",
      "(강수) 15일(화) 오전에는 강원도와 충청권, 전라권에 눈(전남권은 비 또는 눈)이 오는 곳이 있겠습니다.(기온) 이번 예보기간 아침 기온은-12~2도, 낮 기온은-1~10도로 어제(11일, 아침최저기온-9~2도, 낮최고기온 7~12도)보다 낮겠습니다.(해상) 15일(화)~17일(목) 동해상에서는 물결이 1.0~4.0m로 매우 높게 일겠습니다.\n",
      "(강수) 15일(화) 오전에는 강원도와 충청권, 전라권에 눈(전남권은 비 또는 눈)이 오는 곳이 있겠습니다.(기온) 이번 예보기간 아침 기온은-12~2도, 낮 기온은-1~10도로 어제(11일, 아침최저기온-9~2도, 낮최고기온 7~12도)보다 낮겠습니다.(해상) 15일(화)~17일(목) 동해상에서는 물결이 1.0~4.0m로 매우 높게 일겠습니다.\n",
      "(강수) 15일(화) 오전에는 강원도와 충청권, 전라권에 눈(전남권은 비 또는 눈)이 오는 곳이 있겠습니다.(기온) 이번 예보기간 아침 기온은-12~2도, 낮 기온은-1~10도로 어제(11일, 아침최저기온-9~2도, 낮최고기온 7~12도)보다 낮겠습니다.(해상) 15일(화)~17일(목) 동해상에서는 물결이 1.0~4.0m로 매우 높게 일겠습니다.\n",
      "(강수) 15일(화) 오전에는 강원도와 충청권, 전라권에 눈(전남권은 비 또는 눈)이 오는 곳이 있겠습니다.(기온) 이번 예보기간 아침 기온은-12~2도, 낮 기온은-1~10도로 어제(11일, 아침최저기온-9~2도, 낮최고기온 7~12도)보다 낮겠습니다.(해상) 15일(화)~17일(목) 동해상에서는 물결이 1.0~4.0m로 매우 높게 일겠습니다.\n",
      "(강수) 15일(화) 오전에는 강원도와 충청권, 전라권에 눈(전남권은 비 또는 눈)이 오는 곳이 있겠습니다.(기온) 이번 예보기간 아침 기온은-12~2도, 낮 기온은-1~10도로 어제(11일, 아침최저기온-9~2도, 낮최고기온 7~12도)보다 낮겠습니다.(해상) 15일(화)~17일(목) 동해상에서는 물결이 1.0~4.0m로 매우 높게 일겠습니다.\n",
      "(강수) 15일(화) 오전에는 강원도와 충청권, 전라권에 눈(전남권은 비 또는 눈)이 오는 곳이 있겠습니다.(기온) 이번 예보기간 아침 기온은-12~2도, 낮 기온은-1~10도로 어제(11일, 아침최저기온-9~2도, 낮최고기온 7~12도)보다 낮겠습니다.(해상) 15일(화)~17일(목) 동해상에서는 물결이 1.0~4.0m로 매우 높게 일겠습니다.\n",
      "(강수) 15일(화) 오전에는 강원도와 충청권, 전라권에 눈(전남권은 비 또는 눈)이 오는 곳이 있겠습니다.(기온) 이번 예보기간 아침 기온은-12~2도, 낮 기온은-1~10도로 어제(11일, 아침최저기온-9~2도, 낮최고기온 7~12도)보다 낮겠습니다.(해상) 15일(화)~17일(목) 동해상에서는 물결이 1.0~4.0m로 매우 높게 일겠습니다.\n",
      "(강수) 15일(화) 오전에는 강원도와 충청권, 전라권에 눈(전남권은 비 또는 눈)이 오는 곳이 있겠습니다.(기온) 이번 예보기간 아침 기온은-12~2도, 낮 기온은-1~10도로 어제(11일, 아침최저기온-9~2도, 낮최고기온 7~12도)보다 낮겠습니다.(해상) 15일(화)~17일(목) 동해상에서는 물결이 1.0~4.0m로 매우 높게 일겠습니다.\n",
      "(강수) 15일(화) 오전에는 강원도와 충청권, 전라권에 눈(전남권은 비 또는 눈)이 오는 곳이 있겠습니다.(기온) 이번 예보기간 아침 기온은-12~2도, 낮 기온은-1~10도로 어제(11일, 아침최저기온-9~2도, 낮최고기온 7~12도)보다 낮겠습니다.(해상) 15일(화)~17일(목) 동해상에서는 물결이 1.0~4.0m로 매우 높게 일겠습니다.\n",
      "(강수) 15일(화) 오전에는 강원도와 충청권, 전라권에 눈(전남권은 비 또는 눈)이 오는 곳이 있겠습니다.(기온) 이번 예보기간 아침 기온은-12~2도, 낮 기온은-1~10도로 어제(11일, 아침최저기온-9~2도, 낮최고기온 7~12도)보다 낮겠습니다.(해상) 15일(화)~17일(목) 동해상에서는 물결이 1.0~4.0m로 매우 높게 일겠습니다.\n",
      "(강수) 15일(화) 오전에는 강원도와 충청권, 전라권에 눈(전남권은 비 또는 눈)이 오는 곳이 있겠습니다.(기온) 이번 예보기간 아침 기온은-12~2도, 낮 기온은-1~10도로 어제(11일, 아침최저기온-9~2도, 낮최고기온 7~12도)보다 낮겠습니다.(해상) 15일(화)~17일(목) 동해상에서는 물결이 1.0~4.0m로 매우 높게 일겠습니다.\n",
      "(강수) 15일(화) 오전에는 강원도와 충청권, 전라권에 눈(전남권은 비 또는 눈)이 오는 곳이 있겠습니다.(기온) 이번 예보기간 아침 기온은-12~2도, 낮 기온은-1~10도로 어제(11일, 아침최저기온-9~2도, 낮최고기온 7~12도)보다 낮겠습니다.(해상) 15일(화)~17일(목) 동해상에서는 물결이 1.0~4.0m로 매우 높게 일겠습니다.\n",
      "(강수) 15일(화) 오전에는 강원도와 충청권, 전라권에 눈(전남권은 비 또는 눈)이 오는 곳이 있겠습니다.(기온) 이번 예보기간 아침 기온은-12~2도, 낮 기온은-1~10도로 어제(11일, 아침최저기온-9~2도, 낮최고기온 7~12도)보다 낮겠습니다.(해상) 15일(화)~17일(목) 동해상에서는 물결이 1.0~4.0m로 매우 높게 일겠습니다.\n",
      "(강수) 15일(화) 오전에는 강원도와 충청권, 전라권에 눈(전남권은 비 또는 눈)이 오는 곳이 있겠습니다.(기온) 이번 예보기간 아침 기온은-12~2도, 낮 기온은-1~10도로 어제(11일, 아침최저기온-9~2도, 낮최고기온 7~12도)보다 낮겠습니다.(해상) 15일(화)~17일(목) 동해상에서는 물결이 1.0~4.0m로 매우 높게 일겠습니다.\n",
      "(강수) 15일(화) 오전에는 강원도와 충청권, 전라권에 눈(전남권은 비 또는 눈)이 오는 곳이 있겠습니다.(기온) 이번 예보기간 아침 기온은-12~2도, 낮 기온은-1~10도로 어제(11일, 아침최저기온-9~2도, 낮최고기온 7~12도)보다 낮겠습니다.(해상) 15일(화)~17일(목) 동해상에서는 물결이 1.0~4.0m로 매우 높게 일겠습니다.\n",
      "(강수) 15일(화) 오전에는 강원도와 충청권, 전라권에 눈(전남권은 비 또는 눈)이 오는 곳이 있겠습니다.(기온) 이번 예보기간 아침 기온은-12~2도, 낮 기온은-1~10도로 어제(11일, 아침최저기온-9~2도, 낮최고기온 7~12도)보다 낮겠습니다.(해상) 15일(화)~17일(목) 동해상에서는 물결이 1.0~4.0m로 매우 높게 일겠습니다.\n",
      "(강수) 15일(화) 오전에는 강원도와 충청권, 전라권에 눈(전남권은 비 또는 눈)이 오는 곳이 있겠습니다.(기온) 이번 예보기간 아침 기온은-12~2도, 낮 기온은-1~10도로 어제(11일, 아침최저기온-9~2도, 낮최고기온 7~12도)보다 낮겠습니다.(해상) 15일(화)~17일(목) 동해상에서는 물결이 1.0~4.0m로 매우 높게 일겠습니다.\n",
      "(강수) 15일(화) 오전에는 강원도와 충청권, 전라권에 눈(전남권은 비 또는 눈)이 오는 곳이 있겠습니다.(기온) 이번 예보기간 아침 기온은-12~2도, 낮 기온은-1~10도로 어제(11일, 아침최저기온-9~2도, 낮최고기온 7~12도)보다 낮겠습니다.(해상) 15일(화)~17일(목) 동해상에서는 물결이 1.0~4.0m로 매우 높게 일겠습니다.\n",
      "(강수) 15일(화) 오전에는 강원도와 충청권, 전라권에 눈(전남권은 비 또는 눈)이 오는 곳이 있겠습니다.(기온) 이번 예보기간 아침 기온은-12~2도, 낮 기온은-1~10도로 어제(11일, 아침최저기온-9~2도, 낮최고기온 7~12도)보다 낮겠습니다.(해상) 15일(화)~17일(목) 동해상에서는 물결이 1.0~4.0m로 매우 높게 일겠습니다.\n",
      "(강수) 15일(화) 오전에는 강원도와 충청권, 전라권에 눈(전남권은 비 또는 눈)이 오는 곳이 있겠습니다.(기온) 이번 예보기간 아침 기온은-12~2도, 낮 기온은-1~10도로 어제(11일, 아침최저기온-9~2도, 낮최고기온 7~12도)보다 낮겠습니다.(해상) 15일(화)~17일(목) 동해상에서는 물결이 1.0~4.0m로 매우 높게 일겠습니다.\n",
      "(강수) 15일(화) 오전에는 강원도와 충청권, 전라권에 눈(전남권은 비 또는 눈)이 오는 곳이 있겠습니다.(기온) 이번 예보기간 아침 기온은-12~2도, 낮 기온은-1~10도로 어제(11일, 아침최저기온-9~2도, 낮최고기온 7~12도)보다 낮겠습니다.(해상) 15일(화)~17일(목) 동해상에서는 물결이 1.0~4.0m로 매우 높게 일겠습니다.\n",
      "(강수) 15일(화) 오전에는 강원도와 충청권, 전라권에 눈(전남권은 비 또는 눈)이 오는 곳이 있겠습니다.(기온) 이번 예보기간 아침 기온은-12~2도, 낮 기온은-1~10도로 어제(11일, 아침최저기온-9~2도, 낮최고기온 7~12도)보다 낮겠습니다.(해상) 15일(화)~17일(목) 동해상에서는 물결이 1.0~4.0m로 매우 높게 일겠습니다.\n",
      "(강수) 15일(화) 오전에는 강원도와 충청권, 전라권에 눈(전남권은 비 또는 눈)이 오는 곳이 있겠습니다.(기온) 이번 예보기간 아침 기온은-12~2도, 낮 기온은-1~10도로 어제(11일, 아침최저기온-9~2도, 낮최고기온 7~12도)보다 낮겠습니다.(해상) 15일(화)~17일(목) 동해상에서는 물결이 1.0~4.0m로 매우 높게 일겠습니다.\n",
      "(강수) 15일(화) 오전에는 강원도와 충청권, 전라권에 눈(전남권은 비 또는 눈)이 오는 곳이 있겠습니다.(기온) 이번 예보기간 아침 기온은-12~2도, 낮 기온은-1~10도로 어제(11일, 아침최저기온-9~2도, 낮최고기온 7~12도)보다 낮겠습니다.(해상) 15일(화)~17일(목) 동해상에서는 물결이 1.0~4.0m로 매우 높게 일겠습니다.\n",
      "(강수) 15일(화) 오전에는 강원도와 충청권, 전라권에 눈(전남권은 비 또는 눈)이 오는 곳이 있겠습니다.(기온) 이번 예보기간 아침 기온은-12~2도, 낮 기온은-1~10도로 어제(11일, 아침최저기온-9~2도, 낮최고기온 7~12도)보다 낮겠습니다.(해상) 15일(화)~17일(목) 동해상에서는 물결이 1.0~4.0m로 매우 높게 일겠습니다.\n",
      "(강수) 15일(화) 오전에는 강원도와 충청권, 전라권에 눈(전남권은 비 또는 눈)이 오는 곳이 있겠습니다.(기온) 이번 예보기간 아침 기온은-12~2도, 낮 기온은-1~10도로 어제(11일, 아침최저기온-9~2도, 낮최고기온 7~12도)보다 낮겠습니다.(해상) 15일(화)~17일(목) 동해상에서는 물결이 1.0~4.0m로 매우 높게 일겠습니다.\n",
      "(강수) 15일(화) 오전에는 강원도와 충청권, 전라권에 눈(전남권은 비 또는 눈)이 오는 곳이 있겠습니다.(기온) 이번 예보기간 아침 기온은-12~2도, 낮 기온은-1~10도로 어제(11일, 아침최저기온-9~2도, 낮최고기온 7~12도)보다 낮겠습니다.(해상) 15일(화)~17일(목) 동해상에서는 물결이 1.0~4.0m로 매우 높게 일겠습니다.\n",
      "(강수) 15일(화) 오전에는 강원도와 충청권, 전라권에 눈(전남권은 비 또는 눈)이 오는 곳이 있겠습니다.(기온) 이번 예보기간 아침 기온은-12~2도, 낮 기온은-1~10도로 어제(11일, 아침최저기온-9~2도, 낮최고기온 7~12도)보다 낮겠습니다.(해상) 15일(화)~17일(목) 동해상에서는 물결이 1.0~4.0m로 매우 높게 일겠습니다.\n",
      "(강수) 15일(화) 오전에는 강원도와 충청권, 전라권에 눈(전남권은 비 또는 눈)이 오는 곳이 있겠습니다.(기온) 이번 예보기간 아침 기온은-12~2도, 낮 기온은-1~10도로 어제(11일, 아침최저기온-9~2도, 낮최고기온 7~12도)보다 낮겠습니다.(해상) 15일(화)~17일(목) 동해상에서는 물결이 1.0~4.0m로 매우 높게 일겠습니다.\n",
      "(강수) 15일(화) 오전에는 강원도와 충청권, 전라권에 눈(전남권은 비 또는 눈)이 오는 곳이 있겠습니다.(기온) 이번 예보기간 아침 기온은-12~2도, 낮 기온은-1~10도로 어제(11일, 아침최저기온-9~2도, 낮최고기온 7~12도)보다 낮겠습니다.(해상) 15일(화)~17일(목) 동해상에서는 물결이 1.0~4.0m로 매우 높게 일겠습니다.\n",
      "(강수) 15일(화) 오전에는 강원도와 충청권, 전라권에 눈(전남권은 비 또는 눈)이 오는 곳이 있겠습니다.(기온) 이번 예보기간 아침 기온은-12~2도, 낮 기온은-1~10도로 어제(11일, 아침최저기온-9~2도, 낮최고기온 7~12도)보다 낮겠습니다.(해상) 15일(화)~17일(목) 동해상에서는 물결이 1.0~4.0m로 매우 높게 일겠습니다.\n",
      "(강수) 15일(화) 오전에는 강원도와 충청권, 전라권에 눈(전남권은 비 또는 눈)이 오는 곳이 있겠습니다.(기온) 이번 예보기간 아침 기온은-12~2도, 낮 기온은-1~10도로 어제(11일, 아침최저기온-9~2도, 낮최고기온 7~12도)보다 낮겠습니다.(해상) 15일(화)~17일(목) 동해상에서는 물결이 1.0~4.0m로 매우 높게 일겠습니다.\n",
      "(강수) 15일(화) 오전에는 강원도와 충청권, 전라권에 눈(전남권은 비 또는 눈)이 오는 곳이 있겠습니다.(기온) 이번 예보기간 아침 기온은-12~2도, 낮 기온은-1~10도로 어제(11일, 아침최저기온-9~2도, 낮최고기온 7~12도)보다 낮겠습니다.(해상) 15일(화)~17일(목) 동해상에서는 물결이 1.0~4.0m로 매우 높게 일겠습니다.\n",
      "(강수) 15일(화) 오전에는 강원도와 충청권, 전라권에 눈(전남권은 비 또는 눈)이 오는 곳이 있겠습니다.(기온) 이번 예보기간 아침 기온은-12~2도, 낮 기온은-1~10도로 어제(11일, 아침최저기온-9~2도, 낮최고기온 7~12도)보다 낮겠습니다.(해상) 15일(화)~17일(목) 동해상에서는 물결이 1.0~4.0m로 매우 높게 일겠습니다.\n",
      "(강수) 15일(화) 오전에는 강원도와 충청권, 전라권에 눈(전남권은 비 또는 눈)이 오는 곳이 있겠습니다.(기온) 이번 예보기간 아침 기온은-12~2도, 낮 기온은-1~10도로 어제(11일, 아침최저기온-9~2도, 낮최고기온 7~12도)보다 낮겠습니다.(해상) 15일(화)~17일(목) 동해상에서는 물결이 1.0~4.0m로 매우 높게 일겠습니다.\n",
      "(강수) 15일(화) 오전에는 강원도와 충청권, 전라권에 눈(전남권은 비 또는 눈)이 오는 곳이 있겠습니다.(기온) 이번 예보기간 아침 기온은-12~2도, 낮 기온은-1~10도로 어제(11일, 아침최저기온-9~2도, 낮최고기온 7~12도)보다 낮겠습니다.(해상) 15일(화)~17일(목) 동해상에서는 물결이 1.0~4.0m로 매우 높게 일겠습니다.\n",
      "(강수) 15일(화) 오전에는 강원도와 충청권, 전라권에 눈(전남권은 비 또는 눈)이 오는 곳이 있겠습니다.(기온) 이번 예보기간 아침 기온은-12~2도, 낮 기온은-1~10도로 어제(11일, 아침최저기온-9~2도, 낮최고기온 7~12도)보다 낮겠습니다.(해상) 15일(화)~17일(목) 동해상에서는 물결이 1.0~4.0m로 매우 높게 일겠습니다.\n",
      "(강수) 15일(화) 오전에는 강원도와 충청권, 전라권에 눈(전남권은 비 또는 눈)이 오는 곳이 있겠습니다.(기온) 이번 예보기간 아침 기온은-12~2도, 낮 기온은-1~10도로 어제(11일, 아침최저기온-9~2도, 낮최고기온 7~12도)보다 낮겠습니다.(해상) 15일(화)~17일(목) 동해상에서는 물결이 1.0~4.0m로 매우 높게 일겠습니다.\n",
      "(강수) 15일(화) 오전에는 강원도와 충청권, 전라권에 눈(전남권은 비 또는 눈)이 오는 곳이 있겠습니다.(기온) 이번 예보기간 아침 기온은-12~2도, 낮 기온은-1~10도로 어제(11일, 아침최저기온-9~2도, 낮최고기온 7~12도)보다 낮겠습니다.(해상) 15일(화)~17일(목) 동해상에서는 물결이 1.0~4.0m로 매우 높게 일겠습니다.\n",
      "(강수) 15일(화) 오전에는 강원도와 충청권, 전라권에 눈(전남권은 비 또는 눈)이 오는 곳이 있겠습니다.(기온) 이번 예보기간 아침 기온은-12~2도, 낮 기온은-1~10도로 어제(11일, 아침최저기온-9~2도, 낮최고기온 7~12도)보다 낮겠습니다.(해상) 15일(화)~17일(목) 동해상에서는 물결이 1.0~4.0m로 매우 높게 일겠습니다.\n",
      "(강수) 15일(화) 오전에는 강원도와 충청권, 전라권에 눈(전남권은 비 또는 눈)이 오는 곳이 있겠습니다.(기온) 이번 예보기간 아침 기온은-12~2도, 낮 기온은-1~10도로 어제(11일, 아침최저기온-9~2도, 낮최고기온 7~12도)보다 낮겠습니다.(해상) 15일(화)~17일(목) 동해상에서는 물결이 1.0~4.0m로 매우 높게 일겠습니다.\n",
      "(강수) 15일(화) 오전에는 강원도와 충청권, 전라권에 눈(전남권은 비 또는 눈)이 오는 곳이 있겠습니다.(기온) 이번 예보기간 아침 기온은-12~2도, 낮 기온은-1~10도로 어제(11일, 아침최저기온-9~2도, 낮최고기온 7~12도)보다 낮겠습니다.(해상) 15일(화)~17일(목) 동해상에서는 물결이 1.0~4.0m로 매우 높게 일겠습니다.\n",
      "(강수) 15일(화) 오전에는 강원도와 충청권, 전라권에 눈(전남권은 비 또는 눈)이 오는 곳이 있겠습니다.(기온) 이번 예보기간 아침 기온은-12~2도, 낮 기온은-1~10도로 어제(11일, 아침최저기온-9~2도, 낮최고기온 7~12도)보다 낮겠습니다.(해상) 15일(화)~17일(목) 동해상에서는 물결이 1.0~4.0m로 매우 높게 일겠습니다.\n",
      "(강수) 15일(화) 오전에는 강원도와 충청권, 전라권에 눈(전남권은 비 또는 눈)이 오는 곳이 있겠습니다.(기온) 이번 예보기간 아침 기온은-12~2도, 낮 기온은-1~10도로 어제(11일, 아침최저기온-9~2도, 낮최고기온 7~12도)보다 낮겠습니다.(해상) 15일(화)~17일(목) 동해상에서는 물결이 1.0~4.0m로 매우 높게 일겠습니다.\n",
      "(강수) 15일(화) 오전에는 강원도와 충청권, 전라권에 눈(전남권은 비 또는 눈)이 오는 곳이 있겠습니다.(기온) 이번 예보기간 아침 기온은-12~2도, 낮 기온은-1~10도로 어제(11일, 아침최저기온-9~2도, 낮최고기온 7~12도)보다 낮겠습니다.(해상) 15일(화)~17일(목) 동해상에서는 물결이 1.0~4.0m로 매우 높게 일겠습니다.\n",
      "(강수) 15일(화) 오전에는 강원도와 충청권, 전라권에 눈(전남권은 비 또는 눈)이 오는 곳이 있겠습니다.(기온) 이번 예보기간 아침 기온은-12~2도, 낮 기온은-1~10도로 어제(11일, 아침최저기온-9~2도, 낮최고기온 7~12도)보다 낮겠습니다.(해상) 15일(화)~17일(목) 동해상에서는 물결이 1.0~4.0m로 매우 높게 일겠습니다.\n",
      "(강수) 15일(화) 오전에는 강원도와 충청권, 전라권에 눈(전남권은 비 또는 눈)이 오는 곳이 있겠습니다.(기온) 이번 예보기간 아침 기온은-12~2도, 낮 기온은-1~10도로 어제(11일, 아침최저기온-9~2도, 낮최고기온 7~12도)보다 낮겠습니다.(해상) 15일(화)~17일(목) 동해상에서는 물결이 1.0~4.0m로 매우 높게 일겠습니다.\n",
      "(강수) 15일(화) 오전에는 강원도와 충청권, 전라권에 눈(전남권은 비 또는 눈)이 오는 곳이 있겠습니다.(기온) 이번 예보기간 아침 기온은-12~2도, 낮 기온은-1~10도로 어제(11일, 아침최저기온-9~2도, 낮최고기온 7~12도)보다 낮겠습니다.(해상) 15일(화)~17일(목) 동해상에서는 물결이 1.0~4.0m로 매우 높게 일겠습니다.\n",
      "(강수) 15일(화) 오전에는 강원도와 충청권, 전라권에 눈(전남권은 비 또는 눈)이 오는 곳이 있겠습니다.(기온) 이번 예보기간 아침 기온은-12~2도, 낮 기온은-1~10도로 어제(11일, 아침최저기온-9~2도, 낮최고기온 7~12도)보다 낮겠습니다.(해상) 15일(화)~17일(목) 동해상에서는 물결이 1.0~4.0m로 매우 높게 일겠습니다.\n",
      "(강수) 15일(화) 오전에는 강원도와 충청권, 전라권에 눈(전남권은 비 또는 눈)이 오는 곳이 있겠습니다.(기온) 이번 예보기간 아침 기온은-12~2도, 낮 기온은-1~10도로 어제(11일, 아침최저기온-9~2도, 낮최고기온 7~12도)보다 낮겠습니다.(해상) 15일(화)~17일(목) 동해상에서는 물결이 1.0~4.0m로 매우 높게 일겠습니다.\n",
      "(강수) 15일(화) 오전에는 강원도와 충청권, 전라권에 눈(전남권은 비 또는 눈)이 오는 곳이 있겠습니다.(기온) 이번 예보기간 아침 기온은-12~2도, 낮 기온은-1~10도로 어제(11일, 아침최저기온-9~2도, 낮최고기온 7~12도)보다 낮겠습니다.(해상) 15일(화)~17일(목) 동해상에서는 물결이 1.0~4.0m로 매우 높게 일겠습니다.\n",
      "(강수) 15일(화) 오전에는 강원도와 충청권, 전라권에 눈(전남권은 비 또는 눈)이 오는 곳이 있겠습니다.(기온) 이번 예보기간 아침 기온은-12~2도, 낮 기온은-1~10도로 어제(11일, 아침최저기온-9~2도, 낮최고기온 7~12도)보다 낮겠습니다.(해상) 15일(화)~17일(목) 동해상에서는 물결이 1.0~4.0m로 매우 높게 일겠습니다.\n",
      "(강수) 15일(화) 오전에는 강원도와 충청권, 전라권에 눈(전남권은 비 또는 눈)이 오는 곳이 있겠습니다.(기온) 이번 예보기간 아침 기온은-12~2도, 낮 기온은-1~10도로 어제(11일, 아침최저기온-9~2도, 낮최고기온 7~12도)보다 낮겠습니다.(해상) 15일(화)~17일(목) 동해상에서는 물결이 1.0~4.0m로 매우 높게 일겠습니다.\n",
      "(강수) 15일(화) 오전에는 강원도와 충청권, 전라권에 눈(전남권은 비 또는 눈)이 오는 곳이 있겠습니다.(기온) 이번 예보기간 아침 기온은-12~2도, 낮 기온은-1~10도로 어제(11일, 아침최저기온-9~2도, 낮최고기온 7~12도)보다 낮겠습니다.(해상) 15일(화)~17일(목) 동해상에서는 물결이 1.0~4.0m로 매우 높게 일겠습니다.\n",
      "(강수) 15일(화) 오전에는 강원도와 충청권, 전라권에 눈(전남권은 비 또는 눈)이 오는 곳이 있겠습니다.(기온) 이번 예보기간 아침 기온은-12~2도, 낮 기온은-1~10도로 어제(11일, 아침최저기온-9~2도, 낮최고기온 7~12도)보다 낮겠습니다.(해상) 15일(화)~17일(목) 동해상에서는 물결이 1.0~4.0m로 매우 높게 일겠습니다.\n",
      "(강수) 15일(화) 오전에는 강원도와 충청권, 전라권에 눈(전남권은 비 또는 눈)이 오는 곳이 있겠습니다.(기온) 이번 예보기간 아침 기온은-12~2도, 낮 기온은-1~10도로 어제(11일, 아침최저기온-9~2도, 낮최고기온 7~12도)보다 낮겠습니다.(해상) 15일(화)~17일(목) 동해상에서는 물결이 1.0~4.0m로 매우 높게 일겠습니다.\n",
      "(강수) 15일(화) 오전에는 강원도와 충청권, 전라권에 눈(전남권은 비 또는 눈)이 오는 곳이 있겠습니다.(기온) 이번 예보기간 아침 기온은-12~2도, 낮 기온은-1~10도로 어제(11일, 아침최저기온-9~2도, 낮최고기온 7~12도)보다 낮겠습니다.(해상) 15일(화)~17일(목) 동해상에서는 물결이 1.0~4.0m로 매우 높게 일겠습니다.\n",
      "(강수) 15일(화) 오전에는 강원도와 충청권, 전라권에 눈(전남권은 비 또는 눈)이 오는 곳이 있겠습니다.(기온) 이번 예보기간 아침 기온은-12~2도, 낮 기온은-1~10도로 어제(11일, 아침최저기온-9~2도, 낮최고기온 7~12도)보다 낮겠습니다.(해상) 15일(화)~17일(목) 동해상에서는 물결이 1.0~4.0m로 매우 높게 일겠습니다.\n",
      "(강수) 15일(화) 오전에는 강원도와 충청권, 전라권에 눈(전남권은 비 또는 눈)이 오는 곳이 있겠습니다.(기온) 이번 예보기간 아침 기온은-12~2도, 낮 기온은-1~10도로 어제(11일, 아침최저기온-9~2도, 낮최고기온 7~12도)보다 낮겠습니다.(해상) 15일(화)~17일(목) 동해상에서는 물결이 1.0~4.0m로 매우 높게 일겠습니다.\n",
      "(강수) 15일(화) 오전에는 강원도와 충청권, 전라권에 눈(전남권은 비 또는 눈)이 오는 곳이 있겠습니다.(기온) 이번 예보기간 아침 기온은-12~2도, 낮 기온은-1~10도로 어제(11일, 아침최저기온-9~2도, 낮최고기온 7~12도)보다 낮겠습니다.(해상) 15일(화)~17일(목) 동해상에서는 물결이 1.0~4.0m로 매우 높게 일겠습니다.\n",
      "(강수) 15일(화) 오전에는 강원도와 충청권, 전라권에 눈(전남권은 비 또는 눈)이 오는 곳이 있겠습니다.(기온) 이번 예보기간 아침 기온은-12~2도, 낮 기온은-1~10도로 어제(11일, 아침최저기온-9~2도, 낮최고기온 7~12도)보다 낮겠습니다.(해상) 15일(화)~17일(목) 동해상에서는 물결이 1.0~4.0m로 매우 높게 일겠습니다.\n",
      "(강수) 15일(화) 오전에는 강원도와 충청권, 전라권에 눈(전남권은 비 또는 눈)이 오는 곳이 있겠습니다.(기온) 이번 예보기간 아침 기온은-12~2도, 낮 기온은-1~10도로 어제(11일, 아침최저기온-9~2도, 낮최고기온 7~12도)보다 낮겠습니다.(해상) 15일(화)~17일(목) 동해상에서는 물결이 1.0~4.0m로 매우 높게 일겠습니다.\n",
      "(강수) 15일(화) 오전에는 강원도와 충청권, 전라권에 눈(전남권은 비 또는 눈)이 오는 곳이 있겠습니다.(기온) 이번 예보기간 아침 기온은-12~2도, 낮 기온은-1~10도로 어제(11일, 아침최저기온-9~2도, 낮최고기온 7~12도)보다 낮겠습니다.(해상) 15일(화)~17일(목) 동해상에서는 물결이 1.0~4.0m로 매우 높게 일겠습니다.\n",
      "(강수) 15일(화) 오전에는 강원도와 충청권, 전라권에 눈(전남권은 비 또는 눈)이 오는 곳이 있겠습니다.(기온) 이번 예보기간 아침 기온은-12~2도, 낮 기온은-1~10도로 어제(11일, 아침최저기온-9~2도, 낮최고기온 7~12도)보다 낮겠습니다.(해상) 15일(화)~17일(목) 동해상에서는 물결이 1.0~4.0m로 매우 높게 일겠습니다.\n",
      "(강수) 15일(화) 오전에는 강원도와 충청권, 전라권에 눈(전남권은 비 또는 눈)이 오는 곳이 있겠습니다.(기온) 이번 예보기간 아침 기온은-12~2도, 낮 기온은-1~10도로 어제(11일, 아침최저기온-9~2도, 낮최고기온 7~12도)보다 낮겠습니다.(해상) 15일(화)~17일(목) 동해상에서는 물결이 1.0~4.0m로 매우 높게 일겠습니다.\n",
      "(강수) 15일(화) 오전에는 강원도와 충청권, 전라권에 눈(전남권은 비 또는 눈)이 오는 곳이 있겠습니다.(기온) 이번 예보기간 아침 기온은-12~2도, 낮 기온은-1~10도로 어제(11일, 아침최저기온-9~2도, 낮최고기온 7~12도)보다 낮겠습니다.(해상) 15일(화)~17일(목) 동해상에서는 물결이 1.0~4.0m로 매우 높게 일겠습니다.\n",
      "(강수) 15일(화) 오전에는 강원도와 충청권, 전라권에 눈(전남권은 비 또는 눈)이 오는 곳이 있겠습니다.(기온) 이번 예보기간 아침 기온은-12~2도, 낮 기온은-1~10도로 어제(11일, 아침최저기온-9~2도, 낮최고기온 7~12도)보다 낮겠습니다.(해상) 15일(화)~17일(목) 동해상에서는 물결이 1.0~4.0m로 매우 높게 일겠습니다.\n",
      "(강수) 15일(화) 오전에는 강원도와 충청권, 전라권에 눈(전남권은 비 또는 눈)이 오는 곳이 있겠습니다.(기온) 이번 예보기간 아침 기온은-12~2도, 낮 기온은-1~10도로 어제(11일, 아침최저기온-9~2도, 낮최고기온 7~12도)보다 낮겠습니다.(해상) 15일(화)~17일(목) 동해상에서는 물결이 1.0~4.0m로 매우 높게 일겠습니다.\n",
      "(강수) 15일(화) 오전에는 강원도와 충청권, 전라권에 눈(전남권은 비 또는 눈)이 오는 곳이 있겠습니다.(기온) 이번 예보기간 아침 기온은-12~2도, 낮 기온은-1~10도로 어제(11일, 아침최저기온-9~2도, 낮최고기온 7~12도)보다 낮겠습니다.(해상) 15일(화)~17일(목) 동해상에서는 물결이 1.0~4.0m로 매우 높게 일겠습니다.\n",
      "(강수) 15일(화) 오전에는 강원도와 충청권, 전라권에 눈(전남권은 비 또는 눈)이 오는 곳이 있겠습니다.(기온) 이번 예보기간 아침 기온은-12~2도, 낮 기온은-1~10도로 어제(11일, 아침최저기온-9~2도, 낮최고기온 7~12도)보다 낮겠습니다.(해상) 15일(화)~17일(목) 동해상에서는 물결이 1.0~4.0m로 매우 높게 일겠습니다.\n",
      "(강수) 15일(화) 오전에는 강원도와 충청권, 전라권에 눈(전남권은 비 또는 눈)이 오는 곳이 있겠습니다.(기온) 이번 예보기간 아침 기온은-12~2도, 낮 기온은-1~10도로 어제(11일, 아침최저기온-9~2도, 낮최고기온 7~12도)보다 낮겠습니다.(해상) 15일(화)~17일(목) 동해상에서는 물결이 1.0~4.0m로 매우 높게 일겠습니다.\n",
      "(강수) 15일(화) 오전에는 강원도와 충청권, 전라권에 눈(전남권은 비 또는 눈)이 오는 곳이 있겠습니다.(기온) 이번 예보기간 아침 기온은-12~2도, 낮 기온은-1~10도로 어제(11일, 아침최저기온-9~2도, 낮최고기온 7~12도)보다 낮겠습니다.(해상) 15일(화)~17일(목) 동해상에서는 물결이 1.0~4.0m로 매우 높게 일겠습니다.\n",
      "(강수) 15일(화) 오전에는 강원도와 충청권, 전라권에 눈(전남권은 비 또는 눈)이 오는 곳이 있겠습니다.(기온) 이번 예보기간 아침 기온은-12~2도, 낮 기온은-1~10도로 어제(11일, 아침최저기온-9~2도, 낮최고기온 7~12도)보다 낮겠습니다.(해상) 15일(화)~17일(목) 동해상에서는 물결이 1.0~4.0m로 매우 높게 일겠습니다.\n",
      "(강수) 15일(화) 오전에는 강원도와 충청권, 전라권에 눈(전남권은 비 또는 눈)이 오는 곳이 있겠습니다.(기온) 이번 예보기간 아침 기온은-12~2도, 낮 기온은-1~10도로 어제(11일, 아침최저기온-9~2도, 낮최고기온 7~12도)보다 낮겠습니다.(해상) 15일(화)~17일(목) 동해상에서는 물결이 1.0~4.0m로 매우 높게 일겠습니다.\n",
      "(강수) 15일(화) 오전에는 강원도와 충청권, 전라권에 눈(전남권은 비 또는 눈)이 오는 곳이 있겠습니다.(기온) 이번 예보기간 아침 기온은-12~2도, 낮 기온은-1~10도로 어제(11일, 아침최저기온-9~2도, 낮최고기온 7~12도)보다 낮겠습니다.(해상) 15일(화)~17일(목) 동해상에서는 물결이 1.0~4.0m로 매우 높게 일겠습니다.\n",
      "(강수) 15일(화) 오전에는 강원도와 충청권, 전라권에 눈(전남권은 비 또는 눈)이 오는 곳이 있겠습니다.(기온) 이번 예보기간 아침 기온은-12~2도, 낮 기온은-1~10도로 어제(11일, 아침최저기온-9~2도, 낮최고기온 7~12도)보다 낮겠습니다.(해상) 15일(화)~17일(목) 동해상에서는 물결이 1.0~4.0m로 매우 높게 일겠습니다.\n",
      "(강수) 15일(화) 오전에는 강원도와 충청권, 전라권에 눈(전남권은 비 또는 눈)이 오는 곳이 있겠습니다.(기온) 이번 예보기간 아침 기온은-12~2도, 낮 기온은-1~10도로 어제(11일, 아침최저기온-9~2도, 낮최고기온 7~12도)보다 낮겠습니다.(해상) 15일(화)~17일(목) 동해상에서는 물결이 1.0~4.0m로 매우 높게 일겠습니다.\n",
      "(강수) 15일(화) 오전에는 강원도와 충청권, 전라권에 눈(전남권은 비 또는 눈)이 오는 곳이 있겠습니다.(기온) 이번 예보기간 아침 기온은-12~2도, 낮 기온은-1~10도로 어제(11일, 아침최저기온-9~2도, 낮최고기온 7~12도)보다 낮겠습니다.(해상) 15일(화)~17일(목) 동해상에서는 물결이 1.0~4.0m로 매우 높게 일겠습니다.\n",
      "(강수) 15일(화) 오전에는 강원도와 충청권, 전라권에 눈(전남권은 비 또는 눈)이 오는 곳이 있겠습니다.(기온) 이번 예보기간 아침 기온은-12~2도, 낮 기온은-1~10도로 어제(11일, 아침최저기온-9~2도, 낮최고기온 7~12도)보다 낮겠습니다.(해상) 15일(화)~17일(목) 동해상에서는 물결이 1.0~4.0m로 매우 높게 일겠습니다.\n",
      "(강수) 15일(화) 오전에는 강원도와 충청권, 전라권에 눈(전남권은 비 또는 눈)이 오는 곳이 있겠습니다.(기온) 이번 예보기간 아침 기온은-12~2도, 낮 기온은-1~10도로 어제(11일, 아침최저기온-9~2도, 낮최고기온 7~12도)보다 낮겠습니다.(해상) 15일(화)~17일(목) 동해상에서는 물결이 1.0~4.0m로 매우 높게 일겠습니다.\n",
      "(강수) 15일(화) 오전에는 강원도와 충청권, 전라권에 눈(전남권은 비 또는 눈)이 오는 곳이 있겠습니다.(기온) 이번 예보기간 아침 기온은-12~2도, 낮 기온은-1~10도로 어제(11일, 아침최저기온-9~2도, 낮최고기온 7~12도)보다 낮겠습니다.(해상) 15일(화)~17일(목) 동해상에서는 물결이 1.0~4.0m로 매우 높게 일겠습니다.\n",
      "(강수) 15일(화) 오전에는 강원도와 충청권, 전라권에 눈(전남권은 비 또는 눈)이 오는 곳이 있겠습니다.(기온) 이번 예보기간 아침 기온은-12~2도, 낮 기온은-1~10도로 어제(11일, 아침최저기온-9~2도, 낮최고기온 7~12도)보다 낮겠습니다.(해상) 15일(화)~17일(목) 동해상에서는 물결이 1.0~4.0m로 매우 높게 일겠습니다.\n",
      "(강수) 15일(화) 오전에는 강원도와 충청권, 전라권에 눈(전남권은 비 또는 눈)이 오는 곳이 있겠습니다.(기온) 이번 예보기간 아침 기온은-12~2도, 낮 기온은-1~10도로 어제(11일, 아침최저기온-9~2도, 낮최고기온 7~12도)보다 낮겠습니다.(해상) 15일(화)~17일(목) 동해상에서는 물결이 1.0~4.0m로 매우 높게 일겠습니다.\n",
      "(강수) 15일(화) 오전에는 강원도와 충청권, 전라권에 눈(전남권은 비 또는 눈)이 오는 곳이 있겠습니다.(기온) 이번 예보기간 아침 기온은-12~2도, 낮 기온은-1~10도로 어제(11일, 아침최저기온-9~2도, 낮최고기온 7~12도)보다 낮겠습니다.(해상) 15일(화)~17일(목) 동해상에서는 물결이 1.0~4.0m로 매우 높게 일겠습니다.\n",
      "(강수) 15일(화) 오전에는 강원도와 충청권, 전라권에 눈(전남권은 비 또는 눈)이 오는 곳이 있겠습니다.(기온) 이번 예보기간 아침 기온은-12~2도, 낮 기온은-1~10도로 어제(11일, 아침최저기온-9~2도, 낮최고기온 7~12도)보다 낮겠습니다.(해상) 15일(화)~17일(목) 동해상에서는 물결이 1.0~4.0m로 매우 높게 일겠습니다.\n",
      "(강수) 15일(화) 오전에는 강원도와 충청권, 전라권에 눈(전남권은 비 또는 눈)이 오는 곳이 있겠습니다.(기온) 이번 예보기간 아침 기온은-12~2도, 낮 기온은-1~10도로 어제(11일, 아침최저기온-9~2도, 낮최고기온 7~12도)보다 낮겠습니다.(해상) 15일(화)~17일(목) 동해상에서는 물결이 1.0~4.0m로 매우 높게 일겠습니다.\n",
      "(강수) 15일(화) 오전에는 강원도와 충청권, 전라권에 눈(전남권은 비 또는 눈)이 오는 곳이 있겠습니다.(기온) 이번 예보기간 아침 기온은-12~2도, 낮 기온은-1~10도로 어제(11일, 아침최저기온-9~2도, 낮최고기온 7~12도)보다 낮겠습니다.(해상) 15일(화)~17일(목) 동해상에서는 물결이 1.0~4.0m로 매우 높게 일겠습니다.\n",
      "(강수) 15일(화) 오전에는 강원도와 충청권, 전라권에 눈(전남권은 비 또는 눈)이 오는 곳이 있겠습니다.(기온) 이번 예보기간 아침 기온은-12~2도, 낮 기온은-1~10도로 어제(11일, 아침최저기온-9~2도, 낮최고기온 7~12도)보다 낮겠습니다.(해상) 15일(화)~17일(목) 동해상에서는 물결이 1.0~4.0m로 매우 높게 일겠습니다.\n",
      "(강수) 15일(화) 오전에는 강원도와 충청권, 전라권에 눈(전남권은 비 또는 눈)이 오는 곳이 있겠습니다.(기온) 이번 예보기간 아침 기온은-12~2도, 낮 기온은-1~10도로 어제(11일, 아침최저기온-9~2도, 낮최고기온 7~12도)보다 낮겠습니다.(해상) 15일(화)~17일(목) 동해상에서는 물결이 1.0~4.0m로 매우 높게 일겠습니다.\n",
      "(강수) 15일(화) 오전에는 강원도와 충청권, 전라권에 눈(전남권은 비 또는 눈)이 오는 곳이 있겠습니다.(기온) 이번 예보기간 아침 기온은-12~2도, 낮 기온은-1~10도로 어제(11일, 아침최저기온-9~2도, 낮최고기온 7~12도)보다 낮겠습니다.(해상) 15일(화)~17일(목) 동해상에서는 물결이 1.0~4.0m로 매우 높게 일겠습니다.\n",
      "(강수) 15일(화) 오전에는 강원도와 충청권, 전라권에 눈(전남권은 비 또는 눈)이 오는 곳이 있겠습니다.(기온) 이번 예보기간 아침 기온은-12~2도, 낮 기온은-1~10도로 어제(11일, 아침최저기온-9~2도, 낮최고기온 7~12도)보다 낮겠습니다.(해상) 15일(화)~17일(목) 동해상에서는 물결이 1.0~4.0m로 매우 높게 일겠습니다.\n",
      "(강수) 15일(화) 오전에는 강원도와 충청권, 전라권에 눈(전남권은 비 또는 눈)이 오는 곳이 있겠습니다.(기온) 이번 예보기간 아침 기온은-12~2도, 낮 기온은-1~10도로 어제(11일, 아침최저기온-9~2도, 낮최고기온 7~12도)보다 낮겠습니다.(해상) 15일(화)~17일(목) 동해상에서는 물결이 1.0~4.0m로 매우 높게 일겠습니다.\n",
      "(강수) 15일(화) 오전에는 강원도와 충청권, 전라권에 눈(전남권은 비 또는 눈)이 오는 곳이 있겠습니다.(기온) 이번 예보기간 아침 기온은-12~2도, 낮 기온은-1~10도로 어제(11일, 아침최저기온-9~2도, 낮최고기온 7~12도)보다 낮겠습니다.(해상) 15일(화)~17일(목) 동해상에서는 물결이 1.0~4.0m로 매우 높게 일겠습니다.\n",
      "(강수) 15일(화) 오전에는 강원도와 충청권, 전라권에 눈(전남권은 비 또는 눈)이 오는 곳이 있겠습니다.(기온) 이번 예보기간 아침 기온은-12~2도, 낮 기온은-1~10도로 어제(11일, 아침최저기온-9~2도, 낮최고기온 7~12도)보다 낮겠습니다.(해상) 15일(화)~17일(목) 동해상에서는 물결이 1.0~4.0m로 매우 높게 일겠습니다.\n",
      "(강수) 15일(화) 오전에는 강원도와 충청권, 전라권에 눈(전남권은 비 또는 눈)이 오는 곳이 있겠습니다.(기온) 이번 예보기간 아침 기온은-12~2도, 낮 기온은-1~10도로 어제(11일, 아침최저기온-9~2도, 낮최고기온 7~12도)보다 낮겠습니다.(해상) 15일(화)~17일(목) 동해상에서는 물결이 1.0~4.0m로 매우 높게 일겠습니다.\n",
      "(강수) 15일(화) 오전에는 강원도와 충청권, 전라권에 눈(전남권은 비 또는 눈)이 오는 곳이 있겠습니다.(기온) 이번 예보기간 아침 기온은-12~2도, 낮 기온은-1~10도로 어제(11일, 아침최저기온-9~2도, 낮최고기온 7~12도)보다 낮겠습니다.(해상) 15일(화)~17일(목) 동해상에서는 물결이 1.0~4.0m로 매우 높게 일겠습니다.\n",
      "(강수) 15일(화) 오전에는 강원도와 충청권, 전라권에 눈(전남권은 비 또는 눈)이 오는 곳이 있겠습니다.(기온) 이번 예보기간 아침 기온은-12~2도, 낮 기온은-1~10도로 어제(11일, 아침최저기온-9~2도, 낮최고기온 7~12도)보다 낮겠습니다.(해상) 15일(화)~17일(목) 동해상에서는 물결이 1.0~4.0m로 매우 높게 일겠습니다.\n",
      "(강수) 15일(화) 오전에는 강원도와 충청권, 전라권에 눈(전남권은 비 또는 눈)이 오는 곳이 있겠습니다.(기온) 이번 예보기간 아침 기온은-12~2도, 낮 기온은-1~10도로 어제(11일, 아침최저기온-9~2도, 낮최고기온 7~12도)보다 낮겠습니다.(해상) 15일(화)~17일(목) 동해상에서는 물결이 1.0~4.0m로 매우 높게 일겠습니다.\n",
      "(강수) 15일(화) 오전에는 강원도와 충청권, 전라권에 눈(전남권은 비 또는 눈)이 오는 곳이 있겠습니다.(기온) 이번 예보기간 아침 기온은-12~2도, 낮 기온은-1~10도로 어제(11일, 아침최저기온-9~2도, 낮최고기온 7~12도)보다 낮겠습니다.(해상) 15일(화)~17일(목) 동해상에서는 물결이 1.0~4.0m로 매우 높게 일겠습니다.\n",
      "(강수) 15일(화) 오전에는 강원도와 충청권, 전라권에 눈(전남권은 비 또는 눈)이 오는 곳이 있겠습니다.(기온) 이번 예보기간 아침 기온은-12~2도, 낮 기온은-1~10도로 어제(11일, 아침최저기온-9~2도, 낮최고기온 7~12도)보다 낮겠습니다.(해상) 15일(화)~17일(목) 동해상에서는 물결이 1.0~4.0m로 매우 높게 일겠습니다.\n",
      "(강수) 15일(화) 오전에는 강원도와 충청권, 전라권에 눈(전남권은 비 또는 눈)이 오는 곳이 있겠습니다.(기온) 이번 예보기간 아침 기온은-12~2도, 낮 기온은-1~10도로 어제(11일, 아침최저기온-9~2도, 낮최고기온 7~12도)보다 낮겠습니다.(해상) 15일(화)~17일(목) 동해상에서는 물결이 1.0~4.0m로 매우 높게 일겠습니다.\n",
      "(강수) 15일(화) 오전에는 강원도와 충청권, 전라권에 눈(전남권은 비 또는 눈)이 오는 곳이 있겠습니다.(기온) 이번 예보기간 아침 기온은-12~2도, 낮 기온은-1~10도로 어제(11일, 아침최저기온-9~2도, 낮최고기온 7~12도)보다 낮겠습니다.(해상) 15일(화)~17일(목) 동해상에서는 물결이 1.0~4.0m로 매우 높게 일겠습니다.\n",
      "(강수) 15일(화) 오전에는 강원도와 충청권, 전라권에 눈(전남권은 비 또는 눈)이 오는 곳이 있겠습니다.(기온) 이번 예보기간 아침 기온은-12~2도, 낮 기온은-1~10도로 어제(11일, 아침최저기온-9~2도, 낮최고기온 7~12도)보다 낮겠습니다.(해상) 15일(화)~17일(목) 동해상에서는 물결이 1.0~4.0m로 매우 높게 일겠습니다.\n",
      "(강수) 15일(화) 오전에는 강원도와 충청권, 전라권에 눈(전남권은 비 또는 눈)이 오는 곳이 있겠습니다.(기온) 이번 예보기간 아침 기온은-12~2도, 낮 기온은-1~10도로 어제(11일, 아침최저기온-9~2도, 낮최고기온 7~12도)보다 낮겠습니다.(해상) 15일(화)~17일(목) 동해상에서는 물결이 1.0~4.0m로 매우 높게 일겠습니다.\n",
      "(강수) 15일(화) 오전에는 강원도와 충청권, 전라권에 눈(전남권은 비 또는 눈)이 오는 곳이 있겠습니다.(기온) 이번 예보기간 아침 기온은-12~2도, 낮 기온은-1~10도로 어제(11일, 아침최저기온-9~2도, 낮최고기온 7~12도)보다 낮겠습니다.(해상) 15일(화)~17일(목) 동해상에서는 물결이 1.0~4.0m로 매우 높게 일겠습니다.\n",
      "(강수) 15일(화) 오전에는 강원도와 충청권, 전라권에 눈(전남권은 비 또는 눈)이 오는 곳이 있겠습니다.(기온) 이번 예보기간 아침 기온은-12~2도, 낮 기온은-1~10도로 어제(11일, 아침최저기온-9~2도, 낮최고기온 7~12도)보다 낮겠습니다.(해상) 15일(화)~17일(목) 동해상에서는 물결이 1.0~4.0m로 매우 높게 일겠습니다.\n",
      "(강수) 15일(화) 오전에는 강원도와 충청권, 전라권에 눈(전남권은 비 또는 눈)이 오는 곳이 있겠습니다.(기온) 이번 예보기간 아침 기온은-12~2도, 낮 기온은-1~10도로 어제(11일, 아침최저기온-9~2도, 낮최고기온 7~12도)보다 낮겠습니다.(해상) 15일(화)~17일(목) 동해상에서는 물결이 1.0~4.0m로 매우 높게 일겠습니다.\n",
      "(강수) 15일(화) 오전에는 강원도와 충청권, 전라권에 눈(전남권은 비 또는 눈)이 오는 곳이 있겠습니다.(기온) 이번 예보기간 아침 기온은-12~2도, 낮 기온은-1~10도로 어제(11일, 아침최저기온-9~2도, 낮최고기온 7~12도)보다 낮겠습니다.(해상) 15일(화)~17일(목) 동해상에서는 물결이 1.0~4.0m로 매우 높게 일겠습니다.\n",
      "(강수) 15일(화) 오전에는 강원도와 충청권, 전라권에 눈(전남권은 비 또는 눈)이 오는 곳이 있겠습니다.(기온) 이번 예보기간 아침 기온은-12~2도, 낮 기온은-1~10도로 어제(11일, 아침최저기온-9~2도, 낮최고기온 7~12도)보다 낮겠습니다.(해상) 15일(화)~17일(목) 동해상에서는 물결이 1.0~4.0m로 매우 높게 일겠습니다.\n",
      "(강수) 15일(화) 오전에는 강원도와 충청권, 전라권에 눈(전남권은 비 또는 눈)이 오는 곳이 있겠습니다.(기온) 이번 예보기간 아침 기온은-12~2도, 낮 기온은-1~10도로 어제(11일, 아침최저기온-9~2도, 낮최고기온 7~12도)보다 낮겠습니다.(해상) 15일(화)~17일(목) 동해상에서는 물결이 1.0~4.0m로 매우 높게 일겠습니다.\n",
      "(강수) 15일(화) 오전에는 강원도와 충청권, 전라권에 눈(전남권은 비 또는 눈)이 오는 곳이 있겠습니다.(기온) 이번 예보기간 아침 기온은-12~2도, 낮 기온은-1~10도로 어제(11일, 아침최저기온-9~2도, 낮최고기온 7~12도)보다 낮겠습니다.(해상) 15일(화)~17일(목) 동해상에서는 물결이 1.0~4.0m로 매우 높게 일겠습니다.\n",
      "(강수) 15일(화) 오전에는 강원도와 충청권, 전라권에 눈(전남권은 비 또는 눈)이 오는 곳이 있겠습니다.(기온) 이번 예보기간 아침 기온은-12~2도, 낮 기온은-1~10도로 어제(11일, 아침최저기온-9~2도, 낮최고기온 7~12도)보다 낮겠습니다.(해상) 15일(화)~17일(목) 동해상에서는 물결이 1.0~4.0m로 매우 높게 일겠습니다.\n",
      "(강수) 15일(화) 오전에는 강원도와 충청권, 전라권에 눈(전남권은 비 또는 눈)이 오는 곳이 있겠습니다.(기온) 이번 예보기간 아침 기온은-12~2도, 낮 기온은-1~10도로 어제(11일, 아침최저기온-9~2도, 낮최고기온 7~12도)보다 낮겠습니다.(해상) 15일(화)~17일(목) 동해상에서는 물결이 1.0~4.0m로 매우 높게 일겠습니다.\n",
      "(강수) 15일(화) 오전에는 강원도와 충청권, 전라권에 눈(전남권은 비 또는 눈)이 오는 곳이 있겠습니다.(기온) 이번 예보기간 아침 기온은-12~2도, 낮 기온은-1~10도로 어제(11일, 아침최저기온-9~2도, 낮최고기온 7~12도)보다 낮겠습니다.(해상) 15일(화)~17일(목) 동해상에서는 물결이 1.0~4.0m로 매우 높게 일겠습니다.\n",
      "(강수) 15일(화) 오전에는 강원도와 충청권, 전라권에 눈(전남권은 비 또는 눈)이 오는 곳이 있겠습니다.(기온) 이번 예보기간 아침 기온은-12~2도, 낮 기온은-1~10도로 어제(11일, 아침최저기온-9~2도, 낮최고기온 7~12도)보다 낮겠습니다.(해상) 15일(화)~17일(목) 동해상에서는 물결이 1.0~4.0m로 매우 높게 일겠습니다.\n",
      "(강수) 15일(화) 오전에는 강원도와 충청권, 전라권에 눈(전남권은 비 또는 눈)이 오는 곳이 있겠습니다.(기온) 이번 예보기간 아침 기온은-12~2도, 낮 기온은-1~10도로 어제(11일, 아침최저기온-9~2도, 낮최고기온 7~12도)보다 낮겠습니다.(해상) 15일(화)~17일(목) 동해상에서는 물결이 1.0~4.0m로 매우 높게 일겠습니다.\n",
      "(강수) 15일(화) 오전에는 강원도와 충청권, 전라권에 눈(전남권은 비 또는 눈)이 오는 곳이 있겠습니다.(기온) 이번 예보기간 아침 기온은-12~2도, 낮 기온은-1~10도로 어제(11일, 아침최저기온-9~2도, 낮최고기온 7~12도)보다 낮겠습니다.(해상) 15일(화)~17일(목) 동해상에서는 물결이 1.0~4.0m로 매우 높게 일겠습니다.\n",
      "(강수) 15일(화) 오전에는 강원도와 충청권, 전라권에 눈(전남권은 비 또는 눈)이 오는 곳이 있겠습니다.(기온) 이번 예보기간 아침 기온은-12~2도, 낮 기온은-1~10도로 어제(11일, 아침최저기온-9~2도, 낮최고기온 7~12도)보다 낮겠습니다.(해상) 15일(화)~17일(목) 동해상에서는 물결이 1.0~4.0m로 매우 높게 일겠습니다.\n",
      "(강수) 15일(화) 오전에는 강원도와 충청권, 전라권에 눈(전남권은 비 또는 눈)이 오는 곳이 있겠습니다.(기온) 이번 예보기간 아침 기온은-12~2도, 낮 기온은-1~10도로 어제(11일, 아침최저기온-9~2도, 낮최고기온 7~12도)보다 낮겠습니다.(해상) 15일(화)~17일(목) 동해상에서는 물결이 1.0~4.0m로 매우 높게 일겠습니다.\n",
      "(강수) 15일(화) 오전에는 강원도와 충청권, 전라권에 눈(전남권은 비 또는 눈)이 오는 곳이 있겠습니다.(기온) 이번 예보기간 아침 기온은-12~2도, 낮 기온은-1~10도로 어제(11일, 아침최저기온-9~2도, 낮최고기온 7~12도)보다 낮겠습니다.(해상) 15일(화)~17일(목) 동해상에서는 물결이 1.0~4.0m로 매우 높게 일겠습니다.\n",
      "(강수) 15일(화) 오전에는 강원도와 충청권, 전라권에 눈(전남권은 비 또는 눈)이 오는 곳이 있겠습니다.(기온) 이번 예보기간 아침 기온은-12~2도, 낮 기온은-1~10도로 어제(11일, 아침최저기온-9~2도, 낮최고기온 7~12도)보다 낮겠습니다.(해상) 15일(화)~17일(목) 동해상에서는 물결이 1.0~4.0m로 매우 높게 일겠습니다.\n",
      "(강수) 15일(화) 오전에는 강원도와 충청권, 전라권에 눈(전남권은 비 또는 눈)이 오는 곳이 있겠습니다.(기온) 이번 예보기간 아침 기온은-12~2도, 낮 기온은-1~10도로 어제(11일, 아침최저기온-9~2도, 낮최고기온 7~12도)보다 낮겠습니다.(해상) 15일(화)~17일(목) 동해상에서는 물결이 1.0~4.0m로 매우 높게 일겠습니다.\n",
      "(강수) 15일(화) 오전에는 강원도와 충청권, 전라권에 눈(전남권은 비 또는 눈)이 오는 곳이 있겠습니다.(기온) 이번 예보기간 아침 기온은-12~2도, 낮 기온은-1~10도로 어제(11일, 아침최저기온-9~2도, 낮최고기온 7~12도)보다 낮겠습니다.(해상) 15일(화)~17일(목) 동해상에서는 물결이 1.0~4.0m로 매우 높게 일겠습니다.\n",
      "(강수) 15일(화) 오전에는 강원도와 충청권, 전라권에 눈(전남권은 비 또는 눈)이 오는 곳이 있겠습니다.(기온) 이번 예보기간 아침 기온은-12~2도, 낮 기온은-1~10도로 어제(11일, 아침최저기온-9~2도, 낮최고기온 7~12도)보다 낮겠습니다.(해상) 15일(화)~17일(목) 동해상에서는 물결이 1.0~4.0m로 매우 높게 일겠습니다.\n",
      "(강수) 15일(화) 오전에는 강원도와 충청권, 전라권에 눈(전남권은 비 또는 눈)이 오는 곳이 있겠습니다.(기온) 이번 예보기간 아침 기온은-12~2도, 낮 기온은-1~10도로 어제(11일, 아침최저기온-9~2도, 낮최고기온 7~12도)보다 낮겠습니다.(해상) 15일(화)~17일(목) 동해상에서는 물결이 1.0~4.0m로 매우 높게 일겠습니다.\n",
      "(강수) 15일(화) 오전에는 강원도와 충청권, 전라권에 눈(전남권은 비 또는 눈)이 오는 곳이 있겠습니다.(기온) 이번 예보기간 아침 기온은-12~2도, 낮 기온은-1~10도로 어제(11일, 아침최저기온-9~2도, 낮최고기온 7~12도)보다 낮겠습니다.(해상) 15일(화)~17일(목) 동해상에서는 물결이 1.0~4.0m로 매우 높게 일겠습니다.\n",
      "(강수) 15일(화) 오전에는 강원도와 충청권, 전라권에 눈(전남권은 비 또는 눈)이 오는 곳이 있겠습니다.(기온) 이번 예보기간 아침 기온은-12~2도, 낮 기온은-1~10도로 어제(11일, 아침최저기온-9~2도, 낮최고기온 7~12도)보다 낮겠습니다.(해상) 15일(화)~17일(목) 동해상에서는 물결이 1.0~4.0m로 매우 높게 일겠습니다.\n",
      "(강수) 15일(화) 오전에는 강원도와 충청권, 전라권에 눈(전남권은 비 또는 눈)이 오는 곳이 있겠습니다.(기온) 이번 예보기간 아침 기온은-12~2도, 낮 기온은-1~10도로 어제(11일, 아침최저기온-9~2도, 낮최고기온 7~12도)보다 낮겠습니다.(해상) 15일(화)~17일(목) 동해상에서는 물결이 1.0~4.0m로 매우 높게 일겠습니다.\n",
      "(강수) 15일(화) 오전에는 강원도와 충청권, 전라권에 눈(전남권은 비 또는 눈)이 오는 곳이 있겠습니다.(기온) 이번 예보기간 아침 기온은-12~2도, 낮 기온은-1~10도로 어제(11일, 아침최저기온-9~2도, 낮최고기온 7~12도)보다 낮겠습니다.(해상) 15일(화)~17일(목) 동해상에서는 물결이 1.0~4.0m로 매우 높게 일겠습니다.\n",
      "(강수) 15일(화) 오전에는 강원도와 충청권, 전라권에 눈(전남권은 비 또는 눈)이 오는 곳이 있겠습니다.(기온) 이번 예보기간 아침 기온은-12~2도, 낮 기온은-1~10도로 어제(11일, 아침최저기온-9~2도, 낮최고기온 7~12도)보다 낮겠습니다.(해상) 15일(화)~17일(목) 동해상에서는 물결이 1.0~4.0m로 매우 높게 일겠습니다.\n",
      "(강수) 15일(화) 오전에는 강원도와 충청권, 전라권에 눈(전남권은 비 또는 눈)이 오는 곳이 있겠습니다.(기온) 이번 예보기간 아침 기온은-12~2도, 낮 기온은-1~10도로 어제(11일, 아침최저기온-9~2도, 낮최고기온 7~12도)보다 낮겠습니다.(해상) 15일(화)~17일(목) 동해상에서는 물결이 1.0~4.0m로 매우 높게 일겠습니다.\n",
      "(강수) 15일(화) 오전에는 강원도와 충청권, 전라권에 눈(전남권은 비 또는 눈)이 오는 곳이 있겠습니다.(기온) 이번 예보기간 아침 기온은-12~2도, 낮 기온은-1~10도로 어제(11일, 아침최저기온-9~2도, 낮최고기온 7~12도)보다 낮겠습니다.(해상) 15일(화)~17일(목) 동해상에서는 물결이 1.0~4.0m로 매우 높게 일겠습니다.\n",
      "(강수) 15일(화) 오전에는 강원도와 충청권, 전라권에 눈(전남권은 비 또는 눈)이 오는 곳이 있겠습니다.(기온) 이번 예보기간 아침 기온은-12~2도, 낮 기온은-1~10도로 어제(11일, 아침최저기온-9~2도, 낮최고기온 7~12도)보다 낮겠습니다.(해상) 15일(화)~17일(목) 동해상에서는 물결이 1.0~4.0m로 매우 높게 일겠습니다.\n",
      "(강수) 15일(화) 오전에는 강원도와 충청권, 전라권에 눈(전남권은 비 또는 눈)이 오는 곳이 있겠습니다.(기온) 이번 예보기간 아침 기온은-12~2도, 낮 기온은-1~10도로 어제(11일, 아침최저기온-9~2도, 낮최고기온 7~12도)보다 낮겠습니다.(해상) 15일(화)~17일(목) 동해상에서는 물결이 1.0~4.0m로 매우 높게 일겠습니다.\n",
      "(강수) 15일(화) 오전에는 강원도와 충청권, 전라권에 눈(전남권은 비 또는 눈)이 오는 곳이 있겠습니다.(기온) 이번 예보기간 아침 기온은-12~2도, 낮 기온은-1~10도로 어제(11일, 아침최저기온-9~2도, 낮최고기온 7~12도)보다 낮겠습니다.(해상) 15일(화)~17일(목) 동해상에서는 물결이 1.0~4.0m로 매우 높게 일겠습니다.\n",
      "(강수) 15일(화) 오전에는 강원도와 충청권, 전라권에 눈(전남권은 비 또는 눈)이 오는 곳이 있겠습니다.(기온) 이번 예보기간 아침 기온은-12~2도, 낮 기온은-1~10도로 어제(11일, 아침최저기온-9~2도, 낮최고기온 7~12도)보다 낮겠습니다.(해상) 15일(화)~17일(목) 동해상에서는 물결이 1.0~4.0m로 매우 높게 일겠습니다.\n",
      "(강수) 15일(화) 오전에는 강원도와 충청권, 전라권에 눈(전남권은 비 또는 눈)이 오는 곳이 있겠습니다.(기온) 이번 예보기간 아침 기온은-12~2도, 낮 기온은-1~10도로 어제(11일, 아침최저기온-9~2도, 낮최고기온 7~12도)보다 낮겠습니다.(해상) 15일(화)~17일(목) 동해상에서는 물결이 1.0~4.0m로 매우 높게 일겠습니다.\n",
      "(강수) 15일(화) 오전에는 강원도와 충청권, 전라권에 눈(전남권은 비 또는 눈)이 오는 곳이 있겠습니다.(기온) 이번 예보기간 아침 기온은-12~2도, 낮 기온은-1~10도로 어제(11일, 아침최저기온-9~2도, 낮최고기온 7~12도)보다 낮겠습니다.(해상) 15일(화)~17일(목) 동해상에서는 물결이 1.0~4.0m로 매우 높게 일겠습니다.\n",
      "(강수) 15일(화) 오전에는 강원도와 충청권, 전라권에 눈(전남권은 비 또는 눈)이 오는 곳이 있겠습니다.(기온) 이번 예보기간 아침 기온은-12~2도, 낮 기온은-1~10도로 어제(11일, 아침최저기온-9~2도, 낮최고기온 7~12도)보다 낮겠습니다.(해상) 15일(화)~17일(목) 동해상에서는 물결이 1.0~4.0m로 매우 높게 일겠습니다.\n",
      "(강수) 15일(화) 오전에는 강원도와 충청권, 전라권에 눈(전남권은 비 또는 눈)이 오는 곳이 있겠습니다.(기온) 이번 예보기간 아침 기온은-12~2도, 낮 기온은-1~10도로 어제(11일, 아침최저기온-9~2도, 낮최고기온 7~12도)보다 낮겠습니다.(해상) 15일(화)~17일(목) 동해상에서는 물결이 1.0~4.0m로 매우 높게 일겠습니다.\n",
      "(강수) 15일(화) 오전에는 강원도와 충청권, 전라권에 눈(전남권은 비 또는 눈)이 오는 곳이 있겠습니다.(기온) 이번 예보기간 아침 기온은-12~2도, 낮 기온은-1~10도로 어제(11일, 아침최저기온-9~2도, 낮최고기온 7~12도)보다 낮겠습니다.(해상) 15일(화)~17일(목) 동해상에서는 물결이 1.0~4.0m로 매우 높게 일겠습니다.\n",
      "(강수) 15일(화) 오전에는 강원도와 충청권, 전라권에 눈(전남권은 비 또는 눈)이 오는 곳이 있겠습니다.(기온) 이번 예보기간 아침 기온은-12~2도, 낮 기온은-1~10도로 어제(11일, 아침최저기온-9~2도, 낮최고기온 7~12도)보다 낮겠습니다.(해상) 15일(화)~17일(목) 동해상에서는 물결이 1.0~4.0m로 매우 높게 일겠습니다.\n",
      "(강수) 15일(화) 오전에는 강원도와 충청권, 전라권에 눈(전남권은 비 또는 눈)이 오는 곳이 있겠습니다.(기온) 이번 예보기간 아침 기온은-12~2도, 낮 기온은-1~10도로 어제(11일, 아침최저기온-9~2도, 낮최고기온 7~12도)보다 낮겠습니다.(해상) 15일(화)~17일(목) 동해상에서는 물결이 1.0~4.0m로 매우 높게 일겠습니다.\n",
      "(강수) 15일(화) 오전에는 강원도와 충청권, 전라권에 눈(전남권은 비 또는 눈)이 오는 곳이 있겠습니다.(기온) 이번 예보기간 아침 기온은-12~2도, 낮 기온은-1~10도로 어제(11일, 아침최저기온-9~2도, 낮최고기온 7~12도)보다 낮겠습니다.(해상) 15일(화)~17일(목) 동해상에서는 물결이 1.0~4.0m로 매우 높게 일겠습니다.\n",
      "(강수) 15일(화) 오전에는 강원도와 충청권, 전라권에 눈(전남권은 비 또는 눈)이 오는 곳이 있겠습니다.(기온) 이번 예보기간 아침 기온은-12~2도, 낮 기온은-1~10도로 어제(11일, 아침최저기온-9~2도, 낮최고기온 7~12도)보다 낮겠습니다.(해상) 15일(화)~17일(목) 동해상에서는 물결이 1.0~4.0m로 매우 높게 일겠습니다.\n",
      "(강수) 15일(화) 오전에는 강원도와 충청권, 전라권에 눈(전남권은 비 또는 눈)이 오는 곳이 있겠습니다.(기온) 이번 예보기간 아침 기온은-12~2도, 낮 기온은-1~10도로 어제(11일, 아침최저기온-9~2도, 낮최고기온 7~12도)보다 낮겠습니다.(해상) 15일(화)~17일(목) 동해상에서는 물결이 1.0~4.0m로 매우 높게 일겠습니다.\n",
      "(강수) 15일(화) 오전에는 강원도와 충청권, 전라권에 눈(전남권은 비 또는 눈)이 오는 곳이 있겠습니다.(기온) 이번 예보기간 아침 기온은-12~2도, 낮 기온은-1~10도로 어제(11일, 아침최저기온-9~2도, 낮최고기온 7~12도)보다 낮겠습니다.(해상) 15일(화)~17일(목) 동해상에서는 물결이 1.0~4.0m로 매우 높게 일겠습니다.\n",
      "(강수) 15일(화) 오전에는 강원도와 충청권, 전라권에 눈(전남권은 비 또는 눈)이 오는 곳이 있겠습니다.(기온) 이번 예보기간 아침 기온은-12~2도, 낮 기온은-1~10도로 어제(11일, 아침최저기온-9~2도, 낮최고기온 7~12도)보다 낮겠습니다.(해상) 15일(화)~17일(목) 동해상에서는 물결이 1.0~4.0m로 매우 높게 일겠습니다.\n",
      "(강수) 15일(화) 오전에는 강원도와 충청권, 전라권에 눈(전남권은 비 또는 눈)이 오는 곳이 있겠습니다.(기온) 이번 예보기간 아침 기온은-12~2도, 낮 기온은-1~10도로 어제(11일, 아침최저기온-9~2도, 낮최고기온 7~12도)보다 낮겠습니다.(해상) 15일(화)~17일(목) 동해상에서는 물결이 1.0~4.0m로 매우 높게 일겠습니다.\n",
      "(강수) 15일(화) 오전에는 강원도와 충청권, 전라권에 눈(전남권은 비 또는 눈)이 오는 곳이 있겠습니다.(기온) 이번 예보기간 아침 기온은-12~2도, 낮 기온은-1~10도로 어제(11일, 아침최저기온-9~2도, 낮최고기온 7~12도)보다 낮겠습니다.(해상) 15일(화)~17일(목) 동해상에서는 물결이 1.0~4.0m로 매우 높게 일겠습니다.\n",
      "(강수) 15일(화) 오전에는 강원도와 충청권, 전라권에 눈(전남권은 비 또는 눈)이 오는 곳이 있겠습니다.(기온) 이번 예보기간 아침 기온은-12~2도, 낮 기온은-1~10도로 어제(11일, 아침최저기온-9~2도, 낮최고기온 7~12도)보다 낮겠습니다.(해상) 15일(화)~17일(목) 동해상에서는 물결이 1.0~4.0m로 매우 높게 일겠습니다.\n",
      "(강수) 15일(화) 오전에는 강원도와 충청권, 전라권에 눈(전남권은 비 또는 눈)이 오는 곳이 있겠습니다.(기온) 이번 예보기간 아침 기온은-12~2도, 낮 기온은-1~10도로 어제(11일, 아침최저기온-9~2도, 낮최고기온 7~12도)보다 낮겠습니다.(해상) 15일(화)~17일(목) 동해상에서는 물결이 1.0~4.0m로 매우 높게 일겠습니다.\n",
      "(강수) 15일(화) 오전에는 강원도와 충청권, 전라권에 눈(전남권은 비 또는 눈)이 오는 곳이 있겠습니다.(기온) 이번 예보기간 아침 기온은-12~2도, 낮 기온은-1~10도로 어제(11일, 아침최저기온-9~2도, 낮최고기온 7~12도)보다 낮겠습니다.(해상) 15일(화)~17일(목) 동해상에서는 물결이 1.0~4.0m로 매우 높게 일겠습니다.\n",
      "(강수) 15일(화) 오전에는 강원도와 충청권, 전라권에 눈(전남권은 비 또는 눈)이 오는 곳이 있겠습니다.(기온) 이번 예보기간 아침 기온은-12~2도, 낮 기온은-1~10도로 어제(11일, 아침최저기온-9~2도, 낮최고기온 7~12도)보다 낮겠습니다.(해상) 15일(화)~17일(목) 동해상에서는 물결이 1.0~4.0m로 매우 높게 일겠습니다.\n",
      "(강수) 15일(화) 오전에는 강원도와 충청권, 전라권에 눈(전남권은 비 또는 눈)이 오는 곳이 있겠습니다.(기온) 이번 예보기간 아침 기온은-12~2도, 낮 기온은-1~10도로 어제(11일, 아침최저기온-9~2도, 낮최고기온 7~12도)보다 낮겠습니다.(해상) 15일(화)~17일(목) 동해상에서는 물결이 1.0~4.0m로 매우 높게 일겠습니다.\n",
      "(강수) 15일(화) 오전에는 강원도와 충청권, 전라권에 눈(전남권은 비 또는 눈)이 오는 곳이 있겠습니다.(기온) 이번 예보기간 아침 기온은-12~2도, 낮 기온은-1~10도로 어제(11일, 아침최저기온-9~2도, 낮최고기온 7~12도)보다 낮겠습니다.(해상) 15일(화)~17일(목) 동해상에서는 물결이 1.0~4.0m로 매우 높게 일겠습니다.\n",
      "(강수) 15일(화) 오전에는 강원도와 충청권, 전라권에 눈(전남권은 비 또는 눈)이 오는 곳이 있겠습니다.(기온) 이번 예보기간 아침 기온은-12~2도, 낮 기온은-1~10도로 어제(11일, 아침최저기온-9~2도, 낮최고기온 7~12도)보다 낮겠습니다.(해상) 15일(화)~17일(목) 동해상에서는 물결이 1.0~4.0m로 매우 높게 일겠습니다.\n",
      "(강수) 15일(화) 오전에는 강원도와 충청권, 전라권에 눈(전남권은 비 또는 눈)이 오는 곳이 있겠습니다.(기온) 이번 예보기간 아침 기온은-12~2도, 낮 기온은-1~10도로 어제(11일, 아침최저기온-9~2도, 낮최고기온 7~12도)보다 낮겠습니다.(해상) 15일(화)~17일(목) 동해상에서는 물결이 1.0~4.0m로 매우 높게 일겠습니다.\n",
      "(강수) 15일(화) 오전에는 강원도와 충청권, 전라권에 눈(전남권은 비 또는 눈)이 오는 곳이 있겠습니다.(기온) 이번 예보기간 아침 기온은-12~2도, 낮 기온은-1~10도로 어제(11일, 아침최저기온-9~2도, 낮최고기온 7~12도)보다 낮겠습니다.(해상) 15일(화)~17일(목) 동해상에서는 물결이 1.0~4.0m로 매우 높게 일겠습니다.\n",
      "(강수) 15일(화) 오전에는 강원도와 충청권, 전라권에 눈(전남권은 비 또는 눈)이 오는 곳이 있겠습니다.(기온) 이번 예보기간 아침 기온은-12~2도, 낮 기온은-1~10도로 어제(11일, 아침최저기온-9~2도, 낮최고기온 7~12도)보다 낮겠습니다.(해상) 15일(화)~17일(목) 동해상에서는 물결이 1.0~4.0m로 매우 높게 일겠습니다.\n",
      "(강수) 15일(화) 오전에는 강원도와 충청권, 전라권에 눈(전남권은 비 또는 눈)이 오는 곳이 있겠습니다.(기온) 이번 예보기간 아침 기온은-12~2도, 낮 기온은-1~10도로 어제(11일, 아침최저기온-9~2도, 낮최고기온 7~12도)보다 낮겠습니다.(해상) 15일(화)~17일(목) 동해상에서는 물결이 1.0~4.0m로 매우 높게 일겠습니다.\n",
      "(강수) 15일(화) 오전에는 강원도와 충청권, 전라권에 눈(전남권은 비 또는 눈)이 오는 곳이 있겠습니다.(기온) 이번 예보기간 아침 기온은-12~2도, 낮 기온은-1~10도로 어제(11일, 아침최저기온-9~2도, 낮최고기온 7~12도)보다 낮겠습니다.(해상) 15일(화)~17일(목) 동해상에서는 물결이 1.0~4.0m로 매우 높게 일겠습니다.\n",
      "(강수) 15일(화) 오전에는 강원도와 충청권, 전라권에 눈(전남권은 비 또는 눈)이 오는 곳이 있겠습니다.(기온) 이번 예보기간 아침 기온은-12~2도, 낮 기온은-1~10도로 어제(11일, 아침최저기온-9~2도, 낮최고기온 7~12도)보다 낮겠습니다.(해상) 15일(화)~17일(목) 동해상에서는 물결이 1.0~4.0m로 매우 높게 일겠습니다.\n",
      "(강수) 15일(화) 오전에는 강원도와 충청권, 전라권에 눈(전남권은 비 또는 눈)이 오는 곳이 있겠습니다.(기온) 이번 예보기간 아침 기온은-12~2도, 낮 기온은-1~10도로 어제(11일, 아침최저기온-9~2도, 낮최고기온 7~12도)보다 낮겠습니다.(해상) 15일(화)~17일(목) 동해상에서는 물결이 1.0~4.0m로 매우 높게 일겠습니다.\n",
      "(강수) 15일(화) 오전에는 강원도와 충청권, 전라권에 눈(전남권은 비 또는 눈)이 오는 곳이 있겠습니다.(기온) 이번 예보기간 아침 기온은-12~2도, 낮 기온은-1~10도로 어제(11일, 아침최저기온-9~2도, 낮최고기온 7~12도)보다 낮겠습니다.(해상) 15일(화)~17일(목) 동해상에서는 물결이 1.0~4.0m로 매우 높게 일겠습니다.\n",
      "(강수) 15일(화) 오전에는 강원도와 충청권, 전라권에 눈(전남권은 비 또는 눈)이 오는 곳이 있겠습니다.(기온) 이번 예보기간 아침 기온은-12~2도, 낮 기온은-1~10도로 어제(11일, 아침최저기온-9~2도, 낮최고기온 7~12도)보다 낮겠습니다.(해상) 15일(화)~17일(목) 동해상에서는 물결이 1.0~4.0m로 매우 높게 일겠습니다.\n",
      "(강수) 15일(화) 오전에는 강원도와 충청권, 전라권에 눈(전남권은 비 또는 눈)이 오는 곳이 있겠습니다.(기온) 이번 예보기간 아침 기온은-12~2도, 낮 기온은-1~10도로 어제(11일, 아침최저기온-9~2도, 낮최고기온 7~12도)보다 낮겠습니다.(해상) 15일(화)~17일(목) 동해상에서는 물결이 1.0~4.0m로 매우 높게 일겠습니다.\n",
      "(강수) 15일(화) 오전에는 강원도와 충청권, 전라권에 눈(전남권은 비 또는 눈)이 오는 곳이 있겠습니다.(기온) 이번 예보기간 아침 기온은-12~2도, 낮 기온은-1~10도로 어제(11일, 아침최저기온-9~2도, 낮최고기온 7~12도)보다 낮겠습니다.(해상) 15일(화)~17일(목) 동해상에서는 물결이 1.0~4.0m로 매우 높게 일겠습니다.\n",
      "(강수) 15일(화) 오전에는 강원도와 충청권, 전라권에 눈(전남권은 비 또는 눈)이 오는 곳이 있겠습니다.(기온) 이번 예보기간 아침 기온은-12~2도, 낮 기온은-1~10도로 어제(11일, 아침최저기온-9~2도, 낮최고기온 7~12도)보다 낮겠습니다.(해상) 15일(화)~17일(목) 동해상에서는 물결이 1.0~4.0m로 매우 높게 일겠습니다.\n",
      "(강수) 15일(화) 오전에는 강원도와 충청권, 전라권에 눈(전남권은 비 또는 눈)이 오는 곳이 있겠습니다.(기온) 이번 예보기간 아침 기온은-12~2도, 낮 기온은-1~10도로 어제(11일, 아침최저기온-9~2도, 낮최고기온 7~12도)보다 낮겠습니다.(해상) 15일(화)~17일(목) 동해상에서는 물결이 1.0~4.0m로 매우 높게 일겠습니다.\n",
      "(강수) 15일(화) 오전에는 강원도와 충청권, 전라권에 눈(전남권은 비 또는 눈)이 오는 곳이 있겠습니다.(기온) 이번 예보기간 아침 기온은-12~2도, 낮 기온은-1~10도로 어제(11일, 아침최저기온-9~2도, 낮최고기온 7~12도)보다 낮겠습니다.(해상) 15일(화)~17일(목) 동해상에서는 물결이 1.0~4.0m로 매우 높게 일겠습니다.\n",
      "(강수) 15일(화) 오전에는 강원도와 충청권, 전라권에 눈(전남권은 비 또는 눈)이 오는 곳이 있겠습니다.(기온) 이번 예보기간 아침 기온은-12~2도, 낮 기온은-1~10도로 어제(11일, 아침최저기온-9~2도, 낮최고기온 7~12도)보다 낮겠습니다.(해상) 15일(화)~17일(목) 동해상에서는 물결이 1.0~4.0m로 매우 높게 일겠습니다.\n",
      "(강수) 15일(화) 오전에는 강원도와 충청권, 전라권에 눈(전남권은 비 또는 눈)이 오는 곳이 있겠습니다.(기온) 이번 예보기간 아침 기온은-12~2도, 낮 기온은-1~10도로 어제(11일, 아침최저기온-9~2도, 낮최고기온 7~12도)보다 낮겠습니다.(해상) 15일(화)~17일(목) 동해상에서는 물결이 1.0~4.0m로 매우 높게 일겠습니다.\n",
      "(강수) 15일(화) 오전에는 강원도와 충청권, 전라권에 눈(전남권은 비 또는 눈)이 오는 곳이 있겠습니다.(기온) 이번 예보기간 아침 기온은-12~2도, 낮 기온은-1~10도로 어제(11일, 아침최저기온-9~2도, 낮최고기온 7~12도)보다 낮겠습니다.(해상) 15일(화)~17일(목) 동해상에서는 물결이 1.0~4.0m로 매우 높게 일겠습니다.\n",
      "(강수) 15일(화) 오전에는 강원도와 충청권, 전라권에 눈(전남권은 비 또는 눈)이 오는 곳이 있겠습니다.(기온) 이번 예보기간 아침 기온은-12~2도, 낮 기온은-1~10도로 어제(11일, 아침최저기온-9~2도, 낮최고기온 7~12도)보다 낮겠습니다.(해상) 15일(화)~17일(목) 동해상에서는 물결이 1.0~4.0m로 매우 높게 일겠습니다.\n",
      "(강수) 15일(화) 오전에는 강원도와 충청권, 전라권에 눈(전남권은 비 또는 눈)이 오는 곳이 있겠습니다.(기온) 이번 예보기간 아침 기온은-12~2도, 낮 기온은-1~10도로 어제(11일, 아침최저기온-9~2도, 낮최고기온 7~12도)보다 낮겠습니다.(해상) 15일(화)~17일(목) 동해상에서는 물결이 1.0~4.0m로 매우 높게 일겠습니다.\n",
      "(강수) 15일(화) 오전에는 강원도와 충청권, 전라권에 눈(전남권은 비 또는 눈)이 오는 곳이 있겠습니다.(기온) 이번 예보기간 아침 기온은-12~2도, 낮 기온은-1~10도로 어제(11일, 아침최저기온-9~2도, 낮최고기온 7~12도)보다 낮겠습니다.(해상) 15일(화)~17일(목) 동해상에서는 물결이 1.0~4.0m로 매우 높게 일겠습니다.\n",
      "(강수) 15일(화) 오전에는 강원도와 충청권, 전라권에 눈(전남권은 비 또는 눈)이 오는 곳이 있겠습니다.(기온) 이번 예보기간 아침 기온은-12~2도, 낮 기온은-1~10도로 어제(11일, 아침최저기온-9~2도, 낮최고기온 7~12도)보다 낮겠습니다.(해상) 15일(화)~17일(목) 동해상에서는 물결이 1.0~4.0m로 매우 높게 일겠습니다.\n",
      "(강수) 15일(화) 오전에는 강원도와 충청권, 전라권에 눈(전남권은 비 또는 눈)이 오는 곳이 있겠습니다.(기온) 이번 예보기간 아침 기온은-12~2도, 낮 기온은-1~10도로 어제(11일, 아침최저기온-9~2도, 낮최고기온 7~12도)보다 낮겠습니다.(해상) 15일(화)~17일(목) 동해상에서는 물결이 1.0~4.0m로 매우 높게 일겠습니다.\n",
      "(강수) 15일(화) 오전에는 강원도와 충청권, 전라권에 눈(전남권은 비 또는 눈)이 오는 곳이 있겠습니다.(기온) 이번 예보기간 아침 기온은-12~2도, 낮 기온은-1~10도로 어제(11일, 아침최저기온-9~2도, 낮최고기온 7~12도)보다 낮겠습니다.(해상) 15일(화)~17일(목) 동해상에서는 물결이 1.0~4.0m로 매우 높게 일겠습니다.\n",
      "(강수) 15일(화) 오전에는 강원도와 충청권, 전라권에 눈(전남권은 비 또는 눈)이 오는 곳이 있겠습니다.(기온) 이번 예보기간 아침 기온은-12~2도, 낮 기온은-1~10도로 어제(11일, 아침최저기온-9~2도, 낮최고기온 7~12도)보다 낮겠습니다.(해상) 15일(화)~17일(목) 동해상에서는 물결이 1.0~4.0m로 매우 높게 일겠습니다.\n",
      "(강수) 15일(화) 오전에는 강원도와 충청권, 전라권에 눈(전남권은 비 또는 눈)이 오는 곳이 있겠습니다.(기온) 이번 예보기간 아침 기온은-12~2도, 낮 기온은-1~10도로 어제(11일, 아침최저기온-9~2도, 낮최고기온 7~12도)보다 낮겠습니다.(해상) 15일(화)~17일(목) 동해상에서는 물결이 1.0~4.0m로 매우 높게 일겠습니다.\n",
      "(강수) 15일(화) 오전에는 강원도와 충청권, 전라권에 눈(전남권은 비 또는 눈)이 오는 곳이 있겠습니다.(기온) 이번 예보기간 아침 기온은-12~2도, 낮 기온은-1~10도로 어제(11일, 아침최저기온-9~2도, 낮최고기온 7~12도)보다 낮겠습니다.(해상) 15일(화)~17일(목) 동해상에서는 물결이 1.0~4.0m로 매우 높게 일겠습니다.\n",
      "(강수) 15일(화) 오전에는 강원도와 충청권, 전라권에 눈(전남권은 비 또는 눈)이 오는 곳이 있겠습니다.(기온) 이번 예보기간 아침 기온은-12~2도, 낮 기온은-1~10도로 어제(11일, 아침최저기온-9~2도, 낮최고기온 7~12도)보다 낮겠습니다.(해상) 15일(화)~17일(목) 동해상에서는 물결이 1.0~4.0m로 매우 높게 일겠습니다.\n",
      "(강수) 15일(화) 오전에는 강원도와 충청권, 전라권에 눈(전남권은 비 또는 눈)이 오는 곳이 있겠습니다.(기온) 이번 예보기간 아침 기온은-12~2도, 낮 기온은-1~10도로 어제(11일, 아침최저기온-9~2도, 낮최고기온 7~12도)보다 낮겠습니다.(해상) 15일(화)~17일(목) 동해상에서는 물결이 1.0~4.0m로 매우 높게 일겠습니다.\n",
      "(강수) 15일(화) 오전에는 강원도와 충청권, 전라권에 눈(전남권은 비 또는 눈)이 오는 곳이 있겠습니다.(기온) 이번 예보기간 아침 기온은-12~2도, 낮 기온은-1~10도로 어제(11일, 아침최저기온-9~2도, 낮최고기온 7~12도)보다 낮겠습니다.(해상) 15일(화)~17일(목) 동해상에서는 물결이 1.0~4.0m로 매우 높게 일겠습니다.\n",
      "(강수) 15일(화) 오전에는 강원도와 충청권, 전라권에 눈(전남권은 비 또는 눈)이 오는 곳이 있겠습니다.(기온) 이번 예보기간 아침 기온은-12~2도, 낮 기온은-1~10도로 어제(11일, 아침최저기온-9~2도, 낮최고기온 7~12도)보다 낮겠습니다.(해상) 15일(화)~17일(목) 동해상에서는 물결이 1.0~4.0m로 매우 높게 일겠습니다.\n",
      "(강수) 15일(화) 오전에는 강원도와 충청권, 전라권에 눈(전남권은 비 또는 눈)이 오는 곳이 있겠습니다.(기온) 이번 예보기간 아침 기온은-12~2도, 낮 기온은-1~10도로 어제(11일, 아침최저기온-9~2도, 낮최고기온 7~12도)보다 낮겠습니다.(해상) 15일(화)~17일(목) 동해상에서는 물결이 1.0~4.0m로 매우 높게 일겠습니다.\n",
      "(강수) 15일(화) 오전에는 강원도와 충청권, 전라권에 눈(전남권은 비 또는 눈)이 오는 곳이 있겠습니다.(기온) 이번 예보기간 아침 기온은-12~2도, 낮 기온은-1~10도로 어제(11일, 아침최저기온-9~2도, 낮최고기온 7~12도)보다 낮겠습니다.(해상) 15일(화)~17일(목) 동해상에서는 물결이 1.0~4.0m로 매우 높게 일겠습니다.\n",
      "(강수) 15일(화) 오전에는 강원도와 충청권, 전라권에 눈(전남권은 비 또는 눈)이 오는 곳이 있겠습니다.(기온) 이번 예보기간 아침 기온은-12~2도, 낮 기온은-1~10도로 어제(11일, 아침최저기온-9~2도, 낮최고기온 7~12도)보다 낮겠습니다.(해상) 15일(화)~17일(목) 동해상에서는 물결이 1.0~4.0m로 매우 높게 일겠습니다.\n",
      "(강수) 15일(화) 오전에는 강원도와 충청권, 전라권에 눈(전남권은 비 또는 눈)이 오는 곳이 있겠습니다.(기온) 이번 예보기간 아침 기온은-12~2도, 낮 기온은-1~10도로 어제(11일, 아침최저기온-9~2도, 낮최고기온 7~12도)보다 낮겠습니다.(해상) 15일(화)~17일(목) 동해상에서는 물결이 1.0~4.0m로 매우 높게 일겠습니다.\n",
      "(강수) 15일(화) 오전에는 강원도와 충청권, 전라권에 눈(전남권은 비 또는 눈)이 오는 곳이 있겠습니다.(기온) 이번 예보기간 아침 기온은-12~2도, 낮 기온은-1~10도로 어제(11일, 아침최저기온-9~2도, 낮최고기온 7~12도)보다 낮겠습니다.(해상) 15일(화)~17일(목) 동해상에서는 물결이 1.0~4.0m로 매우 높게 일겠습니다.\n",
      "(강수) 15일(화) 오전에는 강원도와 충청권, 전라권에 눈(전남권은 비 또는 눈)이 오는 곳이 있겠습니다.(기온) 이번 예보기간 아침 기온은-12~2도, 낮 기온은-1~10도로 어제(11일, 아침최저기온-9~2도, 낮최고기온 7~12도)보다 낮겠습니다.(해상) 15일(화)~17일(목) 동해상에서는 물결이 1.0~4.0m로 매우 높게 일겠습니다.\n",
      "(강수) 15일(화) 오전에는 강원도와 충청권, 전라권에 눈(전남권은 비 또는 눈)이 오는 곳이 있겠습니다.(기온) 이번 예보기간 아침 기온은-12~2도, 낮 기온은-1~10도로 어제(11일, 아침최저기온-9~2도, 낮최고기온 7~12도)보다 낮겠습니다.(해상) 15일(화)~17일(목) 동해상에서는 물결이 1.0~4.0m로 매우 높게 일겠습니다.\n",
      "(강수) 15일(화) 오전에는 강원도와 충청권, 전라권에 눈(전남권은 비 또는 눈)이 오는 곳이 있겠습니다.(기온) 이번 예보기간 아침 기온은-12~2도, 낮 기온은-1~10도로 어제(11일, 아침최저기온-9~2도, 낮최고기온 7~12도)보다 낮겠습니다.(해상) 15일(화)~17일(목) 동해상에서는 물결이 1.0~4.0m로 매우 높게 일겠습니다.\n",
      "(강수) 15일(화) 오전에는 강원도와 충청권, 전라권에 눈(전남권은 비 또는 눈)이 오는 곳이 있겠습니다.(기온) 이번 예보기간 아침 기온은-12~2도, 낮 기온은-1~10도로 어제(11일, 아침최저기온-9~2도, 낮최고기온 7~12도)보다 낮겠습니다.(해상) 15일(화)~17일(목) 동해상에서는 물결이 1.0~4.0m로 매우 높게 일겠습니다.\n",
      "(강수) 15일(화) 오전에는 강원도와 충청권, 전라권에 눈(전남권은 비 또는 눈)이 오는 곳이 있겠습니다.(기온) 이번 예보기간 아침 기온은-12~2도, 낮 기온은-1~10도로 어제(11일, 아침최저기온-9~2도, 낮최고기온 7~12도)보다 낮겠습니다.(해상) 15일(화)~17일(목) 동해상에서는 물결이 1.0~4.0m로 매우 높게 일겠습니다.\n",
      "(강수) 15일(화) 오전에는 강원도와 충청권, 전라권에 눈(전남권은 비 또는 눈)이 오는 곳이 있겠습니다.(기온) 이번 예보기간 아침 기온은-12~2도, 낮 기온은-1~10도로 어제(11일, 아침최저기온-9~2도, 낮최고기온 7~12도)보다 낮겠습니다.(해상) 15일(화)~17일(목) 동해상에서는 물결이 1.0~4.0m로 매우 높게 일겠습니다.\n",
      "(강수) 15일(화) 오전에는 강원도와 충청권, 전라권에 눈(전남권은 비 또는 눈)이 오는 곳이 있겠습니다.(기온) 이번 예보기간 아침 기온은-12~2도, 낮 기온은-1~10도로 어제(11일, 아침최저기온-9~2도, 낮최고기온 7~12도)보다 낮겠습니다.(해상) 15일(화)~17일(목) 동해상에서는 물결이 1.0~4.0m로 매우 높게 일겠습니다.\n",
      "(강수) 15일(화) 오전에는 강원도와 충청권, 전라권에 눈(전남권은 비 또는 눈)이 오는 곳이 있겠습니다.(기온) 이번 예보기간 아침 기온은-12~2도, 낮 기온은-1~10도로 어제(11일, 아침최저기온-9~2도, 낮최고기온 7~12도)보다 낮겠습니다.(해상) 15일(화)~17일(목) 동해상에서는 물결이 1.0~4.0m로 매우 높게 일겠습니다.\n",
      "(강수) 15일(화) 오전에는 강원도와 충청권, 전라권에 눈(전남권은 비 또는 눈)이 오는 곳이 있겠습니다.(기온) 이번 예보기간 아침 기온은-12~2도, 낮 기온은-1~10도로 어제(11일, 아침최저기온-9~2도, 낮최고기온 7~12도)보다 낮겠습니다.(해상) 15일(화)~17일(목) 동해상에서는 물결이 1.0~4.0m로 매우 높게 일겠습니다.\n",
      "(강수) 15일(화) 오전에는 강원도와 충청권, 전라권에 눈(전남권은 비 또는 눈)이 오는 곳이 있겠습니다.(기온) 이번 예보기간 아침 기온은-12~2도, 낮 기온은-1~10도로 어제(11일, 아침최저기온-9~2도, 낮최고기온 7~12도)보다 낮겠습니다.(해상) 15일(화)~17일(목) 동해상에서는 물결이 1.0~4.0m로 매우 높게 일겠습니다.\n",
      "(강수) 15일(화) 오전에는 강원도와 충청권, 전라권에 눈(전남권은 비 또는 눈)이 오는 곳이 있겠습니다.(기온) 이번 예보기간 아침 기온은-12~2도, 낮 기온은-1~10도로 어제(11일, 아침최저기온-9~2도, 낮최고기온 7~12도)보다 낮겠습니다.(해상) 15일(화)~17일(목) 동해상에서는 물결이 1.0~4.0m로 매우 높게 일겠습니다.\n",
      "(강수) 15일(화) 오전에는 강원도와 충청권, 전라권에 눈(전남권은 비 또는 눈)이 오는 곳이 있겠습니다.(기온) 이번 예보기간 아침 기온은-12~2도, 낮 기온은-1~10도로 어제(11일, 아침최저기온-9~2도, 낮최고기온 7~12도)보다 낮겠습니다.(해상) 15일(화)~17일(목) 동해상에서는 물결이 1.0~4.0m로 매우 높게 일겠습니다.\n",
      "(강수) 15일(화) 오전에는 강원도와 충청권, 전라권에 눈(전남권은 비 또는 눈)이 오는 곳이 있겠습니다.(기온) 이번 예보기간 아침 기온은-12~2도, 낮 기온은-1~10도로 어제(11일, 아침최저기온-9~2도, 낮최고기온 7~12도)보다 낮겠습니다.(해상) 15일(화)~17일(목) 동해상에서는 물결이 1.0~4.0m로 매우 높게 일겠습니다.\n",
      "(강수) 15일(화) 오전에는 강원도와 충청권, 전라권에 눈(전남권은 비 또는 눈)이 오는 곳이 있겠습니다.(기온) 이번 예보기간 아침 기온은-12~2도, 낮 기온은-1~10도로 어제(11일, 아침최저기온-9~2도, 낮최고기온 7~12도)보다 낮겠습니다.(해상) 15일(화)~17일(목) 동해상에서는 물결이 1.0~4.0m로 매우 높게 일겠습니다.\n",
      "(강수) 15일(화) 오전에는 강원도와 충청권, 전라권에 눈(전남권은 비 또는 눈)이 오는 곳이 있겠습니다.(기온) 이번 예보기간 아침 기온은-12~2도, 낮 기온은-1~10도로 어제(11일, 아침최저기온-9~2도, 낮최고기온 7~12도)보다 낮겠습니다.(해상) 15일(화)~17일(목) 동해상에서는 물결이 1.0~4.0m로 매우 높게 일겠습니다.\n",
      "(강수) 15일(화) 오전에는 강원도와 충청권, 전라권에 눈(전남권은 비 또는 눈)이 오는 곳이 있겠습니다.(기온) 이번 예보기간 아침 기온은-12~2도, 낮 기온은-1~10도로 어제(11일, 아침최저기온-9~2도, 낮최고기온 7~12도)보다 낮겠습니다.(해상) 15일(화)~17일(목) 동해상에서는 물결이 1.0~4.0m로 매우 높게 일겠습니다.\n",
      "(강수) 15일(화) 오전에는 강원도와 충청권, 전라권에 눈(전남권은 비 또는 눈)이 오는 곳이 있겠습니다.(기온) 이번 예보기간 아침 기온은-12~2도, 낮 기온은-1~10도로 어제(11일, 아침최저기온-9~2도, 낮최고기온 7~12도)보다 낮겠습니다.(해상) 15일(화)~17일(목) 동해상에서는 물결이 1.0~4.0m로 매우 높게 일겠습니다.\n",
      "(강수) 15일(화) 오전에는 강원도와 충청권, 전라권에 눈(전남권은 비 또는 눈)이 오는 곳이 있겠습니다.(기온) 이번 예보기간 아침 기온은-12~2도, 낮 기온은-1~10도로 어제(11일, 아침최저기온-9~2도, 낮최고기온 7~12도)보다 낮겠습니다.(해상) 15일(화)~17일(목) 동해상에서는 물결이 1.0~4.0m로 매우 높게 일겠습니다.\n",
      "(강수) 15일(화) 오전에는 강원도와 충청권, 전라권에 눈(전남권은 비 또는 눈)이 오는 곳이 있겠습니다.(기온) 이번 예보기간 아침 기온은-12~2도, 낮 기온은-1~10도로 어제(11일, 아침최저기온-9~2도, 낮최고기온 7~12도)보다 낮겠습니다.(해상) 15일(화)~17일(목) 동해상에서는 물결이 1.0~4.0m로 매우 높게 일겠습니다.\n",
      "(강수) 15일(화) 오전에는 강원도와 충청권, 전라권에 눈(전남권은 비 또는 눈)이 오는 곳이 있겠습니다.(기온) 이번 예보기간 아침 기온은-12~2도, 낮 기온은-1~10도로 어제(11일, 아침최저기온-9~2도, 낮최고기온 7~12도)보다 낮겠습니다.(해상) 15일(화)~17일(목) 동해상에서는 물결이 1.0~4.0m로 매우 높게 일겠습니다.\n",
      "(강수) 15일(화) 오전에는 강원도와 충청권, 전라권에 눈(전남권은 비 또는 눈)이 오는 곳이 있겠습니다.(기온) 이번 예보기간 아침 기온은-12~2도, 낮 기온은-1~10도로 어제(11일, 아침최저기온-9~2도, 낮최고기온 7~12도)보다 낮겠습니다.(해상) 15일(화)~17일(목) 동해상에서는 물결이 1.0~4.0m로 매우 높게 일겠습니다.\n",
      "(강수) 15일(화) 오전에는 강원도와 충청권, 전라권에 눈(전남권은 비 또는 눈)이 오는 곳이 있겠습니다.(기온) 이번 예보기간 아침 기온은-12~2도, 낮 기온은-1~10도로 어제(11일, 아침최저기온-9~2도, 낮최고기온 7~12도)보다 낮겠습니다.(해상) 15일(화)~17일(목) 동해상에서는 물결이 1.0~4.0m로 매우 높게 일겠습니다.\n",
      "(강수) 15일(화) 오전에는 강원도와 충청권, 전라권에 눈(전남권은 비 또는 눈)이 오는 곳이 있겠습니다.(기온) 이번 예보기간 아침 기온은-12~2도, 낮 기온은-1~10도로 어제(11일, 아침최저기온-9~2도, 낮최고기온 7~12도)보다 낮겠습니다.(해상) 15일(화)~17일(목) 동해상에서는 물결이 1.0~4.0m로 매우 높게 일겠습니다.\n",
      "(강수) 15일(화) 오전에는 강원도와 충청권, 전라권에 눈(전남권은 비 또는 눈)이 오는 곳이 있겠습니다.(기온) 이번 예보기간 아침 기온은-12~2도, 낮 기온은-1~10도로 어제(11일, 아침최저기온-9~2도, 낮최고기온 7~12도)보다 낮겠습니다.(해상) 15일(화)~17일(목) 동해상에서는 물결이 1.0~4.0m로 매우 높게 일겠습니다.\n",
      "(강수) 15일(화) 오전에는 강원도와 충청권, 전라권에 눈(전남권은 비 또는 눈)이 오는 곳이 있겠습니다.(기온) 이번 예보기간 아침 기온은-12~2도, 낮 기온은-1~10도로 어제(11일, 아침최저기온-9~2도, 낮최고기온 7~12도)보다 낮겠습니다.(해상) 15일(화)~17일(목) 동해상에서는 물결이 1.0~4.0m로 매우 높게 일겠습니다.\n",
      "(강수) 15일(화) 오전에는 강원도와 충청권, 전라권에 눈(전남권은 비 또는 눈)이 오는 곳이 있겠습니다.(기온) 이번 예보기간 아침 기온은-12~2도, 낮 기온은-1~10도로 어제(11일, 아침최저기온-9~2도, 낮최고기온 7~12도)보다 낮겠습니다.(해상) 15일(화)~17일(목) 동해상에서는 물결이 1.0~4.0m로 매우 높게 일겠습니다.\n",
      "(강수) 15일(화) 오전에는 강원도와 충청권, 전라권에 눈(전남권은 비 또는 눈)이 오는 곳이 있겠습니다.(기온) 이번 예보기간 아침 기온은-12~2도, 낮 기온은-1~10도로 어제(11일, 아침최저기온-9~2도, 낮최고기온 7~12도)보다 낮겠습니다.(해상) 15일(화)~17일(목) 동해상에서는 물결이 1.0~4.0m로 매우 높게 일겠습니다.\n",
      "(강수) 15일(화) 오전에는 강원도와 충청권, 전라권에 눈(전남권은 비 또는 눈)이 오는 곳이 있겠습니다.(기온) 이번 예보기간 아침 기온은-12~2도, 낮 기온은-1~10도로 어제(11일, 아침최저기온-9~2도, 낮최고기온 7~12도)보다 낮겠습니다.(해상) 15일(화)~17일(목) 동해상에서는 물결이 1.0~4.0m로 매우 높게 일겠습니다.\n",
      "(강수) 15일(화) 오전에는 강원도와 충청권, 전라권에 눈(전남권은 비 또는 눈)이 오는 곳이 있겠습니다.(기온) 이번 예보기간 아침 기온은-12~2도, 낮 기온은-1~10도로 어제(11일, 아침최저기온-9~2도, 낮최고기온 7~12도)보다 낮겠습니다.(해상) 15일(화)~17일(목) 동해상에서는 물결이 1.0~4.0m로 매우 높게 일겠습니다.\n",
      "(강수) 15일(화) 오전에는 강원도와 충청권, 전라권에 눈(전남권은 비 또는 눈)이 오는 곳이 있겠습니다.(기온) 이번 예보기간 아침 기온은-12~2도, 낮 기온은-1~10도로 어제(11일, 아침최저기온-9~2도, 낮최고기온 7~12도)보다 낮겠습니다.(해상) 15일(화)~17일(목) 동해상에서는 물결이 1.0~4.0m로 매우 높게 일겠습니다.\n",
      "(강수) 15일(화) 오전에는 강원도와 충청권, 전라권에 눈(전남권은 비 또는 눈)이 오는 곳이 있겠습니다.(기온) 이번 예보기간 아침 기온은-12~2도, 낮 기온은-1~10도로 어제(11일, 아침최저기온-9~2도, 낮최고기온 7~12도)보다 낮겠습니다.(해상) 15일(화)~17일(목) 동해상에서는 물결이 1.0~4.0m로 매우 높게 일겠습니다.\n",
      "(강수) 15일(화) 오전에는 강원도와 충청권, 전라권에 눈(전남권은 비 또는 눈)이 오는 곳이 있겠습니다.(기온) 이번 예보기간 아침 기온은-12~2도, 낮 기온은-1~10도로 어제(11일, 아침최저기온-9~2도, 낮최고기온 7~12도)보다 낮겠습니다.(해상) 15일(화)~17일(목) 동해상에서는 물결이 1.0~4.0m로 매우 높게 일겠습니다.\n",
      "(강수) 15일(화) 오전에는 강원도와 충청권, 전라권에 눈(전남권은 비 또는 눈)이 오는 곳이 있겠습니다.(기온) 이번 예보기간 아침 기온은-12~2도, 낮 기온은-1~10도로 어제(11일, 아침최저기온-9~2도, 낮최고기온 7~12도)보다 낮겠습니다.(해상) 15일(화)~17일(목) 동해상에서는 물결이 1.0~4.0m로 매우 높게 일겠습니다.\n",
      "(강수) 15일(화) 오전에는 강원도와 충청권, 전라권에 눈(전남권은 비 또는 눈)이 오는 곳이 있겠습니다.(기온) 이번 예보기간 아침 기온은-12~2도, 낮 기온은-1~10도로 어제(11일, 아침최저기온-9~2도, 낮최고기온 7~12도)보다 낮겠습니다.(해상) 15일(화)~17일(목) 동해상에서는 물결이 1.0~4.0m로 매우 높게 일겠습니다.\n",
      "(강수) 15일(화) 오전에는 강원도와 충청권, 전라권에 눈(전남권은 비 또는 눈)이 오는 곳이 있겠습니다.(기온) 이번 예보기간 아침 기온은-12~2도, 낮 기온은-1~10도로 어제(11일, 아침최저기온-9~2도, 낮최고기온 7~12도)보다 낮겠습니다.(해상) 15일(화)~17일(목) 동해상에서는 물결이 1.0~4.0m로 매우 높게 일겠습니다.\n",
      "(강수) 15일(화) 오전에는 강원도와 충청권, 전라권에 눈(전남권은 비 또는 눈)이 오는 곳이 있겠습니다.(기온) 이번 예보기간 아침 기온은-12~2도, 낮 기온은-1~10도로 어제(11일, 아침최저기온-9~2도, 낮최고기온 7~12도)보다 낮겠습니다.(해상) 15일(화)~17일(목) 동해상에서는 물결이 1.0~4.0m로 매우 높게 일겠습니다.\n",
      "(강수) 15일(화) 오전에는 강원도와 충청권, 전라권에 눈(전남권은 비 또는 눈)이 오는 곳이 있겠습니다.(기온) 이번 예보기간 아침 기온은-12~2도, 낮 기온은-1~10도로 어제(11일, 아침최저기온-9~2도, 낮최고기온 7~12도)보다 낮겠습니다.(해상) 15일(화)~17일(목) 동해상에서는 물결이 1.0~4.0m로 매우 높게 일겠습니다.\n",
      "(강수) 15일(화) 오전에는 강원도와 충청권, 전라권에 눈(전남권은 비 또는 눈)이 오는 곳이 있겠습니다.(기온) 이번 예보기간 아침 기온은-12~2도, 낮 기온은-1~10도로 어제(11일, 아침최저기온-9~2도, 낮최고기온 7~12도)보다 낮겠습니다.(해상) 15일(화)~17일(목) 동해상에서는 물결이 1.0~4.0m로 매우 높게 일겠습니다.\n",
      "(강수) 15일(화) 오전에는 강원도와 충청권, 전라권에 눈(전남권은 비 또는 눈)이 오는 곳이 있겠습니다.(기온) 이번 예보기간 아침 기온은-12~2도, 낮 기온은-1~10도로 어제(11일, 아침최저기온-9~2도, 낮최고기온 7~12도)보다 낮겠습니다.(해상) 15일(화)~17일(목) 동해상에서는 물결이 1.0~4.0m로 매우 높게 일겠습니다.\n",
      "(강수) 15일(화) 오전에는 강원도와 충청권, 전라권에 눈(전남권은 비 또는 눈)이 오는 곳이 있겠습니다.(기온) 이번 예보기간 아침 기온은-12~2도, 낮 기온은-1~10도로 어제(11일, 아침최저기온-9~2도, 낮최고기온 7~12도)보다 낮겠습니다.(해상) 15일(화)~17일(목) 동해상에서는 물결이 1.0~4.0m로 매우 높게 일겠습니다.\n",
      "(강수) 15일(화) 오전에는 강원도와 충청권, 전라권에 눈(전남권은 비 또는 눈)이 오는 곳이 있겠습니다.(기온) 이번 예보기간 아침 기온은-12~2도, 낮 기온은-1~10도로 어제(11일, 아침최저기온-9~2도, 낮최고기온 7~12도)보다 낮겠습니다.(해상) 15일(화)~17일(목) 동해상에서는 물결이 1.0~4.0m로 매우 높게 일겠습니다.\n",
      "(강수) 15일(화) 오전에는 강원도와 충청권, 전라권에 눈(전남권은 비 또는 눈)이 오는 곳이 있겠습니다.(기온) 이번 예보기간 아침 기온은-12~2도, 낮 기온은-1~10도로 어제(11일, 아침최저기온-9~2도, 낮최고기온 7~12도)보다 낮겠습니다.(해상) 15일(화)~17일(목) 동해상에서는 물결이 1.0~4.0m로 매우 높게 일겠습니다.\n",
      "(강수) 15일(화) 오전에는 강원도와 충청권, 전라권에 눈(전남권은 비 또는 눈)이 오는 곳이 있겠습니다.(기온) 이번 예보기간 아침 기온은-12~2도, 낮 기온은-1~10도로 어제(11일, 아침최저기온-9~2도, 낮최고기온 7~12도)보다 낮겠습니다.(해상) 15일(화)~17일(목) 동해상에서는 물결이 1.0~4.0m로 매우 높게 일겠습니다.\n",
      "(강수) 15일(화) 오전에는 강원도와 충청권, 전라권에 눈(전남권은 비 또는 눈)이 오는 곳이 있겠습니다.(기온) 이번 예보기간 아침 기온은-12~2도, 낮 기온은-1~10도로 어제(11일, 아침최저기온-9~2도, 낮최고기온 7~12도)보다 낮겠습니다.(해상) 15일(화)~17일(목) 동해상에서는 물결이 1.0~4.0m로 매우 높게 일겠습니다.\n",
      "(강수) 15일(화) 오전에는 강원도와 충청권, 전라권에 눈(전남권은 비 또는 눈)이 오는 곳이 있겠습니다.(기온) 이번 예보기간 아침 기온은-12~2도, 낮 기온은-1~10도로 어제(11일, 아침최저기온-9~2도, 낮최고기온 7~12도)보다 낮겠습니다.(해상) 15일(화)~17일(목) 동해상에서는 물결이 1.0~4.0m로 매우 높게 일겠습니다.\n",
      "(강수) 15일(화) 오전에는 강원도와 충청권, 전라권에 눈(전남권은 비 또는 눈)이 오는 곳이 있겠습니다.(기온) 이번 예보기간 아침 기온은-12~2도, 낮 기온은-1~10도로 어제(11일, 아침최저기온-9~2도, 낮최고기온 7~12도)보다 낮겠습니다.(해상) 15일(화)~17일(목) 동해상에서는 물결이 1.0~4.0m로 매우 높게 일겠습니다.\n",
      "(강수) 15일(화) 오전에는 강원도와 충청권, 전라권에 눈(전남권은 비 또는 눈)이 오는 곳이 있겠습니다.(기온) 이번 예보기간 아침 기온은-12~2도, 낮 기온은-1~10도로 어제(11일, 아침최저기온-9~2도, 낮최고기온 7~12도)보다 낮겠습니다.(해상) 15일(화)~17일(목) 동해상에서는 물결이 1.0~4.0m로 매우 높게 일겠습니다.\n",
      "(강수) 15일(화) 오전에는 강원도와 충청권, 전라권에 눈(전남권은 비 또는 눈)이 오는 곳이 있겠습니다.(기온) 이번 예보기간 아침 기온은-12~2도, 낮 기온은-1~10도로 어제(11일, 아침최저기온-9~2도, 낮최고기온 7~12도)보다 낮겠습니다.(해상) 15일(화)~17일(목) 동해상에서는 물결이 1.0~4.0m로 매우 높게 일겠습니다.\n",
      "(강수) 15일(화) 오전에는 강원도와 충청권, 전라권에 눈(전남권은 비 또는 눈)이 오는 곳이 있겠습니다.(기온) 이번 예보기간 아침 기온은-12~2도, 낮 기온은-1~10도로 어제(11일, 아침최저기온-9~2도, 낮최고기온 7~12도)보다 낮겠습니다.(해상) 15일(화)~17일(목) 동해상에서는 물결이 1.0~4.0m로 매우 높게 일겠습니다.\n",
      "(강수) 15일(화) 오전에는 강원도와 충청권, 전라권에 눈(전남권은 비 또는 눈)이 오는 곳이 있겠습니다.(기온) 이번 예보기간 아침 기온은-12~2도, 낮 기온은-1~10도로 어제(11일, 아침최저기온-9~2도, 낮최고기온 7~12도)보다 낮겠습니다.(해상) 15일(화)~17일(목) 동해상에서는 물결이 1.0~4.0m로 매우 높게 일겠습니다.\n",
      "(강수) 15일(화) 오전에는 강원도와 충청권, 전라권에 눈(전남권은 비 또는 눈)이 오는 곳이 있겠습니다.(기온) 이번 예보기간 아침 기온은-12~2도, 낮 기온은-1~10도로 어제(11일, 아침최저기온-9~2도, 낮최고기온 7~12도)보다 낮겠습니다.(해상) 15일(화)~17일(목) 동해상에서는 물결이 1.0~4.0m로 매우 높게 일겠습니다.\n",
      "(강수) 15일(화) 오전에는 강원도와 충청권, 전라권에 눈(전남권은 비 또는 눈)이 오는 곳이 있겠습니다.(기온) 이번 예보기간 아침 기온은-12~2도, 낮 기온은-1~10도로 어제(11일, 아침최저기온-9~2도, 낮최고기온 7~12도)보다 낮겠습니다.(해상) 15일(화)~17일(목) 동해상에서는 물결이 1.0~4.0m로 매우 높게 일겠습니다.\n",
      "(강수) 15일(화) 오전에는 강원도와 충청권, 전라권에 눈(전남권은 비 또는 눈)이 오는 곳이 있겠습니다.(기온) 이번 예보기간 아침 기온은-12~2도, 낮 기온은-1~10도로 어제(11일, 아침최저기온-9~2도, 낮최고기온 7~12도)보다 낮겠습니다.(해상) 15일(화)~17일(목) 동해상에서는 물결이 1.0~4.0m로 매우 높게 일겠습니다.\n",
      "(강수) 15일(화) 오전에는 강원도와 충청권, 전라권에 눈(전남권은 비 또는 눈)이 오는 곳이 있겠습니다.(기온) 이번 예보기간 아침 기온은-12~2도, 낮 기온은-1~10도로 어제(11일, 아침최저기온-9~2도, 낮최고기온 7~12도)보다 낮겠습니다.(해상) 15일(화)~17일(목) 동해상에서는 물결이 1.0~4.0m로 매우 높게 일겠습니다.\n",
      "(강수) 15일(화) 오전에는 강원도와 충청권, 전라권에 눈(전남권은 비 또는 눈)이 오는 곳이 있겠습니다.(기온) 이번 예보기간 아침 기온은-12~2도, 낮 기온은-1~10도로 어제(11일, 아침최저기온-9~2도, 낮최고기온 7~12도)보다 낮겠습니다.(해상) 15일(화)~17일(목) 동해상에서는 물결이 1.0~4.0m로 매우 높게 일겠습니다.\n",
      "(강수) 15일(화) 오전에는 강원도와 충청권, 전라권에 눈(전남권은 비 또는 눈)이 오는 곳이 있겠습니다.(기온) 이번 예보기간 아침 기온은-12~2도, 낮 기온은-1~10도로 어제(11일, 아침최저기온-9~2도, 낮최고기온 7~12도)보다 낮겠습니다.(해상) 15일(화)~17일(목) 동해상에서는 물결이 1.0~4.0m로 매우 높게 일겠습니다.\n",
      "(강수) 15일(화) 오전에는 강원도와 충청권, 전라권에 눈(전남권은 비 또는 눈)이 오는 곳이 있겠습니다.(기온) 이번 예보기간 아침 기온은-12~2도, 낮 기온은-1~10도로 어제(11일, 아침최저기온-9~2도, 낮최고기온 7~12도)보다 낮겠습니다.(해상) 15일(화)~17일(목) 동해상에서는 물결이 1.0~4.0m로 매우 높게 일겠습니다.\n",
      "(강수) 15일(화) 오전에는 강원도와 충청권, 전라권에 눈(전남권은 비 또는 눈)이 오는 곳이 있겠습니다.(기온) 이번 예보기간 아침 기온은-12~2도, 낮 기온은-1~10도로 어제(11일, 아침최저기온-9~2도, 낮최고기온 7~12도)보다 낮겠습니다.(해상) 15일(화)~17일(목) 동해상에서는 물결이 1.0~4.0m로 매우 높게 일겠습니다.\n",
      "(강수) 15일(화) 오전에는 강원도와 충청권, 전라권에 눈(전남권은 비 또는 눈)이 오는 곳이 있겠습니다.(기온) 이번 예보기간 아침 기온은-12~2도, 낮 기온은-1~10도로 어제(11일, 아침최저기온-9~2도, 낮최고기온 7~12도)보다 낮겠습니다.(해상) 15일(화)~17일(목) 동해상에서는 물결이 1.0~4.0m로 매우 높게 일겠습니다.\n",
      "(강수) 15일(화) 오전에는 강원도와 충청권, 전라권에 눈(전남권은 비 또는 눈)이 오는 곳이 있겠습니다.(기온) 이번 예보기간 아침 기온은-12~2도, 낮 기온은-1~10도로 어제(11일, 아침최저기온-9~2도, 낮최고기온 7~12도)보다 낮겠습니다.(해상) 15일(화)~17일(목) 동해상에서는 물결이 1.0~4.0m로 매우 높게 일겠습니다.\n",
      "(강수) 15일(화) 오전에는 강원도와 충청권, 전라권에 눈(전남권은 비 또는 눈)이 오는 곳이 있겠습니다.(기온) 이번 예보기간 아침 기온은-12~2도, 낮 기온은-1~10도로 어제(11일, 아침최저기온-9~2도, 낮최고기온 7~12도)보다 낮겠습니다.(해상) 15일(화)~17일(목) 동해상에서는 물결이 1.0~4.0m로 매우 높게 일겠습니다.\n",
      "(강수) 15일(화) 오전에는 강원도와 충청권, 전라권에 눈(전남권은 비 또는 눈)이 오는 곳이 있겠습니다.(기온) 이번 예보기간 아침 기온은-12~2도, 낮 기온은-1~10도로 어제(11일, 아침최저기온-9~2도, 낮최고기온 7~12도)보다 낮겠습니다.(해상) 15일(화)~17일(목) 동해상에서는 물결이 1.0~4.0m로 매우 높게 일겠습니다.\n",
      "(강수) 15일(화) 오전에는 강원도와 충청권, 전라권에 눈(전남권은 비 또는 눈)이 오는 곳이 있겠습니다.(기온) 이번 예보기간 아침 기온은-12~2도, 낮 기온은-1~10도로 어제(11일, 아침최저기온-9~2도, 낮최고기온 7~12도)보다 낮겠습니다.(해상) 15일(화)~17일(목) 동해상에서는 물결이 1.0~4.0m로 매우 높게 일겠습니다.\n",
      "(강수) 15일(화) 오전에는 강원도와 충청권, 전라권에 눈(전남권은 비 또는 눈)이 오는 곳이 있겠습니다.(기온) 이번 예보기간 아침 기온은-12~2도, 낮 기온은-1~10도로 어제(11일, 아침최저기온-9~2도, 낮최고기온 7~12도)보다 낮겠습니다.(해상) 15일(화)~17일(목) 동해상에서는 물결이 1.0~4.0m로 매우 높게 일겠습니다.\n",
      "(강수) 15일(화) 오전에는 강원도와 충청권, 전라권에 눈(전남권은 비 또는 눈)이 오는 곳이 있겠습니다.(기온) 이번 예보기간 아침 기온은-12~2도, 낮 기온은-1~10도로 어제(11일, 아침최저기온-9~2도, 낮최고기온 7~12도)보다 낮겠습니다.(해상) 15일(화)~17일(목) 동해상에서는 물결이 1.0~4.0m로 매우 높게 일겠습니다.\n",
      "(강수) 15일(화) 오전에는 강원도와 충청권, 전라권에 눈(전남권은 비 또는 눈)이 오는 곳이 있겠습니다.(기온) 이번 예보기간 아침 기온은-12~2도, 낮 기온은-1~10도로 어제(11일, 아침최저기온-9~2도, 낮최고기온 7~12도)보다 낮겠습니다.(해상) 15일(화)~17일(목) 동해상에서는 물결이 1.0~4.0m로 매우 높게 일겠습니다.\n",
      "(강수) 15일(화) 오전에는 강원도와 충청권, 전라권에 눈(전남권은 비 또는 눈)이 오는 곳이 있겠습니다.(기온) 이번 예보기간 아침 기온은-12~2도, 낮 기온은-1~10도로 어제(11일, 아침최저기온-9~2도, 낮최고기온 7~12도)보다 낮겠습니다.(해상) 15일(화)~17일(목) 동해상에서는 물결이 1.0~4.0m로 매우 높게 일겠습니다.\n",
      "(강수) 15일(화) 오전에는 강원도와 충청권, 전라권에 눈(전남권은 비 또는 눈)이 오는 곳이 있겠습니다.(기온) 이번 예보기간 아침 기온은-12~2도, 낮 기온은-1~10도로 어제(11일, 아침최저기온-9~2도, 낮최고기온 7~12도)보다 낮겠습니다.(해상) 15일(화)~17일(목) 동해상에서는 물결이 1.0~4.0m로 매우 높게 일겠습니다.\n",
      "(강수) 15일(화) 오전에는 강원도와 충청권, 전라권에 눈(전남권은 비 또는 눈)이 오는 곳이 있겠습니다.(기온) 이번 예보기간 아침 기온은-12~2도, 낮 기온은-1~10도로 어제(11일, 아침최저기온-9~2도, 낮최고기온 7~12도)보다 낮겠습니다.(해상) 15일(화)~17일(목) 동해상에서는 물결이 1.0~4.0m로 매우 높게 일겠습니다.\n",
      "(강수) 15일(화) 오전에는 강원도와 충청권, 전라권에 눈(전남권은 비 또는 눈)이 오는 곳이 있겠습니다.(기온) 이번 예보기간 아침 기온은-12~2도, 낮 기온은-1~10도로 어제(11일, 아침최저기온-9~2도, 낮최고기온 7~12도)보다 낮겠습니다.(해상) 15일(화)~17일(목) 동해상에서는 물결이 1.0~4.0m로 매우 높게 일겠습니다.\n",
      "(강수) 15일(화) 오전에는 강원도와 충청권, 전라권에 눈(전남권은 비 또는 눈)이 오는 곳이 있겠습니다.(기온) 이번 예보기간 아침 기온은-12~2도, 낮 기온은-1~10도로 어제(11일, 아침최저기온-9~2도, 낮최고기온 7~12도)보다 낮겠습니다.(해상) 15일(화)~17일(목) 동해상에서는 물결이 1.0~4.0m로 매우 높게 일겠습니다.\n",
      "(강수) 15일(화) 오전에는 강원도와 충청권, 전라권에 눈(전남권은 비 또는 눈)이 오는 곳이 있겠습니다.(기온) 이번 예보기간 아침 기온은-12~2도, 낮 기온은-1~10도로 어제(11일, 아침최저기온-9~2도, 낮최고기온 7~12도)보다 낮겠습니다.(해상) 15일(화)~17일(목) 동해상에서는 물결이 1.0~4.0m로 매우 높게 일겠습니다.\n",
      "(강수) 15일(화) 오전에는 강원도와 충청권, 전라권에 눈(전남권은 비 또는 눈)이 오는 곳이 있겠습니다.(기온) 이번 예보기간 아침 기온은-12~2도, 낮 기온은-1~10도로 어제(11일, 아침최저기온-9~2도, 낮최고기온 7~12도)보다 낮겠습니다.(해상) 15일(화)~17일(목) 동해상에서는 물결이 1.0~4.0m로 매우 높게 일겠습니다.\n",
      "(강수) 15일(화) 오전에는 강원도와 충청권, 전라권에 눈(전남권은 비 또는 눈)이 오는 곳이 있겠습니다.(기온) 이번 예보기간 아침 기온은-12~2도, 낮 기온은-1~10도로 어제(11일, 아침최저기온-9~2도, 낮최고기온 7~12도)보다 낮겠습니다.(해상) 15일(화)~17일(목) 동해상에서는 물결이 1.0~4.0m로 매우 높게 일겠습니다.\n",
      "(강수) 15일(화) 오전에는 강원도와 충청권, 전라권에 눈(전남권은 비 또는 눈)이 오는 곳이 있겠습니다.(기온) 이번 예보기간 아침 기온은-12~2도, 낮 기온은-1~10도로 어제(11일, 아침최저기온-9~2도, 낮최고기온 7~12도)보다 낮겠습니다.(해상) 15일(화)~17일(목) 동해상에서는 물결이 1.0~4.0m로 매우 높게 일겠습니다.\n",
      "(강수) 15일(화) 오전에는 강원도와 충청권, 전라권에 눈(전남권은 비 또는 눈)이 오는 곳이 있겠습니다.(기온) 이번 예보기간 아침 기온은-12~2도, 낮 기온은-1~10도로 어제(11일, 아침최저기온-9~2도, 낮최고기온 7~12도)보다 낮겠습니다.(해상) 15일(화)~17일(목) 동해상에서는 물결이 1.0~4.0m로 매우 높게 일겠습니다.\n",
      "(강수) 15일(화) 오전에는 강원도와 충청권, 전라권에 눈(전남권은 비 또는 눈)이 오는 곳이 있겠습니다.(기온) 이번 예보기간 아침 기온은-12~2도, 낮 기온은-1~10도로 어제(11일, 아침최저기온-9~2도, 낮최고기온 7~12도)보다 낮겠습니다.(해상) 15일(화)~17일(목) 동해상에서는 물결이 1.0~4.0m로 매우 높게 일겠습니다.\n",
      "(강수) 15일(화) 오전에는 강원도와 충청권, 전라권에 눈(전남권은 비 또는 눈)이 오는 곳이 있겠습니다.(기온) 이번 예보기간 아침 기온은-12~2도, 낮 기온은-1~10도로 어제(11일, 아침최저기온-9~2도, 낮최고기온 7~12도)보다 낮겠습니다.(해상) 15일(화)~17일(목) 동해상에서는 물결이 1.0~4.0m로 매우 높게 일겠습니다.\n"
     ]
    }
   ],
   "source": [
    "url = \"http://www.kma.go.kr/weather/forecast/mid-term-rss3.jsp\"\n",
    "res = requests.get(url).text\n",
    "soup = BeautifulSoup(res,'html.parser')\n",
    "a = soup.find_all('wf')\n",
    "for i in a:\n",
    "    i = i.text \n",
    "    i = ''.join(re.findall('[^A-Z0-9]?[0-9가-힣]+[^ A-Z0-9]?',wf))\n",
    "    print(i)"
   ]
  },
  {
   "cell_type": "code",
   "execution_count": null,
   "id": "39636cc9",
   "metadata": {
    "scrolled": false
   },
   "outputs": [],
   "source": [
    "url = 'https://naver.com'\n",
    "text = requests.get(url).text\n",
    "text"
   ]
  },
  {
   "cell_type": "code",
   "execution_count": 73,
   "id": "4584f519",
   "metadata": {},
   "outputs": [
    {
     "name": "stdout",
     "output_type": "stream",
     "text": [
      "<a href=\"#newsstand\"><span>뉴스스탠드 바로가기</span></a>\n",
      "<span class=\"blind\">NAVER whale</span>\n"
     ]
    }
   ],
   "source": [
    "import urllib\n",
    "url = 'https://naver.com'\n",
    "response = urllib.request.urlopen(url)\n",
    "byte_data = response.read()\n",
    "html = byte_data.decode('utf-8')\n",
    "soup = BeautifulSoup(html,'html.parser')\n",
    "print(soup.find('a'))\n",
    "print(soup.find(class_='blind'))"
   ]
  },
  {
   "cell_type": "code",
   "execution_count": 74,
   "id": "68968daf",
   "metadata": {},
   "outputs": [
    {
     "data": {
      "text/plain": [
       "[<a href=\"#newsstand\"><span>뉴스스탠드 바로가기</span></a>,\n",
       " <a href=\"#themecast\"><span>주제별캐스트 바로가기</span></a>]"
      ]
     },
     "execution_count": 74,
     "metadata": {},
     "output_type": "execute_result"
    }
   ],
   "source": [
    "soup.find_all('a',limit=2)"
   ]
  },
  {
   "cell_type": "code",
   "execution_count": 75,
   "id": "081bf8da",
   "metadata": {},
   "outputs": [
    {
     "data": {
      "text/plain": [
       "<a href=\"#newsstand\"><span>뉴스스탠드 바로가기</span></a>"
      ]
     },
     "execution_count": 75,
     "metadata": {},
     "output_type": "execute_result"
    }
   ],
   "source": [
    "soup.find_all('a',limit=2)[0]   # index"
   ]
  },
  {
   "cell_type": "code",
   "execution_count": 76,
   "id": "6a0a1a74",
   "metadata": {
    "scrolled": false
   },
   "outputs": [
    {
     "data": {
      "text/plain": [
       "[<span class=\"blind\">NAVER whale</span>,\n",
       " <span class=\"blind\">네이버</span>,\n",
       " <span class=\"blind\">쥬니어네이버</span>]"
      ]
     },
     "execution_count": 76,
     "metadata": {},
     "output_type": "execute_result"
    }
   ],
   "source": [
    "soup.find_all('span',class_='blind')[0:3]"
   ]
  },
  {
   "cell_type": "code",
   "execution_count": 77,
   "id": "ac8bb92a",
   "metadata": {},
   "outputs": [
    {
     "data": {
      "text/plain": [
       "[<span class=\"blind\">한글 입력기</span>,\n",
       " <span class=\"blind\">자동완성 레이어</span>,\n",
       " <span class=\"ico_arr\"></span>,\n",
       " <span class=\"blind\">쇼핑</span>,\n",
       " <span class=\"blind\">쇼핑LIVE</span>]"
      ]
     },
     "execution_count": 77,
     "metadata": {},
     "output_type": "execute_result"
    }
   ],
   "source": [
    "soup.find_all('span',class_=['blind',\"ico_arr\"])[5:10]"
   ]
  },
  {
   "cell_type": "code",
   "execution_count": 78,
   "id": "d95e6d6d",
   "metadata": {},
   "outputs": [
    {
     "data": {
      "text/plain": [
       "[<span class=\"blind\">NAVER whale</span>,\n",
       " <span class=\"blind\">네이버</span>,\n",
       " <span class=\"blind\">쥬니어네이버</span>]"
      ]
     },
     "execution_count": 78,
     "metadata": {},
     "output_type": "execute_result"
    }
   ],
   "source": [
    "soup.find_all('span',attrs={'class':'blind'})[0:3]# dictionary 타입으로도 가능"
   ]
  },
  {
   "cell_type": "code",
   "execution_count": 79,
   "id": "49b823ca",
   "metadata": {},
   "outputs": [
    {
     "data": {
      "text/plain": [
       "['네이버']"
      ]
     },
     "execution_count": 79,
     "metadata": {},
     "output_type": "execute_result"
    }
   ],
   "source": [
    "soup.find_all(string='네이버')"
   ]
  },
  {
   "cell_type": "code",
   "execution_count": 80,
   "id": "c309ef13",
   "metadata": {},
   "outputs": [
    {
     "name": "stdout",
     "output_type": "stream",
     "text": [
      "['네이버', '네이버를 시작페이지로', '쥬니어네이버', '언론사가 직접 편집한 뉴스들을 네이버 홈에서 바로 보실 수 있습니다.', '네이버 리빙과 함께하는 메인 도전 리빙&레시피와 이웃 추가하고 블로그 혹은 포스팅 url을 비공개 댓글로 남겨주세요. 말머리에 [살림] [취미] 를 붙여 주시고, 포스팅의 간략한 내용 설명도 부탁드릴게요. 살림 추천 키워드 #살림노하우 #살림꿀팁 #새해살림법 #창틀청소법 #세탁법 #베이킹소다활용법 #주방정리 #수납노하우 #팬트리정리 #천연세제만들기 #친환경', '■ 이벤트 진행 기간 기간 : 2022. 02.01 - 2022.02.28 발표 : 2022. 03.11 ■ 혜택 2월의 공간 100P!CK 우리 집 여러 공간이 선정될 수 있습니다 선정된 공간마다 홈스타일링 지원금 네이버페이 3만 포인트 최우수 공간에는 네이버페이 20만 포인트 - 지난 메인도전에 지원했던 포스팅, 리빙판에 이미 소개되었던 포스팅은 이벤트', '이건 정말 잘 샀는데! 자랑하고 싶은 #내돈내산잇템 을 소개해주세요 잇템은 3개 이상 / 대가성 리뷰 불가 #자랑하고싶은살림아이템5 #내가사고내가쓴후기 #내가산후기 #살림리뷰 #살림잇템 #살림템 #주방잇템 #조리도구 #최애프라이팬 #그릇수집 #그릇장정리 #빈티지수집 #티도구 #커트러리 #키친패브릭 #인테리어소품 #집꾸미기아이템 & more 참여 방법 네이버', '오늘은 고양이 집사의 로망을 듬뿍 담은 고양이와 함께하는 #집꾸미기 거실편, 캣하우스 #거실인테리어 를 소개합니다 작년 말 30평대 구축 아파트로 이사하며 집 전체 리모델링을 진행 했었는데요 #온라인집들이 라도 해볼까 하던차 네이버 리빙과 레시피판의 공식 블로그인 리빙N레시피 블로그 이벤트 소식을 보고 저도 한번 저희집을 소개해 보려고 합니다 오늘은 그 첫', '네이버 개발자 센터', '네이버 D2', '네이버 D2SF', '네이버 랩스', '네이버 정책 및 약관', '네이버 정책']\n"
     ]
    }
   ],
   "source": [
    "print(soup.find_all(string=re.compile('네이버')))"
   ]
  },
  {
   "cell_type": "code",
   "execution_count": 81,
   "id": "838b598f",
   "metadata": {},
   "outputs": [
    {
     "name": "stdout",
     "output_type": "stream",
     "text": [
      "<span class=\"blind\">영화검색 영역</span>\n",
      "영화검색 영역\n",
      "['blind']\n"
     ]
    }
   ],
   "source": [
    "req = requests.get(\"http://movie.naver.com\")\n",
    "html = req.text\n",
    "soup = BeautifulSoup(html,'html.parser')\n",
    "text = soup.find('span',attrs={'class':'blind'})\n",
    "print(text)\n",
    "print(text.get_text())\n",
    "print(text.get('class'))"
   ]
  },
  {
   "cell_type": "code",
   "execution_count": 82,
   "id": "51fde910",
   "metadata": {},
   "outputs": [
    {
     "data": {
      "text/plain": [
       "'위키북스 도서'"
      ]
     },
     "execution_count": 82,
     "metadata": {},
     "output_type": "execute_result"
    }
   ],
   "source": [
    "html = \"\"\"\n",
    "<html><body>\n",
    "<div id=\"meigen\">\n",
    "  <h1>위키북스 도서</h1>\n",
    "  <ul class=\"items\">\n",
    "    <li>유니티 게임 이펙트 입문</li>\n",
    "    <li>스위프트로 시작하는 아이폰 앱 개발 교과서</li>\n",
    "    <li>모던 웹사이트 디자인의 정석</li>\n",
    "  </ul>\n",
    "</div>\n",
    "</body></html>\n",
    "\"\"\"\n",
    "soup = BeautifulSoup(html, 'html.parser')\n",
    "h1 = soup.select_one(\"div#meigen > h1\").string\n",
    "h1"
   ]
  },
  {
   "cell_type": "code",
   "execution_count": 83,
   "id": "119aa16e",
   "metadata": {},
   "outputs": [
    {
     "name": "stdout",
     "output_type": "stream",
     "text": [
      "유니티 게임 이펙트 입문\n",
      "스위프트로 시작하는 아이폰 앱 개발 교과서\n",
      "모던 웹사이트 디자인의 정석\n"
     ]
    }
   ],
   "source": [
    "html = \"\"\"\n",
    "<html><body>\n",
    "<div id=\"meigen\">\n",
    "  <h1>위키북스 도서</h1>\n",
    "  <ul class=\"items\">\n",
    "    <li>유니티 게임 이펙트 입문</li>\n",
    "    <li>스위프트로 시작하는 아이폰 앱 개발 교과서</li>\n",
    "    <li>모던 웹사이트 디자인의 정석</li>\n",
    "  </ul>\n",
    "</div>\n",
    "</body></html>\n",
    "\"\"\"\n",
    "soup = BeautifulSoup(html, 'html.parser')\n",
    "items = soup.select(\"div#meigen > ul.items > li\")    #전체뽑는것은 select임\n",
    "for li in items:\n",
    "    print(li.string)"
   ]
  },
  {
   "cell_type": "code",
   "execution_count": null,
   "id": "5edb67c9",
   "metadata": {},
   "outputs": [],
   "source": [
    "# [과제] 네이버 환율 가져오기"
   ]
  },
  {
   "cell_type": "code",
   "execution_count": 84,
   "id": "7f92a502",
   "metadata": {},
   "outputs": [
    {
     "name": "stdout",
     "output_type": "stream",
     "text": [
      "usd/krw= 1,199.50\n"
     ]
    }
   ],
   "source": [
    "url = 'https://finance.naver.com/marketindex/'\n",
    "html = requests.get(url).text\n",
    "s = BeautifulSoup(html,'html.parser')\n",
    "a = s.find('span', class_=['value'])\n",
    "#for i in a:\n",
    "#    print(f'{i.text}',end=' ')\n",
    "print(\"usd/krw=\",a.string)"
   ]
  },
  {
   "cell_type": "code",
   "execution_count": 85,
   "id": "a8c49a9b",
   "metadata": {},
   "outputs": [
    {
     "name": "stdout",
     "output_type": "stream",
     "text": [
      "현재 환율(원화/USD) : 1,199.50\n"
     ]
    }
   ],
   "source": [
    "import requests\n",
    "from bs4 import BeautifulSoup\n",
    "\n",
    "url = 'https://finance.naver.com/marketindex/'\n",
    "req = requests.get(url).text\n",
    "soup = BeautifulSoup(req,'html.parser')\n",
    "exchange = soup.select_one('#exchangeList > li.on > a.head.usd > div > span.value').string\n",
    "print('현재 환율(원화/USD) :',exchange)\n"
   ]
  },
  {
   "cell_type": "code",
   "execution_count": null,
   "id": "5ba3ae62",
   "metadata": {},
   "outputs": [],
   "source": [
    "url = 'https://finance.naver.com/marketindex/'\n",
    "req = requests.get(url).text\n",
    "soup = BeautifulSoup(req,'html.parser')\n",
    "exchange = soup.select_one(\"#exchangeList > li:nth-child(3) > a.head.eur > div > span.value\").string\n",
    "\"#exchangeList > li:nth-child(3) > a.head.eur > div > span.value\"\n",
    "\n",
    "print('eur/kwr :',exchange)"
   ]
  },
  {
   "cell_type": "code",
   "execution_count": null,
   "id": "573eba09",
   "metadata": {},
   "outputs": [],
   "source": [
    "# [과제] 네이버 영화 랭킹 가져와서 첫번째 영화제목을 출력하세요"
   ]
  },
  {
   "cell_type": "code",
   "execution_count": 86,
   "id": "ecc67ca9",
   "metadata": {},
   "outputs": [
    {
     "data": {
      "text/plain": [
       "'해적: 도깨비 깃발'"
      ]
     },
     "execution_count": 86,
     "metadata": {},
     "output_type": "execute_result"
    }
   ],
   "source": [
    "url = 'https://movie.naver.com/movie/sdb/rank/rmovie.naver?sel=cnt&date=20220208'\n",
    "res = requests.get(url).text\n",
    "soup = BeautifulSoup(res, \"html.parser\")\n",
    "movie_top1 = soup.select_one('div.tit3 > a')\n",
    "movie_top1.text\n"
   ]
  },
  {
   "cell_type": "code",
   "execution_count": null,
   "id": "82b98dcb",
   "metadata": {},
   "outputs": [],
   "source": [
    "# [과제] 네이버 영화 랭킹 가져와서 전체 영화제목을 출력하세요."
   ]
  },
  {
   "cell_type": "code",
   "execution_count": 87,
   "id": "a50dc2dc",
   "metadata": {},
   "outputs": [],
   "source": [
    "import requests\n",
    "from bs4 import BeautifulSoup\n",
    "url ='https://movie.naver.com/movie/sdb/rank/rmovie.nhn'\n",
    "res = requests.get(url).text\n",
    "\n",
    "soup = BeautifulSoup(res,\"html.parser\")\n",
    "moive_top20 = soup.select(\"div\")"
   ]
  },
  {
   "cell_type": "code",
   "execution_count": null,
   "id": "b84d4598",
   "metadata": {},
   "outputs": [],
   "source": [
    "# [과제] 기상청 육상 정보에서 강원도의 지역번호는 105번이다. 강원도의 날시예보를 출력하세요."
   ]
  },
  {
   "cell_type": "code",
   "execution_count": null,
   "id": "dc296210",
   "metadata": {},
   "outputs": [],
   "source": [
    "url = \"http://www.kma.go.kr/weather/forecast/mid-term-rss3.jsp?stnld=105\"\n",
    "res = req.urlopen(url)\n",
    "soup = BeautifulSoup(res,'html.parser')\n",
    "wf = soup.find('wf').text\n",
    "text = ''.join(re.findall('[^A-Z0-9]?[0-9가-힣]+[^ A-Z0-9]?',wf))\n",
    "text\n"
   ]
  },
  {
   "cell_type": "code",
   "execution_count": null,
   "id": "103bf13f",
   "metadata": {},
   "outputs": [],
   "source": [
    "body = re.sub('[<>/br*]+','',text).split('0')\n",
    "body\n",
    "for i in body:\n",
    "    print(re.sub('+','',i))"
   ]
  },
  {
   "cell_type": "code",
   "execution_count": null,
   "id": "e0837283",
   "metadata": {},
   "outputs": [],
   "source": [
    "# [과제] 관심 내용에 대하여 웹에서 가져와서 정규표현식,beautifulSoup를 이용하여 데이터를 출력하세요."
   ]
  },
  {
   "cell_type": "code",
   "execution_count": null,
   "id": "db779a59",
   "metadata": {},
   "outputs": [],
   "source": [
    "import requests\n",
    "from bs4 import BeautifulSoup\n",
    "import pandas as pd\n",
    "import numpy as np\n",
    "\n",
    "page_url = \"http://ncov.mohw.go.kr/bdBoardList_Real.do\"\n",
    "params = {\n",
    "    'brdId': 1,\n",
    "    'brdGubun': 14,\n",
    "}\n",
    "\n",
    "res = requests.get(page_url, params=params)\n",
    "res.raise_for_status()\n",
    "soup = BeautifulSoup(res.text, 'html.parser')\n",
    "\n",
    "html = str(soup.select_one(\".data_table.mgt16\"))\n",
    "\n",
    "df = pd.read_html(html)[0]\n",
    "df.columns = ['지역', '국가', '환자발생수(사망)']\n",
    "\n",
    "df2 = df['환자발생수(사망)'].str.extract(r'([\\d,]+)[가-힣\\s\\(\\)]+([\\d,]*)')\n",
    "df = df.drop('환자발생수(사망)', axis=1)\n",
    "\n",
    "df['환자발생수'] = df2[0].str.replace(',', '').apply(lambda s: s and int(s))\n",
    "df['환자사망수'] = df2[1].str.replace(',', '').apply(lambda s: s and int(s) or 0)\n",
    "\n",
    "print(df)"
   ]
  },
  {
   "cell_type": "code",
   "execution_count": null,
   "id": "349e356f",
   "metadata": {
    "scrolled": true
   },
   "outputs": [],
   "source": [
    "import re\n",
    "from bs4 import BeautifulSoup\n",
    "import urllib.request\n",
    "import urllib.parse\n",
    "api = \"http://www.kma.go.kr/weather/forecast/mid-term-rss3.jsp?stnld=105\"\n",
    "\n",
    "values = {\n",
    "    'stnld':'105'\n",
    "}\n",
    "params = urllib.parse.urlencode(values)\n",
    "url = api + \"?\" + params\n",
    "print(\"url\",url)\n",
    "\n",
    "res = urllib.request.urlopen(url)\n",
    "soup = BeautifulSoup(res,'html.parser')\n",
    "wf = soup.find('wf').string\n",
    "text = ''.join(re.findall('[^A-Z0-9]?[0-9가-힣]+[^ A-Z0-9]?',wf))\n",
    "text"
   ]
  },
  {
   "cell_type": "code",
   "execution_count": null,
   "id": "16643a57",
   "metadata": {},
   "outputs": [],
   "source": [
    "html=\"\"\"\n",
    "<head>\n",
    "    <title>crawler</title>\n",
    "</head>\n",
    "<body>\n",
    "    <p class=\"a\" align=\"center\"> text1</p>\n",
    "    <p class=\"b\" align=\"center\"> text2</p>\n",
    "    <p class=\"c\" align=\"center\"> text3</p>\n",
    "    <div>\n",
    "        <img src=\"/source\" width=\"300\" height=\"200\">\n",
    "    </div>\n",
    "</body>\n",
    "</html>\n",
    "\"\"\"\n",
    "soup = BeautifulSoup(html,'html.parser')\n",
    "contents = soup.find('body')\n",
    "contents"
   ]
  },
  {
   "cell_type": "code",
   "execution_count": null,
   "id": "4abb377e",
   "metadata": {
    "scrolled": true
   },
   "outputs": [],
   "source": [
    "#자식의 관계\n",
    "for child in contents.children:\n",
    "    print(child)"
   ]
  },
  {
   "cell_type": "code",
   "execution_count": null,
   "id": "6e52607d",
   "metadata": {
    "scrolled": true
   },
   "outputs": [],
   "source": [
    "# 자손의 관계\n",
    "for d in contents.descendants:\n",
    "    print(d)"
   ]
  },
  {
   "cell_type": "code",
   "execution_count": null,
   "id": "355d54c0",
   "metadata": {
    "scrolled": true
   },
   "outputs": [],
   "source": [
    "img_tag = contents.find('img')\n",
    "print(img_tag,'\\n')\n",
    "print(img_tag.parent)"
   ]
  },
  {
   "cell_type": "code",
   "execution_count": null,
   "id": "fe5b39b7",
   "metadata": {},
   "outputs": [],
   "source": [
    "# 조상 \n",
    "list(img_tag.parents)"
   ]
  },
  {
   "cell_type": "code",
   "execution_count": null,
   "id": "4853791f",
   "metadata": {},
   "outputs": [],
   "source": [
    "print(img_tag.find_parent('body'))"
   ]
  },
  {
   "cell_type": "code",
   "execution_count": null,
   "id": "3778c3c4",
   "metadata": {},
   "outputs": [],
   "source": [
    "print(img_tag.find_parent('div'))"
   ]
  },
  {
   "cell_type": "code",
   "execution_count": null,
   "id": "dee0d5e2",
   "metadata": {},
   "outputs": [],
   "source": [
    "p_tag = soup.find_all('p')\n",
    "p_tag"
   ]
  },
  {
   "cell_type": "code",
   "execution_count": null,
   "id": "775c0eb2",
   "metadata": {},
   "outputs": [],
   "source": [
    "# 특정부분을 나타내고 싶을때\n",
    "p_tag = soup.find_all('p',class_='b')\n",
    "p_tag"
   ]
  },
  {
   "cell_type": "code",
   "execution_count": null,
   "id": "538c51f4",
   "metadata": {},
   "outputs": [],
   "source": [
    "# 2개 이상을 나타날때\n",
    "p_tag = soup.find_all('p',class_=['b','c'])\n",
    "p_tag"
   ]
  },
  {
   "cell_type": "code",
   "execution_count": null,
   "id": "ae4db064",
   "metadata": {},
   "outputs": [],
   "source": [
    "p_tag = soup.find_all('p',attrs={'class':{'b','c'}})\n",
    "p_tag"
   ]
  },
  {
   "cell_type": "code",
   "execution_count": null,
   "id": "0add4ca2",
   "metadata": {},
   "outputs": [],
   "source": [
    "url = 'http://www.pythonscraping.com/pages/page3.html'"
   ]
  },
  {
   "cell_type": "code",
   "execution_count": null,
   "id": "0aee7eea",
   "metadata": {
    "scrolled": true
   },
   "outputs": [],
   "source": [
    "# 부모로 올라가서 previous_sibling으로 하기\n",
    "url_req = requests.get(url)\n",
    "html = url_req.text\n",
    "bs = BeautifulSoup(html,'html.parser')\n",
    "print(bs.find('img',\n",
    "             {'src':'../img/gifts/img1.jpg'})\n",
    "        .parent.previous_sibling.string)"
   ]
  },
  {
   "cell_type": "code",
   "execution_count": null,
   "id": "d0b00f57",
   "metadata": {},
   "outputs": [],
   "source": [
    "url = 'http://www.pythonscraping.com/pages/page3.html'\n",
    "url_req = requests.get(url)\n",
    "html = url_req.text\n",
    "bs = BeautifulSoup(html,'html.parser')\n",
    "print(bs.find('img',\n",
    "             {'src':'../img/gifts/img6.jpg'})\n",
    "        .parent.previous_sibling.string)"
   ]
  },
  {
   "cell_type": "code",
   "execution_count": null,
   "id": "dc414c1c",
   "metadata": {},
   "outputs": [],
   "source": [
    "url = 'https://www.pythonscraping.com/pages/page3.html'\n",
    "req = requests.get(url)\n",
    "html = req.text\n",
    "soup = BeautifulSoup(html,'html.parser')\n",
    "img = soup.select_one('#gift5 > td:nth-child(4) > img')\n",
    "print(img.parent.previous_sibling.string)\n"
   ]
  },
  {
   "cell_type": "code",
   "execution_count": null,
   "id": "154fc876",
   "metadata": {
    "scrolled": true
   },
   "outputs": [],
   "source": [
    "html = requests.get('https://naver.com')\n",
    "html = html.text\n",
    "bs = BeautifulSoup(html, 'html.parser')\n",
    "\n",
    "hlists = bs.findAll({'h1','h2','h3','h4','h5','h6'})\n",
    "for h in hlists:\n",
    "    print(h,'\\n')"
   ]
  },
  {
   "cell_type": "code",
   "execution_count": null,
   "id": "458decc6",
   "metadata": {},
   "outputs": [],
   "source": [
    "#findAll은 텍스트를 유효하게 하지 않는다\n",
    "hlists = bs.find({'h1','h2','h3','h4','h5','h6'}, text='뉴스스탠드')\n",
    "hlists.string"
   ]
  },
  {
   "cell_type": "code",
   "execution_count": null,
   "id": "58eea0bc",
   "metadata": {
    "scrolled": true
   },
   "outputs": [],
   "source": [
    "ttls = bs.findAll(id = 'NM_NEWSSTAND_TITLE')\n",
    "for t in ttls:\n",
    "    print(t.text)\n"
   ]
  },
  {
   "cell_type": "markdown",
   "id": "113a7f72",
   "metadata": {},
   "source": [
    "https://www.dataq.or.kr/www/sub/a_07.do"
   ]
  },
  {
   "cell_type": "code",
   "execution_count": null,
   "id": "97ba2bd5",
   "metadata": {
    "scrolled": true
   },
   "outputs": [],
   "source": [
    "html = requests.get('https://www.dataq.or.kr/www/sub/a_07.do')\n",
    "html = html.text\n",
    "bs = BeautifulSoup(html, 'html.parser')\n",
    "\n",
    "hlists = bs.findAll({'h1','h2','h3','h4','h5','h6'})\n",
    "for h in hlists:\n",
    "    print(h,'\\n')"
   ]
  },
  {
   "cell_type": "code",
   "execution_count": null,
   "id": "227fd627",
   "metadata": {},
   "outputs": [],
   "source": []
  },
  {
   "cell_type": "code",
   "execution_count": null,
   "id": "951ca660",
   "metadata": {},
   "outputs": [],
   "source": [
    "url = 'https://www.dataq.or.kr/www/sub/a_07.do'\n",
    "res = requests.get(url).text\n",
    "soup = BeautifulSoup(res,'html.parser')\n",
    "print(soup.prettify())"
   ]
  },
  {
   "cell_type": "code",
   "execution_count": null,
   "id": "7afaa640",
   "metadata": {},
   "outputs": [],
   "source": [
    "texts = soup.select('#tab1')  #은 id를 의미한다.\n",
    "for t in texts:\n",
    "    print(t.text)\n",
    "print()"
   ]
  },
  {
   "cell_type": "code",
   "execution_count": null,
   "id": "87d620b8",
   "metadata": {},
   "outputs": [],
   "source": [
    "# [과제] 아래와 같이 원본 데이터를 유지하면서 빈줄없이 출력하세요"
   ]
  },
  {
   "cell_type": "code",
   "execution_count": null,
   "id": "e6292a87",
   "metadata": {},
   "outputs": [],
   "source": [
    "html = requests.get('https://www.dataq.or.kr/www/sub/a_07.do').text\n",
    "soup = BeautifulSoup(html, 'html.parser')\n",
    "\n",
    "#for i in soup.select('#tab1'):\n",
    "#    print(i.text)\n",
    "\n",
    "a = soup.find(id = 'tab1').text\n",
    "print(re.sub('\\n\\n', '', a))\n",
    "\n",
    "a"
   ]
  },
  {
   "cell_type": "code",
   "execution_count": null,
   "id": "29bce733",
   "metadata": {
    "scrolled": true
   },
   "outputs": [],
   "source": [
    "import re \n",
    "import requests\n",
    "from bs4 import BeautifulSoup\n",
    "\n",
    "url = 'https://www.dataq.or.kr/www/sub/a_07.do'\n",
    "html = requests.get(url).text\n",
    "bs1 = BeautifulSoup(html,'html.parser')\n",
    "li = bs1.select_one('#tab1').text\n",
    "\n",
    "li1 = re.sub('\\n\\n','\\n',li)\n",
    "# print(li1)\n",
    "li2 = re.sub('\\n\\n','\\n',li1)\n",
    "print(li2)\n"
   ]
  },
  {
   "cell_type": "code",
   "execution_count": null,
   "id": "27b402ce",
   "metadata": {
    "scrolled": true
   },
   "outputs": [],
   "source": [
    "lis = bs1.findAll({'h3','h4','p'})\n",
    "for l in lis:\n",
    "    print(l.string)"
   ]
  },
  {
   "cell_type": "code",
   "execution_count": null,
   "id": "11a83236",
   "metadata": {},
   "outputs": [],
   "source": [
    "lis = bs1.findAll({'h3','h4','p'},limit=11)\n",
    "for i in lis:\n",
    "    print(i.text)\n"
   ]
  },
  {
   "cell_type": "code",
   "execution_count": null,
   "id": "a237abdd",
   "metadata": {},
   "outputs": [],
   "source": [
    "lis = bs1.findAll({'h3','h4','p'},limit=11)\n",
    "for i in lis[:11]:\n",
    "    print(i.text)\n"
   ]
  },
  {
   "cell_type": "code",
   "execution_count": null,
   "id": "09a8cca9",
   "metadata": {},
   "outputs": [],
   "source": [
    "국가기술자격\n",
    "관련 근거\n",
    "국가기술자격법 및 동법 시행령\n",
    "빅데이터분석기사 정의\n",
    "빅데이터 이해를 기반으로 빅데이터 분석 기획, 빅데이터 수집·저장·처리, 빅데이터 분석 및 시각화를 수행하는 실무자를 말한다.\n",
    "빅데이터분석기사의 필요성\n"
   ]
  },
  {
   "cell_type": "code",
   "execution_count": null,
   "id": "8e63d6a9",
   "metadata": {},
   "outputs": [],
   "source": [
    "# 전쟁과 평화\n",
    "url = 'http://www.pythonscraping.com/pages/warandpeace.html'\n",
    "url_req = requests.get(url).text\n",
    "bs = BeautifulSoup(url_req,'html.parser')\n",
    "print(bs.prettify())"
   ]
  },
  {
   "cell_type": "code",
   "execution_count": null,
   "id": "ad293adf",
   "metadata": {},
   "outputs": [],
   "source": [
    "# id의 text의 내용과 span class의 내용을 모두 보여주기 => span에서 red인것만 보여주기\n",
    "d1 = bs.find(id='text')\n",
    "#print(d1.text)\n",
    "d2 = bs.findAll('span',{'class':'red'})\n",
    "#for d in d2:            #findAll에서는 prettify가 안되므로 for문을 쓴다\n",
    "for i,d in enumerate(d2):\n",
    "    print(f'No{i+1}:\\n {d.text}','\\n')\n",
    "#    print(d.text)"
   ]
  },
  {
   "cell_type": "code",
   "execution_count": null,
   "id": "ea02d163",
   "metadata": {},
   "outputs": [],
   "source": [
    "# 문서안에 갯수\n",
    "d1 = bs.find(id='text')\n",
    "#print(d1.text)\n",
    "d2 = bs.findAll('span',{'class':{'red','green'}})   # red외에 green도 붙여준다면..?\n",
    "#for d in d2:            #findAll에서는 prettify가 안되므로 for문을 쓴다\n",
    "for i,d in enumerate(d2):\n",
    "    print(f'No{i+1}:\\n {d.text}','\\n')\n",
    "#    print(d.text)"
   ]
  },
  {
   "cell_type": "code",
   "execution_count": null,
   "id": "352e05e0",
   "metadata": {},
   "outputs": [],
   "source": [
    "# Q. 전쟁과 평화에 등장하는 모든 고유명사를 출력하세요.\n",
    "url = 'http://www.pythonscraping.com/pages/warandpeace.html'\n",
    "url_req = requests.get(url).text\n",
    "bs = BeautifulSoup(url_req,'html.parser')\n",
    "print(bs.prettify())"
   ]
  },
  {
   "cell_type": "code",
   "execution_count": null,
   "id": "d40e7ea1",
   "metadata": {},
   "outputs": [],
   "source": [
    "nounlist = bs.findAll('span',{'class':'green'})\n",
    "for name in nounlist:\n",
    "    print(name.get_text())"
   ]
  },
  {
   "cell_type": "code",
   "execution_count": null,
   "id": "10c7f6ba",
   "metadata": {},
   "outputs": [],
   "source": [
    "url = 'http://www.pythonscraping.com/pages/warandpeace.html'\n",
    "url_req = requests.get(url).text\n",
    "bs = BeautifulSoup(url_req,'html.parser')\n",
    "d2 = bs.findAll('span',{'class':'green'})\n",
    "#list(d2)\n",
    "\n",
    "for d in d2:\n",
    "    print(d.text)"
   ]
  },
  {
   "cell_type": "code",
   "execution_count": null,
   "id": "56e0ec0a",
   "metadata": {},
   "outputs": [],
   "source": [
    "url = 'http://www.pythonscraping.com/pages/warandpeace.html'\n",
    "url_req = requests.get(url).text\n",
    "bs = BeautifulSoup(url_req,'html.parser')\n",
    "d2 = bs.findAll('span',{'class':'green'})\n",
    "\n",
    "def check(text):\n",
    "    checking = ('the','The','her','Her','his','His','its','Its')\n",
    "    checking2 = (\"'s\")\n",
    "    if text.startswith(checking) == False and text.endswith(checking2) == False:\n",
    "        print(text)\n",
    "\n",
    "for i in d2:\n",
    "    i = i.text.replace('\\n',' ')\n",
    "    check(i)\n"
   ]
  },
  {
   "cell_type": "code",
   "execution_count": null,
   "id": "6c0222f6",
   "metadata": {},
   "outputs": [],
   "source": [
    "import re\n",
    "data=bs.find(id='text').text\n",
    "data=re.sub('\\n',' ',data)\n",
    "result=re.findall('(([A-Z]([a-z]+|\\.+))+(\\s[A-Z][a-z]+)+)|([A-Z]{2,})|([a-z][A-Z])[a-z]*[A-Z][a-z]*',data)\n",
    "for i in result:\n",
    "    print(i[0])\n"
   ]
  },
  {
   "cell_type": "code",
   "execution_count": null,
   "id": "d9d985ec",
   "metadata": {},
   "outputs": [],
   "source": [
    "url='http://www.pythonscraping.com/pages/page3.html'\n",
    "html = requests.get(url).text\n",
    "bs =BeautifulSoup(html,'html.parser')\n",
    "\n",
    "images = bs.findAll('img')\n",
    "list(images)\n"
   ]
  },
  {
   "cell_type": "code",
   "execution_count": null,
   "id": "8a97bef5",
   "metadata": {},
   "outputs": [],
   "source": [
    "# 이미지 주소만 출력하기\n",
    "url = 'http://www.pythonscraping.com/pages/page3.html'\n",
    "html = requests.get(url).text\n",
    "bs = BeautifulSoup(html, 'html.parser')\n",
    "\n",
    "images = bs.findAll('img', {'src':re.compile('\\.\\.\\/img.*\\.jpg')})\n",
    "for image in images:\n",
    "    print(image['src'])\n"
   ]
  },
  {
   "cell_type": "code",
   "execution_count": null,
   "id": "2fc76d7f",
   "metadata": {},
   "outputs": [],
   "source": [
    "# lambda함수 사용하기....\n",
    "spans = bs.findAll('span')\n",
    "list(spans)"
   ]
  },
  {
   "cell_type": "code",
   "execution_count": null,
   "id": "f2173f0e",
   "metadata": {},
   "outputs": [],
   "source": [
    "bs.findAll(lambda tag: tag.get_text() ==\"Or maybe he's only resting?\")"
   ]
  },
  {
   "cell_type": "code",
   "execution_count": null,
   "id": "c93bd9b5",
   "metadata": {
    "scrolled": false
   },
   "outputs": [],
   "source": [
    "# Q. 지금까지 한것을 이용하여 8가지 방법으로 numbers를 표현하라\n",
    "fp = open(\"books.html\", encoding='utf-8')\n",
    "soup = BeautifulSoup(fp,'html.parser')\n",
    "print(soup.prettify())"
   ]
  },
  {
   "cell_type": "code",
   "execution_count": null,
   "id": "d43de377",
   "metadata": {},
   "outputs": [],
   "source": [
    "sel = lambda q : print(soup.select_one(q).string)\n",
    "sel(\"#nu\") \n",
    "sel(\"li#nu\")   \n",
    "sel(\"ul >li#nu\")   \n",
    "sel(\"#bible #nu\")  \n",
    "sel(\"#bible > #nu\")   \n",
    "sel(\"ul#bible > li#nu\")  \n",
    "sel(\"li[id='nu']\")      \n",
    "sel(\"li:nth-of-type(4)\")\n",
    "\n"
   ]
  },
  {
   "cell_type": "code",
   "execution_count": null,
   "id": "04f5154c",
   "metadata": {
    "scrolled": true
   },
   "outputs": [],
   "source": [
    "fp = open('books.html',encoding='utf-8')\n",
    "soup = BeautifulSoup(fp,'html.parser')\n",
    "\n",
    "print(soup.findAll('li',attrs={'id':'nu'})[0].text)\n",
    "print(soup.find('li',attrs={'id':'nu'}).text)\n",
    "print(soup.find(lambda x: x.get_text() == 'Numbers').text)\n",
    "print(soup.find('li',{'id':re.compile('nu+')}).text)\n",
    "print(soup.select_one('li#nu').text)\n",
    "print(soup.select('li')[3].text)\n",
    "print(list(soup.find('ul').children)[7].text)\n",
    "print(list(soup.find('li').parent.children)[7].text)\n"
   ]
  },
  {
   "cell_type": "code",
   "execution_count": null,
   "id": "7147222e",
   "metadata": {
    "scrolled": false
   },
   "outputs": [],
   "source": [
    "# 추가 \n",
    "print(soup.select('li')[3].string)\n",
    "print(soup.find_all('li')[3].string)"
   ]
  },
  {
   "cell_type": "markdown",
   "id": "04cb8a20",
   "metadata": {},
   "source": [
    "#### urllib 모듈이란 : 파이썬의 표준 모듈로써 URL을 다루기 위한 모듈 패키지\n",
    "- 설치가 필요하지 않고 import urllib으로 활용\n",
    "- requests 모듈과 마찬가지로 URL과 관련된 여러가지 기능들을 제공(하위 모듈)\n",
    " - request : URL을 열고 읽는 모듈(HTTP 요청)\n",
    " - error : request 모듈에서 발생하는 에러들을 포함하는 모듈\n",
    " - parser : URL을 파싱하는 모듈\n",
    " - robotsparser : robot파일을 파싱하는 모듈"
   ]
  },
  {
   "cell_type": "code",
   "execution_count": null,
   "id": "291b51ec",
   "metadata": {},
   "outputs": [],
   "source": [
    "import urllib\n",
    "\n",
    "url = 'https://www.naver.com'\n",
    "request = urllib.request.Request(url)   # 객체지향\n",
    "print(request)\n",
    "print(request.full_url)\n",
    "print(request.type)\n",
    "print(request.host)\n"
   ]
  },
  {
   "cell_type": "code",
   "execution_count": null,
   "id": "876c3438",
   "metadata": {},
   "outputs": [],
   "source": [
    "response1 = urllib.request.urlopen(request)\n",
    "print(response1)\n",
    "print(response1.geturl)"
   ]
  },
  {
   "cell_type": "code",
   "execution_count": null,
   "id": "8af06c37",
   "metadata": {},
   "outputs": [],
   "source": [
    "response1 = urllib.request.urlopen(request)\n",
    "print(response1)\n",
    "print(response1.geturl)\n",
    "print(response1.getheaders())"
   ]
  },
  {
   "cell_type": "code",
   "execution_count": null,
   "id": "b8b37dcc",
   "metadata": {},
   "outputs": [],
   "source": [
    "# read(): 인자로 전달한 숫자(갯수)-바이트(byte)기준으로 데이터를 읽음(영어는 각각1바이트, 한글은 2바이트)\n",
    "response2 = urllib.request.urlopen(url)\n",
    "response2.read(500).decode('utf-8') # 텍스트로 출력하는것과 같은 기능을 수행한다. requests.get(url).text와 같음 "
   ]
  },
  {
   "cell_type": "code",
   "execution_count": null,
   "id": "e6570f42",
   "metadata": {},
   "outputs": [],
   "source": [
    "# 웹상에서 이미지를 저장하는 방법 => urllib.request.urlretrieve()를 이용한다.\n",
    "import urllib.request\n",
    "img_src = 'https://cdn.pixabay.com/photo/2019/05/29/14/30/cinque-terre-4237666_960_720.jpg'\n",
    "new_name = 'img_jpg'\n",
    "urllib.request.urlretrieve(img_src,new_name)"
   ]
  },
  {
   "cell_type": "code",
   "execution_count": null,
   "id": "2a69b40b",
   "metadata": {},
   "outputs": [],
   "source": [
    "# 단순한 패턴을 읽을 때에는 복잡한 정규표현식보다는 간단한 parse모듈을 사용\n",
    "# urllib.parse : URL을 6개로 분리하여 반환\n",
    "import urllib\n",
    "parse = urllib.parse.urlparse('https://section.blog.naver.com/Search/Post.naver?pageNo=1&rangeType=ALL&orderBy=sim&keyword=ai')\n",
    "print(parse,'\\n')\n",
    "print(parse[0])\n",
    "print(parse.scheme,'\\n')\n",
    "print(parse[1])\n",
    "print(parse.netloc,'\\n')\n",
    "print(parse[2])\n",
    "print(parse.path,'\\n')\n",
    "print(parse[3])\n",
    "print(parse.params,'\\n')\n",
    "print(parse[4])\n",
    "print(parse.query,'\\n')\n",
    "print(parse[5])\n",
    "print(parse.fragment,'\\n')"
   ]
  },
  {
   "cell_type": "code",
   "execution_count": null,
   "id": "3b10da78",
   "metadata": {},
   "outputs": [],
   "source": [
    "parse = urllib.parse.urlparse('https://blog.naver.com/koreatech91;a=1?b=2#b')\n",
    "print(parse)"
   ]
  },
  {
   "cell_type": "code",
   "execution_count": null,
   "id": "8006c1a6",
   "metadata": {},
   "outputs": [],
   "source": [
    "# 위에 네이버 주소를 다음으로 변경 >> 방법1\n",
    "#튜플(변경이 불가능)로 반환하기 때문에 리스트(변경 가능)로 변경하여 활용  >> 방법2\n",
    "parse = list(parse) # 방법2\n",
    "parse[1] = 'blog.daum.net'  # 방법1\n",
    "parse\n",
    "unparse = urllib.parse.urlunparse(parse)\n",
    "print(unparse)"
   ]
  },
  {
   "cell_type": "code",
   "execution_count": null,
   "id": "02b5d01e",
   "metadata": {},
   "outputs": [],
   "source": [
    "# urllib.parse.urlunparse(). urllib.parse.urlunsplit()"
   ]
  },
  {
   "cell_type": "code",
   "execution_count": null,
   "id": "46857817",
   "metadata": {},
   "outputs": [],
   "source": [
    "# parse_qs()\n",
    "# 쿼리를 파싱해서 사전(qs) 및 리스트(qs)로 반환, 쿼리를 변경하여 요청시 활용\n",
    "parse = urllib.parse.urlparse('https://blog.naver.com/koreatech91;a=1?b=2#b') \n",
    "print(parse.query) # ?뒤에 있는 b=2를 출력함\n",
    "qs = urllib.parse.parse_qs(parse.query)  # 사전형태로 출력\n",
    "print(qs,type)  # type은 딕셔너리\n",
    "qsl = urllib.parse.parse_qsl(parse.query)\n",
    "print(qsl,type(qsl))"
   ]
  },
  {
   "cell_type": "code",
   "execution_count": null,
   "id": "9a6dcabd",
   "metadata": {},
   "outputs": [],
   "source": [
    "# urljoin(a,b) :  a와 b url을 합쳐주는 기능. '/'에 따라 url 주소가 달라짐\n",
    "url= 'https://naver.com/a/b/'\n",
    "print(urllib.parse.urljoin(url,'c'))\n",
    "print(urllib.parse.urljoin(url,'/c'))"
   ]
  },
  {
   "cell_type": "code",
   "execution_count": null,
   "id": "2a2b52e0",
   "metadata": {},
   "outputs": [],
   "source": [
    "# quote(), unquote() : 아스키코드가 아닌 퍼센트 인코딩으로 변환\n",
    "# 퍼센트 인코딩은 url에 문자를 표현하는 문자 인코딩 방법\n",
    "# url에 한글이 섞이면 오류가 발생되기 때문에\n",
    "\n",
    "print(urllib.parse.quote('파이썬'))\n",
    "print(urllib.parse.unquote('%ED%8C%8C%EC%9D%B4%EC%8D%AC'))"
   ]
  },
  {
   "cell_type": "code",
   "execution_count": null,
   "id": "52859e5e",
   "metadata": {},
   "outputs": [],
   "source": [
    "# 데이터 수집할때 한글 검색할때 유용한 팁\n",
    "# ?는 쿼리\n",
    "#url = 'https://search.naver.com/search.naver?query=\"파이썬\"'\n",
    "url = 'https://search.naver.com/search.naver?query=%ED%8C%8C%EC%9D%B4%EC%8D%AC'\n",
    "\n",
    "response = urllib.request.urlopen(url)\n",
    "byte_data = response.read(100)\n",
    "text_data = byte_data.decode('utf-8')\n",
    "print(text_data)"
   ]
  },
  {
   "cell_type": "code",
   "execution_count": null,
   "id": "cc24a672",
   "metadata": {},
   "outputs": [],
   "source": [
    "# 홈페이지를 로컬에 파일로 저장\n",
    "request = urllib.request.Request('https://www.naver.com')\n",
    "data = urllib.request.urlopen(request).read()\n",
    "f = open('pc.html','wb')\n",
    "f.write(data)\n",
    "f.close()"
   ]
  },
  {
   "cell_type": "code",
   "execution_count": null,
   "id": "41c863bc",
   "metadata": {},
   "outputs": [],
   "source": [
    "# 저장한 파일을 열기\n",
    "with open('pc.html','rb') as f:\n",
    "    data = f.read().decode('utf-8')\n",
    "    print(data)"
   ]
  },
  {
   "cell_type": "code",
   "execution_count": null,
   "id": "e0f1cca3",
   "metadata": {
    "scrolled": true
   },
   "outputs": [],
   "source": [
    "# 데이서 수집시 유용한 팁2\n",
    "query_list =['파이썬','웹 크롤링','빅 데이터','python']\n",
    "url = 'https://search.naver.com/search.naver?query='\n",
    "for i in query_list:\n",
    "    new_url = url + urllib.parse.quote(i)\n",
    "    response_urllib = urllib.request.urlopen(new_url)\n",
    "    byte_data = response_urllib.read(400)\n",
    "    text_data = byte_data.decode('utf-8')\n",
    "    print(text_data,'\\n')"
   ]
  },
  {
   "cell_type": "markdown",
   "id": "bbcf535c",
   "metadata": {},
   "source": [
    "https://regexr.com/\n",
    "코딩 오류 확인사이트"
   ]
  }
 ],
 "metadata": {
  "kernelspec": {
   "display_name": "Python 3 (ipykernel)",
   "language": "python",
   "name": "python3"
  },
  "language_info": {
   "codemirror_mode": {
    "name": "ipython",
    "version": 3
   },
   "file_extension": ".py",
   "mimetype": "text/x-python",
   "name": "python",
   "nbconvert_exporter": "python",
   "pygments_lexer": "ipython3",
   "version": "3.9.7"
  }
 },
 "nbformat": 4,
 "nbformat_minor": 5
}
